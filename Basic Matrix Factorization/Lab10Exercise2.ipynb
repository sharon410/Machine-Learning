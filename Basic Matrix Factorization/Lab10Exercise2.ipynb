{
 "cells": [
  {
   "cell_type": "markdown",
   "metadata": {
    "id": "MfQ75uGVcmim"
   },
   "source": [
    "### Sharon Laurance Muthipeedika\n",
    "### 312486"
   ]
  },
  {
   "cell_type": "markdown",
   "metadata": {
    "id": "vX_G9Io8ce6t"
   },
   "source": [
    "### Exercise 2: Implementing basic matrix factorization (MF) technique for recommender systems"
   ]
  },
  {
   "cell_type": "code",
   "execution_count": 1,
   "metadata": {
    "id": "96vL3CvpeFdX"
   },
   "outputs": [],
   "source": [
    "#Import Required Libraries\n",
    "import numpy as np\n",
    "import pandas as pd\n",
    "import matplotlib.pyplot as plt\n",
    "import seaborn as sns\n",
    "from math import sqrt\n",
    "import os\n",
    "from sklearn.model_selection import GridSearchCV\n",
    "from sklearn.base import BaseEstimator\n",
    "from sklearn.utils.validation import check_X_y, check_array, check_is_fitted\n",
    "from sklearn.utils.multiclass import unique_labels\n",
    "from sklearn.metrics import euclidean_distances\n"
   ]
  },
  {
   "cell_type": "code",
   "execution_count": 2,
   "metadata": {
    "colab": {
     "base_uri": "https://localhost:8080/"
    },
    "id": "8FT1tiXqeGZx",
    "outputId": "f4fb7785-99b8-4252-e4bf-0eb5712c6a88"
   },
   "outputs": [
    {
     "name": "stdout",
     "output_type": "stream",
     "text": [
      "Drive already mounted at /content/gdrive; to attempt to forcibly remount, call drive.mount(\"/content/gdrive\", force_remount=True).\n"
     ]
    }
   ],
   "source": [
    "from google.colab import drive\n",
    "drive.mount('/content/gdrive')"
   ]
  },
  {
   "cell_type": "code",
   "execution_count": 3,
   "metadata": {
    "id": "KckeL4egeIfa"
   },
   "outputs": [],
   "source": [
    "os.chdir('gdrive/MyDrive/LAB10') "
   ]
  },
  {
   "cell_type": "code",
   "execution_count": 4,
   "metadata": {
    "id": "RHav8iATeNBT"
   },
   "outputs": [],
   "source": [
    "movie_lens=pd.read_csv(\"ml-100k/u.data\",header=None,delim_whitespace=True)"
   ]
  },
  {
   "cell_type": "code",
   "execution_count": 5,
   "metadata": {
    "id": "F-aSEuteeQcr"
   },
   "outputs": [],
   "source": [
    "movie_lens.columns=[\"User_Id\",\"Movie_Id\",\"Rating\",\"Timestamp\"]"
   ]
  },
  {
   "cell_type": "code",
   "execution_count": 13,
   "metadata": {
    "colab": {
     "base_uri": "https://localhost:8080/"
    },
    "id": "qBLlVaCbeSnI",
    "outputId": "580698cb-37e1-4802-90fc-a3748933d6cb"
   },
   "outputs": [
    {
     "name": "stdout",
     "output_type": "stream",
     "text": [
      "sparsity of ratings is 6.30%\n"
     ]
    }
   ],
   "source": [
    "n_u = len(movie_lens[\"User_Id\"].unique())\n",
    "n_m = len(movie_lens[\"Movie_Id\"].unique())\n",
    "sparsity = len(movie_lens)/(n_u*n_m)\n",
    "print(\"sparsity of ratings is %.2f%%\" %(sparsity*100))"
   ]
  },
  {
   "cell_type": "code",
   "execution_count": 14,
   "metadata": {
    "id": "AbfLy6ZKehdB"
   },
   "outputs": [],
   "source": [
    "# Split the dataframe into a train ,validation and test set\n",
    "from sklearn.model_selection import train_test_split\n",
    "train_data, test_data = train_test_split(movie_lens,test_size=0.1)\n",
    "train_data, val_data = train_test_split(train_data,test_size=0.11111)\n",
    "train_data = pd.DataFrame(train_data)\n",
    "test_data = pd.DataFrame(test_data)\n",
    "val_data = pd.DataFrame(val_data)"
   ]
  },
  {
   "cell_type": "code",
   "execution_count": 15,
   "metadata": {
    "colab": {
     "base_uri": "https://localhost:8080/"
    },
    "id": "cquZZQkDt588",
    "outputId": "c3494f4f-63fd-40d9-bc03-81482328bb77"
   },
   "outputs": [
    {
     "name": "stdout",
     "output_type": "stream",
     "text": [
      "(80000, 4)\n",
      "(10000, 4)\n",
      "(10000, 4)\n"
     ]
    }
   ],
   "source": [
    "print(np.shape(train_data))\n",
    "print(np.shape(val_data))\n",
    "print(np.shape(test_data))"
   ]
  },
  {
   "cell_type": "code",
   "execution_count": 16,
   "metadata": {
    "colab": {
     "base_uri": "https://localhost:8080/",
     "height": 424
    },
    "id": "0bjZqsCExOZ3",
    "outputId": "8155260c-0b9d-49a7-b92b-632acca74656"
   },
   "outputs": [
    {
     "data": {
      "text/html": [
       "\n",
       "  <div id=\"df-acde3d03-2e39-4f7e-b668-a58f537006b9\">\n",
       "    <div class=\"colab-df-container\">\n",
       "      <div>\n",
       "<style scoped>\n",
       "    .dataframe tbody tr th:only-of-type {\n",
       "        vertical-align: middle;\n",
       "    }\n",
       "\n",
       "    .dataframe tbody tr th {\n",
       "        vertical-align: top;\n",
       "    }\n",
       "\n",
       "    .dataframe thead th {\n",
       "        text-align: right;\n",
       "    }\n",
       "</style>\n",
       "<table border=\"1\" class=\"dataframe\">\n",
       "  <thead>\n",
       "    <tr style=\"text-align: right;\">\n",
       "      <th></th>\n",
       "      <th>User_Id</th>\n",
       "      <th>Movie_Id</th>\n",
       "      <th>Rating</th>\n",
       "      <th>Timestamp</th>\n",
       "    </tr>\n",
       "  </thead>\n",
       "  <tbody>\n",
       "    <tr>\n",
       "      <th>86824</th>\n",
       "      <td>643</td>\n",
       "      <td>226</td>\n",
       "      <td>2</td>\n",
       "      <td>891449476</td>\n",
       "    </tr>\n",
       "    <tr>\n",
       "      <th>24139</th>\n",
       "      <td>386</td>\n",
       "      <td>515</td>\n",
       "      <td>5</td>\n",
       "      <td>877654961</td>\n",
       "    </tr>\n",
       "    <tr>\n",
       "      <th>4559</th>\n",
       "      <td>216</td>\n",
       "      <td>226</td>\n",
       "      <td>3</td>\n",
       "      <td>880244803</td>\n",
       "    </tr>\n",
       "    <tr>\n",
       "      <th>13560</th>\n",
       "      <td>121</td>\n",
       "      <td>57</td>\n",
       "      <td>5</td>\n",
       "      <td>891390014</td>\n",
       "    </tr>\n",
       "    <tr>\n",
       "      <th>88537</th>\n",
       "      <td>894</td>\n",
       "      <td>935</td>\n",
       "      <td>3</td>\n",
       "      <td>879896815</td>\n",
       "    </tr>\n",
       "    <tr>\n",
       "      <th>...</th>\n",
       "      <td>...</td>\n",
       "      <td>...</td>\n",
       "      <td>...</td>\n",
       "      <td>...</td>\n",
       "    </tr>\n",
       "    <tr>\n",
       "      <th>38071</th>\n",
       "      <td>299</td>\n",
       "      <td>94</td>\n",
       "      <td>1</td>\n",
       "      <td>889503564</td>\n",
       "    </tr>\n",
       "    <tr>\n",
       "      <th>59066</th>\n",
       "      <td>622</td>\n",
       "      <td>402</td>\n",
       "      <td>3</td>\n",
       "      <td>882670252</td>\n",
       "    </tr>\n",
       "    <tr>\n",
       "      <th>28026</th>\n",
       "      <td>456</td>\n",
       "      <td>462</td>\n",
       "      <td>3</td>\n",
       "      <td>881373506</td>\n",
       "    </tr>\n",
       "    <tr>\n",
       "      <th>66231</th>\n",
       "      <td>889</td>\n",
       "      <td>186</td>\n",
       "      <td>5</td>\n",
       "      <td>880181563</td>\n",
       "    </tr>\n",
       "    <tr>\n",
       "      <th>74845</th>\n",
       "      <td>921</td>\n",
       "      <td>845</td>\n",
       "      <td>4</td>\n",
       "      <td>879379601</td>\n",
       "    </tr>\n",
       "  </tbody>\n",
       "</table>\n",
       "<p>10000 rows × 4 columns</p>\n",
       "</div>\n",
       "      <button class=\"colab-df-convert\" onclick=\"convertToInteractive('df-acde3d03-2e39-4f7e-b668-a58f537006b9')\"\n",
       "              title=\"Convert this dataframe to an interactive table.\"\n",
       "              style=\"display:none;\">\n",
       "        \n",
       "  <svg xmlns=\"http://www.w3.org/2000/svg\" height=\"24px\"viewBox=\"0 0 24 24\"\n",
       "       width=\"24px\">\n",
       "    <path d=\"M0 0h24v24H0V0z\" fill=\"none\"/>\n",
       "    <path d=\"M18.56 5.44l.94 2.06.94-2.06 2.06-.94-2.06-.94-.94-2.06-.94 2.06-2.06.94zm-11 1L8.5 8.5l.94-2.06 2.06-.94-2.06-.94L8.5 2.5l-.94 2.06-2.06.94zm10 10l.94 2.06.94-2.06 2.06-.94-2.06-.94-.94-2.06-.94 2.06-2.06.94z\"/><path d=\"M17.41 7.96l-1.37-1.37c-.4-.4-.92-.59-1.43-.59-.52 0-1.04.2-1.43.59L10.3 9.45l-7.72 7.72c-.78.78-.78 2.05 0 2.83L4 21.41c.39.39.9.59 1.41.59.51 0 1.02-.2 1.41-.59l7.78-7.78 2.81-2.81c.8-.78.8-2.07 0-2.86zM5.41 20L4 18.59l7.72-7.72 1.47 1.35L5.41 20z\"/>\n",
       "  </svg>\n",
       "      </button>\n",
       "      \n",
       "  <style>\n",
       "    .colab-df-container {\n",
       "      display:flex;\n",
       "      flex-wrap:wrap;\n",
       "      gap: 12px;\n",
       "    }\n",
       "\n",
       "    .colab-df-convert {\n",
       "      background-color: #E8F0FE;\n",
       "      border: none;\n",
       "      border-radius: 50%;\n",
       "      cursor: pointer;\n",
       "      display: none;\n",
       "      fill: #1967D2;\n",
       "      height: 32px;\n",
       "      padding: 0 0 0 0;\n",
       "      width: 32px;\n",
       "    }\n",
       "\n",
       "    .colab-df-convert:hover {\n",
       "      background-color: #E2EBFA;\n",
       "      box-shadow: 0px 1px 2px rgba(60, 64, 67, 0.3), 0px 1px 3px 1px rgba(60, 64, 67, 0.15);\n",
       "      fill: #174EA6;\n",
       "    }\n",
       "\n",
       "    [theme=dark] .colab-df-convert {\n",
       "      background-color: #3B4455;\n",
       "      fill: #D2E3FC;\n",
       "    }\n",
       "\n",
       "    [theme=dark] .colab-df-convert:hover {\n",
       "      background-color: #434B5C;\n",
       "      box-shadow: 0px 1px 3px 1px rgba(0, 0, 0, 0.15);\n",
       "      filter: drop-shadow(0px 1px 2px rgba(0, 0, 0, 0.3));\n",
       "      fill: #FFFFFF;\n",
       "    }\n",
       "  </style>\n",
       "\n",
       "      <script>\n",
       "        const buttonEl =\n",
       "          document.querySelector('#df-acde3d03-2e39-4f7e-b668-a58f537006b9 button.colab-df-convert');\n",
       "        buttonEl.style.display =\n",
       "          google.colab.kernel.accessAllowed ? 'block' : 'none';\n",
       "\n",
       "        async function convertToInteractive(key) {\n",
       "          const element = document.querySelector('#df-acde3d03-2e39-4f7e-b668-a58f537006b9');\n",
       "          const dataTable =\n",
       "            await google.colab.kernel.invokeFunction('convertToInteractive',\n",
       "                                                     [key], {});\n",
       "          if (!dataTable) return;\n",
       "\n",
       "          const docLinkHtml = 'Like what you see? Visit the ' +\n",
       "            '<a target=\"_blank\" href=https://colab.research.google.com/notebooks/data_table.ipynb>data table notebook</a>'\n",
       "            + ' to learn more about interactive tables.';\n",
       "          element.innerHTML = '';\n",
       "          dataTable['output_type'] = 'display_data';\n",
       "          await google.colab.output.renderOutput(dataTable, element);\n",
       "          const docLink = document.createElement('div');\n",
       "          docLink.innerHTML = docLinkHtml;\n",
       "          element.appendChild(docLink);\n",
       "        }\n",
       "      </script>\n",
       "    </div>\n",
       "  </div>\n",
       "  "
      ],
      "text/plain": [
       "       User_Id  Movie_Id  Rating  Timestamp\n",
       "86824      643       226       2  891449476\n",
       "24139      386       515       5  877654961\n",
       "4559       216       226       3  880244803\n",
       "13560      121        57       5  891390014\n",
       "88537      894       935       3  879896815\n",
       "...        ...       ...     ...        ...\n",
       "38071      299        94       1  889503564\n",
       "59066      622       402       3  882670252\n",
       "28026      456       462       3  881373506\n",
       "66231      889       186       5  880181563\n",
       "74845      921       845       4  879379601\n",
       "\n",
       "[10000 rows x 4 columns]"
      ]
     },
     "execution_count": 16,
     "metadata": {},
     "output_type": "execute_result"
    }
   ],
   "source": [
    "test_data"
   ]
  },
  {
   "cell_type": "code",
   "execution_count": 18,
   "metadata": {
    "id": "uo90ONnEfBeF"
   },
   "outputs": [],
   "source": [
    "# Create training ,validation and test matrix\n",
    "\n",
    "R = np.zeros((n_u, n_m))\n",
    "for line in train_data.itertuples():\n",
    "  R[line[1]-1, line[2]-1] = line[3]  \n",
    "\n",
    "\n",
    "V = np.zeros((n_u, n_m))\n",
    "for line in val_data.itertuples():\n",
    "  V[line[1]-1, line[2]-1] = line[3] \n",
    "\n",
    "\n",
    "T = np.zeros((n_u, n_m))\n",
    "for line in test_data.itertuples():\n",
    "  T[line[1]-1, line[2]-1] = line[3]"
   ]
  },
  {
   "cell_type": "code",
   "execution_count": 19,
   "metadata": {
    "colab": {
     "base_uri": "https://localhost:8080/"
    },
    "id": "cFVywWhHoQAh",
    "outputId": "7d5acb43-533e-4ba1-d14b-de540fd1d0fd"
   },
   "outputs": [
    {
     "data": {
      "text/plain": [
       "(943, 1682)"
      ]
     },
     "execution_count": 19,
     "metadata": {},
     "output_type": "execute_result"
    }
   ],
   "source": [
    "np.shape(V)"
   ]
  },
  {
   "cell_type": "markdown",
   "metadata": {
    "id": "2f-ROoTZb1GX"
   },
   "source": [
    "Matrix Factorization"
   ]
  },
  {
   "cell_type": "markdown",
   "metadata": {
    "id": "0sNOGlYAhJrJ"
   },
   "source": [
    "$$\\mathbf{R} \\approx \\mathbf{P} \\times \\mathbf{Q}^T = \\hat{\\mathbf{R}}$$\\\n",
    "$\\hat{r}_{ij} = p_i^T q_j = \\sum_{k=1}^K{p_{ik} q_{kj}}$\\\n",
    "$e_{ij}^2 = (r_{ij} - \\hat{r}_{ij})^2 = (r_{ij} - \\sum_{k=1}^K{p_{ik}q_{kj}})^2$\\\n",
    "$E = \\sum_{(u_i, d_j, r_{ij}) \\in T}{e_{ij}} = \\sum_{(u_i,d_j,r_{ij}) \\in T}{(r_{ij} - \\sum_{k=1}^K{p_{ik}q_{kj}})^2}$"
   ]
  },
  {
   "cell_type": "code",
   "execution_count": 20,
   "metadata": {
    "id": "wHhzoNYIfTex"
   },
   "outputs": [],
   "source": [
    "class MC(BaseEstimator):\n",
    "    \n",
    "    def __init__(self,  n_u, n_m, n_factors=10, n_epochs=250, lmbda=10, gamma=9e-5):\n",
    "        self.n_u = n_u #Number of Users\n",
    "        self.n_m = n_m #Number of Movies\n",
    "        self.n_factors = n_factors #Latent Factors\n",
    "        self.n_epochs = n_epochs\n",
    "        self.lmbda = lmbda #Regularisation Constany\n",
    "        self.gamma = gamma #Learning Rate\n",
    "        \n",
    "\n",
    "    def fit(self, X, y):\n",
    "        \"\"\"Fits all the latent factors for users and items and saves the resulting matrix representations.\n",
    "        \"\"\"\n",
    "        X, y = check_X_y(X, y)\n",
    "        \n",
    "        \n",
    "        # Create training matrix\n",
    "        R = np.zeros((self.n_u, self.n_m))\n",
    "        print(np.shape(R))\n",
    "        for idx, row in enumerate(X):\n",
    "            R[row[0]-1, row[1]-1] = y[idx]  \n",
    "\n",
    "        # Initialize latent factors\n",
    "        P = 3 * np.random.rand(self.n_u, self.n_factors) # Latent factors for users\n",
    "        Q = 3 * np.random.rand(self.n_m, self.n_factors) # Latent factors for movies\n",
    "                    \n",
    "\n",
    "        def rmse_score(R, Q, P):\n",
    "            I = R != 0  # Indicator function which is zero for missing data\n",
    "            ME = I * (R - np.dot(P, Q.T))  # Errors between real and predicted ratings\n",
    "            MSE = ME**2  \n",
    "            return np.sqrt(np.sum(MSE)/np.sum(I))  # sum of squared errors\n",
    "\n",
    "        # Fit with stochastic or batch gradient descent\n",
    "        train_errors = []\n",
    "        # Stochastic GD\n",
    "        users,items = R.nonzero()      \n",
    "        for epoch in range(self.n_epochs):\n",
    "          for u, i in zip(users,items):\n",
    "            e = R[u, i] - np.dot(P[u, :], Q[i, :].T)  # Error for this observation\n",
    "            P[u, :] += self.gamma * ( e * Q[i, :] - self.lmbda * P[u, :]) # Update this user's features\n",
    "            Q[i, :] += self.gamma * ( e * P[u, :] - self.lmbda * Q[i, :])  # Update this movie's features\n",
    "          train_errors.append(rmse_score(R,Q,P)) # Training RMSE for this pass\n",
    "      \n",
    "\n",
    "        print(\"Completed %i epochs, final RMSE = %.2f\" %(self.n_epochs, train_errors[-1]))\n",
    "        self.Q = Q\n",
    "        self.P = P\n",
    "        self.train_errors = train_errors\n",
    "        \n",
    "        # Return the estimator\n",
    "        return self\n",
    "\n",
    "    def predict(self, X):\n",
    "        \"\"\" Predicts a vector of ratings from a matrix of user and item ids.\n",
    "        \"\"\"\n",
    "        X = check_array(X)\n",
    "        \n",
    "        y = np.zeros(len(X))\n",
    "        PRED = np.dot(self.P, self.Q.T)\n",
    "        for idx, row in enumerate(X):\n",
    "            y[idx] = PRED[row[0]-1, row[1]-1]\n",
    "        \n",
    "        \n",
    "        return y\n",
    "\n",
    "    def score(self, X, y):\n",
    "        \"\"\" Element-wise root mean squared error.\n",
    "        \"\"\"\n",
    "        yp = self.predict(X)\n",
    "        err = y - yp\n",
    "        mse = np.sum(np.multiply(err, err))/len(err)\n",
    "        return np.sqrt(mse)"
   ]
  },
  {
   "cell_type": "code",
   "execution_count": 23,
   "metadata": {
    "id": "rLeJInjmhiPB"
   },
   "outputs": [],
   "source": [
    "X = movie_lens[[\"User_Id\", \"Movie_Id\"]].to_numpy()\n",
    "y = movie_lens[\"Rating\"].values\n",
    "n_u = len(movie_lens[\"User_Id\"].unique())\n",
    "n_m = len(movie_lens[\"Movie_Id\"].unique())\n"
   ]
  },
  {
   "cell_type": "markdown",
   "metadata": {
    "id": "ZRUzhbHXkwwn"
   },
   "source": [
    "#### Optimize the hyper-parameters i.e. λ regularization constant, α learning rate, k latent dimensions."
   ]
  },
  {
   "cell_type": "code",
   "execution_count": 24,
   "metadata": {
    "colab": {
     "base_uri": "https://localhost:8080/"
    },
    "id": "yp4klXCkiEXA",
    "outputId": "38a03934-0208-4c8f-b81a-e02b17f940ae"
   },
   "outputs": [
    {
     "name": "stdout",
     "output_type": "stream",
     "text": [
      "(943, 1682)\n",
      "Completed 400 epochs, final RMSE = 3.70\n",
      "(943, 1682)\n",
      "Completed 400 epochs, final RMSE = 3.71\n",
      "(943, 1682)\n",
      "Completed 400 epochs, final RMSE = 3.71\n",
      "(943, 1682)\n",
      "Completed 400 epochs, final RMSE = 3.70\n",
      "(943, 1682)\n",
      "Completed 400 epochs, final RMSE = 3.71\n",
      "(943, 1682)\n",
      "Completed 400 epochs, final RMSE = 3.71\n",
      "(943, 1682)\n",
      "Completed 400 epochs, final RMSE = 3.70\n",
      "(943, 1682)\n",
      "Completed 400 epochs, final RMSE = 3.71\n",
      "(943, 1682)\n",
      "Completed 400 epochs, final RMSE = 3.71\n",
      "(943, 1682)\n",
      "Completed 400 epochs, final RMSE = 3.70\n",
      "(943, 1682)\n",
      "Completed 400 epochs, final RMSE = 3.71\n",
      "(943, 1682)\n",
      "Completed 400 epochs, final RMSE = 3.71\n",
      "(943, 1682)\n",
      "Completed 400 epochs, final RMSE = 3.70\n"
     ]
    },
    {
     "data": {
      "text/plain": [
       "GridSearchCV(cv=3, estimator=MC(gamma=6e-05, n_epochs=400, n_m=1682, n_u=943),\n",
       "             param_grid={'lmbda': (45, 50), 'n_factors': (15, 18)})"
      ]
     },
     "execution_count": 24,
     "metadata": {},
     "output_type": "execute_result"
    }
   ],
   "source": [
    "rcmdr = MC(n_u=n_u, n_m=n_m, gamma=6e-5, n_epochs=400)\n",
    "params = {\"lmbda\": (45, 50),\n",
    "         \"n_factors\": (15, 18)} #n_factors=k latent dimensions ,lambda=regularisation constant\n",
    "search = GridSearchCV(rcmdr, param_grid=params, cv=3)\n",
    "search.fit(X, y)"
   ]
  },
  {
   "cell_type": "markdown",
   "metadata": {
    "id": "VeRcM3zulE46"
   },
   "source": [
    "#### Compute the validation RMSE."
   ]
  },
  {
   "cell_type": "code",
   "execution_count": 25,
   "metadata": {
    "colab": {
     "base_uri": "https://localhost:8080/",
     "height": 175
    },
    "id": "wXwSPiRfina7",
    "outputId": "f9f40285-af77-4978-99dd-5c0384adc4bb"
   },
   "outputs": [
    {
     "data": {
      "text/html": [
       "\n",
       "  <div id=\"df-e2bf85ae-432f-43a4-a6d2-74bd24bf85d0\">\n",
       "    <div class=\"colab-df-container\">\n",
       "      <div>\n",
       "<style scoped>\n",
       "    .dataframe tbody tr th:only-of-type {\n",
       "        vertical-align: middle;\n",
       "    }\n",
       "\n",
       "    .dataframe tbody tr th {\n",
       "        vertical-align: top;\n",
       "    }\n",
       "\n",
       "    .dataframe thead th {\n",
       "        text-align: right;\n",
       "    }\n",
       "</style>\n",
       "<table border=\"1\" class=\"dataframe\">\n",
       "  <thead>\n",
       "    <tr style=\"text-align: right;\">\n",
       "      <th></th>\n",
       "      <th>mean_test_score</th>\n",
       "      <th>std_test_score</th>\n",
       "      <th>params</th>\n",
       "    </tr>\n",
       "  </thead>\n",
       "  <tbody>\n",
       "    <tr>\n",
       "      <th>1</th>\n",
       "      <td>3.704782</td>\n",
       "      <td>0.010879</td>\n",
       "      <td>{'lmbda': 45, 'n_factors': 18}</td>\n",
       "    </tr>\n",
       "    <tr>\n",
       "      <th>0</th>\n",
       "      <td>3.704800</td>\n",
       "      <td>0.010868</td>\n",
       "      <td>{'lmbda': 45, 'n_factors': 15}</td>\n",
       "    </tr>\n",
       "    <tr>\n",
       "      <th>2</th>\n",
       "      <td>3.704824</td>\n",
       "      <td>0.010854</td>\n",
       "      <td>{'lmbda': 50, 'n_factors': 15}</td>\n",
       "    </tr>\n",
       "    <tr>\n",
       "      <th>3</th>\n",
       "      <td>3.704825</td>\n",
       "      <td>0.010849</td>\n",
       "      <td>{'lmbda': 50, 'n_factors': 18}</td>\n",
       "    </tr>\n",
       "  </tbody>\n",
       "</table>\n",
       "</div>\n",
       "      <button class=\"colab-df-convert\" onclick=\"convertToInteractive('df-e2bf85ae-432f-43a4-a6d2-74bd24bf85d0')\"\n",
       "              title=\"Convert this dataframe to an interactive table.\"\n",
       "              style=\"display:none;\">\n",
       "        \n",
       "  <svg xmlns=\"http://www.w3.org/2000/svg\" height=\"24px\"viewBox=\"0 0 24 24\"\n",
       "       width=\"24px\">\n",
       "    <path d=\"M0 0h24v24H0V0z\" fill=\"none\"/>\n",
       "    <path d=\"M18.56 5.44l.94 2.06.94-2.06 2.06-.94-2.06-.94-.94-2.06-.94 2.06-2.06.94zm-11 1L8.5 8.5l.94-2.06 2.06-.94-2.06-.94L8.5 2.5l-.94 2.06-2.06.94zm10 10l.94 2.06.94-2.06 2.06-.94-2.06-.94-.94-2.06-.94 2.06-2.06.94z\"/><path d=\"M17.41 7.96l-1.37-1.37c-.4-.4-.92-.59-1.43-.59-.52 0-1.04.2-1.43.59L10.3 9.45l-7.72 7.72c-.78.78-.78 2.05 0 2.83L4 21.41c.39.39.9.59 1.41.59.51 0 1.02-.2 1.41-.59l7.78-7.78 2.81-2.81c.8-.78.8-2.07 0-2.86zM5.41 20L4 18.59l7.72-7.72 1.47 1.35L5.41 20z\"/>\n",
       "  </svg>\n",
       "      </button>\n",
       "      \n",
       "  <style>\n",
       "    .colab-df-container {\n",
       "      display:flex;\n",
       "      flex-wrap:wrap;\n",
       "      gap: 12px;\n",
       "    }\n",
       "\n",
       "    .colab-df-convert {\n",
       "      background-color: #E8F0FE;\n",
       "      border: none;\n",
       "      border-radius: 50%;\n",
       "      cursor: pointer;\n",
       "      display: none;\n",
       "      fill: #1967D2;\n",
       "      height: 32px;\n",
       "      padding: 0 0 0 0;\n",
       "      width: 32px;\n",
       "    }\n",
       "\n",
       "    .colab-df-convert:hover {\n",
       "      background-color: #E2EBFA;\n",
       "      box-shadow: 0px 1px 2px rgba(60, 64, 67, 0.3), 0px 1px 3px 1px rgba(60, 64, 67, 0.15);\n",
       "      fill: #174EA6;\n",
       "    }\n",
       "\n",
       "    [theme=dark] .colab-df-convert {\n",
       "      background-color: #3B4455;\n",
       "      fill: #D2E3FC;\n",
       "    }\n",
       "\n",
       "    [theme=dark] .colab-df-convert:hover {\n",
       "      background-color: #434B5C;\n",
       "      box-shadow: 0px 1px 3px 1px rgba(0, 0, 0, 0.15);\n",
       "      filter: drop-shadow(0px 1px 2px rgba(0, 0, 0, 0.3));\n",
       "      fill: #FFFFFF;\n",
       "    }\n",
       "  </style>\n",
       "\n",
       "      <script>\n",
       "        const buttonEl =\n",
       "          document.querySelector('#df-e2bf85ae-432f-43a4-a6d2-74bd24bf85d0 button.colab-df-convert');\n",
       "        buttonEl.style.display =\n",
       "          google.colab.kernel.accessAllowed ? 'block' : 'none';\n",
       "\n",
       "        async function convertToInteractive(key) {\n",
       "          const element = document.querySelector('#df-e2bf85ae-432f-43a4-a6d2-74bd24bf85d0');\n",
       "          const dataTable =\n",
       "            await google.colab.kernel.invokeFunction('convertToInteractive',\n",
       "                                                     [key], {});\n",
       "          if (!dataTable) return;\n",
       "\n",
       "          const docLinkHtml = 'Like what you see? Visit the ' +\n",
       "            '<a target=\"_blank\" href=https://colab.research.google.com/notebooks/data_table.ipynb>data table notebook</a>'\n",
       "            + ' to learn more about interactive tables.';\n",
       "          element.innerHTML = '';\n",
       "          dataTable['output_type'] = 'display_data';\n",
       "          await google.colab.output.renderOutput(dataTable, element);\n",
       "          const docLink = document.createElement('div');\n",
       "          docLink.innerHTML = docLinkHtml;\n",
       "          element.appendChild(docLink);\n",
       "        }\n",
       "      </script>\n",
       "    </div>\n",
       "  </div>\n",
       "  "
      ],
      "text/plain": [
       "   mean_test_score  std_test_score                          params\n",
       "1         3.704782        0.010879  {'lmbda': 45, 'n_factors': 18}\n",
       "0         3.704800        0.010868  {'lmbda': 45, 'n_factors': 15}\n",
       "2         3.704824        0.010854  {'lmbda': 50, 'n_factors': 15}\n",
       "3         3.704825        0.010849  {'lmbda': 50, 'n_factors': 18}"
      ]
     },
     "execution_count": 25,
     "metadata": {},
     "output_type": "execute_result"
    }
   ],
   "source": [
    "best_est = search.best_estimator_\n",
    "results = pd.DataFrame(search.cv_results_)\n",
    "results[[\"mean_test_score\", \"std_test_score\", \"params\"]].sort_values(by=[\"mean_test_score\"], ascending=True).head()"
   ]
  },
  {
   "cell_type": "markdown",
   "metadata": {
    "id": "9FYNhMHZlJjK"
   },
   "source": [
    "#### Compute the test RMSE"
   ]
  },
  {
   "cell_type": "code",
   "execution_count": 29,
   "metadata": {
    "colab": {
     "base_uri": "https://localhost:8080/"
    },
    "id": "f7A79Pk4oupy",
    "outputId": "5f4a477e-82fb-4203-b2a7-23096c21b12e"
   },
   "outputs": [
    {
     "name": "stdout",
     "output_type": "stream",
     "text": [
      "RMSE score is 3.7022194925889536\n"
     ]
    }
   ],
   "source": [
    "X_val=val_data[[\"User_Id\", \"Movie_Id\"]].to_numpy()\n",
    "y_val = val_data[\"Rating\"].values\n",
    "rmse_score=search.score(X_val,y_val)\n",
    "print(\"RMSE score is\",rmse_score )"
   ]
  },
  {
   "cell_type": "code",
   "execution_count": 30,
   "metadata": {
    "colab": {
     "base_uri": "https://localhost:8080/"
    },
    "id": "0g7ZOoLfxDU3",
    "outputId": "10aa05c1-4633-4447-b49e-222665db11c9"
   },
   "outputs": [
    {
     "name": "stdout",
     "output_type": "stream",
     "text": [
      "RMSE score is 3.7052423013498035\n"
     ]
    }
   ],
   "source": [
    "X_test=test_data[[\"User_Id\", \"Movie_Id\"]].to_numpy()\n",
    "y_test = test_data[\"Rating\"].values\n",
    "rmse_score_test=search.score(X_test,y_test)\n",
    "print(\"RMSE score is\",rmse_score_test )"
   ]
  },
  {
   "cell_type": "markdown",
   "metadata": {
    "id": "MAZ-tc0CcBDC"
   },
   "source": [
    "https://www.kaggle.com/washingtongold/matrix-factorization-on-movie-ratings-dataset?scriptVersionId=30187124\n",
    "https://nbviewer.org/github/albertauyeung/matrix-factorization-in-python/blob/master/mf.ipynb\n",
    "https://albertauyeung.github.io/2017/04/23/python-matrix-factorization.html/"
   ]
  },
  {
   "cell_type": "code",
   "execution_count": null,
   "metadata": {
    "id": "FxmDJfKSbfLn"
   },
   "outputs": [],
   "source": []
  }
 ],
 "metadata": {
  "colab": {
   "collapsed_sections": [],
   "name": "Lab10Exercise2.ipynb",
   "provenance": []
  },
  "kernelspec": {
   "display_name": "Python 3",
   "language": "python",
   "name": "python3"
  },
  "language_info": {
   "codemirror_mode": {
    "name": "ipython",
    "version": 3
   },
   "file_extension": ".py",
   "mimetype": "text/x-python",
   "name": "python",
   "nbconvert_exporter": "python",
   "pygments_lexer": "ipython3",
   "version": "3.8.8"
  }
 },
 "nbformat": 4,
 "nbformat_minor": 1
}
