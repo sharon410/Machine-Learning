{
 "cells": [
  {
   "cell_type": "markdown",
   "metadata": {
    "id": "YxHcDOS8jwvw"
   },
   "source": [
    "### Sharon Laurance Muthipeedika\n",
    "### 312486"
   ]
  },
  {
   "cell_type": "markdown",
   "metadata": {
    "id": "yeKDGlpjlcZc"
   },
   "source": [
    "### Exercise 3: Recommender Systems using matrix factorization sckit learn"
   ]
  },
  {
   "cell_type": "code",
   "execution_count": 1,
   "metadata": {
    "id": "GM6XQTwrNMbQ"
   },
   "outputs": [],
   "source": [
    "#Import Required Libraries\n",
    "import numpy as np\n",
    "import pandas as pd\n",
    "import matplotlib.pyplot as plt\n",
    "import seaborn as sns\n",
    "from math import sqrt\n",
    "import os\n",
    "from sklearn.decomposition import NMF\n",
    "from sklearn.metrics import mean_squared_error"
   ]
  },
  {
   "cell_type": "code",
   "execution_count": 2,
   "metadata": {
    "colab": {
     "base_uri": "https://localhost:8080/"
    },
    "id": "ddVaadCNOU7J",
    "outputId": "94862d96-571d-441e-cb14-bf7eb6631940"
   },
   "outputs": [
    {
     "name": "stdout",
     "output_type": "stream",
     "text": [
      "Mounted at /content/gdrive\n"
     ]
    }
   ],
   "source": [
    "from google.colab import drive\n",
    "drive.mount('/content/gdrive')"
   ]
  },
  {
   "cell_type": "code",
   "execution_count": 3,
   "metadata": {
    "id": "y834Qwi5OUyz"
   },
   "outputs": [],
   "source": [
    "os.chdir('gdrive/MyDrive/LAB10')"
   ]
  },
  {
   "cell_type": "code",
   "execution_count": 4,
   "metadata": {
    "id": "5jyvCSDkNR5-"
   },
   "outputs": [],
   "source": [
    "movie_lens=pd.read_csv(\"ml-100k/u.data\",header=None,delim_whitespace=True)"
   ]
  },
  {
   "cell_type": "code",
   "execution_count": 5,
   "metadata": {
    "id": "PtYwgBiFNbCl"
   },
   "outputs": [],
   "source": [
    "movie_lens.columns=[\"User_Id\",\"Movie_Id\",\"Rating\",\"Timestamp\"]"
   ]
  },
  {
   "cell_type": "code",
   "execution_count": 6,
   "metadata": {
    "id": "dO5Gol6iPooT"
   },
   "outputs": [],
   "source": [
    "c_data = pd.DataFrame()\n",
    "c_data['id'] = 0\n",
    "movies = []\n",
    "\n",
    "for movie in (movie_lens['Movie_Id']):\n",
    "     if movie not in movies:\n",
    "            movies.append(movie)\n",
    "            c_data[movie] = 0"
   ]
  },
  {
   "cell_type": "code",
   "execution_count": 7,
   "metadata": {
    "id": "LTN1goY_Psab"
   },
   "outputs": [],
   "source": [
    "users = [] \n",
    "for user in (movie_lens['User_Id']):\n",
    "  if user not in users:\n",
    "    users.append(user)\n",
    "    append_dic = {'id':user}\n",
    "    for column in c_data.columns:\n",
    "      if column != 'id':\n",
    "        append_dic[column] = 0\n",
    "    c_data = c_data.append(pd.DataFrame([append_dic]))"
   ]
  },
  {
   "cell_type": "code",
   "execution_count": 8,
   "metadata": {
    "id": "mkmzU-ELPvbj"
   },
   "outputs": [],
   "source": [
    "c_data = c_data.set_index('id')"
   ]
  },
  {
   "cell_type": "code",
   "execution_count": 9,
   "metadata": {
    "id": "DrXVk5iIP1yQ"
   },
   "outputs": [],
   "source": [
    "for index in (range(len(movie_lens)-1)):\n",
    "     c_data.loc[movie_lens['User_Id'][index],movie_lens['Movie_Id'][index]] = movie_lens['Rating'][index]"
   ]
  },
  {
   "cell_type": "code",
   "execution_count": 10,
   "metadata": {
    "colab": {
     "base_uri": "https://localhost:8080/"
    },
    "id": "ePGuF_HCQoO6",
    "outputId": "8cfd679b-8f1b-449f-cc0b-8f78c9f55cd8"
   },
   "outputs": [
    {
     "data": {
      "text/plain": [
       "(943, 1682)"
      ]
     },
     "execution_count": 10,
     "metadata": {},
     "output_type": "execute_result"
    }
   ],
   "source": [
    "np.shape(c_data)"
   ]
  },
  {
   "cell_type": "code",
   "execution_count": 11,
   "metadata": {
    "id": "kJtXb0--u4Yc"
   },
   "outputs": [],
   "source": [
    "# Split the dataframe into a train ,validation and test set\n",
    "from sklearn.model_selection import train_test_split\n",
    "train_data, test_data = train_test_split(c_data,test_size=0.1)\n",
    "train_data, val_data = train_test_split(train_data,test_size=0.11111)\n",
    "train_data = pd.DataFrame(train_data)\n",
    "test_data = pd.DataFrame(test_data)\n",
    "val_data = pd.DataFrame(val_data)"
   ]
  },
  {
   "cell_type": "code",
   "execution_count": 12,
   "metadata": {
    "colab": {
     "base_uri": "https://localhost:8080/"
    },
    "id": "0eSMTHl7u6MO",
    "outputId": "27938fe9-5975-406f-c3c9-fb00e1368a2e"
   },
   "outputs": [
    {
     "name": "stdout",
     "output_type": "stream",
     "text": [
      "(753, 1682)\n",
      "(95, 1682)\n",
      "(95, 1682)\n"
     ]
    }
   ],
   "source": [
    "print(np.shape(train_data))\n",
    "print(np.shape(val_data))\n",
    "print(np.shape(test_data))"
   ]
  },
  {
   "cell_type": "code",
   "execution_count": 28,
   "metadata": {
    "id": "EYh-Du26P30F"
   },
   "outputs": [],
   "source": [
    "def rmse_score(R, Q, P):\n",
    "    I = R != 0  # Indicator function which is zero for missing data\n",
    "    # print(np.shape(R))\n",
    "    # print(np.shape(P))\n",
    "    # print(np.shape(Q))\n",
    "    ME = I * (R - np.dot(P, Q))  # Errors between real and predicted ratings\n",
    "    MSE = ME**2  \n",
    "    return np.sqrt(np.sum(MSE)/np.sum(I))  # sum of squared errors\n",
    "\n",
    "def matrix_factorization(R,R_val,R_test, P, Q, K, steps=50, alpha=0.0002, beta=0.02):\n",
    "    Q = Q.T\n",
    "    train_errors = []\n",
    "    train_rmse=[]\n",
    "    val_rmse=[]\n",
    "    test_rmse = []\n",
    "    for step in (range(steps)):\n",
    "        for i in range(len(R)):\n",
    "            for j in range(len(R[i])):\n",
    "                if R[i][j] > 0:\n",
    "                    eij = R[i][j] - np.dot(P[i,:],Q[:,j])\n",
    "                    for k in range(K):\n",
    "                        P[i][k] = P[i][k] + alpha * (2 * eij * Q[k][j] - beta * P[i][k])\n",
    "                        Q[k][j] = Q[k][j] + alpha * (2 * eij * P[i][k] - beta * Q[k][j])\n",
    "                        # train_rmse.append(rmse_score(R,Q,P))\n",
    "                        # val_rmse.append(rmse_score(R_val,Q,P))\n",
    "                        # test_rmse.append(rmse_score(R_test,Q,P))\n",
    "\n",
    "        eR = np.dot(P,Q)\n",
    "        e = 0\n",
    "        for i in range(len(R)):\n",
    "            for j in range(len(R[i])):\n",
    "                if R[i][j] > 0:\n",
    "                    e = e + pow(R[i][j] - np.dot(P[i,:],Q[:,j]), 2)\n",
    "                    for k in range(K):\n",
    "                        e = e + (beta/2) * (pow(P[i][k],2) + pow(Q[k][j],2))\n",
    "                        train_errors.append(e)\n",
    "        if e < 0.1:\n",
    "            break\n",
    "    return P, Q.T,train_errors"
   ]
  },
  {
   "cell_type": "code",
   "execution_count": 29,
   "metadata": {
    "id": "BM93mEbPP3mt"
   },
   "outputs": [],
   "source": [
    "R_train = np.array(train_data)\n",
    "R_val=np.array(val_data)\n",
    "R_test=np.array(test_data)\n",
    "N = len(R_train)\n",
    "M = len(R_train[0])\n",
    "K = 2\n",
    "P = np.random.rand(N,K)\n",
    "Q = np.random.rand(M,K)\n",
    "nP, nQ,train_errors = matrix_factorization(R_train,R_val ,R_test,P, Q, K)\n",
    "nR = np.dot(nP, nQ.T)"
   ]
  },
  {
   "cell_type": "code",
   "execution_count": 30,
   "metadata": {
    "colab": {
     "base_uri": "https://localhost:8080/",
     "height": 296
    },
    "id": "IzQxMbO7Sjtx",
    "outputId": "99bc848e-1c59-4653-fbe7-764ce9f5ba20"
   },
   "outputs": [
    {
     "data": {
      "text/plain": [
       "[<matplotlib.lines.Line2D at 0x7f3a9aeaa6d0>]"
      ]
     },
     "execution_count": 30,
     "metadata": {},
     "output_type": "execute_result"
    },
    {
     "data": {
      "image/png": "[encoded data removed]",
      "text/plain": [
       "<Figure size 432x288 with 1 Axes>"
      ]
     },
     "metadata": {
      "needs_background": "light"
     },
     "output_type": "display_data"
    }
   ],
   "source": [
    "plt.plot(train_errors) #Shows how training error gradually decreases"
   ]
  },
  {
   "cell_type": "code",
   "execution_count": 31,
   "metadata": {
    "colab": {
     "base_uri": "https://localhost:8080/"
    },
    "id": "lEqFP6t4P3X3",
    "outputId": "26f48395-eb5c-41b9-ed47-77b50c1e8260"
   },
   "outputs": [
    {
     "data": {
      "text/plain": [
       "array([[5.29561365, 5.49469958, 1.62854715, ..., 1.98774309, 0.8425043 ,\n",
       "        1.61447066],\n",
       "       [3.67816235, 3.95542524, 1.30157666, ..., 1.06399186, 0.48695845,\n",
       "        0.96374575],\n",
       "       [3.60234783, 3.67894243, 1.0356716 , ..., 1.48619851, 0.61469151,\n",
       "        1.16496554],\n",
       "       ...,\n",
       "       [3.95012837, 4.14743019, 1.27461663, ..., 1.3715344 , 0.59395941,\n",
       "        1.1489337 ],\n",
       "       [3.60366592, 3.75652596, 1.12954268, ..., 1.31306017, 0.56104071,\n",
       "        1.07893563],\n",
       "       [4.76398526, 4.94283619, 1.46475179, ..., 1.78875948, 0.75810076,\n",
       "        1.45267544]])"
      ]
     },
     "execution_count": 31,
     "metadata": {},
     "output_type": "execute_result"
    }
   ],
   "source": [
    "nR"
   ]
  },
  {
   "cell_type": "code",
   "execution_count": 32,
   "metadata": {
    "colab": {
     "base_uri": "https://localhost:8080/"
    },
    "id": "bqHLKtYwj8Ko",
    "outputId": "021d733f-bb7d-4cd9-e2ea-04e41741d5ee"
   },
   "outputs": [
    {
     "name": "stdout",
     "output_type": "stream",
     "text": [
      "RMSE error without sklearn is 2.587267522463938\n"
     ]
    }
   ],
   "source": [
    "print(\"RMSE error without sklearn is\",sqrt(mean_squared_error(R_train,nR)))"
   ]
  },
  {
   "cell_type": "code",
   "execution_count": 18,
   "metadata": {
    "colab": {
     "base_uri": "https://localhost:8080/"
    },
    "id": "fJPjUBe1ZLyD",
    "outputId": "2e538da7-ca48-4d51-c71d-7c3f7eb02b43"
   },
   "outputs": [
    {
     "name": "stdout",
     "output_type": "stream",
     "text": [
      "[[3.00001757e+00 5.44863841e-07 1.96861042e-16 ... 1.05275006e-12\n",
      "  9.89323108e-13 1.01407386e-12]\n",
      " [3.12338714e-05 2.99083477e+00 1.64725190e-08 ... 1.56192899e-14\n",
      "  1.47655319e-14 1.50734764e-14]\n",
      " [2.84813099e-04 9.68810901e-03 9.99959297e-01 ... 3.19579926e-13\n",
      "  3.00323882e-13 3.07838562e-13]\n",
      " ...\n",
      " [6.88873937e-04 1.04089168e-03 0.00000000e+00 ... 7.87050160e-16\n",
      "  7.39595928e-16 7.58123953e-16]\n",
      " [2.83539718e-03 4.00070937e+00 0.00000000e+00 ... 8.82063551e-13\n",
      "  8.28902816e-13 8.49652476e-13]\n",
      " [0.00000000e+00 1.58836858e-03 3.92234631e-14 ... 0.00000000e+00\n",
      "  0.00000000e+00 0.00000000e+00]]\n"
     ]
    }
   ],
   "source": [
    "R = np.array(c_data)\n",
    "nmf = NMF(init='random', random_state=3116) # Using Sklearn library NMF\n",
    "W = nmf.fit_transform(R);\n",
    "H = nmf.components_;\n",
    "nR = np.dot(W,H)\n",
    "print(nR)"
   ]
  },
  {
   "cell_type": "code",
   "execution_count": 19,
   "metadata": {
    "colab": {
     "base_uri": "https://localhost:8080/"
    },
    "id": "jNmRGaDURnql",
    "outputId": "39e9ecd5-ac47-4025-90ba-6dec7742a5d1"
   },
   "outputs": [
    {
     "name": "stdout",
     "output_type": "stream",
     "text": [
      "RMSE error with NMF is 0.008396495208566343\n"
     ]
    }
   ],
   "source": [
    "print(\"RMSE error with NMF is\",sqrt(mean_squared_error(R,nR)))"
   ]
  },
  {
   "cell_type": "markdown",
   "metadata": {
    "id": "tNO1qaB-lnDQ"
   },
   "source": [
    "#### Compare your results with the results in task 1. List in detail which/how you used these libraries?, what it solves?and why it is selected?. Present your results in form of plots and tables."
   ]
  },
  {
   "cell_type": "markdown",
   "metadata": {
    "id": "H_uesIT8Xuy0"
   },
   "source": [
    "As we can see error without sklearn is high as it is 2.58 and error with sklearn.NMF is 0.0083. It is very low also time taken is reduced."
   ]
  },
  {
   "cell_type": "markdown",
   "metadata": {
    "id": "fTRWhC8DltI4"
   },
   "source": [
    "Library used is sklearn.decomposition.NMF() It has model = NMF(n_components=2, init='random', random_state=0)\n",
    "Time taken is reduced with sklearn library"
   ]
  },
  {
   "cell_type": "markdown",
   "metadata": {
    "id": "xVtOd77EkVRb"
   },
   "source": [
    "###### https://stackoverflow.com/questions/29648955/sklearn-matrix-factorization-example\n",
    "###### https://sdsawtelle.github.io/blog/output/week9-recommender-andrew-ng-machine-learning-with-python.html\n",
    "###### https://albertauyeung.github.io/2017/04/23/python-matrix-factorization.html/\n",
    "###### https://medium.com/analytics-vidhya/matrix-factorization-as-a-recommender-system-727ee64683f0"
   ]
  },
  {
   "cell_type": "code",
   "execution_count": null,
   "metadata": {
    "id": "mPVcjUvITp7l"
   },
   "outputs": [],
   "source": []
  }
 ],
 "metadata": {
  "accelerator": "GPU",
  "colab": {
   "collapsed_sections": [],
   "name": "LAB10Exercise3.ipynb",
   "provenance": []
  },
  "kernelspec": {
   "display_name": "Python 3",
   "language": "python",
   "name": "python3"
  },
  "language_info": {
   "codemirror_mode": {
    "name": "ipython",
    "version": 3
   },
   "file_extension": ".py",
   "mimetype": "text/x-python",
   "name": "python",
   "nbconvert_exporter": "python",
   "pygments_lexer": "ipython3",
   "version": "3.8.8"
  }
 },
 "nbformat": 4,
 "nbformat_minor": 1
}
