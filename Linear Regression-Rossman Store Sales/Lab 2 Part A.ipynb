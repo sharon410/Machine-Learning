{
 "cells": [
  {
   "cell_type": "markdown",
   "id": "0b44ddbb",
   "metadata": {},
   "source": [
    "###                                                                                         Name: Sharon Laurance Muthipeedika \n",
    "###                                                                                         Matriculation No: 312486"
   ]
  },
  {
   "cell_type": "markdown",
   "id": "331a79fb",
   "metadata": {},
   "source": [
    "## Exercise 2: Linear Regression"
   ]
  },
  {
   "cell_type": "markdown",
   "id": "21e92509",
   "metadata": {},
   "source": [
    "### Part A: (Implementing Gaussian Elimination) "
   ]
  },
  {
   "cell_type": "code",
   "execution_count": 1,
   "id": "595afddd",
   "metadata": {},
   "outputs": [],
   "source": [
    "# Importing Required Libraries\n",
    "import numpy as np\n",
    "import matplotlib.pyplot as plt"
   ]
  },
  {
   "cell_type": "markdown",
   "id": "019fe79b",
   "metadata": {},
   "source": [
    "#### 1. Generate a simple data i.e. a matrix X with dimensions 100×10. Initialize it with normal distribution µ = 2 and σ = 0.01\n"
   ]
  },
  {
   "cell_type": "code",
   "execution_count": 2,
   "id": "bd97b813",
   "metadata": {},
   "outputs": [],
   "source": [
    "X = np.random.normal(2, 0.01, (100,10))"
   ]
  },
  {
   "cell_type": "code",
   "execution_count": 3,
   "id": "ae4013ca",
   "metadata": {},
   "outputs": [],
   "source": [
    "A=np.ones((100,1))\n",
    "X=np.hstack((X,A))"
   ]
  },
  {
   "cell_type": "code",
   "execution_count": 4,
   "id": "66f42106",
   "metadata": {
    "scrolled": true
   },
   "outputs": [
    {
     "data": {
      "text/plain": [
       "array([2.00688666, 1.99592698, 1.99397207, 1.99147175, 2.0118691 ,\n",
       "       1.99757115, 1.99677016, 1.99393879, 2.00268911, 1.97866397,\n",
       "       1.        ])"
      ]
     },
     "execution_count": 4,
     "metadata": {},
     "output_type": "execute_result"
    }
   ],
   "source": [
    "X[0,:]"
   ]
  },
  {
   "cell_type": "markdown",
   "id": "71b28b4d",
   "metadata": {},
   "source": [
    "#### 2. Generate a simple target vector i.e. a matrix Y with dimensions 100 × 1. Initialize it with random uniform distribution"
   ]
  },
  {
   "cell_type": "code",
   "execution_count": 5,
   "id": "3da36708",
   "metadata": {},
   "outputs": [],
   "source": [
    "Y=np.random.uniform(size=(100,1))"
   ]
  },
  {
   "cell_type": "markdown",
   "id": "44e142d7",
   "metadata": {},
   "source": [
    "#### 3. Implement linear regression algorithm and train it using matrix X to learn values of β0:10. Let’s denote β0 as the parameter for the bias/intecept."
   ]
  },
  {
   "cell_type": "markdown",
   "id": "de974df8",
   "metadata": {},
   "source": [
    "#### 4. We already know an important aspect of this algorithm is solving the system of linear equations. For this exercise you are required to implement the algorithm given in Fig.1."
   ]
  },
  {
   "cell_type": "code",
   "execution_count": 6,
   "id": "0316d4cf",
   "metadata": {},
   "outputs": [
    {
     "name": "stdout",
     "output_type": "stream",
     "text": [
      "11\n",
      "11\n"
     ]
    }
   ],
   "source": [
    "X_transpose=X.transpose() #Finding X Transpose\n",
    "A=X_transpose.dot(X) #XT.X\n",
    "B=X_transpose.dot(Y) #XT.Y\n",
    "rows=np.shape(A)[0]\n",
    "cols=np.shape(A)[1]\n",
    "print(rows)\n",
    "print(cols)"
   ]
  },
  {
   "cell_type": "code",
   "execution_count": 7,
   "id": "60eb26cd",
   "metadata": {},
   "outputs": [],
   "source": [
    "#Forward Elimination\n",
    "# for i in range(cols-1):\n",
    "#     for j in range(i+1,rows):\n",
    "#         C[j,:]=-(C[j,i]/C[i,i])*C[i,:]+C[j,:]\n",
    "#After Forward Elimination we can see upper triangulat matrix and elements below the diagonal are nearing zero       \n",
    "for k in range(cols-1):  #11\n",
    "    for i in range(k+1,cols): # 1 to 11\n",
    "        A[i,k]=A[i,k]/A[k,k]\n",
    "        for j in range(k+1,cols):\n",
    "            A[i,j]=A[i,j]-A[i,k]*A[k,j]\n",
    "        B[i]=B[i]-A[i,k]*B[k]\n",
    "        "
   ]
  },
  {
   "cell_type": "code",
   "execution_count": 8,
   "id": "7b3bdce2",
   "metadata": {},
   "outputs": [
    {
     "name": "stdout",
     "output_type": "stream",
     "text": [
      "[[4.00068982e+02 3.99764556e+02 3.99523067e+02 3.99952785e+02\n",
      "  4.00194427e+02 4.00057294e+02 4.00009595e+02 4.00029492e+02\n",
      "  3.99833441e+02 3.99843091e+02 2.00015409e+02]\n",
      " [9.99239064e-01 1.81397089e-02 9.92625025e-03 7.94116204e-03\n",
      "  7.25852944e-03 8.42392514e-03 5.39511548e-03 7.16970350e-03\n",
      "  5.47513032e-03 9.79369382e-03 3.71168916e-03]\n",
      " [9.98635446e-01 5.47211109e-01 1.15660365e-02 2.94171941e-03\n",
      "  3.52976443e-03 3.00271492e-03 2.25672651e-03 3.06383089e-03\n",
      "  4.91685536e-03 5.02800966e-03 1.38447975e-03]\n",
      " [9.99709557e-01 4.37777809e-01 2.54341184e-01 1.11204257e-02\n",
      "  3.75515972e-03 2.35442914e-03 5.13610091e-03 4.47129467e-03\n",
      "  2.87004074e-03 2.12783662e-03 1.44098809e-03]\n",
      " [1.00031356e+00 4.00145860e-01 3.05183581e-01 3.37681293e-01\n",
      "  1.13865323e-02 3.12877869e-03 2.82825515e-03 3.13741609e-03\n",
      "  3.39666964e-03 3.10320882e-03 1.31676851e-03]\n",
      " [9.99970785e-01 4.64391417e-01 2.59614858e-01 2.11721134e-01\n",
      "  2.74778888e-01 1.01609723e-02 2.70291898e-05 1.37686328e-03\n",
      "  1.55608222e-03 7.59690658e-04 8.80507227e-04]\n",
      " [9.99851556e-01 2.97420179e-01 1.95116669e-01 4.61861898e-01\n",
      "  2.48385995e-01 2.66009877e-03 1.00196630e-02 8.98221249e-04\n",
      "  9.46987595e-04 1.88957345e-03 7.13744680e-04]\n",
      " [9.99901290e-01 3.95249093e-01 2.64898948e-01 4.02079452e-01\n",
      "  2.75537451e-01 1.35505072e-01 8.96458542e-02 1.17842629e-02\n",
      "  1.50799622e-03 3.26040899e-03 6.27967675e-04]\n",
      " [9.99411247e-01 3.01831211e-01 4.25111522e-01 2.58087309e-01\n",
      "  2.98305890e-01 1.53143043e-01 9.45129188e-02 1.27966954e-01\n",
      "  8.78283373e-03 5.60669151e-04 7.43809974e-04]\n",
      " [9.99435369e-01 5.39903581e-01 4.34721928e-01 1.91344889e-01\n",
      "  2.72533265e-01 7.47655479e-02 1.88586527e-01 2.76674836e-01\n",
      "  6.38369310e-02 1.21592292e-02 1.06102466e-03]\n",
      " [4.99952302e-01 2.04616798e-01 1.19702178e-01 1.29580300e-01\n",
      "  1.15642627e-01 8.66558047e-02 7.12343998e-02 5.32886684e-02\n",
      "  8.46890647e-02 8.72608486e-02 2.55580095e-04]]\n"
     ]
    }
   ],
   "source": [
    "print(A)\n"
   ]
  },
  {
   "cell_type": "code",
   "execution_count": 9,
   "id": "05c3972c",
   "metadata": {},
   "outputs": [],
   "source": [
    "#Backward Substitution\n",
    "# for i in np.arange(rows-1,-1,-1):\n",
    "#     beta[i]=(C[i,-1]-C[i,0:cols-1]@beta)\n",
    "\n",
    "for i in range(rows-1,-1,-1):\n",
    "    s=B[i]\n",
    "    for j in range(i+1,rows):\n",
    "        s=s-A[i,j]*B[j]\n",
    "    B[i]=s/A[i,i]\n",
    "    \n"
   ]
  },
  {
   "cell_type": "code",
   "execution_count": 10,
   "id": "d123c244",
   "metadata": {},
   "outputs": [
    {
     "name": "stdout",
     "output_type": "stream",
     "text": [
      "[[ -0.07986036]\n",
      " [  1.30731546]\n",
      " [  3.72729377]\n",
      " [ -3.90967365]\n",
      " [ -2.55111965]\n",
      " [ -2.09234186]\n",
      " [  1.44643093]\n",
      " [  1.48418963]\n",
      " [ 11.92018951]\n",
      " [ -1.07839549]\n",
      " [-19.82452445]]\n"
     ]
    }
   ],
   "source": [
    "print(B) #This is used to give the Beta Values"
   ]
  },
  {
   "cell_type": "markdown",
   "id": "bea9ac5a",
   "metadata": {},
   "source": [
    "#### 5. Implement the corresponding prediction algorithm and calculate the points for each training example in matrix X."
   ]
  },
  {
   "cell_type": "code",
   "execution_count": 11,
   "id": "306041cf",
   "metadata": {},
   "outputs": [
    {
     "name": "stdout",
     "output_type": "stream",
     "text": [
      "[[0.54473035]\n",
      " [0.60163342]\n",
      " [0.59213985]\n",
      " [0.4565059 ]\n",
      " [0.38942303]\n",
      " [0.1847832 ]\n",
      " [0.28263719]\n",
      " [0.50660576]\n",
      " [0.39697156]\n",
      " [0.41568817]\n",
      " [0.5291069 ]\n",
      " [0.50359097]\n",
      " [0.53345252]\n",
      " [0.54580364]\n",
      " [0.333928  ]\n",
      " [0.62335098]\n",
      " [0.58564219]\n",
      " [0.35610871]\n",
      " [0.41418486]\n",
      " [0.6495268 ]\n",
      " [0.31202132]\n",
      " [0.61008713]\n",
      " [0.55903212]\n",
      " [0.54921091]\n",
      " [0.57287862]\n",
      " [0.44613723]\n",
      " [0.54577511]\n",
      " [0.43407723]\n",
      " [0.47495221]\n",
      " [0.61575611]\n",
      " [0.56174393]\n",
      " [0.54216653]\n",
      " [0.5091249 ]\n",
      " [0.29401964]\n",
      " [0.2499577 ]\n",
      " [0.575158  ]\n",
      " [0.59447111]\n",
      " [0.50364717]\n",
      " [0.33378277]\n",
      " [0.33874111]\n",
      " [0.58266003]\n",
      " [0.48956543]\n",
      " [0.59814988]\n",
      " [0.37498533]\n",
      " [0.34786873]\n",
      " [0.61342981]\n",
      " [0.45978067]\n",
      " [0.69872896]\n",
      " [0.70965115]\n",
      " [0.49567032]\n",
      " [0.65511875]\n",
      " [0.34896629]\n",
      " [0.51140851]\n",
      " [0.53366974]\n",
      " [0.53090976]\n",
      " [0.60388762]\n",
      " [0.5809202 ]\n",
      " [0.56322448]\n",
      " [0.71379532]\n",
      " [0.67972174]\n",
      " [0.66888214]\n",
      " [0.28508827]\n",
      " [0.4910224 ]\n",
      " [0.33113199]\n",
      " [0.50513558]\n",
      " [0.55675743]\n",
      " [0.7128705 ]\n",
      " [0.7486608 ]\n",
      " [0.5474446 ]\n",
      " [0.55095244]\n",
      " [0.35446023]\n",
      " [0.28160518]\n",
      " [0.33715573]\n",
      " [0.53384725]\n",
      " [0.52593739]\n",
      " [0.64992976]\n",
      " [0.43637081]\n",
      " [0.3463851 ]\n",
      " [0.49210053]\n",
      " [0.38720716]\n",
      " [0.40056038]\n",
      " [0.48628056]\n",
      " [0.42802666]\n",
      " [0.44165971]\n",
      " [0.66942229]\n",
      " [0.58500924]\n",
      " [0.58466135]\n",
      " [0.4575195 ]\n",
      " [0.38521276]\n",
      " [0.78469483]\n",
      " [0.37236952]\n",
      " [0.37038637]\n",
      " [0.50525841]\n",
      " [0.70070999]\n",
      " [0.48146089]\n",
      " [0.72576705]\n",
      " [0.40689219]\n",
      " [0.44737719]\n",
      " [0.32983672]\n",
      " [0.58573259]]\n"
     ]
    }
   ],
   "source": [
    "Y_Pred=np.dot(X,B)\n",
    "print(Y_Pred)"
   ]
  },
  {
   "cell_type": "markdown",
   "id": "c6779dcb",
   "metadata": {},
   "source": [
    "#### 6.  Plot the training points from matrix Y and predicted values Yˆ in the form of scatter graph."
   ]
  },
  {
   "cell_type": "code",
   "execution_count": 12,
   "id": "fe3641af",
   "metadata": {
    "scrolled": true
   },
   "outputs": [
    {
     "data": {
      "text/plain": [
       "Text(0, 0.5, 'y')"
      ]
     },
     "execution_count": 12,
     "metadata": {},
     "output_type": "execute_result"
    },
    {
     "data": {
      "image/png": "[encoded data removed]",
      "text/plain": [
       "<Figure size 432x288 with 1 Axes>"
      ]
     },
     "metadata": {
      "needs_background": "light"
     },
     "output_type": "display_data"
    }
   ],
   "source": [
    "plt.scatter(list(range(100)),Y)\n",
    "plt.scatter(list(range(100)),Y_Pred)\n",
    "plt.title(\"Scatter Plot between Y and Y_Prediction\",fontsize=18)\n",
    "plt.xlabel('x')\n",
    "plt.ylabel('y')"
   ]
  },
  {
   "cell_type": "markdown",
   "id": "fc319d33",
   "metadata": {},
   "source": [
    "#### 7. In the end use numpy.linalg.lstsq to learn β0:10 and plot the predictions from these parameters.\n"
   ]
  },
  {
   "cell_type": "code",
   "execution_count": 13,
   "id": "03ff1f87",
   "metadata": {},
   "outputs": [
    {
     "name": "stdout",
     "output_type": "stream",
     "text": [
      "[[ -0.07986036]\n",
      " [  1.30731545]\n",
      " [  3.72729377]\n",
      " [ -3.90967365]\n",
      " [ -2.55111965]\n",
      " [ -2.09234186]\n",
      " [  1.44643093]\n",
      " [  1.48418963]\n",
      " [ 11.9201895 ]\n",
      " [ -1.07839549]\n",
      " [-19.82452445]]\n"
     ]
    }
   ],
   "source": [
    "beta = np.linalg.lstsq(X, Y, rcond=None)[0] #Numpy linrary linalg.lstsq is used\n",
    "print(beta)\n",
    "# plt.plot(X[:,0], Y, 'o', label='Original data', markersize=10)\n",
    "# # plt.plot(X[:,0], var1*X[:,0] +var2*X[:,1]+var3*X[:,2]+var4*X[:,3] +var5*X[:,4]+var6*X[:,5]+var7*X[:,6] +var8*X[:,7]+var9*X[:,8]+var10*X[:,9] +var11*X[:,10], 'r', label='Fitted line')\n",
    "# plt.plot(X[:,0], var1*X[:,0] +var2*X[:,1]+var3*X[:,2]+var4*X[:,3] +var5*X[:,4]+var6*X[:,5]+var7*X[:,6] +var8*X[:,7]+var9*X[:,8]+var10*X[:,9] +var11*X[:,10], 'r', label='Fitted line')\n",
    "# plt.legend()\n",
    "# plt.show()"
   ]
  },
  {
   "cell_type": "code",
   "execution_count": 14,
   "id": "909a402c",
   "metadata": {},
   "outputs": [],
   "source": [
    "#References:https://numpy.org/doc/stable/reference/generated/numpy.linalg.lstsq.html"
   ]
  },
  {
   "cell_type": "code",
   "execution_count": null,
   "id": "3a781710",
   "metadata": {},
   "outputs": [],
   "source": []
  }
 ],
 "metadata": {
  "kernelspec": {
   "display_name": "Python 3",
   "language": "python",
   "name": "python3"
  },
  "language_info": {
   "codemirror_mode": {
    "name": "ipython",
    "version": 3
   },
   "file_extension": ".py",
   "mimetype": "text/x-python",
   "name": "python",
   "nbconvert_exporter": "python",
   "pygments_lexer": "ipython3",
   "version": "3.8.8"
  }
 },
 "nbformat": 4,
 "nbformat_minor": 5
}
