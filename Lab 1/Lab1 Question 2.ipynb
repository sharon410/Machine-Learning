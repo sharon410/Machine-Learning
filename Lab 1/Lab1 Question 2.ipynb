{
 "cells": [
  {
   "cell_type": "markdown",
   "id": "f1d51796",
   "metadata": {},
   "source": [
    "###                                                                                                                          Name: Sharon Laurance Muthipeedika \n",
    "###                                                                                                                          Matriculation No: 312486"
   ]
  },
  {
   "cell_type": "markdown",
   "id": "bfb60136",
   "metadata": {},
   "source": [
    "# Exercise 2: Linear Regression through exact form"
   ]
  },
  {
   "cell_type": "code",
   "execution_count": 1,
   "id": "5d9954e0",
   "metadata": {},
   "outputs": [],
   "source": [
    "# Importing Required Libraries\n",
    "import numpy as np\n",
    "import matplotlib.pyplot as plt"
   ]
  },
  {
   "cell_type": "markdown",
   "id": "3efa8eba",
   "metadata": {},
   "source": [
    "#### 1. Generate a simple data i.e. a matrix X with dimensions 100×2. Initialize it with normal distribution µ = 2 and σ = 0.01"
   ]
  },
  {
   "cell_type": "code",
   "execution_count": 2,
   "id": "1ba5553f",
   "metadata": {},
   "outputs": [],
   "source": [
    "X = np.random.normal(2, 0.01, (100,2))"
   ]
  },
  {
   "cell_type": "markdown",
   "id": "f678996a",
   "metadata": {},
   "source": [
    "#### 2. Generate a simple target vector i.e. a matrix Y with dimensions 100 × 1. Initialize it with random uniform distribution."
   ]
  },
  {
   "cell_type": "code",
   "execution_count": 3,
   "id": "ae4d1bcc",
   "metadata": {},
   "outputs": [],
   "source": [
    "Y=np.random.uniform(size=(100,1))"
   ]
  },
  {
   "cell_type": "code",
   "execution_count": 4,
   "id": "89d0f583",
   "metadata": {},
   "outputs": [
    {
     "data": {
      "text/plain": [
       "<matplotlib.collections.PathCollection at 0x224247678b0>"
      ]
     },
     "execution_count": 4,
     "metadata": {},
     "output_type": "execute_result"
    },
    {
     "data": {
      "image/png": "[encoded data removed]",
      "text/plain": [
       "<Figure size 432x288 with 1 Axes>"
      ]
     },
     "metadata": {
      "needs_background": "light"
     },
     "output_type": "display_data"
    }
   ],
   "source": [
    "plt.scatter(X[:,0],Y) #Scatter Plot is drawn between X and Y"
   ]
  },
  {
   "cell_type": "markdown",
   "id": "b14e4574",
   "metadata": {},
   "source": [
    "#### 3. Implement LEARN-SIMPLE-LINREG algorithm and train it using matrix X to learn values of β0 and β1"
   ]
  },
  {
   "cell_type": "markdown",
   "id": "86a4a346",
   "metadata": {},
   "source": [
    " ### For Simple Linear Regression:\n",
    " Given some data X,Y you need to learn the parameters required to learn the relation between both\n",
    " variables. For example as shown in the equation below you need to learn Beta0 (Bais) and Beta1.\n",
    " Given the above equation you can then calculate vector of Betas ( )using;\n",
    " Last step to obtain Betas is to divide by ( X transpose * X )or basically multiplying by (X transpose* X ) inverse.\n",
    " So in the end Beta can be calculated using;\n",
    " \n",
    "$\\beta = (X^T . X )^{-1} .( X^T . Y)$\n",
    "    \n",
    " Theory is taken from Hint Provided"
   ]
  },
  {
   "cell_type": "markdown",
   "id": "c6aafa73",
   "metadata": {},
   "source": [
    "#### 4. An important aspect of this algorithm is solve the system of linear equations. Instead of solving the system of linear equations, here we ask you to invert the matrix A = XT X. The task hence involves implementing a subroutine for matrix inversion. Although it must be noted that inverting a matrix should always be avoided but as programming practice here we implement matrix inversion nevertheless."
   ]
  },
  {
   "cell_type": "code",
   "execution_count": 5,
   "id": "0bd7d860",
   "metadata": {},
   "outputs": [],
   "source": [
    "#Inverse Function for a 2X2 Matrix only\n",
    "def getDeterminant(m):\n",
    "    return m[0][0]*m[1][1]-m[0][1]*m[1][0]\n",
    "    \n",
    "def find_Inverse(multiply_X_XT):\n",
    "    m=multiply_X_XT\n",
    "    determinant = getDeterminant(m)\n",
    "    return [[m[1][1]/determinant, -1*m[0][1]/determinant],\n",
    "            [-1*m[1][0]/determinant, m[0][0]/determinant]]\n",
    "    "
   ]
  },
  {
   "cell_type": "code",
   "execution_count": 6,
   "id": "0a7b766d",
   "metadata": {},
   "outputs": [],
   "source": [
    "def linear_regression_model(X,Y):\n",
    "    X_transpose=X.transpose()  #Find Transpose of X\n",
    "    multiply_X_XT=np.dot(X_transpose,X) #Multiply X_transpose and X\n",
    "    print(multiply_X_XT)\n",
    "    A_Inverse=find_Inverse(multiply_X_XT) #Get Inverse of (𝑋𝑇.𝑋)−1\n",
    "    A_Inverse=np.array(A_Inverse) #Convert to numpy array\n",
    "    beta_vector=A_Inverse.dot(X_transpose.dot(Y)) #Get Beta Vector\n",
    "    return beta_vector"
   ]
  },
  {
   "cell_type": "markdown",
   "id": "4cf47393",
   "metadata": {},
   "source": [
    "##### Input Vector X is taken as domension (100X2). But padding of ones is done to ensure Beta0 remains constant value"
   ]
  },
  {
   "cell_type": "code",
   "execution_count": 7,
   "id": "c3bc6f02",
   "metadata": {},
   "outputs": [
    {
     "name": "stdout",
     "output_type": "stream",
     "text": [
      "[[400.16739909 200.0394154 ]\n",
      " [200.0394154  100.        ]]\n"
     ]
    }
   ],
   "source": [
    "X = np.random.normal(2, 0.01, (100,1))\n",
    "A=np.ones((100,1))\n",
    "X=np.hstack((X,A))\n",
    "beta_vector=linear_regression_model(X,Y)"
   ]
  },
  {
   "cell_type": "markdown",
   "id": "21513e5b",
   "metadata": {},
   "source": [
    "#### 5. Implement PREDICT-SIMPLE-LINREG and calculate the points for each training example in matrix A."
   ]
  },
  {
   "cell_type": "code",
   "execution_count": 8,
   "id": "dc86b494",
   "metadata": {},
   "outputs": [],
   "source": [
    "Y_Pred=np.dot(X,beta_vector)"
   ]
  },
  {
   "cell_type": "markdown",
   "id": "28b68375",
   "metadata": {},
   "source": [
    "#### 6. Plot the training points from matrix Y and predicted values in the form of scatter graph."
   ]
  },
  {
   "cell_type": "code",
   "execution_count": 9,
   "id": "4dab18fa",
   "metadata": {
    "scrolled": true
   },
   "outputs": [
    {
     "data": {
      "text/plain": [
       "Text(0, 0.5, 'y')"
      ]
     },
     "execution_count": 9,
     "metadata": {},
     "output_type": "execute_result"
    },
    {
     "data": {
      "image/png": "[encoded data removed]",
      "text/plain": [
       "<Figure size 432x288 with 1 Axes>"
      ]
     },
     "metadata": {
      "needs_background": "light"
     },
     "output_type": "display_data"
    }
   ],
   "source": [
    "plt.scatter(list(range(100)),Y)\n",
    "plt.scatter(list(range(100)),Y_Pred)\n",
    "plt.title(\"Scatter Plot between Y and Y_Prediction\",fontsize=18)\n",
    "plt.xlabel('x')\n",
    "plt.ylabel('y')"
   ]
  },
  {
   "cell_type": "markdown",
   "id": "c2a1527f",
   "metadata": {},
   "source": [
    "#### This shows the relation between X and Y_Prediction"
   ]
  },
  {
   "cell_type": "code",
   "execution_count": 10,
   "id": "61b0e7b7",
   "metadata": {},
   "outputs": [
    {
     "data": {
      "text/plain": [
       "Text(0.5, 1.0, 'Plot between Original Data and Fitted Line')"
      ]
     },
     "execution_count": 10,
     "metadata": {},
     "output_type": "execute_result"
    },
    {
     "data": {
      "image/png": "[encoded data removed]",
      "text/plain": [
       "<Figure size 432x288 with 1 Axes>"
      ]
     },
     "metadata": {
      "needs_background": "light"
     },
     "output_type": "display_data"
    }
   ],
   "source": [
    "plt.scatter(X[:,0],Y)\n",
    "plt.plot(X[:,0],Y_Pred)\n",
    "plt.title(\"Plot between Original Data and Fitted Line\",fontsize=18)"
   ]
  },
  {
   "cell_type": "markdown",
   "id": "b67b5cf8",
   "metadata": {},
   "source": [
    "#### 7. In the end use numpy.linalg lstsq to replace step 2 for learning values of β0 and β1. linalg lstsq() function is used to return the least-squares solution to a linear equation"
   ]
  },
  {
   "cell_type": "code",
   "execution_count": 11,
   "id": "592835e9",
   "metadata": {},
   "outputs": [
    {
     "name": "stdout",
     "output_type": "stream",
     "text": [
      "[2.54569385] [-4.57466668]\n"
     ]
    },
    {
     "data": {
      "image/png": "[encoded data removed]",
      "text/plain": [
       "<Figure size 432x288 with 1 Axes>"
      ]
     },
     "metadata": {
      "needs_background": "light"
     },
     "output_type": "display_data"
    }
   ],
   "source": [
    "var1,var2 = np.linalg.lstsq(X, Y, rcond=None)[0] #Numpy linrary linalg.lstsq is used\n",
    "print(var1,var2)\n",
    "plt.plot(X[:,0], Y, 'o', label='Original data', markersize=10)\n",
    "plt.plot(X[:,0], var1*X[:,0] +var2, 'r', label='Fitted line')\n",
    "plt.legend()\n",
    "plt.show()"
   ]
  },
  {
   "cell_type": "code",
   "execution_count": null,
   "id": "338af21f",
   "metadata": {},
   "outputs": [],
   "source": []
  }
 ],
 "metadata": {
  "kernelspec": {
   "display_name": "Python 3",
   "language": "python",
   "name": "python3"
  },
  "language_info": {
   "codemirror_mode": {
    "name": "ipython",
    "version": 3
   },
   "file_extension": ".py",
   "mimetype": "text/x-python",
   "name": "python",
   "nbconvert_exporter": "python",
   "pygments_lexer": "ipython3",
   "version": "3.8.8"
  }
 },
 "nbformat": 4,
 "nbformat_minor": 5
}
