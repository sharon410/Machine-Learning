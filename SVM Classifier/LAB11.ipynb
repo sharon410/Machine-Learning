{
  "nbformat": 4,
  "nbformat_minor": 0,
  "metadata": {
    "colab": {
      "name": "LAB11.ipynb",
      "provenance": [],
      "collapsed_sections": []
    },
    "kernelspec": {
      "name": "python3",
      "display_name": "Python 3"
    },
    "language_info": {
      "name": "python"
    }
  },
  "cells": [
    {
      "cell_type": "markdown",
      "source": [
        "\n",
        "### Sharon Laurance Muthipeedika\n",
        "### 312486"
      ],
      "metadata": {
        "id": "rNxdS6Iel_zp"
      }
    },
    {
      "cell_type": "markdown",
      "source": [
        "\n",
        "### Exercise 0: Preprocessing Text Data"
      ],
      "metadata": {
        "id": "YV_mggegl8Ge"
      }
    },
    {
      "cell_type": "code",
      "execution_count": 1,
      "metadata": {
        "id": "27oUHCX3Eef7"
      },
      "outputs": [],
      "source": [
        "#Import required Libraries\n",
        "import numpy as np\n",
        "import pandas as pd\n",
        "import matplotlib.pyplot as plt\n",
        "import math\n",
        "from sklearn.datasets import fetch_20newsgroups\n",
        "from sklearn.metrics import accuracy_score\n",
        "from sklearn.svm import SVC\n",
        "from nltk.corpus import stopwords \n",
        "from string import punctuation "
      ]
    },
    {
      "cell_type": "code",
      "source": [
        "categories = ['comp.graphics', 'sci.med']"
      ],
      "metadata": {
        "id": "2gpX0VyeErLn"
      },
      "execution_count": 2,
      "outputs": []
    },
    {
      "cell_type": "markdown",
      "source": [
        "TwentyNewsGroup has test and train samples"
      ],
      "metadata": {
        "id": "CbWbRO06lvG7"
      }
    },
    {
      "cell_type": "code",
      "source": [
        "twenty_train = fetch_20newsgroups(subset='train',categories=categories, shuffle=True, random_state=3116) #20newsgroups dataset Train Sample\n",
        "twenty_test = fetch_20newsgroups(subset='test',categories=categories, shuffle=True, random_state=3116)"
      ],
      "metadata": {
        "id": "gp6x6NZrFPZl"
      },
      "execution_count": 3,
      "outputs": []
    },
    {
      "cell_type": "code",
      "source": [
        "twenty_train.target_names #Subset the dataset to only the following two categories named as ’sci.med’ and ’comp.graphics’"
      ],
      "metadata": {
        "colab": {
          "base_uri": "https://localhost:8080/"
        },
        "id": "LMXwisleFiCe",
        "outputId": "e84d6408-fd3b-4a20-a85c-762d3164ea66"
      },
      "execution_count": 4,
      "outputs": [
        {
          "output_type": "execute_result",
          "data": {
            "text/plain": [
              "['comp.graphics', 'sci.med']"
            ]
          },
          "metadata": {},
          "execution_count": 4
        }
      ]
    },
    {
      "cell_type": "code",
      "source": [
        "# print(len(twenty_train.data))\n",
        "# print(len(twenty_train.filenames))\n",
        "print(\"We have {} unique classes\".format(len(categories))) #This is for unique classes\n",
        "print(\"We have {} training samples\".format(len(twenty_train.data)))\n",
        "print(\"We have {} test samples\".format(len(twenty_test.data)))"
      ],
      "metadata": {
        "colab": {
          "base_uri": "https://localhost:8080/"
        },
        "id": "TtOG4PYKFviL",
        "outputId": "3eb20b3d-a600-4534-947f-a3f639b50b1a"
      },
      "execution_count": 5,
      "outputs": [
        {
          "output_type": "stream",
          "name": "stdout",
          "text": [
            "We have 2 unique classes\n",
            "We have 1178 training samples\n",
            "We have 785 test samples\n"
          ]
        }
      ]
    },
    {
      "cell_type": "code",
      "source": [
        "import nltk\n",
        "nltk.download('stopwords')"
      ],
      "metadata": {
        "colab": {
          "base_uri": "https://localhost:8080/"
        },
        "id": "vu9l61B7MF50",
        "outputId": "c8acdc05-6a2c-4862-9cfd-b12d6d6a7d43"
      },
      "execution_count": 6,
      "outputs": [
        {
          "output_type": "stream",
          "name": "stdout",
          "text": [
            "[nltk_data] Downloading package stopwords to /root/nltk_data...\n",
            "[nltk_data]   Package stopwords is already up-to-date!\n"
          ]
        },
        {
          "output_type": "execute_result",
          "data": {
            "text/plain": [
              "True"
            ]
          },
          "metadata": {},
          "execution_count": 6
        }
      ]
    },
    {
      "cell_type": "markdown",
      "source": [
        "Preprocessing textual data to remove punctuation, stop-words"
      ],
      "metadata": {
        "id": "61CRJCruRu8U"
      }
    },
    {
      "cell_type": "code",
      "source": [
        "punctuations=list(punctuation)\n",
        "stopWords=stopwords.words('english')\n",
        "stopWords+=punctuations # Combined list of stop words"
      ],
      "metadata": {
        "id": "ilaQCbL4L7_G"
      },
      "execution_count": 7,
      "outputs": []
    },
    {
      "cell_type": "code",
      "source": [
        "X_train=[]\n",
        "for i in twenty_train.data:\n",
        "  punc_rmv = [char for char in i if char not in punctuation]\n",
        "  punc_rmv = \"\".join(punc_rmv)\n",
        "\n",
        "  stopword_rmv = [w.strip().lower() for w in punc_rmv.split() if w.strip().lower() not in stopWords]\n",
        "  X_train.append(\" \".join(stopword_rmv))"
      ],
      "metadata": {
        "id": "9andPoGYP6D8"
      },
      "execution_count": 8,
      "outputs": []
    },
    {
      "cell_type": "markdown",
      "source": [
        "This information is held by train dataset for 0 instance"
      ],
      "metadata": {
        "id": "7hl1jcmluN4m"
      }
    },
    {
      "cell_type": "code",
      "source": [
        "twenty_train.data[0]"
      ],
      "metadata": {
        "colab": {
          "base_uri": "https://localhost:8080/",
          "height": 145
        },
        "id": "jGIzXnmSOCgo",
        "outputId": "a3bd1320-c95a-439f-9f43-96716f95d9f1"
      },
      "execution_count": 9,
      "outputs": [
        {
          "output_type": "execute_result",
          "data": {
            "application/vnd.google.colaboratory.intrinsic+json": {
              "type": "string"
            },
            "text/plain": [
              "'From: kaminski@netcom.com (Peter Kaminski)\\nSubject: Re: Krillean Photography\\nLines: 101\\nOrganization: The Information Deli - via Netcom / San Jose, California\\n\\n[Newsgroups: m.h.a added, followups set to most appropriate groups.]\\n\\nIn <1993Apr19.205615.1013@unlv.edu> todamhyp@charles.unlv.edu (Brian M.\\nHuey) writes:\\n\\n>I am looking for any information/supplies that will allow\\n>do-it-yourselfers to take Krillean Pictures.\\n\\n(It\\'s \"Kirlian\".  \"Krillean\" pictures are portraits of tiny shrimp. :)\\n\\n[...]\\n\\n>One might extrapolate here and say that this proves that every object\\n>within the universe (as we know it) has its own energy signature.\\n\\nI think it\\'s safe to say that anything that\\'s not at 0 degrees Kelvin\\nwill have its own \"energy signature\" -- the interesting questions are\\nwhat kind of energy, and what it signifies.\\n\\nI\\'d check places like Edmund Scientific (are they still in business?) --\\nor I wonder if you can find ex-Soviet Union equipment for sale somewhere\\nin the relcom.* hierarchy.\\n\\nSome expansion on Kirlian photography:\\n\\nFrom the credulous side: [Stanway, Andrew, _Alternative Medicine: A Guide\\nTo Natural Therapies_, ISBN 0-14-008561-0, New York: Viking Penguin, 1986,\\np211, p188.  A not-overly critical but still useful overview of 32\\nalternative health therapies.]\\n\\n  ...the Russian engineer Semyon Kirlian and his wife Valentina during the\\n  1950s.  Using alternating currents of high frequency to \\'illuminate\\'\\n  their subjects, they photographed them.  They found that if an object\\n  was a good conductor (such as a metal) the picture showed only its\\n  surface, while the pictures of poor conductors showed the inner\\n  structure of the object even if it were optically opaque.  They found\\n  too that these high frequency pictures could distinguish between dead\\n  and living objects.  Dead ones had a constant outline whilst living ones\\n  were subject to changes.  The object\\'s life activity was also visible in\\n  highly variable colour patterns.\\n\\n  High frequency photography has now been practised for twenty years in\\n  the Soviet Union but only a few people in the West have taken it up\\n  seriously.  Professor Douglas Dean in New York and Professor Philips at\\n  Washington University in St Louis have produced Kirlian photographs and\\n  others have been produced in Brazil, Austria and Germany.\\n\\n  Using Kirlian photography it is possible to show an aura around people\\'s\\n  fingers, notably around those of healers who are concentrating on\\n  healing someone.  Normally, blue and white rays emanate from the fingers\\n  but, when a subject becomes angry or excited, the aura turns red and\\n  spotty.  The Soviets are now using Kirlian photography to diagnose\\n  diseases which cannot be diagnosed by any other method.  They argue that\\n  in most illnesses there is a preclinical stage during which the person\\n  isn\\'t actually ill but is about to be.  They claim to be able to\\n  foretell a disease by photographing its preclinical phase.\\n\\n  But the most exciting phenomenon illustrated by Kirlian photography is\\n  the phantom effect.  During high frequency photography of a leaf from\\n  which a part had been cut, the photograph gave a complete picture of the\\n  leaf with the removed part showing up faintly.  This is extremely\\n  important because it backs up the experiences of psychics who can \\'see\\'\\n  the legs of amputees as if they were still there.  The important thing\\n  about the Kirlian phantoms though is that the electromagnetic pattern\\n  can\\'t possibly represent a secondary phenomenon -- or the field would\\n  vanish when the piece of leaf or leg vanished.  The energy grid\\n  contained in a living object must therefore be far more significant than\\n  the actual object itself.\\n\\n  [...]\\n\\n  Kirlian photography has shown how water mentally \\'charged\\' by a healer\\n  has a much richer energy field around it than ordinary water...\\n\\n\\nFrom the incredulous side: [MacRobert, Alan, \"Reality shopping; a\\nconsumer\\'s guide to new age hokum.\", _Whole Earth Review_, Autumn 1986,\\nvNON4 p4(11).  An excellent article providing common-sense guidelines for\\nevaluating paranormal claims, and some of the author\\'s favorite examples\\nof hokum.]\\n\\n  The crank usually works in isolation from everyone else in his field of\\n  study, making grand discoveries in his basement.  Many paranormal\\n  movements can be traced back to such people -- Kirlian photography, for\\n  instance.  If you pump high-voltage electricity into anything it will\\n  emit glowing sparks, common knowledge to electrical workers and\\n  hobbyists for a century.  It took a lone basement crank to declare that\\n  the sparks represent some sort of spiritual aura.  In fact, Kirlian\\n  photography was subjected to rigorous testing by physicists John O.\\n  Pehek, Harry J. Kyler, and David L. Faust, who reported their findings\\n  in the October 15, 1976, issue of Science.  Their conclusion: The\\n  variations observed in Kirlian photographs are due solely to moisture on\\n  the surface of the body and not to mysterious \"auras\" or even\\n  necessarily to changes in mood or mental state.  Nevertheless,\\n  television shows, magazines, and books (many by famous\\n  parapsychologists) continue to promote Kirlian photography as proof of\\n  the unknown.\\n\\n-- \\nPeter Kaminski\\nkaminski@netcom.com\\n'"
            ]
          },
          "metadata": {},
          "execution_count": 9
        }
      ]
    },
    {
      "cell_type": "code",
      "source": [
        "X_train[0]"
      ],
      "metadata": {
        "colab": {
          "base_uri": "https://localhost:8080/",
          "height": 145
        },
        "id": "-j_UYZUuOJvW",
        "outputId": "716371ba-3e4c-4d22-f8f4-e3416986d39f"
      },
      "execution_count": 10,
      "outputs": [
        {
          "output_type": "execute_result",
          "data": {
            "application/vnd.google.colaboratory.intrinsic+json": {
              "type": "string"
            },
            "text/plain": [
              "'kaminskinetcomcom peter kaminski subject krillean photography lines 101 organization information deli via netcom san jose california newsgroups mha added followups set appropriate groups 1993apr192056151013unlvedu todamhypcharlesunlvedu brian huey writes looking informationsupplies allow doityourselfers take krillean pictures kirlian krillean pictures portraits tiny shrimp one might extrapolate say proves every object within universe know energy signature think safe say anything thats 0 degrees kelvin energy signature interesting questions kind energy signifies id check places like edmund scientific still business wonder find exsoviet union equipment sale somewhere relcom hierarchy expansion kirlian photography credulous side stanway andrew alternative medicine guide natural therapies isbn 0140085610 new york viking penguin 1986 p211 p188 notoverly critical still useful overview 32 alternative health therapies russian engineer semyon kirlian wife valentina 1950s using alternating currents high frequency illuminate subjects photographed found object good conductor metal picture showed surface pictures poor conductors showed inner structure object even optically opaque found high frequency pictures could distinguish dead living objects dead ones constant outline whilst living ones subject changes objects life activity also visible highly variable colour patterns high frequency photography practised twenty years soviet union people west taken seriously professor douglas dean new york professor philips washington university st louis produced kirlian photographs others produced brazil austria germany using kirlian photography possible show aura around peoples fingers notably around healers concentrating healing someone normally blue white rays emanate fingers subject becomes angry excited aura turns red spotty soviets using kirlian photography diagnose diseases cannot diagnosed method argue illnesses preclinical stage person isnt actually ill claim able foretell disease photographing preclinical phase exciting phenomenon illustrated kirlian photography phantom effect high frequency photography leaf part cut photograph gave complete picture leaf removed part showing faintly extremely important backs experiences psychics see legs amputees still important thing kirlian phantoms though electromagnetic pattern cant possibly represent secondary phenomenon field would vanish piece leaf leg vanished energy grid contained living object must therefore far significant actual object kirlian photography shown water mentally charged healer much richer energy field around ordinary water incredulous side macrobert alan reality shopping consumers guide new age hokum whole earth review autumn 1986 vnon4 p411 excellent article providing commonsense guidelines evaluating paranormal claims authors favorite examples hokum crank usually works isolation everyone else field study making grand discoveries basement many paranormal movements traced back people kirlian photography instance pump highvoltage electricity anything emit glowing sparks common knowledge electrical workers hobbyists century took lone basement crank declare sparks represent sort spiritual aura fact kirlian photography subjected rigorous testing physicists john pehek harry j kyler david l faust reported findings october 15 1976 issue science conclusion variations observed kirlian photographs due solely moisture surface body mysterious auras even necessarily changes mood mental state nevertheless television shows magazines books many famous parapsychologists continue promote kirlian photography proof unknown peter kaminski kaminskinetcomcom'"
            ]
          },
          "metadata": {},
          "execution_count": 10
        }
      ]
    },
    {
      "cell_type": "code",
      "source": [
        "len(twenty_train.target)"
      ],
      "metadata": {
        "colab": {
          "base_uri": "https://localhost:8080/"
        },
        "id": "_ADPjw6dGsad",
        "outputId": "4351d416-fd24-43db-a82b-ea3a7b7bc28f"
      },
      "execution_count": 11,
      "outputs": [
        {
          "output_type": "execute_result",
          "data": {
            "text/plain": [
              "1178"
            ]
          },
          "metadata": {},
          "execution_count": 11
        }
      ]
    },
    {
      "cell_type": "markdown",
      "source": [
        "Text preprocessing, tokenizing and filtering of stopwords are all included in CountVectorizer, which builds a dictionary of features and transforms documents to feature vectors.\n",
        "The index value of a word in the vocabulary is linked to its frequency in the whole training corpus"
      ],
      "metadata": {
        "id": "wEM50Wb-nUFY"
      }
    },
    {
      "cell_type": "code",
      "source": [
        "from sklearn.feature_extraction.text import CountVectorizer\n",
        "count_vect = CountVectorizer()\n",
        "X_train_counts = count_vect.fit_transform(X_train)\n",
        "X_train_counts.shape"
      ],
      "metadata": {
        "colab": {
          "base_uri": "https://localhost:8080/"
        },
        "id": "CRAnbh6pHBA2",
        "outputId": "c7c9004f-0ed9-4575-a62a-e2f40d2e4649"
      },
      "execution_count": 12,
      "outputs": [
        {
          "output_type": "execute_result",
          "data": {
            "text/plain": [
              "(1178, 26382)"
            ]
          },
          "metadata": {},
          "execution_count": 12
        }
      ]
    },
    {
      "cell_type": "code",
      "source": [
        "len(count_vect.get_feature_names_out()) #These many features are there in the data"
      ],
      "metadata": {
        "colab": {
          "base_uri": "https://localhost:8080/"
        },
        "id": "LOdcjGQcsTPi",
        "outputId": "c0f5aee5-d335-4db7-f530-183d2a0c9e94"
      },
      "execution_count": 13,
      "outputs": [
        {
          "output_type": "execute_result",
          "data": {
            "text/plain": [
              "26382"
            ]
          },
          "metadata": {},
          "execution_count": 13
        }
      ]
    },
    {
      "cell_type": "code",
      "source": [
        "X_train_counts[0]"
      ],
      "metadata": {
        "colab": {
          "base_uri": "https://localhost:8080/"
        },
        "id": "UroUV9LpJMHr",
        "outputId": "29c90a59-914c-4506-86ce-834569ef9636"
      },
      "execution_count": 14,
      "outputs": [
        {
          "output_type": "execute_result",
          "data": {
            "text/plain": [
              "<1x26382 sparse matrix of type '<class 'numpy.int64'>'\n",
              "\twith 364 stored elements in Compressed Sparse Row format>"
            ]
          },
          "metadata": {},
          "execution_count": 14
        }
      ]
    },
    {
      "cell_type": "code",
      "source": [
        "count_vect.vocabulary_.get(u'science')"
      ],
      "metadata": {
        "colab": {
          "base_uri": "https://localhost:8080/"
        },
        "id": "PUSV4uKbJYDO",
        "outputId": "3955a461-b928-4a7f-b498-1700b4a1bd3b"
      },
      "execution_count": 15,
      "outputs": [
        {
          "output_type": "execute_result",
          "data": {
            "text/plain": [
              "21288"
            ]
          },
          "metadata": {},
          "execution_count": 15
        }
      ]
    },
    {
      "cell_type": "markdown",
      "source": [
        "Term Frequency times Inverse Document Frequency (TF-IDF)"
      ],
      "metadata": {
        "id": "N8w9GamWKOJT"
      }
    },
    {
      "cell_type": "markdown",
      "source": [
        "Divide the number of occurrences of each word in a document by the total number of words in the document which is Term Frequency.\n",
        "Downscale weights for words that occur in many documents in the corpus and are therefore less informative than those that occur only in a smaller portion of the corpus.\n",
        "This downscaling is called tf–idf for “Term Frequency times Inverse Document Frequency”"
      ],
      "metadata": {
        "id": "MUE0_nexnkFB"
      }
    },
    {
      "cell_type": "code",
      "source": [
        "from sklearn.feature_extraction.text import TfidfTransformer\n",
        "tf_transformer = TfidfTransformer(use_idf=False).fit(X_train_counts)\n",
        "X_train_tf = tf_transformer.transform(X_train_counts)\n",
        "type(X_train_tf.shape)"
      ],
      "metadata": {
        "colab": {
          "base_uri": "https://localhost:8080/"
        },
        "id": "iVC94HQyJknd",
        "outputId": "78fb8428-9e2f-4035-aa10-1af265660db6"
      },
      "execution_count": 16,
      "outputs": [
        {
          "output_type": "execute_result",
          "data": {
            "text/plain": [
              "tuple"
            ]
          },
          "metadata": {},
          "execution_count": 16
        }
      ]
    },
    {
      "cell_type": "code",
      "source": [
        "print(X_train_tf.shape,type(twenty_train.target))"
      ],
      "metadata": {
        "colab": {
          "base_uri": "https://localhost:8080/"
        },
        "id": "qYEKDlE7KY3A",
        "outputId": "613603f0-1e9e-4740-9a13-ce893c6d3d88"
      },
      "execution_count": 17,
      "outputs": [
        {
          "output_type": "stream",
          "name": "stdout",
          "text": [
            "(1178, 26382) <class 'numpy.ndarray'>\n"
          ]
        }
      ]
    },
    {
      "cell_type": "markdown",
      "source": [
        "### Exercise 1: Implementing Naive Bayes Classifier for Text Data"
      ],
      "metadata": {
        "id": "5hP4gOOspyON"
      }
    },
    {
      "cell_type": "markdown",
      "source": [
        "![image.png](data:image/png;base64,iVBORw0KGgoAAAANSUhEUgAAAYYAAABLCAYAAAB0gSA7AAAAAXNSR0IArs4c6QAAAARnQU1BAACxjwv8YQUAAAAJcEhZcwAADsMAAA7DAcdvqGQAAB/sSURBVHhe7d0LXM33/wfwVxeV20/KKja0IsUYIyaasgzlkttc5seo5ZK22Vx+WO5N2Qib64xEyDCGKKQyl4hcSrHuiorq0PXUOef9/57OSeeoU6lz0v59no/1mO+3c/mevu/v5/35nu/n832rEQcMwzAMI6Uu/T/DMAzDlGKJgWEYhpHDEgPDMAwjhyUGhmEYRg5LDAzDMIwclhgYhmEYOSwxMAzDMHJYYmAYhmHksMTAMAzDyGGJgWEYhpHDEgPDMAwjhyUGhmEYRg5LDAzDMIwclhgYhmEYOSwxNHp83Nq2GNvvFEuXVUT0FGc8vXA6XSRdwTQG/FvbsHj7Hag4urjwOgNPr9Ng4aUcLDE0ci/+csWS1LFw6qklXaMi6m3hMLMjjs7zxiNlHbwvonF05ecYOOcYiqSrmAbkxV9wXZKKsU49oeLo4sLLATM7HsU870dQTni9QPTRlfh84Bwca4TBxRJDo1KMZ5kvyg8cQTgW/S8dzsv6qfzALWUwHos6+cNtf450hQKiNOz1/B3JVR7huYj/JxvPokIRmVGipMaAqZPiZ8h8UbYnBAhf9D+kOy9Dv3oJLnF4LUInfzdUH1574fl7cpUxkxv/D7KfRSE0MgMljTC4WGJoNPIRteMLuO5/jrKSffzAH3HGzBWjm0tXqJwmzOcORZLnTjyRrqmUKBv3w++BV+UB2RKmffqhl7EuC+KGID8KO75wxf7n0ujiB+LHM2Zwrb/g4sLLHHOHJsFzZ5XRxYXXfYTf41WZGFqa9kG/XsbQbaTBxY6phiD/AY5s3ATfI7uxzHkRjqdJQ1aQjIAt67Hz4O9Y6+IMz7BsLqqzELHnW9j3/wqHs8QPykew+zC4HEyHIOk8vJyHYMBXfkiJ9sMChz74aJovkgQ83Ng6FfZzLuHZ4wBcSBKKXxyR/pfQ2s4K2uKXQRGSLnlhsuUk7EqRvL/w0e/YfFz8JgLc9RyBkRvvcf+qmfwHR7Bxky+O7F4G50XHUfaR1I2GwjL9KE7nSZYZ1VO0LwTJAdiyficO/r4WLs6eCMsWceEVgT3f2qP/V4chCa9guA9zwcH0YiSd94LzkAH4yi8F0X4L4NDnI0zzTYKIdwNbp9pjzqVneBxwAeLwEkT641JrO1hJgosLryRc8poMy0m7IAkvIR79vhmS8LoLzxEjsfFejaMLD45sxCbfI9i9zBmLjqdJG3l1GA21RPrR02DhVTcsMbxtuaFYbDcPMYNmY9q4wWifexfR4iOXHwEvu1HY/85kOE9xwgK7HHi4bub2mD66d8jDHZ4BLFpxz885hV+9o6HdXg+axtYwy4tAgb46QiPaw3W6MR7dikO+mi562/bEOx3Gw93LDUONNbgn8hFxuwBmHzQt3QxAB8afOMKiJBBhd0u44zYRfguXYHtEKpcMNNHNrhfaFDWBGvdIQfwpHAzJVNjjyg1dDLt5MRg0exrGDW6P3LvRrxojaJnBtNl9RMTXtBFg6kLRvuBHeMFu1H68M9kZU5wWwC7HA66bY7jw6o4OeXfAM7CAJLx+hXe0NtrracHY2gx5EQXQVw9FRHtXTDd+hFtx+VDX7Q3bnu+gw3h3eLkNhTi8+BG3UWD2AcqiCzrG+MTRAiWBYZCElx8WLtmOiFQuDjS7wa5XGxQ14aJLEI9TB0OQqSi4kIvQxXaYFzMIs6eNw+D2ubgbXZYYxOFlimb3I8DCq25YYnirinHFfTp8uizEgt46gIYJZvsHwr2vCBFrZ2CtcAY8Pm8PcTOen5ODvIJC7l9CxIWFgwbYwFxTiHifX3BS3Rp2llrcy93AhSs6aNO0JQZMtcKLyCi0GmCLzhoiZFwMRdrHduhb1oPjEsNz7gSkdWuZENDoCHOTYiQn5iDldBCKzDvhxdN07h2FSEk0xgTnLqXbIkqPRvjDrMoTQ/EVuE/3QZeFCyD5SLPhH+iOvprS36M59FsX4/kzmWeL4uDr6ogR9vawF/+MnIW9J/Zh1kjpsv0IOLodQLzCxoKplKJ9IYrA2hlrIZzhgc/bl0YXcnLyUFBYwIVXHMLCCQNszKEpjIfPLyehbm0HSXhdwBWdNmjacgCmWr1AZFQrDLDtzO2/DFwMTcPHdn2lZ59cdEmCS66B0ehoDpPiZCTmpOB0UBHMO73A03Tu9EKYgkTjCXDuwm2LKB3R4Q+RpWBfF19xx3SfLli4oDfXldGAyWx/BLr35bouUs310br4OeTDyxeujiOksWSPkbP24sS+WRhZFm8jHOF2IL7Kr5YaHWLeHv5lmmMAGuGXJ10hxQ+lOe2akINvjnRFJvmObEUm310hEj6hzdYtaZQfj4RPg2j98PeoybA9lMU9SnB3KZmhJ62JEnCPSySvvro08bj4tXnkN8aAhu5KJ2Hp64m9pPUmoMlX+dJlMT6FzH6PzGd50rodtynnkCO1st9HWff96begJ6XPFWbHUMiJE3TtSfkryeJfnkMGGEGvf6RyueRlCpp0WfZ9X1Nyj+Y7fk13SqTLCvHp2vdm1GLMIcqXrmHKKdoX/NA51K6JA5WHly+NbGVC313hc+G1maxbjiI/npCeBq2n4e81oWF7SqOL7i41I/RcQ5Lw8qK+uhNJEl5+NMZgKO1Kl4mu9SaEyVe5PSSDH0Kz3zOnWZ7raMftHDrk2Irs92XRff/fKEgcT8Jsigk5QSeuSWKtIj5dnmNAGOFHisPLi0wxiaoOr/nk+PUdqi68+Ne+J7MWY+hQIwwuFZwxZOOM8/tQMxiLA49ZDq5aIYqKNaApPoUWK05BbHwe18XJRnbeuzDr3KJ0teD+VmxNdsLelVbcY8JxLbo7bKye4eTRVBSKstDLtgfSop/g8bkgJH46By4WXM/rRQiCYyxhZx6Hu0lXEHzTBDaWPMS9GuithS6dmyI1UfacWwN6+i0QG5CEHhN7oZmhAVqkBGLHVSOMHdK2tPenjof4yXE+LkpDR5BwAUcupZRfeygsQrGGJso/UizEH+kV0WOkZrfneovKGapCItGri+nMaxTsC1F2NvLeNYMkvAS4v3Urkp32YqWVFhde1xDd3QZWz07iaGohRFm9YNsjDdFPknEuKBGfznGBJLyCEWNpB/O4u+BfC8ZNExtY8uJezSPQ6tIZTVMT5a9JaehBv0UsApJ6YGKvZjA0aIGUwB24ajQWQ9py8cT99/AnR8y/SNIzDQESLhzBpZTyVyksKoaGpuQrTe4TISU2Xu56guhxKrLbm0Mp4UUiiBppcEn+/kojwmO/RdjZchPu+X+I44u2IUYuMuo2mUp4ywEd7a5Ilyr3r5roomWFmXO7IXS5M1Z7e2Pj7kgIjbijVccGzi6GuOlzEGcDfOCxvylWnV2PT1qKD+okJGfH4+iqw9AebQX1jBLkRt9CroEGAgNjMHDcKLTh9qowNQ4pJU8ReoEHw5J7uPe8EIlRudA3KNvl2hg4zBixYQkyB68adPVM4bBsCYbpcsexUTt01DLGoCmfQE/6CNHLW4gycsRYI/GSEAlHl2Di8AU4VlD6a+4jzcTcbqFY7rwa3t4bsTtSCPFHeqUgDFc1h2B4G+lyrRUhMewQDoSlID8mCH7noqXrmTKK9oWOjTNcDG/C5+BZBPh4YH/TVTi7/hO05I7f7KRkZMcfxarD2hhtpY6MklxE38qFgcZ5BMYMxLhRbbhGQ4jUuBSUPA3FBZ4hUu/cw/PCRETl6qMsvLQHDoNxbBgSZI9/NV3omTpg2ZJh0OU6IUbtOkLLeBCmfCKNLtFL3IoygqMkuLjwSsDRJRMxfMExSMJLC1Yz56Jb6HI4r/aG98bdiBQaQT68rkJzyHDUNbyKEsNw6EAYUvJjEOR3DtE5jayTKz1zqLOihAvk7eZIg21G0pzly+n7ufPoB09fCs0sPynknXSiIUuuy59evgF+SB9Ct7PSJcUyDk2ncT8/VHA62tAIKT8jmdJ43Pm5HCEVZqTQk0rWv8zIoJfSDyfI5VFupR+0hF7y8qR/Az7lZOdW/Hs830b9TN3onsw5tTAni3LKHijIoWye/LNyfulFutNCKE9mJ/JO+NNp2dNtYT5lJKdRhU3n5PjYkrnr7apP40uiacG4+XS32q+SmGop2hfCQspIeVLJ+peUkfFSGisCyuVVEjdiJS+Jlyf9DZ+LkwpB+Jy29TMlN9ng4l4pJyvn1esJcrJJLrxyfqFeutMoRDa4iEcn/E/LfVUozM+g5DQet3WvyyEfW3NyvV114JREL6Bx8+9W+1VSY6bEawx8CnF7n5pY/I/CxX9x3gVy7dSMei2/Ifl1yXVysXAgf4VfDlavpolB3LAstvyMfLKly4wCfLruZkWTTvKky9UpoeszW5HuxH0UniE9ogVxdHDHX1S2WCVhLK0cPI78nkuXq1BUVCT9F/Nvxb/uRlaTTnJNe82UXJ9JrXQn0r7wjPLkEXeQdvxVvlwVYexKGjzOj0tJ1Sni4kv6T6ZSyksMgljy6NuEOrpekp4RZNOuoU1Ie5Rv6VLR6VH07ugAbpfUXo0TAxdGyT+Ykfm6NOkyoxA/kn4c60J/yFw4rFJRLuXJdLUEybcpskbP5VOE5yT65kSmdJn5/49PkT+OJZc/ZAc9VKWIcmWDizsnSL4dSTULrwjynPQNsfBSDqUlBmHqrzRYx4hmnJKc9JXE7aIRhm1prG+KeImu/bclffBLWd+hkBKDPWlSn4m0M1my1wUPd9OmY+JcX0J31jnQiA0VT/UqJoY8ivbfQN77/Om3pU608FjqqwDkX/6CdHvvpFzpMlMFfhLFJan4xFqYQfHxZcNgmMaDT0lxSSr/2kaYEU8svJRHaRefXwRfwE1Ra7wIccfsaRMx7pvz6Oz5F/b8tz33W1VMpqrdRBfhLXf01NGAmppa5T8aOvhoRSTEc4MbDa2OMO34aiS4aqgbwMREV7rwbyfELfee0NGoJH6kPxo6H2FFZKOKIgW00NG0Y/k8AxVRNzDB/5vwagDUxNlB+u86yMeJacaYkr4a8efmQDzyTF42VrYzQOrZIuz+sCxEinBkrD5+sYmHX8eTOHd1H1ZkrkDSXjuk/eGD2EEzYG+gjuIrnlgYNRobZllAFGoJbdc1oKhh3PpvYTaWh+0JPhhe2e1Y8rfggxYh2MQ/DjslDF0T/5m+++476RLTmDg7O6Nbt27SpbqJjY3Fzp07pUsMU7lOnTrB1dVVulT/lJMY+JfgajYMt+fex9+LzUpnx8rLxU+m/0HkAT4O9i9rpYsROscUs2kepvf6DLNbrYbx/jFI8NLB8afWmDmkLZATi8thD6HddyQ+5rJN8avEMBh/z20P68feyDs1BZXepitvPTq1jIQP/xAGyiQGYfIpeG0IRKpAwfAzdU10GLoQC0dKZhyXEf+ZNm3aJF1iGhNHR0e8//770iUxIZJPeWFDIHeGqzCMOmDowoUYWTqzuFxSUhL+/PNP6RLDVK59+/YYP368dKn+KSUxCG4swYcDT2LU3/ewrvzeBzL4+GtYa/w87TnCpjSTrhPi/g8foIevDc7c2w67yFkw+ToPc91mYbaLdNx8zkmM0JuP/mkJWNaOSyUyieH8TEMMz9mFl39OQLPSiS6PoWdu+mpMsyjma7QZqo8HKSsgHRUtkXkZPvuuIl2o4GOracBo4HR8OcBAuoJhKsq87IN9V9OhOIyMMHD6l6g+jER4duNvPOn6CT6UHZDP1Ct+VChu6ltjYMWvOxoncWKoC0FKMP3o0I6g3pVm+N4kmWkLcrK8LeidWfdlLkIJKWWDAznsSC69YCx4sJKsPlpKf8tcLRYmuVNHo/n0QPqashef8y4vpR6tzWnyqo20ccNWOhElPw42d0dvemdmuBIvepXQfY++pKNlSsNmfUPffCP/4zZ3FjlNHUO2vd8n3SYgNb0JdEh8J4F6UUQRWxfRtsjazhBRJhVti/AJnV7nSaeeKggwJRE+OU3rPE+Rit/mlcJwD/rSPZheSpeZt6TwBnl8sYAC2BD3UsobrlodJUymen1UUl0nuryx/HBaYdmaLOYFUVXx8/LBcVo1+iOasDdduka16jpxUJlUui0Zh2j6uJ/poZIabV7UH7RiwgCafbRQukai3iZIFl6hhfZudLF0IF9D7ni8JUURtHXRNlJ+H6Py5M+PdKcxbsGK78P0RgQUYd+BPv37TTa+Ns9RjfpLDFxTUdfJVDWdx1DziS5vjh+1gWz1jWna0adVNxz8WPptvZ90QYWUMHGw9viUmcEr/zuofFtKKHqxJX1WzcxFYeoeWrc7qer98zKOboZto3EGzWjM63dJq6cJkhm7HWjgiujyjk0D7Xi8HTw66TSEllxXTSNZefJPp22ffUyrYit2Nd8cn0L6gLqd5bZfkERn18ygUfajyGn1H3QnW/KugtQw2uQ6hsZ8vYfulp4yyjznLavHxMCp42SqGiUGlU90EVD87pFk1HY07UmoOoAEeapvrZUxcbB28uj+9vE04ee4Vw1bfWyLMPkHMjNfR1VNXazp3TOJf42+N2tRMTFwzYXKJ0gKk2hd7260NEY+hhpcx6O+8DMpQ+Ybg5LrLmTh4K+k3nslFCT/jF8GUrfF98uTtQLVdz7kG3lBrAf1UW9LX52TOTqEGbR3gg0tv1G2ruEkhvq90qLVE0sOLUWvohrekEq7BZrLXMvW6vMrgn8bIF2qnIjXGhO2b8Lod6QrlE4DJjN2YLNtJBY6bUF0FfcD1Giu6rKGr1dhK6OowpUAyQFbsH7nQfy+1gXOnmHIFomQFbEH39r3x1eSknDID3bHMJeD3MOTcN7LGUMGfAW/lGj4LXBAn4+mwTchuwYV4cRFuy7Ba7IlJu1Kkby/8BF+33y8tDKY4K4nRozcCEVFu95uBbh6qAT2MhgXn/SE9fvyo5a0un2D3V7dEeQ2G/sSq5gHodUFM+aOli78y71eFhR8BP54BmauoysfcagMCsqA6vbriZxTfyK1miaqJuVBZWkYf4ju+s+QkPhSuob7lBFbcbbjCiy0lD96G4L6vwRfl8lUzfvBtn9L6ULl6mWii3o7jN+yAxPSVmPGjzekd358G16fOCimaOIf91gvO4za/w4mO0+B0wI75Hi4YnMMQb97B+Td4cFAUhIOp371RrR2e+7gMYa1WR4iCvShHhqB9q7TYfzoFuIKW9WgIpy4aNcncLQoQWDYXZRAiES/hViyPQKSol126NWm6NUtoWU1hApwqq4EJrh/FXf0zNG1iXTFKw2p48FRcdnZhOyKZUEhiIT/pdawK68LWoeys29WBlTLojtMEm4jsnY3gFasSVdYdCIkPYpD6UtznaTfdr7A1CU2cneHbSjY2KxaUtcfjvW7XVCy5Tv8Gvu2ZrhWrMKmqMKVKGItZqwVYobH55AU7cpBTl4BCgsIwrgwhNMA2JhrQhjvg19OqsPazlL8arhx4Qp02jRFywFTYfUiElGtBsC2s1rNKsJx79/R3ATFyYnISTmNoCJzdHrxFJKiXYkwnuAMcdEuObWoAKeSCl2VVAJTJkFGJl78Rx96lR2BDaXjUQ9lZwtbVSwLKn792wVmKO9j1PxOCfJqcXcETW6/F6UhlS9dVhb1trAwa43Uf/5BIbcF6Ud/Reyni+BQdj/7BoYlhjrQ0n0Pvf/7Lb4we711qyNRJq7uXYeVP+7E+URxsyBAysWd+NHrCO7JtRJN0LypEAUFZaHONeR+h5Dc9zN8IteZLMb1PXvwcJALvjSRbOuzgDO4beIIxw/VkXkxhHvOYPRtko7g4+eRojEAQ6y5VlkYi8ALqTAaNB7DTdSQGhSMDOvh6KuVi5BL0ehpZ42yWSkVt0VC3dAQes8fYB/Xa+z7eS8YFmYiIz8Kx4J1YT/MoEIAFt/ww6HkvvhM/gPIIBQVAdrc5pVR7zQNW0+cRkBAQOnPqZ0z4Dh9J05JlwNOn8AvU03fLNipiOunanNNkmoIX75ESfMWCrfp7Xc86qnsrFrFsqDgP0c2WkO+j1GzsrOyalMGFGpN0VSLj4LXEkPdOx9NYGFhCmHCIyTkXMLWy90wf2K7BtsAN9TtavBEWeexdnMenNaOx7t1/SsWP8H1gz/hf19/ja+//w03SgzQQ+cyVh3IgGlHcdOrCZ3UK7jTyhLdyltiTsUqbJVXuBIhOzsP75p1lpy2Cu5j69ZkOO1dCSutYoRfi0Z3Gys8O3kUqYUiZPWyRY+0aIgen0NQ4qeY42LBHVYvEBIcA0s7c8TdPFPDinDc8aynjxaxAUjqMRG9mhnCoEUKAndchdHYIWirXrFCV/1WgCOIFJToUmolsEqoNW8GtYL8Ks9i3mrHg2vI/Q4lo+9nn8h/z198HXv2PMQgly8h6WM8Q8CZ2zBxdCx93Ysh3HMG90WT9GAcP58CjQFDIOljBOJCqhEGjR8OE7VUBAVnwHp4X2jlhuBSdE/YWcsEdpPmaCosgHwfQx2Ghnp4/mAfDqb3xee9DFGYmYH8qGMI1rXHsFcFqMoo6iTJqCz5Ux7yqBX0XntO3TsfGnjXwgytUqJxcutf0J/lBFMl71ZlYomhNgSP4PPDSZgtXYQqL3kIxT29AqRc+xPHr6WXNgKCtJTS78uzb57F309FEMZsgOPHLjic+wHGzp4D1zkj0ZXrOjXrPwDdn8YhnjtzhuAufO9aYvVX77/WK3q9CpuiClc6sHF2geFNHxw8GwAfj/1ouuos1ktKwiEpORvxR1fhsPZoWKlnoCQ3GrdyDZAVGIiYgeMwSlISDnEpJXgaegFZlFTDinBcA6irB1OHZVgiKQmHdh21YDxoCkqLdlWo0MV9gvqqAFeUiLBDBxCWko+YID+ci86R/kJCWZXAFNEyNkZbXobCr6refsejfsrO3jxzsUJZUPGF9c5NUyHfx6im7KwgAReOXIJ8H6MWZUCLuLMVbSO0VUGj3aSrBUzyzuFUyWTM7l7L66z1RTo6iakxHoWtcaIVwdUMchem0iFvcS0KIeUGjSG1Lt6UWxJN7u9Z0A9PhJS+aziN2v6IVll/Svsqm6hUeILGN/uYNmcKKHHvUtoYoWAQaGUTBxVM/BMWZlDKk0rWv8ygjPKScMSrvCQclbzkkaRoV80rwpEwh7LKZzFyz5OZ91CqYoWuulaAq3uFLhVNkJSVu4fs9MbRCfm5dRIlD+n32a7kG1/NoEkB9/v8ZLp6/BhdLZ2tVUKpyeJbz2fRjYDLJK6vL3jwM43u5UDf7Aig8OgHFPvP09Jb0QsT11J33f9SkDisSu7QT/O3kPzI2Ty6vLQHtTafTKs2bqQNW0+Q5OYCOXR+QT8aOGsfBZzZSysXetK5NMkThWne1B+GZPXlGjqTEktremqSxbSddCUznXYMbk622yRDcAX3lpGFzgc0dctFCvewJJ0PXWj/zecycZFF3hbv0Kz7coFU5Z0SBA+9qA+0acLh8kiqzd0R+Je/orb9tlQ7B6r6IdGVDD3ljukv+82hcwqncjXWeQz/egJKOvQ1zdr5gNuFigkzw2mnkxWN3pQgWZHlQcatXSnIfxs5dTWi6dfz6J6fL13JOkKWaE529vZkL/1xGOdBweLYFibQqg+MaNapo+TxU1gV47nfdOKgKr35trxJha6aV4CrW4UuVU6QLJdB220/pEV3X2/837DjIcyloDFq1MU7l0uI7vSexQ9cQkinXcNH0fbctDp2POqh7GylZUHFfYx+ZOp2T67hre5OCcQ7Qf5yNWa557zR3RGElOppST1WxFbyeHnVdz4qa+Rz6cmTqm5+whLDv1LejbVk03MEfbd6Da1ZI/+zavlimj/XmaY6DqIuepqEpra0JUkauPn+ZAMdGrPjPp2fYET9f9hNfjfETX0Cfdffnk6+Pr+qVCEdG9OMDG3W0rnqCpC86cRBVXqjbXmDCl3cQVMvFeBUPkGyXJbfGOq/+I5MI1S7jkeWhzG1dg0i/21O1NVoOl3Pu0d+vlcor0gZHY+3hH+d3KwmUc37GAKKO7iD/qpRjVnu41eW/IVJ5GX7GW0Vn2pVq7rOR20a+YaTGJRUj6ExEOFFTBhCH/Gg4HqlHPX/dIa1TTfJyIriEDgPOoCpIbvQwb0rBmsfxqM1PSH+arP4xnIMdX2M0T8vh/PA99Hi1XebIsSvHobvjPfhz2ltq78YVJyM+Kfvqr7gTk2oYltEmUhI0lJ5sR9RZgKStOqp6IswDpumeqH91t8wTg/Iv+mBES7X8dHYfmj92thLUUkeeM+z8OzJP7gZdgUPC62xJeYC3Dqqo+CILZpPb40dN+fi4pDl6LJ2HkZNmgLL5on43moeBl04g1FygxbEinB8rD7m5izFvj+XYWgDLHJTfGcdJm/vjG3bx8OwugNAmILI+9r4sKdhDY6VW/Cavh/mW+QnwuZf+hZfBE7CYc+PlTAarRihltpwXcNH1LCajmCozXNUgyWGelGMAr4mmmlzIcsvAF+7WfnQPDHeHRzatB3HItJQpGOF732XwpY7kEW5POQ310XLaiOd+bcSxu7ArF9bYcWWifjPw9p1PIpDnDHowFSE7OoA966DoX34Edb0lDQsSut4vCXFyfF4+q4plNvHqCT555zHiv9FY9SWb9Fb7uCsvfzwS7jX1bbqASqvqc1zVIElBoZ5y/iJUUhq8wG61LYxKOY6G5pcZ6O038GHdrPXWjbW8ahWcWIsUtuaw0RVE1f+ZVhiYBiGYeSwvgLDMAwjhyUGhmEYRg5LDAzDMIwclhgYhmEYOSwxMAzDMHJYYmAYhmHksMTAMAzDyGGJgWEYhpHDEgPDMAwjhyUGhmEYRg5LDAzDMIwclhgYhmEYOSwxMAzDMHJYYmAYhmHksMTAMAzDyGGJgWEYhpHDEgPDMAwjhyUGhmEYRg5LDAzDMIwclhgYhmEYOSwxMAzDMHJYYmAYhmHksMTAMAzDyGGJgWEYhpHDEgPDMAwjA/g/6kcyvKenkK4AAAAASUVORK5CYII=)"
      ],
      "metadata": {
        "id": "wcGLha0oFQ6j"
      }
    },
    {
      "cell_type": "code",
      "source": [
        "class MultinomialNaiveBayesC:\n",
        "    def calculate_prior(self): \n",
        "        \n",
        "        #P(y) is calculated\n",
        "        P = np.zeros((self.n_classes_))\n",
        "        _, self.dist = np.unique(self.y,return_counts=True)\n",
        "        for i in range(self.classes_.shape[0]):\n",
        "            P[i] = self.dist[i] / self.n_samples\n",
        "        # print(P)\n",
        "        return P\n",
        "            \n",
        "    def fit(self, X, y): \n",
        "        \n",
        "        self.y = y\n",
        "        self.n_samples, self.n_features = X.shape\n",
        "        self.classes_ = np.unique(y)\n",
        "        self.n_classes_ = self.classes_.shape[0]\n",
        "        self.class_priors_ = self.calculate_prior()\n",
        "\n",
        "        # print(self.n_samples, self.n_features) #1178 24614\n",
        "        # print(self.classes_) #[0, 1]\n",
        "        # print(self.n_classes_) #2\n",
        "        # print(self.class_priors_) #Prior is calculated [0.4, 0.5]\n",
        "        \n",
        "        # distinct values in each features\n",
        "        self.uniques = []\n",
        "        for i in range(self.n_features):\n",
        "            tmp = np.unique(X[:,i])\n",
        "            self.uniques.append( tmp )\n",
        "            \n",
        "        self.N_yi = np.zeros((self.n_classes_, self.n_features)) # feature count\n",
        "        self.N_y = np.zeros((self.n_classes_)) # total count \n",
        "        for i in self.classes_: # x axis\n",
        "            indices = np.argwhere(self.y==i).flatten()\n",
        "            columnwise_sum = []\n",
        "            for j in range(self.n_features): # y axis\n",
        "                columnwise_sum.append(np.sum(X[indices,j]))\n",
        "                \n",
        "            self.N_yi[i] = columnwise_sum # 2d\n",
        "            self.N_y[i] = np.sum(columnwise_sum) # 1d\n",
        "        # print(self.N_yi)\n",
        "        # print(self.N_y)\n",
        "            \n",
        "    def calculate_probability(self, x_i, i, h):\n",
        "        \n",
        "        \n",
        "        Nyi = self.N_yi[h,i]\n",
        "        Ny  = self.N_y[h]\n",
        "        \n",
        "        numerator = Nyi + 1\n",
        "        denominator = Ny + (1 * self.n_features)\n",
        "\n",
        "        \n",
        "        return  (numerator / denominator)**x_i\n",
        "    \n",
        "    def likelihood(self, x, h):\n",
        "        \n",
        "        tmp = []\n",
        "        for i in range(x.shape[0]):\n",
        "            tmp.append(self.calculate_probability(x[i], i,h))\n",
        "        \n",
        "        return np.prod(tmp)\n",
        "    \n",
        "    def predict(self, X):\n",
        "        samples, features = X.shape\n",
        "        self.predict_proba = np.zeros((samples,self.n_classes_))\n",
        "        \n",
        "        for i in range(X.shape[0]):\n",
        "            joint_likelyhood = np.zeros((self.n_classes_))\n",
        "            \n",
        "            for h in range(self.n_classes_):\n",
        "                joint_likelyhood[h]  = self.class_priors_[h] * self.likelihood(X[i],h) # P(y) P(X|y) \n",
        "                \n",
        "            denominator = np.sum(joint_likelyhood)\n",
        "            \n",
        "            for h in range(self.n_classes_):\n",
        "                numerator = joint_likelyhood[h]\n",
        "                self.predict_proba[i,h] = (numerator / denominator)\n",
        "            \n",
        "        indices = np.argmax(self.predict_proba,axis=1)\n",
        "        return self.classes_[indices]"
      ],
      "metadata": {
        "id": "o0Dr1a8YvwJW"
      },
      "execution_count": 18,
      "outputs": []
    },
    {
      "cell_type": "code",
      "source": [
        "%%time\n",
        "mnb_model = MultinomialNaiveBayesC()\n",
        "mnb_model.fit(X_train_tf, twenty_train.target)"
      ],
      "metadata": {
        "colab": {
          "base_uri": "https://localhost:8080/"
        },
        "id": "fmxV8qyQvn9g",
        "outputId": "d1c002ab-1fc4-4b90-a733-d6a2800992f0"
      },
      "execution_count": 19,
      "outputs": [
        {
          "output_type": "stream",
          "name": "stdout",
          "text": [
            "CPU times: user 1min 1s, sys: 1.83 s, total: 1min 3s\n",
            "Wall time: 1min 7s\n"
          ]
        }
      ]
    },
    {
      "cell_type": "code",
      "source": [
        "X_test = count_vect.transform(twenty_test.data)\n",
        "X_test_processed = tf_transformer.transform(X_test).toarray()\n",
        "# print(type(X_test_processed))\n",
        "yhat = mnb_model.predict(X_test_processed)\n",
        "print(\"Accuracy for Test Set is\",format(accuracy_score(twenty_test.target,yhat)*100,'.2f'),\"%\")"
      ],
      "metadata": {
        "colab": {
          "base_uri": "https://localhost:8080/"
        },
        "id": "HGZSS-RUwNs4",
        "outputId": "7e765091-c60d-4367-97e6-1361f82c4ea1"
      },
      "execution_count": 20,
      "outputs": [
        {
          "output_type": "stream",
          "name": "stdout",
          "text": [
            "Accuracy for Test Set is 94.90 %\n"
          ]
        }
      ]
    },
    {
      "cell_type": "markdown",
      "source": [
        "We also check sklearn Naive Bayes for Accuracy and time taken to process.With sklearn library Accuracy is higher and time taken is less"
      ],
      "metadata": {
        "id": "e4yHn_GtpPvn"
      }
    },
    {
      "cell_type": "code",
      "source": [
        "from sklearn.naive_bayes import MultinomialNB\n",
        "clf = MultinomialNB().fit(X_train_tf, twenty_train.target)"
      ],
      "metadata": {
        "id": "gmktaCkTKeCH"
      },
      "execution_count": 21,
      "outputs": []
    },
    {
      "cell_type": "code",
      "source": [
        "docs_new = ['being on the computer is slow', 'OpenGL on the GPU is fast']\n",
        "X_new_counts = count_vect.transform(docs_new)\n",
        "X_new_tfidf = tf_transformer.transform(X_new_counts)\n",
        "\n",
        "predicted = clf.predict(X_new_tfidf)\n",
        "for doc, category in zip(docs_new, predicted):\n",
        "  print('%r => %s' % (doc, twenty_train.target_names[category]))"
      ],
      "metadata": {
        "colab": {
          "base_uri": "https://localhost:8080/"
        },
        "id": "YWP1yOoAT8jI",
        "outputId": "a8df9a93-f477-47e6-b2c8-12261d6ef63e"
      },
      "execution_count": 22,
      "outputs": [
        {
          "output_type": "stream",
          "name": "stdout",
          "text": [
            "'being on the computer is slow' => comp.graphics\n",
            "'OpenGL on the GPU is fast' => comp.graphics\n"
          ]
        }
      ]
    },
    {
      "cell_type": "code",
      "source": [
        "from sklearn.pipeline import Pipeline\n",
        "text_clf = Pipeline([('vect', CountVectorizer()),('tfidf', TfidfTransformer()),('clf', MultinomialNB()),\n",
        "])\n",
        "text_clf.fit(X_train, twenty_train.target)\n",
        "X_test = twenty_test.data\n",
        "predicted = text_clf.predict(X_test)\n",
        "print(\"Accuracy for Test Set is\",format(np.mean(predicted == twenty_test.target)*100,'.2f'),\"%\")"
      ],
      "metadata": {
        "colab": {
          "base_uri": "https://localhost:8080/"
        },
        "id": "NG43836tUlCZ",
        "outputId": "afba812b-c0fc-4af1-f22f-e22b71858c06"
      },
      "execution_count": 23,
      "outputs": [
        {
          "output_type": "stream",
          "name": "stdout",
          "text": [
            "Accuracy for Test Set is 95.80 %\n"
          ]
        }
      ]
    },
    {
      "cell_type": "markdown",
      "source": [
        "### Exercise 2: Implementing SVM Classifier via Scikit-Learn"
      ],
      "metadata": {
        "id": "0sweD86jpWU3"
      }
    },
    {
      "cell_type": "code",
      "source": [
        "text_clf = Pipeline([\n",
        "     ('vect', CountVectorizer()),\n",
        "    ('tfidf', TfidfTransformer()),\n",
        "    ('clf', SVC(gamma='auto',kernel='linear'))])\n",
        "\n",
        "text_clf.fit(X_train, twenty_train.target)\n",
        "predicted = text_clf.predict(X_test)\n",
        "print(\"Accuracy for Test Set is\",format(np.mean(predicted == twenty_test.target)*100,'.2f'),\"%\")"
      ],
      "metadata": {
        "colab": {
          "base_uri": "https://localhost:8080/"
        },
        "id": "gq4eKBS7U72y",
        "outputId": "1d470ec7-2d67-4d9b-a0ce-3a8355f57bdf"
      },
      "execution_count": 24,
      "outputs": [
        {
          "output_type": "stream",
          "name": "stdout",
          "text": [
            "Accuracy for Test Set is 95.29 %\n"
          ]
        }
      ]
    },
    {
      "cell_type": "markdown",
      "source": [
        "This is to tune the hyperparameters used in SVM like kernel and gamma value"
      ],
      "metadata": {
        "id": "1UES4e12poBc"
      }
    },
    {
      "cell_type": "code",
      "source": [
        "from sklearn.model_selection import GridSearchCV\n",
        "parameters = {\n",
        "    'clf__kernel': ('linear','poly','rbf','sigmoid'),\n",
        "    'clf__gamma': ('auto','scale')\n",
        " }"
      ],
      "metadata": {
        "id": "RgkFBMkjVznc"
      },
      "execution_count": 25,
      "outputs": []
    },
    {
      "cell_type": "code",
      "source": [
        "gs_clf = GridSearchCV(text_clf, parameters, cv=5, n_jobs=-1)"
      ],
      "metadata": {
        "id": "wQ73IQGIXfgn"
      },
      "execution_count": 26,
      "outputs": []
    },
    {
      "cell_type": "code",
      "source": [
        "gs_clf = gs_clf.fit(X_train, twenty_train.target)"
      ],
      "metadata": {
        "id": "3d8iuy3XXgIC"
      },
      "execution_count": 27,
      "outputs": []
    },
    {
      "cell_type": "code",
      "source": [
        "twenty_train.target_names[gs_clf.predict(['OpenGL on the GPU is fast'])[0]]"
      ],
      "metadata": {
        "colab": {
          "base_uri": "https://localhost:8080/",
          "height": 35
        },
        "id": "bUgwC1ceXkC6",
        "outputId": "e9f0c06d-a91c-4fad-ca1a-072c51989c7f"
      },
      "execution_count": 28,
      "outputs": [
        {
          "output_type": "execute_result",
          "data": {
            "application/vnd.google.colaboratory.intrinsic+json": {
              "type": "string"
            },
            "text/plain": [
              "'comp.graphics'"
            ]
          },
          "metadata": {},
          "execution_count": 28
        }
      ]
    },
    {
      "cell_type": "code",
      "source": [
        "print(gs_clf.best_score_)\n",
        "for param_name in sorted(parameters.keys()):\n",
        "  print(\"%s: %r\" % (param_name, gs_clf.best_params_[param_name]))"
      ],
      "metadata": {
        "colab": {
          "base_uri": "https://localhost:8080/"
        },
        "id": "nu-IZxkJXyUi",
        "outputId": "0e7a358b-20f8-4ceb-88bd-c63a61794c2c"
      },
      "execution_count": 29,
      "outputs": [
        {
          "output_type": "stream",
          "name": "stdout",
          "text": [
            "0.9872628921745402\n",
            "clf__gamma: 'auto'\n",
            "clf__kernel: 'linear'\n"
          ]
        }
      ]
    },
    {
      "cell_type": "code",
      "source": [
        "print(gs_clf.cv_results_)"
      ],
      "metadata": {
        "colab": {
          "base_uri": "https://localhost:8080/"
        },
        "id": "VAIptk9OYBhv",
        "outputId": "1d0f5c11-79d9-432b-ce29-a562cfd9c6b3"
      },
      "execution_count": 30,
      "outputs": [
        {
          "output_type": "stream",
          "name": "stdout",
          "text": [
            "{'mean_fit_time': array([1.33171048, 1.45273895, 1.47158251, 1.47776217, 1.33391962,\n",
            "       1.48868847, 1.45757523, 1.12304711]), 'std_fit_time': array([0.04401106, 0.03245346, 0.04002974, 0.02648169, 0.03496867,\n",
            "       0.02901919, 0.02778567, 0.1176765 ]), 'mean_score_time': array([0.22276292, 0.3155786 , 0.37759404, 0.30970058, 0.22398062,\n",
            "       0.3143434 , 0.34250135, 0.18782182]), 'std_score_time': array([0.01297518, 0.02395186, 0.0278854 , 0.01637818, 0.01535649,\n",
            "       0.01150216, 0.02253468, 0.02555125]), 'param_clf__gamma': masked_array(data=['auto', 'auto', 'auto', 'auto', 'scale', 'scale',\n",
            "                   'scale', 'scale'],\n",
            "             mask=[False, False, False, False, False, False, False, False],\n",
            "       fill_value='?',\n",
            "            dtype=object), 'param_clf__kernel': masked_array(data=['linear', 'poly', 'rbf', 'sigmoid', 'linear', 'poly',\n",
            "                   'rbf', 'sigmoid'],\n",
            "             mask=[False, False, False, False, False, False, False, False],\n",
            "       fill_value='?',\n",
            "            dtype=object), 'params': [{'clf__gamma': 'auto', 'clf__kernel': 'linear'}, {'clf__gamma': 'auto', 'clf__kernel': 'poly'}, {'clf__gamma': 'auto', 'clf__kernel': 'rbf'}, {'clf__gamma': 'auto', 'clf__kernel': 'sigmoid'}, {'clf__gamma': 'scale', 'clf__kernel': 'linear'}, {'clf__gamma': 'scale', 'clf__kernel': 'poly'}, {'clf__gamma': 'scale', 'clf__kernel': 'rbf'}, {'clf__gamma': 'scale', 'clf__kernel': 'sigmoid'}], 'split0_test_score': array([0.98728814, 0.50423729, 0.50423729, 0.50423729, 0.98728814,\n",
            "       0.93644068, 0.98728814, 0.98728814]), 'split1_test_score': array([0.98728814, 0.50423729, 0.50423729, 0.50423729, 0.98728814,\n",
            "       0.90254237, 0.97457627, 0.98728814]), 'split2_test_score': array([0.99152542, 0.50423729, 0.50423729, 0.50423729, 0.99152542,\n",
            "       0.91525424, 0.97881356, 0.99152542]), 'split3_test_score': array([0.99148936, 0.50638298, 0.50638298, 0.50638298, 0.99148936,\n",
            "       0.90638298, 0.98723404, 0.99148936]), 'split4_test_score': array([0.9787234 , 0.50212766, 0.50212766, 0.50212766, 0.9787234 ,\n",
            "       0.93617021, 0.9787234 , 0.9787234 ]), 'mean_test_score': array([0.98726289, 0.5042445 , 0.5042445 , 0.5042445 , 0.98726289,\n",
            "       0.9193581 , 0.98132708, 0.98726289]), 'std_test_score': array([0.00466811, 0.00134568, 0.00134568, 0.00134568, 0.00466811,\n",
            "       0.01443901, 0.00508127, 0.00466811]), 'rank_test_score': array([1, 6, 6, 6, 1, 5, 4, 1], dtype=int32)}\n"
          ]
        }
      ]
    },
    {
      "cell_type": "markdown",
      "source": [
        "After using the best hyperparameters obtained from GridSearchCV"
      ],
      "metadata": {
        "id": "8o5V3nI_sZFy"
      }
    },
    {
      "cell_type": "code",
      "source": [
        "text_clf = Pipeline([\n",
        "     ('vect', CountVectorizer()),\n",
        "    ('tfidf', TfidfTransformer()),\n",
        "    ('clf', SVC(gamma=gs_clf.best_params_['clf__gamma'],kernel=gs_clf.best_params_['clf__kernel']))])\n",
        "\n",
        "\n",
        "text_clf.fit(X_train, twenty_train.target)\n",
        "predicted = text_clf.predict(X_test)\n",
        "print(\"Accuracy for Test Set is\",format(np.mean(predicted == twenty_test.target)*100,'.2f'),\"%\")"
      ],
      "metadata": {
        "colab": {
          "base_uri": "https://localhost:8080/"
        },
        "id": "IpT8xU8krNDq",
        "outputId": "865391cf-bf59-4e96-aaa4-83dde2972331"
      },
      "execution_count": 31,
      "outputs": [
        {
          "output_type": "stream",
          "name": "stdout",
          "text": [
            "Accuracy for Test Set is 95.29 %\n"
          ]
        }
      ]
    },
    {
      "cell_type": "markdown",
      "source": [
        "###### https://scikit-learn.org/stable/modules/generated/sklearn.svm.SVC.html\n",
        "###### https://scikit-learn.org/stable/tutorial/text_analytics/working_with_text_data.html#training-a-classifier \n",
        "###### https://www.kaggle.com/riyadhrazzaq/multinomial-naive-bayes-from-scratch\n",
        "###### https://medium.com/@johnm.kovachi/implementing-a-multinomial-naive-bayes-classifier-from-scratch-with-python-e70de6a3b92e"
      ],
      "metadata": {
        "id": "zPbY71PtYk6U"
      }
    }
  ]
}