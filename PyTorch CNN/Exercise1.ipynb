{
  "nbformat": 4,
  "nbformat_minor": 0,
  "metadata": {
    "colab": {
      "name": "Exercise1.ipynb",
      "provenance": [],
      "collapsed_sections": []
    },
    "kernelspec": {
      "name": "python3",
      "display_name": "Python 3"
    },
    "language_info": {
      "name": "python"
    },
    "accelerator": "GPU"
  },
  "cells": [
    {
      "cell_type": "markdown",
      "source": [
        "### Name: Sharon Laurance Muthipeedika\n",
        "---\n",
        "### Matriculation No: 312486"
      ],
      "metadata": {
        "id": "_TU0KNGZmHgx"
      }
    },
    {
      "cell_type": "markdown",
      "source": [
        "## Exercise 1: Optical Character Recognition via Neural Networks"
      ],
      "metadata": {
        "id": "O7VJ-k2zmrnC"
      }
    },
    {
      "cell_type": "code",
      "source": [
        "from sklearn import datasets\n",
        "import numpy as np\n",
        "import pandas as pd\n",
        "import matplotlib.pyplot as plt\n",
        "from sklearn.model_selection import GridSearchCV,train_test_split\n",
        "from sklearn.neural_network import MLPClassifier"
      ],
      "metadata": {
        "id": "0vGV_CQ1CL5O"
      },
      "execution_count": 10,
      "outputs": []
    },
    {
      "cell_type": "markdown",
      "source": [
        "###### 1. Loading the MNIST digits dataset via sklearn provided built-in utility function"
      ],
      "metadata": {
        "id": "oPWm-PzPmvxK"
      }
    },
    {
      "cell_type": "code",
      "source": [
        "digits = datasets.load_digits()"
      ],
      "metadata": {
        "id": "EGIoCCPTCO4q"
      },
      "execution_count": 11,
      "outputs": []
    },
    {
      "cell_type": "code",
      "source": [
        "main_data = digits['data']\n",
        "targets = digits['target']"
      ],
      "metadata": {
        "id": "3MjGoCiqCOpT"
      },
      "execution_count": 12,
      "outputs": []
    },
    {
      "cell_type": "markdown",
      "source": [
        "###### 2. Importing the necessary classes to do k-cross fold validation. You are free to choose k, depending upon your computational budget and task complexity but for most purposes ’k=5’ suffices fine. Please set aside 20% of the images for testing"
      ],
      "metadata": {
        "id": "4L0BX8MRnV20"
      }
    },
    {
      "cell_type": "code",
      "source": [
        "# X_train, X_test = main_data[:1400], main_data[1400:]\n",
        "# y_train, y_test = targets[:1400], targets[1400:]\n",
        "\n",
        "X_train, X_test, y_train,y_test = train_test_split(main_data,targets, test_size=0.2, random_state=3116)"
      ],
      "metadata": {
        "id": "p4jHR93mCXL4"
      },
      "execution_count": 13,
      "outputs": []
    },
    {
      "cell_type": "code",
      "source": [
        "print(X_train.shape)"
      ],
      "metadata": {
        "colab": {
          "base_uri": "https://localhost:8080/"
        },
        "id": "sgWRfAIboLul",
        "outputId": "6d98b5e1-0ede-4d54-b086-74a3950ec94b"
      },
      "execution_count": 14,
      "outputs": [
        {
          "output_type": "stream",
          "name": "stdout",
          "text": [
            "(1437, 64)\n"
          ]
        }
      ]
    },
    {
      "cell_type": "markdown",
      "source": [
        "###### 3. Defining a hyperparameter grid for the ’MLPClassifier’ that is the Neural Network model implementation from Sklearn. You need to read the documentation page to find out the hyperparameters supported."
      ],
      "metadata": {
        "id": "R_EyYHzznabx"
      }
    },
    {
      "cell_type": "code",
      "execution_count": 15,
      "metadata": {
        "id": "SmzRjJsLBbAh"
      },
      "outputs": [],
      "source": [
        "mlp = MLPClassifier(max_iter=100)"
      ]
    },
    {
      "cell_type": "markdown",
      "source": [
        "Out of all hyperparameters these are some hyperparameters used in MLP Classifier\n",
        " - Activation Function\n",
        " - Hidden Layer Size\n",
        " - Solver\n",
        " - alpha\n",
        " - batch size\n",
        " - learning rate\n",
        " - max_iterations\n",
        "class sklearn.neural_network.MLPClassifier(hidden_layer_sizes=(100,), activation='relu', *, solver='adam', alpha=0.0001, batch_size='auto', learning_rate='constant', max_iter=200, shuffle=True, random_state=None)"
      ],
      "metadata": {
        "id": "k37tpa-6m1zS"
      }
    },
    {
      "cell_type": "code",
      "source": [
        "parameter_space = {\n",
        "    'hidden_layer_sizes': [(50,50,50), (50,100,50), (100,)],\n",
        "    'activation': ['tanh', 'relu'],\n",
        "    'solver': ['sgd', 'adam'],\n",
        "    'alpha': [0.0001, 0.05],\n",
        "    'learning_rate': ['constant','adaptive'],\n",
        "}"
      ],
      "metadata": {
        "id": "e30oSARfBzE1"
      },
      "execution_count": 16,
      "outputs": []
    },
    {
      "cell_type": "markdown",
      "source": [
        "###### 4. Defining a Random Search procedure over the ranges you chose above, and then train the model by calling the ’.fit’ method for the search object"
      ],
      "metadata": {
        "id": "UtEVqdHPneBL"
      }
    },
    {
      "cell_type": "code",
      "source": [
        "clf = GridSearchCV(mlp, parameter_space, n_jobs=-1, cv=5)\n",
        "clf.fit(X_train, y_train)"
      ],
      "metadata": {
        "colab": {
          "base_uri": "https://localhost:8080/"
        },
        "id": "r0FNqGLoB2Ms",
        "outputId": "c32ce8ef-3ac5-40d4-aff1-979e09fd0f1e"
      },
      "execution_count": 17,
      "outputs": [
        {
          "output_type": "execute_result",
          "data": {
            "text/plain": [
              "GridSearchCV(cv=5, estimator=MLPClassifier(max_iter=100), n_jobs=-1,\n",
              "             param_grid={'activation': ['tanh', 'relu'],\n",
              "                         'alpha': [0.0001, 0.05],\n",
              "                         'hidden_layer_sizes': [(50, 50, 50), (50, 100, 50),\n",
              "                                                (100,)],\n",
              "                         'learning_rate': ['constant', 'adaptive'],\n",
              "                         'solver': ['sgd', 'adam']})"
            ]
          },
          "metadata": {},
          "execution_count": 17
        }
      ]
    },
    {
      "cell_type": "markdown",
      "source": [
        "###### 5. Reporting one test accuracy and the best hyperparameters found."
      ],
      "metadata": {
        "id": "3uDhK3_Wns5u"
      }
    },
    {
      "cell_type": "code",
      "source": [
        "# Best parameter set\n",
        "print('Best parameters found:\\n', clf.best_params_)"
      ],
      "metadata": {
        "colab": {
          "base_uri": "https://localhost:8080/"
        },
        "id": "fPzaNR14DA50",
        "outputId": "96fababf-12f1-4451-8be7-8b0760e00ce3"
      },
      "execution_count": 18,
      "outputs": [
        {
          "output_type": "stream",
          "name": "stdout",
          "text": [
            "Best parameters found:\n",
            " {'activation': 'relu', 'alpha': 0.05, 'hidden_layer_sizes': (50, 100, 50), 'learning_rate': 'constant', 'solver': 'adam'}\n"
          ]
        }
      ]
    },
    {
      "cell_type": "code",
      "source": [
        "mlp = MLPClassifier(\n",
        "    activation=clf.best_params_['activation'],\n",
        "    alpha=clf.best_params_['alpha'],\n",
        "    hidden_layer_sizes=clf.best_params_['hidden_layer_sizes'],\n",
        "    solver=clf.best_params_['solver'],\n",
        "    learning_rate=clf.best_params_['learning_rate'])\n",
        "print(mlp.get_params())\n",
        "mlp.fit(X_train,y_train)\n",
        "\n",
        "print(\"Training set score: %f\" % mlp.score(X_train, y_train))\n",
        "print(\"Test set score: %f\" % mlp.score(X_test, y_test))"
      ],
      "metadata": {
        "colab": {
          "base_uri": "https://localhost:8080/"
        },
        "id": "iohkvvKRDQkH",
        "outputId": "dfee3a49-c286-4e44-d611-8d5d39514740"
      },
      "execution_count": 19,
      "outputs": [
        {
          "output_type": "stream",
          "name": "stdout",
          "text": [
            "{'activation': 'relu', 'alpha': 0.05, 'batch_size': 'auto', 'beta_1': 0.9, 'beta_2': 0.999, 'early_stopping': False, 'epsilon': 1e-08, 'hidden_layer_sizes': (50, 100, 50), 'learning_rate': 'constant', 'learning_rate_init': 0.001, 'max_fun': 15000, 'max_iter': 200, 'momentum': 0.9, 'n_iter_no_change': 10, 'nesterovs_momentum': True, 'power_t': 0.5, 'random_state': None, 'shuffle': True, 'solver': 'adam', 'tol': 0.0001, 'validation_fraction': 0.1, 'verbose': False, 'warm_start': False}\n",
            "Training set score: 1.000000\n",
            "Test set score: 0.977778\n"
          ]
        }
      ]
    },
    {
      "cell_type": "markdown",
      "source": [
        "###### References:\n",
        " - https://towardsdatascience.com/classifying-handwritten-digits-using-a-multilayer-perceptron-classifier-mlp-bc8453655880\n",
        " - https://scikit-learn.org/stable/modules/generated/sklearn.neural_network.MLPClassifier.html\n",
        " - https://panjeh.medium.com/scikit-learn-hyperparameter-optimization-for-mlpclassifier-4d670413042b"
      ],
      "metadata": {
        "id": "ytUWwxkSn6FT"
      }
    }
  ]
}