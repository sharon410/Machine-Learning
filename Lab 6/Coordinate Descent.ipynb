{
 "cells": [
  {
   "cell_type": "markdown",
   "id": "264cf13f",
   "metadata": {},
   "source": [
    "###                                                                                         Name: Sharon Laurance Muthipeedika \n",
    "###                                                                                         Matriculation No: 312486"
   ]
  },
  {
   "cell_type": "markdown",
   "id": "f5c67807",
   "metadata": {},
   "source": [
    "## Exercise 3: Implementing Coordinate Descent"
   ]
  },
  {
   "cell_type": "code",
   "execution_count": 1,
   "id": "68cacda1",
   "metadata": {},
   "outputs": [],
   "source": [
    "# Importing Required Libraries\n",
    "import numpy as np\n",
    "import pandas as pd\n",
    "import matplotlib.pyplot as plt\n",
    "from math import exp,sqrt"
   ]
  },
  {
   "cell_type": "code",
   "execution_count": 2,
   "id": "fea84a8f",
   "metadata": {},
   "outputs": [],
   "source": [
    "df=pd.read_csv(\"C:\\\\Users\\\\Sharon\\\\ML_LAB\\\\Lab 6\\\\winequality-red.csv\",delimiter=';')"
   ]
  },
  {
   "cell_type": "code",
   "execution_count": 3,
   "id": "0ad02148",
   "metadata": {},
   "outputs": [
    {
     "data": {
      "text/html": [
       "<div>\n",
       "<style scoped>\n",
       "    .dataframe tbody tr th:only-of-type {\n",
       "        vertical-align: middle;\n",
       "    }\n",
       "\n",
       "    .dataframe tbody tr th {\n",
       "        vertical-align: top;\n",
       "    }\n",
       "\n",
       "    .dataframe thead th {\n",
       "        text-align: right;\n",
       "    }\n",
       "</style>\n",
       "<table border=\"1\" class=\"dataframe\">\n",
       "  <thead>\n",
       "    <tr style=\"text-align: right;\">\n",
       "      <th></th>\n",
       "      <th>fixed acidity</th>\n",
       "      <th>volatile acidity</th>\n",
       "      <th>citric acid</th>\n",
       "      <th>residual sugar</th>\n",
       "      <th>chlorides</th>\n",
       "      <th>free sulfur dioxide</th>\n",
       "      <th>total sulfur dioxide</th>\n",
       "      <th>density</th>\n",
       "      <th>pH</th>\n",
       "      <th>sulphates</th>\n",
       "      <th>alcohol</th>\n",
       "      <th>quality</th>\n",
       "    </tr>\n",
       "  </thead>\n",
       "  <tbody>\n",
       "    <tr>\n",
       "      <th>0</th>\n",
       "      <td>7.4</td>\n",
       "      <td>0.700</td>\n",
       "      <td>0.00</td>\n",
       "      <td>1.9</td>\n",
       "      <td>0.076</td>\n",
       "      <td>11.0</td>\n",
       "      <td>34.0</td>\n",
       "      <td>0.99780</td>\n",
       "      <td>3.51</td>\n",
       "      <td>0.56</td>\n",
       "      <td>9.4</td>\n",
       "      <td>5</td>\n",
       "    </tr>\n",
       "    <tr>\n",
       "      <th>1</th>\n",
       "      <td>7.8</td>\n",
       "      <td>0.880</td>\n",
       "      <td>0.00</td>\n",
       "      <td>2.6</td>\n",
       "      <td>0.098</td>\n",
       "      <td>25.0</td>\n",
       "      <td>67.0</td>\n",
       "      <td>0.99680</td>\n",
       "      <td>3.20</td>\n",
       "      <td>0.68</td>\n",
       "      <td>9.8</td>\n",
       "      <td>5</td>\n",
       "    </tr>\n",
       "    <tr>\n",
       "      <th>2</th>\n",
       "      <td>7.8</td>\n",
       "      <td>0.760</td>\n",
       "      <td>0.04</td>\n",
       "      <td>2.3</td>\n",
       "      <td>0.092</td>\n",
       "      <td>15.0</td>\n",
       "      <td>54.0</td>\n",
       "      <td>0.99700</td>\n",
       "      <td>3.26</td>\n",
       "      <td>0.65</td>\n",
       "      <td>9.8</td>\n",
       "      <td>5</td>\n",
       "    </tr>\n",
       "    <tr>\n",
       "      <th>3</th>\n",
       "      <td>11.2</td>\n",
       "      <td>0.280</td>\n",
       "      <td>0.56</td>\n",
       "      <td>1.9</td>\n",
       "      <td>0.075</td>\n",
       "      <td>17.0</td>\n",
       "      <td>60.0</td>\n",
       "      <td>0.99800</td>\n",
       "      <td>3.16</td>\n",
       "      <td>0.58</td>\n",
       "      <td>9.8</td>\n",
       "      <td>6</td>\n",
       "    </tr>\n",
       "    <tr>\n",
       "      <th>4</th>\n",
       "      <td>7.4</td>\n",
       "      <td>0.700</td>\n",
       "      <td>0.00</td>\n",
       "      <td>1.9</td>\n",
       "      <td>0.076</td>\n",
       "      <td>11.0</td>\n",
       "      <td>34.0</td>\n",
       "      <td>0.99780</td>\n",
       "      <td>3.51</td>\n",
       "      <td>0.56</td>\n",
       "      <td>9.4</td>\n",
       "      <td>5</td>\n",
       "    </tr>\n",
       "    <tr>\n",
       "      <th>...</th>\n",
       "      <td>...</td>\n",
       "      <td>...</td>\n",
       "      <td>...</td>\n",
       "      <td>...</td>\n",
       "      <td>...</td>\n",
       "      <td>...</td>\n",
       "      <td>...</td>\n",
       "      <td>...</td>\n",
       "      <td>...</td>\n",
       "      <td>...</td>\n",
       "      <td>...</td>\n",
       "      <td>...</td>\n",
       "    </tr>\n",
       "    <tr>\n",
       "      <th>1594</th>\n",
       "      <td>6.2</td>\n",
       "      <td>0.600</td>\n",
       "      <td>0.08</td>\n",
       "      <td>2.0</td>\n",
       "      <td>0.090</td>\n",
       "      <td>32.0</td>\n",
       "      <td>44.0</td>\n",
       "      <td>0.99490</td>\n",
       "      <td>3.45</td>\n",
       "      <td>0.58</td>\n",
       "      <td>10.5</td>\n",
       "      <td>5</td>\n",
       "    </tr>\n",
       "    <tr>\n",
       "      <th>1595</th>\n",
       "      <td>5.9</td>\n",
       "      <td>0.550</td>\n",
       "      <td>0.10</td>\n",
       "      <td>2.2</td>\n",
       "      <td>0.062</td>\n",
       "      <td>39.0</td>\n",
       "      <td>51.0</td>\n",
       "      <td>0.99512</td>\n",
       "      <td>3.52</td>\n",
       "      <td>0.76</td>\n",
       "      <td>11.2</td>\n",
       "      <td>6</td>\n",
       "    </tr>\n",
       "    <tr>\n",
       "      <th>1596</th>\n",
       "      <td>6.3</td>\n",
       "      <td>0.510</td>\n",
       "      <td>0.13</td>\n",
       "      <td>2.3</td>\n",
       "      <td>0.076</td>\n",
       "      <td>29.0</td>\n",
       "      <td>40.0</td>\n",
       "      <td>0.99574</td>\n",
       "      <td>3.42</td>\n",
       "      <td>0.75</td>\n",
       "      <td>11.0</td>\n",
       "      <td>6</td>\n",
       "    </tr>\n",
       "    <tr>\n",
       "      <th>1597</th>\n",
       "      <td>5.9</td>\n",
       "      <td>0.645</td>\n",
       "      <td>0.12</td>\n",
       "      <td>2.0</td>\n",
       "      <td>0.075</td>\n",
       "      <td>32.0</td>\n",
       "      <td>44.0</td>\n",
       "      <td>0.99547</td>\n",
       "      <td>3.57</td>\n",
       "      <td>0.71</td>\n",
       "      <td>10.2</td>\n",
       "      <td>5</td>\n",
       "    </tr>\n",
       "    <tr>\n",
       "      <th>1598</th>\n",
       "      <td>6.0</td>\n",
       "      <td>0.310</td>\n",
       "      <td>0.47</td>\n",
       "      <td>3.6</td>\n",
       "      <td>0.067</td>\n",
       "      <td>18.0</td>\n",
       "      <td>42.0</td>\n",
       "      <td>0.99549</td>\n",
       "      <td>3.39</td>\n",
       "      <td>0.66</td>\n",
       "      <td>11.0</td>\n",
       "      <td>6</td>\n",
       "    </tr>\n",
       "  </tbody>\n",
       "</table>\n",
       "<p>1599 rows × 12 columns</p>\n",
       "</div>"
      ],
      "text/plain": [
       "      fixed acidity  volatile acidity  citric acid  residual sugar  chlorides  \\\n",
       "0               7.4             0.700         0.00             1.9      0.076   \n",
       "1               7.8             0.880         0.00             2.6      0.098   \n",
       "2               7.8             0.760         0.04             2.3      0.092   \n",
       "3              11.2             0.280         0.56             1.9      0.075   \n",
       "4               7.4             0.700         0.00             1.9      0.076   \n",
       "...             ...               ...          ...             ...        ...   \n",
       "1594            6.2             0.600         0.08             2.0      0.090   \n",
       "1595            5.9             0.550         0.10             2.2      0.062   \n",
       "1596            6.3             0.510         0.13             2.3      0.076   \n",
       "1597            5.9             0.645         0.12             2.0      0.075   \n",
       "1598            6.0             0.310         0.47             3.6      0.067   \n",
       "\n",
       "      free sulfur dioxide  total sulfur dioxide  density    pH  sulphates  \\\n",
       "0                    11.0                  34.0  0.99780  3.51       0.56   \n",
       "1                    25.0                  67.0  0.99680  3.20       0.68   \n",
       "2                    15.0                  54.0  0.99700  3.26       0.65   \n",
       "3                    17.0                  60.0  0.99800  3.16       0.58   \n",
       "4                    11.0                  34.0  0.99780  3.51       0.56   \n",
       "...                   ...                   ...      ...   ...        ...   \n",
       "1594                 32.0                  44.0  0.99490  3.45       0.58   \n",
       "1595                 39.0                  51.0  0.99512  3.52       0.76   \n",
       "1596                 29.0                  40.0  0.99574  3.42       0.75   \n",
       "1597                 32.0                  44.0  0.99547  3.57       0.71   \n",
       "1598                 18.0                  42.0  0.99549  3.39       0.66   \n",
       "\n",
       "      alcohol  quality  \n",
       "0         9.4        5  \n",
       "1         9.8        5  \n",
       "2         9.8        5  \n",
       "3         9.8        6  \n",
       "4         9.4        5  \n",
       "...       ...      ...  \n",
       "1594     10.5        5  \n",
       "1595     11.2        6  \n",
       "1596     11.0        6  \n",
       "1597     10.2        5  \n",
       "1598     11.0        6  \n",
       "\n",
       "[1599 rows x 12 columns]"
      ]
     },
     "execution_count": 3,
     "metadata": {},
     "output_type": "execute_result"
    }
   ],
   "source": [
    "df"
   ]
  },
  {
   "cell_type": "code",
   "execution_count": 4,
   "id": "f367418f",
   "metadata": {},
   "outputs": [
    {
     "name": "stdout",
     "output_type": "stream",
     "text": [
      "(1279, 12)\n",
      "(320, 12)\n"
     ]
    }
   ],
   "source": [
    "df2_train=df.sample(frac=0.8,random_state=3116) #random state is a seed value\n",
    "df2_test=df.drop(df2_train.index)\n",
    "print(np.shape(df2_train))\n",
    "print(np.shape(df2_test))"
   ]
  },
  {
   "cell_type": "code",
   "execution_count": 5,
   "id": "25b43e7b",
   "metadata": {},
   "outputs": [],
   "source": [
    "X=df2_train.iloc[:,0:11]\n",
    "y=df2_train.iloc[:,11:12]\n",
    "X_test=df2_test.iloc[:,0:11]\n",
    "y_test=df2_test.iloc[:,11:12]"
   ]
  },
  {
   "cell_type": "code",
   "execution_count": 6,
   "id": "3b17c2ce",
   "metadata": {},
   "outputs": [
    {
     "name": "stdout",
     "output_type": "stream",
     "text": [
      "(1279, 11)\n",
      "(1279, 1)\n"
     ]
    }
   ],
   "source": [
    "m=len(y)\n",
    "m1=len(y_test)\n",
    "# X = np.hstack((np.ones([m,1]), X)) # Append the bias term (field containing all ones) to X.\n",
    "X=np.array(X)\n",
    "y = np.array(y).reshape(-1,1) \n",
    "X_test= np.hstack((np.ones([m1,1]), X_test))\n",
    "y_test=np.array(y_test).reshape(-1,1) \n",
    "\n",
    "print(np.shape(X))\n",
    "print(np.shape(y))"
   ]
  },
  {
   "cell_type": "markdown",
   "id": "88e27ab4",
   "metadata": {},
   "source": [
    "### 1. Coordinate Descent."
   ]
  },
  {
   "cell_type": "code",
   "execution_count": 7,
   "id": "e27102c0",
   "metadata": {},
   "outputs": [],
   "source": [
    "def minimise_CD(beta,imax,epsilon):\n",
    "    beta_arr=np.empty((105,11,1))\n",
    "    m,n=X.shape\n",
    "    count=0\n",
    "    l=loss_function(X,y,beta)\n",
    "    for i in range(imax):\n",
    "        \n",
    "        for j in range(n-1):\n",
    "            X_m=np.delete(X, j, axis=1)\n",
    "            beta_m=np.delete(beta,j,axis=0)\n",
    "            A= np.dot((y-np.dot(X_m,beta_m)).T,X[:,j])\n",
    "            B=np.dot(X[:,j].T,X[:,j])\n",
    "            C=A/B\n",
    "            beta[j]= C\n",
    "        beta_arr[i,0:11]=beta\n",
    "        l_old=l\n",
    "        l=loss_function(X,y,beta)\n",
    "        if (abs(l_old-l)<epsilon):\n",
    "            return beta_arr\n",
    "        elif(i==imax):\n",
    "            return 99999999\n",
    "        \n",
    "def loss_function(X,y,beta):\n",
    "    A=y-np.dot(X,beta)\n",
    "    Function=np.dot(A.T,A)\n",
    "    \n",
    "    return Function.item()"
   ]
  },
  {
   "cell_type": "code",
   "execution_count": 8,
   "id": "b82a4357",
   "metadata": {},
   "outputs": [],
   "source": [
    "beta=np.zeros((11,1))\n",
    "imax=1000\n",
    "epsilon=0.1\n",
    "beta_arr=minimise_CD(beta,imax,epsilon)\n",
    "np.shape(beta_arr)\n",
    "arr1=beta_arr.reshape(105,11)"
   ]
  },
  {
   "cell_type": "code",
   "execution_count": 9,
   "id": "00f943a7",
   "metadata": {},
   "outputs": [
    {
     "data": {
      "image/png": "[encoded data removed]",
      "text/plain": [
       "<Figure size 432x288 with 1 Axes>"
      ]
     },
     "metadata": {
      "needs_background": "light"
     },
     "output_type": "display_data"
    }
   ],
   "source": [
    "plt.plot(arr1)\n",
    "plt.title('Progression of Feature values')\n",
    "plt.xlabel('No of Iterations')\n",
    "plt.ylabel('beta')\n",
    "plt.show()"
   ]
  },
  {
   "cell_type": "markdown",
   "id": "f113060b",
   "metadata": {},
   "source": [
    "### 2.Coordinate Descent with L1 Regularization"
   ]
  },
  {
   "cell_type": "code",
   "execution_count": 10,
   "id": "f1081149",
   "metadata": {},
   "outputs": [],
   "source": [
    "def minimise_CD_lasso(beta,imax,epsilon,lambda1):\n",
    "    beta_arr=np.empty((138,11,1))\n",
    "    m,n=X.shape\n",
    "    count=0\n",
    "    l=loss_function(X,y,beta,lambda1)\n",
    "    for i in range(imax):\n",
    "        \n",
    "        for j in range(n-1):\n",
    "            X_m=np.delete(X, j, axis=1)\n",
    "            beta_m=np.delete(beta,j,axis=0)\n",
    "            A= np.dot((y-np.dot(X_m,beta_m)).T,X[:,j])\n",
    "            B=np.dot(X[:,j].T,X[:,j])\n",
    "            C=A/B\n",
    "            second_term= (0.5*lambda1)/B\n",
    "            beta[j]= soft(C,second_term)\n",
    "#         print(beta)\n",
    "        beta_arr[i,0:11]=beta\n",
    "        count+=1\n",
    "        l_old=l\n",
    "        l=loss_function(X,y,beta,lambda1)\n",
    "        if (abs(l_old-l)<epsilon):\n",
    "            return beta_arr\n",
    "        elif(i==imax):\n",
    "            return 99999999\n",
    "        \n",
    "def loss_function(X,y,beta,lambda1):\n",
    "    A=y-np.dot(X,beta)\n",
    "    Function=np.dot(A.T,A)\n",
    "    regularization_term=lambda1*np.sum(beta)\n",
    "    return Function.item()+regularization_term\n",
    "\n",
    "def soft(a,b):\n",
    "    \n",
    "    if (a>b):\n",
    "        return a-b\n",
    "    elif (abs(a)<=b):\n",
    "        return 0\n",
    "    elif(a<-b):\n",
    "        return a+b"
   ]
  },
  {
   "cell_type": "code",
   "execution_count": 11,
   "id": "50ea3c8b",
   "metadata": {},
   "outputs": [],
   "source": [
    "beta=np.zeros((11,1))\n",
    "imax=1000\n",
    "epsilon=0.1\n",
    "lambda1=10\n",
    "beta_arr=minimise_CD_lasso(beta,imax,epsilon,lambda1)\n",
    "beta_arr\n",
    "arr2=beta_arr.reshape(138,11)"
   ]
  },
  {
   "cell_type": "code",
   "execution_count": 12,
   "id": "d699c49f",
   "metadata": {},
   "outputs": [
    {
     "data": {
      "image/png": "[encoded data removed]",
      "text/plain": [
       "<Figure size 432x288 with 1 Axes>"
      ]
     },
     "metadata": {
      "needs_background": "light"
     },
     "output_type": "display_data"
    }
   ],
   "source": [
    "plt.plot(arr2)\n",
    "plt.title('Progression of Feature values')\n",
    "plt.xlabel('No of Iterations')\n",
    "plt.ylabel('beta')\n",
    "plt.show()"
   ]
  },
  {
   "cell_type": "markdown",
   "id": "ae274efc",
   "metadata": {},
   "source": [
    "### Task C: Comparison\n"
   ]
  },
  {
   "cell_type": "markdown",
   "id": "cf8d0a20",
   "metadata": {},
   "source": [
    "#### Main Difference is the number of Iterations it converges. The predicted values also changes during lasso. And the rane can be observed from the graph.\n",
    "\n",
    "#### Coordinate Descent can be used even when there is no closed form solution available for objective function(Eg Lasso Regression). We minimise one coordinate while keeping all the others fixed.Also coordinate descent has no step-size hyper parameter to tune."
   ]
  },
  {
   "cell_type": "markdown",
   "id": "8f119420",
   "metadata": {},
   "source": [
    "#### References\n",
    " - https://www.ismll.uni-hildesheim.de/lehre/ml-20w/script/ml-05-A4-high-dimensional-data.pdf"
   ]
  },
  {
   "cell_type": "code",
   "execution_count": null,
   "id": "ffdbd05d",
   "metadata": {},
   "outputs": [],
   "source": []
  }
 ],
 "metadata": {
  "kernelspec": {
   "display_name": "Python 3",
   "language": "python",
   "name": "python3"
  },
  "language_info": {
   "codemirror_mode": {
    "name": "ipython",
    "version": 3
   },
   "file_extension": ".py",
   "mimetype": "text/x-python",
   "name": "python",
   "nbconvert_exporter": "python",
   "pygments_lexer": "ipython3",
   "version": "3.8.8"
  }
 },
 "nbformat": 4,
 "nbformat_minor": 5
}
