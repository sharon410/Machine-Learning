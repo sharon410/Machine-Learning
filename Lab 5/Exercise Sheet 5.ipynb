{
 "cells": [
  {
   "cell_type": "markdown",
   "id": "b571d17b",
   "metadata": {},
   "source": [
    "###                                                                                         Name: Sharon Laurance Muthipeedika \n",
    "###                                                                                         Matriculation No: 312486"
   ]
  },
  {
   "cell_type": "markdown",
   "id": "05b030ab",
   "metadata": {},
   "source": [
    "## Exercise 1: Backward search for variable selection"
   ]
  },
  {
   "cell_type": "code",
   "execution_count": 1,
   "id": "9ba4b55d",
   "metadata": {},
   "outputs": [],
   "source": [
    "# Importing Required Libraries\n",
    "import numpy as np\n",
    "import pandas as pd\n",
    "import matplotlib.pyplot as plt\n",
    "from math import exp,log,ceil\n",
    "import matplotlib.pyplot as plt\n",
    "from mpl_toolkits.mplot3d import Axes3D"
   ]
  },
  {
   "cell_type": "code",
   "execution_count": 2,
   "id": "5fb36b71",
   "metadata": {},
   "outputs": [],
   "source": [
    "df=pd.read_csv(\"C:\\\\Users\\\\Sharon\\\\ML_LAB\\\\Lab 5\\\\bank.csv\",delimiter=';')"
   ]
  },
  {
   "cell_type": "code",
   "execution_count": 3,
   "id": "b6dbfdaa",
   "metadata": {},
   "outputs": [
    {
     "data": {
      "text/html": [
       "<div>\n",
       "<style scoped>\n",
       "    .dataframe tbody tr th:only-of-type {\n",
       "        vertical-align: middle;\n",
       "    }\n",
       "\n",
       "    .dataframe tbody tr th {\n",
       "        vertical-align: top;\n",
       "    }\n",
       "\n",
       "    .dataframe thead th {\n",
       "        text-align: right;\n",
       "    }\n",
       "</style>\n",
       "<table border=\"1\" class=\"dataframe\">\n",
       "  <thead>\n",
       "    <tr style=\"text-align: right;\">\n",
       "      <th></th>\n",
       "      <th>age</th>\n",
       "      <th>job</th>\n",
       "      <th>marital</th>\n",
       "      <th>education</th>\n",
       "      <th>default</th>\n",
       "      <th>balance</th>\n",
       "      <th>housing</th>\n",
       "      <th>loan</th>\n",
       "      <th>contact</th>\n",
       "      <th>day</th>\n",
       "      <th>month</th>\n",
       "      <th>duration</th>\n",
       "      <th>campaign</th>\n",
       "      <th>pdays</th>\n",
       "      <th>previous</th>\n",
       "      <th>poutcome</th>\n",
       "      <th>y</th>\n",
       "    </tr>\n",
       "  </thead>\n",
       "  <tbody>\n",
       "    <tr>\n",
       "      <th>0</th>\n",
       "      <td>30</td>\n",
       "      <td>unemployed</td>\n",
       "      <td>married</td>\n",
       "      <td>primary</td>\n",
       "      <td>no</td>\n",
       "      <td>1787</td>\n",
       "      <td>no</td>\n",
       "      <td>no</td>\n",
       "      <td>cellular</td>\n",
       "      <td>19</td>\n",
       "      <td>oct</td>\n",
       "      <td>79</td>\n",
       "      <td>1</td>\n",
       "      <td>-1</td>\n",
       "      <td>0</td>\n",
       "      <td>unknown</td>\n",
       "      <td>no</td>\n",
       "    </tr>\n",
       "    <tr>\n",
       "      <th>1</th>\n",
       "      <td>33</td>\n",
       "      <td>services</td>\n",
       "      <td>married</td>\n",
       "      <td>secondary</td>\n",
       "      <td>no</td>\n",
       "      <td>4789</td>\n",
       "      <td>yes</td>\n",
       "      <td>yes</td>\n",
       "      <td>cellular</td>\n",
       "      <td>11</td>\n",
       "      <td>may</td>\n",
       "      <td>220</td>\n",
       "      <td>1</td>\n",
       "      <td>339</td>\n",
       "      <td>4</td>\n",
       "      <td>failure</td>\n",
       "      <td>no</td>\n",
       "    </tr>\n",
       "    <tr>\n",
       "      <th>2</th>\n",
       "      <td>35</td>\n",
       "      <td>management</td>\n",
       "      <td>single</td>\n",
       "      <td>tertiary</td>\n",
       "      <td>no</td>\n",
       "      <td>1350</td>\n",
       "      <td>yes</td>\n",
       "      <td>no</td>\n",
       "      <td>cellular</td>\n",
       "      <td>16</td>\n",
       "      <td>apr</td>\n",
       "      <td>185</td>\n",
       "      <td>1</td>\n",
       "      <td>330</td>\n",
       "      <td>1</td>\n",
       "      <td>failure</td>\n",
       "      <td>no</td>\n",
       "    </tr>\n",
       "    <tr>\n",
       "      <th>3</th>\n",
       "      <td>30</td>\n",
       "      <td>management</td>\n",
       "      <td>married</td>\n",
       "      <td>tertiary</td>\n",
       "      <td>no</td>\n",
       "      <td>1476</td>\n",
       "      <td>yes</td>\n",
       "      <td>yes</td>\n",
       "      <td>unknown</td>\n",
       "      <td>3</td>\n",
       "      <td>jun</td>\n",
       "      <td>199</td>\n",
       "      <td>4</td>\n",
       "      <td>-1</td>\n",
       "      <td>0</td>\n",
       "      <td>unknown</td>\n",
       "      <td>no</td>\n",
       "    </tr>\n",
       "    <tr>\n",
       "      <th>4</th>\n",
       "      <td>59</td>\n",
       "      <td>blue-collar</td>\n",
       "      <td>married</td>\n",
       "      <td>secondary</td>\n",
       "      <td>no</td>\n",
       "      <td>0</td>\n",
       "      <td>yes</td>\n",
       "      <td>no</td>\n",
       "      <td>unknown</td>\n",
       "      <td>5</td>\n",
       "      <td>may</td>\n",
       "      <td>226</td>\n",
       "      <td>1</td>\n",
       "      <td>-1</td>\n",
       "      <td>0</td>\n",
       "      <td>unknown</td>\n",
       "      <td>no</td>\n",
       "    </tr>\n",
       "    <tr>\n",
       "      <th>...</th>\n",
       "      <td>...</td>\n",
       "      <td>...</td>\n",
       "      <td>...</td>\n",
       "      <td>...</td>\n",
       "      <td>...</td>\n",
       "      <td>...</td>\n",
       "      <td>...</td>\n",
       "      <td>...</td>\n",
       "      <td>...</td>\n",
       "      <td>...</td>\n",
       "      <td>...</td>\n",
       "      <td>...</td>\n",
       "      <td>...</td>\n",
       "      <td>...</td>\n",
       "      <td>...</td>\n",
       "      <td>...</td>\n",
       "      <td>...</td>\n",
       "    </tr>\n",
       "    <tr>\n",
       "      <th>4516</th>\n",
       "      <td>33</td>\n",
       "      <td>services</td>\n",
       "      <td>married</td>\n",
       "      <td>secondary</td>\n",
       "      <td>no</td>\n",
       "      <td>-333</td>\n",
       "      <td>yes</td>\n",
       "      <td>no</td>\n",
       "      <td>cellular</td>\n",
       "      <td>30</td>\n",
       "      <td>jul</td>\n",
       "      <td>329</td>\n",
       "      <td>5</td>\n",
       "      <td>-1</td>\n",
       "      <td>0</td>\n",
       "      <td>unknown</td>\n",
       "      <td>no</td>\n",
       "    </tr>\n",
       "    <tr>\n",
       "      <th>4517</th>\n",
       "      <td>57</td>\n",
       "      <td>self-employed</td>\n",
       "      <td>married</td>\n",
       "      <td>tertiary</td>\n",
       "      <td>yes</td>\n",
       "      <td>-3313</td>\n",
       "      <td>yes</td>\n",
       "      <td>yes</td>\n",
       "      <td>unknown</td>\n",
       "      <td>9</td>\n",
       "      <td>may</td>\n",
       "      <td>153</td>\n",
       "      <td>1</td>\n",
       "      <td>-1</td>\n",
       "      <td>0</td>\n",
       "      <td>unknown</td>\n",
       "      <td>no</td>\n",
       "    </tr>\n",
       "    <tr>\n",
       "      <th>4518</th>\n",
       "      <td>57</td>\n",
       "      <td>technician</td>\n",
       "      <td>married</td>\n",
       "      <td>secondary</td>\n",
       "      <td>no</td>\n",
       "      <td>295</td>\n",
       "      <td>no</td>\n",
       "      <td>no</td>\n",
       "      <td>cellular</td>\n",
       "      <td>19</td>\n",
       "      <td>aug</td>\n",
       "      <td>151</td>\n",
       "      <td>11</td>\n",
       "      <td>-1</td>\n",
       "      <td>0</td>\n",
       "      <td>unknown</td>\n",
       "      <td>no</td>\n",
       "    </tr>\n",
       "    <tr>\n",
       "      <th>4519</th>\n",
       "      <td>28</td>\n",
       "      <td>blue-collar</td>\n",
       "      <td>married</td>\n",
       "      <td>secondary</td>\n",
       "      <td>no</td>\n",
       "      <td>1137</td>\n",
       "      <td>no</td>\n",
       "      <td>no</td>\n",
       "      <td>cellular</td>\n",
       "      <td>6</td>\n",
       "      <td>feb</td>\n",
       "      <td>129</td>\n",
       "      <td>4</td>\n",
       "      <td>211</td>\n",
       "      <td>3</td>\n",
       "      <td>other</td>\n",
       "      <td>no</td>\n",
       "    </tr>\n",
       "    <tr>\n",
       "      <th>4520</th>\n",
       "      <td>44</td>\n",
       "      <td>entrepreneur</td>\n",
       "      <td>single</td>\n",
       "      <td>tertiary</td>\n",
       "      <td>no</td>\n",
       "      <td>1136</td>\n",
       "      <td>yes</td>\n",
       "      <td>yes</td>\n",
       "      <td>cellular</td>\n",
       "      <td>3</td>\n",
       "      <td>apr</td>\n",
       "      <td>345</td>\n",
       "      <td>2</td>\n",
       "      <td>249</td>\n",
       "      <td>7</td>\n",
       "      <td>other</td>\n",
       "      <td>no</td>\n",
       "    </tr>\n",
       "  </tbody>\n",
       "</table>\n",
       "<p>4521 rows × 17 columns</p>\n",
       "</div>"
      ],
      "text/plain": [
       "      age            job  marital  education default  balance housing loan  \\\n",
       "0      30     unemployed  married    primary      no     1787      no   no   \n",
       "1      33       services  married  secondary      no     4789     yes  yes   \n",
       "2      35     management   single   tertiary      no     1350     yes   no   \n",
       "3      30     management  married   tertiary      no     1476     yes  yes   \n",
       "4      59    blue-collar  married  secondary      no        0     yes   no   \n",
       "...   ...            ...      ...        ...     ...      ...     ...  ...   \n",
       "4516   33       services  married  secondary      no     -333     yes   no   \n",
       "4517   57  self-employed  married   tertiary     yes    -3313     yes  yes   \n",
       "4518   57     technician  married  secondary      no      295      no   no   \n",
       "4519   28    blue-collar  married  secondary      no     1137      no   no   \n",
       "4520   44   entrepreneur   single   tertiary      no     1136     yes  yes   \n",
       "\n",
       "       contact  day month  duration  campaign  pdays  previous poutcome   y  \n",
       "0     cellular   19   oct        79         1     -1         0  unknown  no  \n",
       "1     cellular   11   may       220         1    339         4  failure  no  \n",
       "2     cellular   16   apr       185         1    330         1  failure  no  \n",
       "3      unknown    3   jun       199         4     -1         0  unknown  no  \n",
       "4      unknown    5   may       226         1     -1         0  unknown  no  \n",
       "...        ...  ...   ...       ...       ...    ...       ...      ...  ..  \n",
       "4516  cellular   30   jul       329         5     -1         0  unknown  no  \n",
       "4517   unknown    9   may       153         1     -1         0  unknown  no  \n",
       "4518  cellular   19   aug       151        11     -1         0  unknown  no  \n",
       "4519  cellular    6   feb       129         4    211         3    other  no  \n",
       "4520  cellular    3   apr       345         2    249         7    other  no  \n",
       "\n",
       "[4521 rows x 17 columns]"
      ]
     },
     "execution_count": 3,
     "metadata": {},
     "output_type": "execute_result"
    }
   ],
   "source": [
    "df"
   ]
  },
  {
   "cell_type": "markdown",
   "id": "b750421e",
   "metadata": {},
   "source": [
    "#### 2 If required drop out the rows with missing values or NA. (hope) in next lectures we will handle sparse data, which will allow us to use records with missing values."
   ]
  },
  {
   "cell_type": "code",
   "execution_count": 4,
   "id": "b1edb52f",
   "metadata": {
    "scrolled": true
   },
   "outputs": [
    {
     "data": {
      "text/plain": [
       "age          0\n",
       "job          0\n",
       "marital      0\n",
       "education    0\n",
       "default      0\n",
       "balance      0\n",
       "housing      0\n",
       "loan         0\n",
       "contact      0\n",
       "day          0\n",
       "month        0\n",
       "duration     0\n",
       "campaign     0\n",
       "pdays        0\n",
       "previous     0\n",
       "poutcome     0\n",
       "y            0\n",
       "dtype: int64"
      ]
     },
     "execution_count": 4,
     "metadata": {},
     "output_type": "execute_result"
    }
   ],
   "source": [
    "df.isna().sum()"
   ]
  },
  {
   "cell_type": "markdown",
   "id": "d3716e2e",
   "metadata": {},
   "source": [
    "#### 1 Convert any non-numeric values to numeric values. For example you can replace a country name with an integer value or more appropriately use hot-one encoding. "
   ]
  },
  {
   "cell_type": "code",
   "execution_count": 5,
   "id": "6bf87f11",
   "metadata": {},
   "outputs": [
    {
     "data": {
      "text/plain": [
       "Index(['age', 'balance', 'day', 'month', 'duration', 'campaign', 'pdays',\n",
       "       'previous', 'y', 'job_admin.', 'job_blue-collar', 'job_entrepreneur',\n",
       "       'job_housemaid', 'job_management', 'job_retired', 'job_self-employed',\n",
       "       'job_services', 'job_student', 'job_technician', 'job_unemployed',\n",
       "       'job_unknown', 'marital_divorced', 'marital_married', 'marital_single',\n",
       "       'education_primary', 'education_secondary', 'education_tertiary',\n",
       "       'education_unknown', 'default_no', 'default_yes', 'housing_no',\n",
       "       'housing_yes', 'loan_no', 'loan_yes', 'contact_cellular',\n",
       "       'contact_telephone', 'contact_unknown', 'poutcome_failure',\n",
       "       'poutcome_other', 'poutcome_success', 'poutcome_unknown'],\n",
       "      dtype='object')"
      ]
     },
     "execution_count": 5,
     "metadata": {},
     "output_type": "execute_result"
    }
   ],
   "source": [
    "df1=pd.get_dummies(df,columns=[\"job\",\"marital\",\"education\",\"default\",\"housing\",\"loan\",\"contact\",\"poutcome\"])\n",
    "df1.columns"
   ]
  },
  {
   "cell_type": "code",
   "execution_count": 6,
   "id": "4f1175d8",
   "metadata": {},
   "outputs": [],
   "source": [
    "df1[\"y\"] = df1[\"y\"].astype('category')\n",
    "df1[\"y\"] = df1[\"y\"].cat.codes"
   ]
  },
  {
   "cell_type": "code",
   "execution_count": 7,
   "id": "1e8cf70b",
   "metadata": {},
   "outputs": [],
   "source": [
    "df1[\"month\"] = df1[\"month\"].astype('category')\n",
    "df1[\"month\"] = df1[\"month\"].cat.codes"
   ]
  },
  {
   "cell_type": "code",
   "execution_count": 8,
   "id": "a81413c5",
   "metadata": {},
   "outputs": [],
   "source": [
    "df2=df1.copy()"
   ]
  },
  {
   "cell_type": "markdown",
   "id": "5599daff",
   "metadata": {},
   "source": [
    "#### 4 Normalize (Standardize) the data"
   ]
  },
  {
   "cell_type": "code",
   "execution_count": 9,
   "id": "00d2fa65",
   "metadata": {},
   "outputs": [],
   "source": [
    "for i in df1.columns:\n",
    "    if i!=\"y\":\n",
    "        df2[i]=(df1[i]-df1[i].mean())/(df1[i].std())"
   ]
  },
  {
   "cell_type": "markdown",
   "id": "dc0d67b6",
   "metadata": {},
   "source": [
    "#### 3 Split the data into a train/test splits according to the ratios 80%:20%"
   ]
  },
  {
   "cell_type": "code",
   "execution_count": 10,
   "id": "b509c4b6",
   "metadata": {},
   "outputs": [],
   "source": [
    "df2_train=df2.sample(frac=0.8,random_state=3116) #random state is a seed value\n",
    "df2_test=df2.drop(df2_train.index)"
   ]
  },
  {
   "cell_type": "code",
   "execution_count": 11,
   "id": "d6bffa19",
   "metadata": {},
   "outputs": [],
   "source": [
    "X=df2_train.iloc[:,df2_train.columns !=\"y\" ]\n",
    "y=df2_train.iloc[:,df2_train.columns ==\"y\" ]"
   ]
  },
  {
   "cell_type": "markdown",
   "id": "abbb9e04",
   "metadata": {},
   "source": [
    "#### 5 Implement logistic regression and mini-batch Gradient Ascent."
   ]
  },
  {
   "cell_type": "code",
   "execution_count": 12,
   "id": "c4ba97a7",
   "metadata": {},
   "outputs": [],
   "source": [
    "def create_minibatch(X,y,batch_size):\n",
    "    mini_batches=[]\n",
    "    data=np.hstack((X,y))\n",
    "    np.random.shuffle(data)\n",
    "    n_minibatches = data.shape[0] // batch_size\n",
    "    i = 0\n",
    "    \n",
    "    for i in range(n_minibatches + 1):\n",
    "        mini_batch = data[i * batch_size:(i + 1)*batch_size, :]\n",
    "        X_mini = mini_batch[:, :-1]\n",
    "        Y_mini = mini_batch[:, -1].reshape((-1, 1))\n",
    "        mini_batches.append((X_mini, Y_mini))\n",
    "    if data.shape[0] % batch_size != 0:\n",
    "        mini_batch = data[i * batch_size:data.shape[0]]\n",
    "        X_mini = mini_batch[:, :-1]\n",
    "        Y_mini = mini_batch[:, -1].reshape((-1, 1))\n",
    "        mini_batches.append((X_mini, Y_mini))\n",
    "    return mini_batches\n",
    "    "
   ]
  },
  {
   "cell_type": "code",
   "execution_count": 13,
   "id": "59a1a817",
   "metadata": {},
   "outputs": [],
   "source": [
    "def logistic_regression(X,y,mu,tmax,epsilon):\n",
    "    beta=np.zeros((len(X.columns),1))\n",
    "    \n",
    "    for i in range(tmax):\n",
    "        mini_batches = create_minibatch(X, y, 50)\n",
    "        for mini_batch in mini_batches: \n",
    "            X_mini, y_mini = mini_batch\n",
    "            l=log_function(X_mini,y_mini,beta)\n",
    "            y_hat=return_yhat(X_mini,beta)\n",
    "            gradient=find_gradient(X_mini,y_mini,y_hat)\n",
    "            beta=beta+mu*gradient\n",
    "        l_old=l\n",
    "        l=log_function(X_mini,y_mini,beta)\n",
    "        if (l-l_old < epsilon):\n",
    "            A=np.dot(X,beta)\n",
    "            Y_Pred=1.0 / (1.0 + np.exp(-A))\n",
    "            return Y_Pred\n",
    "        elif(i==tmax):\n",
    "            return \"Not converged\"\n",
    "\n",
    "def log_function(X,y,beta):\n",
    "    mul=np.dot(X,beta)\n",
    "    A=np.dot(y.T,np.dot(X,beta))\n",
    "    l=A-np.log(1+np.exp(mul))\n",
    "    \n",
    "    return l.sum()\n",
    "\n",
    "# def log_function(X,y,beta):\n",
    "#     log1=0\n",
    "#     for i in range(len(X)):\n",
    "#         log=np.dot(y[i:i+1,:],np.dot(X[i:i+1,:],beta))-np.log(1+exp(np.dot(X[i:i+1,:],beta)))\n",
    "#         log1+=log    \n",
    "#     return log1\n",
    "\n",
    "def return_yhat(X,beta):\n",
    "    \n",
    "    A=np.dot(X,beta)\n",
    "    yhat=1.0 / (1.0 + np.exp(-A))\n",
    "    return yhat\n",
    "    \n",
    "def find_gradient(X,y,y_hat):\n",
    "    diff=y-y_hat\n",
    "    grad=np.dot(X.T,diff)\n",
    "#     print(grad)\n",
    "    return grad\n",
    "    \n",
    "    "
   ]
  },
  {
   "cell_type": "markdown",
   "id": "a7264d6d",
   "metadata": {},
   "source": [
    "#### 6 Keep the hyperparameters of learning rate and batch size fixed (good guesses) and iteratively do backward selection keeping track of the AIC metric."
   ]
  },
  {
   "cell_type": "code",
   "execution_count": 14,
   "id": "a4510de7",
   "metadata": {},
   "outputs": [],
   "source": [
    "def find_aic(y,y_Pred,p):\n",
    "    L=((y*np.log(y_Pred)+(1-y)*np.log(1-y_Pred))).sum()\n",
    "#     print(L)\n",
    "    aic=-2*np.log(-L)+2*p\n",
    "    return aic\n",
    "\n",
    "def backward_search(X,y):\n",
    "#     V_used=[0,1,2,3,4,5,6,7,8,9]\n",
    "    V_used=X.columns.tolist()\n",
    "    mu=0.001\n",
    "    tmax=1000\n",
    "    epsilon=1e-1\n",
    "    improvement=True\n",
    "    v_best=[]\n",
    "    while (improvement):\n",
    "        gain_best=0\n",
    "        V_intermediate=V_used.copy()\n",
    "        if V_used:\n",
    "            \n",
    "            for v in (V_used):\n",
    "                if v in V_intermediate:\n",
    "                    V_intermediate.remove(v)\n",
    "                    print(\"Original V_used\",V_used)\n",
    "                    print(\"After removal\",V_intermediate)\n",
    "                    Y_Pred=logistic_regression(X[V_intermediate],y,mu,tmax,epsilon)\n",
    "                    Y_Pred1=logistic_regression(X[V_used],y,mu,tmax,epsilon)\n",
    "                    p=len(V_intermediate)\n",
    "                    p1=len(V_used)\n",
    "                    gain=-find_aic(y,Y_Pred,p)+find_aic(y,Y_Pred1,p1)\n",
    "                    print(\"Gain is\",gain.item())\n",
    "    #         improvement=False\n",
    "                    if gain.item()>gain_best:\n",
    "                        print(\"Inside update v_best\")\n",
    "                        gain_best = gain.item()\n",
    "                        if v not in v_best:\n",
    "                            v_best.append(v)\n",
    "                            print(\"Improved Score\",v_best)\n",
    "                    improvement=(gain_best>0)\n",
    "                    if improvement:\n",
    "                        print(\"Before V_used\",V_used)\n",
    "                        V_used=list(set(V_used)-set(v_best))\n",
    "                        print(\"Final V_used\",V_used)\n",
    "            else:\n",
    "                return V_used"
   ]
  },
  {
   "cell_type": "code",
   "execution_count": 15,
   "id": "73c521b1",
   "metadata": {},
   "outputs": [
    {
     "name": "stdout",
     "output_type": "stream",
     "text": [
      "Original V_used ['age', 'balance', 'day', 'month', 'duration', 'campaign', 'pdays', 'previous', 'job_admin.', 'job_blue-collar', 'job_entrepreneur', 'job_housemaid', 'job_management', 'job_retired', 'job_self-employed', 'job_services', 'job_student', 'job_technician', 'job_unemployed', 'job_unknown', 'marital_divorced', 'marital_married', 'marital_single', 'education_primary', 'education_secondary', 'education_tertiary', 'education_unknown', 'default_no', 'default_yes', 'housing_no', 'housing_yes', 'loan_no', 'loan_yes', 'contact_cellular', 'contact_telephone', 'contact_unknown', 'poutcome_failure', 'poutcome_other', 'poutcome_success', 'poutcome_unknown']\n",
      "After removal ['balance', 'day', 'month', 'duration', 'campaign', 'pdays', 'previous', 'job_admin.', 'job_blue-collar', 'job_entrepreneur', 'job_housemaid', 'job_management', 'job_retired', 'job_self-employed', 'job_services', 'job_student', 'job_technician', 'job_unemployed', 'job_unknown', 'marital_divorced', 'marital_married', 'marital_single', 'education_primary', 'education_secondary', 'education_tertiary', 'education_unknown', 'default_no', 'default_yes', 'housing_no', 'housing_yes', 'loan_no', 'loan_yes', 'contact_cellular', 'contact_telephone', 'contact_unknown', 'poutcome_failure', 'poutcome_other', 'poutcome_success', 'poutcome_unknown']\n",
      "Gain is 2.0043561021890497\n",
      "Inside update v_best\n",
      "Improved Score ['age']\n",
      "Before V_used ['age', 'balance', 'day', 'month', 'duration', 'campaign', 'pdays', 'previous', 'job_admin.', 'job_blue-collar', 'job_entrepreneur', 'job_housemaid', 'job_management', 'job_retired', 'job_self-employed', 'job_services', 'job_student', 'job_technician', 'job_unemployed', 'job_unknown', 'marital_divorced', 'marital_married', 'marital_single', 'education_primary', 'education_secondary', 'education_tertiary', 'education_unknown', 'default_no', 'default_yes', 'housing_no', 'housing_yes', 'loan_no', 'loan_yes', 'contact_cellular', 'contact_telephone', 'contact_unknown', 'poutcome_failure', 'poutcome_other', 'poutcome_success', 'poutcome_unknown']\n",
      "Final V_used ['pdays', 'education_tertiary', 'default_yes', 'housing_no', 'job_admin.', 'education_unknown', 'job_student', 'default_no', 'contact_telephone', 'poutcome_failure', 'duration', 'day', 'education_secondary', 'education_primary', 'contact_cellular', 'job_retired', 'job_blue-collar', 'campaign', 'month', 'job_unknown', 'job_entrepreneur', 'poutcome_success', 'job_services', 'marital_single', 'loan_no', 'job_management', 'job_self-employed', 'previous', 'housing_yes', 'marital_married', 'poutcome_unknown', 'marital_divorced', 'job_technician', 'poutcome_other', 'balance', 'job_unemployed', 'loan_yes', 'job_housemaid', 'contact_unknown']\n",
      "Original V_used ['pdays', 'education_tertiary', 'default_yes', 'housing_no', 'job_admin.', 'education_unknown', 'job_student', 'default_no', 'contact_telephone', 'poutcome_failure', 'duration', 'day', 'education_secondary', 'education_primary', 'contact_cellular', 'job_retired', 'job_blue-collar', 'campaign', 'month', 'job_unknown', 'job_entrepreneur', 'poutcome_success', 'job_services', 'marital_single', 'loan_no', 'job_management', 'job_self-employed', 'previous', 'housing_yes', 'marital_married', 'poutcome_unknown', 'marital_divorced', 'job_technician', 'poutcome_other', 'balance', 'job_unemployed', 'loan_yes', 'job_housemaid', 'contact_unknown']\n",
      "After removal ['day', 'month', 'duration', 'campaign', 'pdays', 'previous', 'job_admin.', 'job_blue-collar', 'job_entrepreneur', 'job_housemaid', 'job_management', 'job_retired', 'job_self-employed', 'job_services', 'job_student', 'job_technician', 'job_unemployed', 'job_unknown', 'marital_divorced', 'marital_married', 'marital_single', 'education_primary', 'education_secondary', 'education_tertiary', 'education_unknown', 'default_no', 'default_yes', 'housing_no', 'housing_yes', 'loan_no', 'loan_yes', 'contact_cellular', 'contact_telephone', 'contact_unknown', 'poutcome_failure', 'poutcome_other', 'poutcome_success', 'poutcome_unknown']\n",
      "Gain is 1.9500171101520394\n",
      "Before V_used ['pdays', 'education_tertiary', 'default_yes', 'housing_no', 'job_admin.', 'education_unknown', 'job_student', 'default_no', 'contact_telephone', 'poutcome_failure', 'duration', 'day', 'education_secondary', 'education_primary', 'contact_cellular', 'job_retired', 'job_blue-collar', 'campaign', 'month', 'job_unknown', 'job_entrepreneur', 'poutcome_success', 'job_services', 'marital_single', 'loan_no', 'job_management', 'job_self-employed', 'previous', 'housing_yes', 'marital_married', 'poutcome_unknown', 'marital_divorced', 'job_technician', 'poutcome_other', 'balance', 'job_unemployed', 'loan_yes', 'job_housemaid', 'contact_unknown']\n",
      "Final V_used ['pdays', 'education_tertiary', 'default_yes', 'housing_no', 'job_admin.', 'education_unknown', 'job_student', 'default_no', 'contact_telephone', 'poutcome_failure', 'duration', 'day', 'education_secondary', 'education_primary', 'contact_cellular', 'job_retired', 'job_blue-collar', 'campaign', 'month', 'job_unknown', 'job_entrepreneur', 'poutcome_success', 'job_services', 'marital_single', 'loan_no', 'job_management', 'job_self-employed', 'previous', 'housing_yes', 'marital_married', 'poutcome_unknown', 'marital_divorced', 'job_technician', 'poutcome_other', 'balance', 'job_unemployed', 'loan_yes', 'job_housemaid', 'contact_unknown']\n",
      "Original V_used ['pdays', 'education_tertiary', 'default_yes', 'housing_no', 'job_admin.', 'education_unknown', 'job_student', 'default_no', 'contact_telephone', 'poutcome_failure', 'duration', 'day', 'education_secondary', 'education_primary', 'contact_cellular', 'job_retired', 'job_blue-collar', 'campaign', 'month', 'job_unknown', 'job_entrepreneur', 'poutcome_success', 'job_services', 'marital_single', 'loan_no', 'job_management', 'job_self-employed', 'previous', 'housing_yes', 'marital_married', 'poutcome_unknown', 'marital_divorced', 'job_technician', 'poutcome_other', 'balance', 'job_unemployed', 'loan_yes', 'job_housemaid', 'contact_unknown']\n",
      "After removal ['month', 'duration', 'campaign', 'pdays', 'previous', 'job_admin.', 'job_blue-collar', 'job_entrepreneur', 'job_housemaid', 'job_management', 'job_retired', 'job_self-employed', 'job_services', 'job_student', 'job_technician', 'job_unemployed', 'job_unknown', 'marital_divorced', 'marital_married', 'marital_single', 'education_primary', 'education_secondary', 'education_tertiary', 'education_unknown', 'default_no', 'default_yes', 'housing_no', 'housing_yes', 'loan_no', 'loan_yes', 'contact_cellular', 'contact_telephone', 'contact_unknown', 'poutcome_failure', 'poutcome_other', 'poutcome_success', 'poutcome_unknown']\n",
      "Gain is 3.9912041024390774\n",
      "Inside update v_best\n",
      "Improved Score ['age', 'day']\n",
      "Before V_used ['pdays', 'education_tertiary', 'default_yes', 'housing_no', 'job_admin.', 'education_unknown', 'job_student', 'default_no', 'contact_telephone', 'poutcome_failure', 'duration', 'day', 'education_secondary', 'education_primary', 'contact_cellular', 'job_retired', 'job_blue-collar', 'campaign', 'month', 'job_unknown', 'job_entrepreneur', 'poutcome_success', 'job_services', 'marital_single', 'loan_no', 'job_management', 'job_self-employed', 'previous', 'housing_yes', 'marital_married', 'poutcome_unknown', 'marital_divorced', 'job_technician', 'poutcome_other', 'balance', 'job_unemployed', 'loan_yes', 'job_housemaid', 'contact_unknown']\n",
      "Final V_used ['pdays', 'education_tertiary', 'default_yes', 'housing_no', 'job_admin.', 'education_unknown', 'job_student', 'default_no', 'contact_telephone', 'poutcome_failure', 'duration', 'education_secondary', 'education_primary', 'contact_cellular', 'job_retired', 'job_blue-collar', 'campaign', 'month', 'job_unknown', 'job_entrepreneur', 'poutcome_success', 'job_services', 'marital_single', 'loan_no', 'job_management', 'job_self-employed', 'previous', 'housing_yes', 'marital_married', 'poutcome_unknown', 'marital_divorced', 'job_technician', 'poutcome_other', 'balance', 'job_unemployed', 'loan_yes', 'job_housemaid', 'contact_unknown']\n",
      "Original V_used ['pdays', 'education_tertiary', 'default_yes', 'housing_no', 'job_admin.', 'education_unknown', 'job_student', 'default_no', 'contact_telephone', 'poutcome_failure', 'duration', 'education_secondary', 'education_primary', 'contact_cellular', 'job_retired', 'job_blue-collar', 'campaign', 'month', 'job_unknown', 'job_entrepreneur', 'poutcome_success', 'job_services', 'marital_single', 'loan_no', 'job_management', 'job_self-employed', 'previous', 'housing_yes', 'marital_married', 'poutcome_unknown', 'marital_divorced', 'job_technician', 'poutcome_other', 'balance', 'job_unemployed', 'loan_yes', 'job_housemaid', 'contact_unknown']\n",
      "After removal ['duration', 'campaign', 'pdays', 'previous', 'job_admin.', 'job_blue-collar', 'job_entrepreneur', 'job_housemaid', 'job_management', 'job_retired', 'job_self-employed', 'job_services', 'job_student', 'job_technician', 'job_unemployed', 'job_unknown', 'marital_divorced', 'marital_married', 'marital_single', 'education_primary', 'education_secondary', 'education_tertiary', 'education_unknown', 'default_no', 'default_yes', 'housing_no', 'housing_yes', 'loan_no', 'loan_yes', 'contact_cellular', 'contact_telephone', 'contact_unknown', 'poutcome_failure', 'poutcome_other', 'poutcome_success', 'poutcome_unknown']\n",
      "Gain is 4.021629476244378\n",
      "Inside update v_best\n",
      "Improved Score ['age', 'day', 'month']\n",
      "Before V_used ['pdays', 'education_tertiary', 'default_yes', 'housing_no', 'job_admin.', 'education_unknown', 'job_student', 'default_no', 'contact_telephone', 'poutcome_failure', 'duration', 'education_secondary', 'education_primary', 'contact_cellular', 'job_retired', 'job_blue-collar', 'campaign', 'month', 'job_unknown', 'job_entrepreneur', 'poutcome_success', 'job_services', 'marital_single', 'loan_no', 'job_management', 'job_self-employed', 'previous', 'housing_yes', 'marital_married', 'poutcome_unknown', 'marital_divorced', 'job_technician', 'poutcome_other', 'balance', 'job_unemployed', 'loan_yes', 'job_housemaid', 'contact_unknown']\n",
      "Final V_used ['pdays', 'education_tertiary', 'default_yes', 'housing_no', 'job_admin.', 'education_unknown', 'job_student', 'default_no', 'contact_telephone', 'poutcome_failure', 'duration', 'education_secondary', 'education_primary', 'contact_cellular', 'job_retired', 'job_blue-collar', 'campaign', 'job_unknown', 'job_entrepreneur', 'poutcome_success', 'job_services', 'marital_single', 'loan_no', 'job_management', 'job_self-employed', 'previous', 'housing_yes', 'marital_married', 'poutcome_unknown', 'marital_divorced', 'job_technician', 'poutcome_other', 'balance', 'job_unemployed', 'loan_yes', 'job_housemaid', 'contact_unknown']\n",
      "Original V_used ['pdays', 'education_tertiary', 'default_yes', 'housing_no', 'job_admin.', 'education_unknown', 'job_student', 'default_no', 'contact_telephone', 'poutcome_failure', 'duration', 'education_secondary', 'education_primary', 'contact_cellular', 'job_retired', 'job_blue-collar', 'campaign', 'job_unknown', 'job_entrepreneur', 'poutcome_success', 'job_services', 'marital_single', 'loan_no', 'job_management', 'job_self-employed', 'previous', 'housing_yes', 'marital_married', 'poutcome_unknown', 'marital_divorced', 'job_technician', 'poutcome_other', 'balance', 'job_unemployed', 'loan_yes', 'job_housemaid', 'contact_unknown']\n",
      "After removal ['campaign', 'pdays', 'previous', 'job_admin.', 'job_blue-collar', 'job_entrepreneur', 'job_housemaid', 'job_management', 'job_retired', 'job_self-employed', 'job_services', 'job_student', 'job_technician', 'job_unemployed', 'job_unknown', 'marital_divorced', 'marital_married', 'marital_single', 'education_primary', 'education_secondary', 'education_tertiary', 'education_unknown', 'default_no', 'default_yes', 'housing_no', 'housing_yes', 'loan_no', 'loan_yes', 'contact_cellular', 'contact_telephone', 'contact_unknown', 'poutcome_failure', 'poutcome_other', 'poutcome_success', 'poutcome_unknown']\n"
     ]
    },
    {
     "name": "stdout",
     "output_type": "stream",
     "text": [
      "Gain is 4.129773537582423\n",
      "Inside update v_best\n",
      "Improved Score ['age', 'day', 'month', 'duration']\n",
      "Before V_used ['pdays', 'education_tertiary', 'default_yes', 'housing_no', 'job_admin.', 'education_unknown', 'job_student', 'default_no', 'contact_telephone', 'poutcome_failure', 'duration', 'education_secondary', 'education_primary', 'contact_cellular', 'job_retired', 'job_blue-collar', 'campaign', 'job_unknown', 'job_entrepreneur', 'poutcome_success', 'job_services', 'marital_single', 'loan_no', 'job_management', 'job_self-employed', 'previous', 'housing_yes', 'marital_married', 'poutcome_unknown', 'marital_divorced', 'job_technician', 'poutcome_other', 'balance', 'job_unemployed', 'loan_yes', 'job_housemaid', 'contact_unknown']\n",
      "Final V_used ['pdays', 'education_tertiary', 'default_yes', 'housing_no', 'job_admin.', 'education_unknown', 'job_student', 'default_no', 'contact_telephone', 'poutcome_failure', 'education_secondary', 'education_primary', 'contact_cellular', 'job_retired', 'job_blue-collar', 'campaign', 'job_unknown', 'job_entrepreneur', 'poutcome_success', 'job_services', 'marital_single', 'loan_no', 'job_management', 'job_self-employed', 'previous', 'housing_yes', 'marital_married', 'poutcome_unknown', 'marital_divorced', 'job_technician', 'poutcome_other', 'balance', 'job_unemployed', 'loan_yes', 'job_housemaid', 'contact_unknown']\n",
      "Original V_used ['pdays', 'education_tertiary', 'default_yes', 'housing_no', 'job_admin.', 'education_unknown', 'job_student', 'default_no', 'contact_telephone', 'poutcome_failure', 'education_secondary', 'education_primary', 'contact_cellular', 'job_retired', 'job_blue-collar', 'campaign', 'job_unknown', 'job_entrepreneur', 'poutcome_success', 'job_services', 'marital_single', 'loan_no', 'job_management', 'job_self-employed', 'previous', 'housing_yes', 'marital_married', 'poutcome_unknown', 'marital_divorced', 'job_technician', 'poutcome_other', 'balance', 'job_unemployed', 'loan_yes', 'job_housemaid', 'contact_unknown']\n",
      "After removal ['pdays', 'previous', 'job_admin.', 'job_blue-collar', 'job_entrepreneur', 'job_housemaid', 'job_management', 'job_retired', 'job_self-employed', 'job_services', 'job_student', 'job_technician', 'job_unemployed', 'job_unknown', 'marital_divorced', 'marital_married', 'marital_single', 'education_primary', 'education_secondary', 'education_tertiary', 'education_unknown', 'default_no', 'default_yes', 'housing_no', 'housing_yes', 'loan_no', 'loan_yes', 'contact_cellular', 'contact_telephone', 'contact_unknown', 'poutcome_failure', 'poutcome_other', 'poutcome_success', 'poutcome_unknown']\n",
      "Gain is 4.00228587886415\n",
      "Before V_used ['pdays', 'education_tertiary', 'default_yes', 'housing_no', 'job_admin.', 'education_unknown', 'job_student', 'default_no', 'contact_telephone', 'poutcome_failure', 'education_secondary', 'education_primary', 'contact_cellular', 'job_retired', 'job_blue-collar', 'campaign', 'job_unknown', 'job_entrepreneur', 'poutcome_success', 'job_services', 'marital_single', 'loan_no', 'job_management', 'job_self-employed', 'previous', 'housing_yes', 'marital_married', 'poutcome_unknown', 'marital_divorced', 'job_technician', 'poutcome_other', 'balance', 'job_unemployed', 'loan_yes', 'job_housemaid', 'contact_unknown']\n",
      "Final V_used ['pdays', 'education_tertiary', 'default_yes', 'housing_no', 'job_admin.', 'education_unknown', 'job_student', 'default_no', 'contact_telephone', 'poutcome_failure', 'education_secondary', 'education_primary', 'contact_cellular', 'job_retired', 'job_blue-collar', 'campaign', 'job_unknown', 'job_entrepreneur', 'poutcome_success', 'job_services', 'marital_single', 'loan_no', 'job_management', 'job_self-employed', 'previous', 'housing_yes', 'marital_married', 'poutcome_unknown', 'marital_divorced', 'job_technician', 'poutcome_other', 'balance', 'job_unemployed', 'loan_yes', 'job_housemaid', 'contact_unknown']\n",
      "Original V_used ['pdays', 'education_tertiary', 'default_yes', 'housing_no', 'job_admin.', 'education_unknown', 'job_student', 'default_no', 'contact_telephone', 'poutcome_failure', 'education_secondary', 'education_primary', 'contact_cellular', 'job_retired', 'job_blue-collar', 'campaign', 'job_unknown', 'job_entrepreneur', 'poutcome_success', 'job_services', 'marital_single', 'loan_no', 'job_management', 'job_self-employed', 'previous', 'housing_yes', 'marital_married', 'poutcome_unknown', 'marital_divorced', 'job_technician', 'poutcome_other', 'balance', 'job_unemployed', 'loan_yes', 'job_housemaid', 'contact_unknown']\n",
      "After removal ['previous', 'job_admin.', 'job_blue-collar', 'job_entrepreneur', 'job_housemaid', 'job_management', 'job_retired', 'job_self-employed', 'job_services', 'job_student', 'job_technician', 'job_unemployed', 'job_unknown', 'marital_divorced', 'marital_married', 'marital_single', 'education_primary', 'education_secondary', 'education_tertiary', 'education_unknown', 'default_no', 'default_yes', 'housing_no', 'housing_yes', 'loan_no', 'loan_yes', 'contact_cellular', 'contact_telephone', 'contact_unknown', 'poutcome_failure', 'poutcome_other', 'poutcome_success', 'poutcome_unknown']\n",
      "Gain is 6.0092430387125475\n",
      "Inside update v_best\n",
      "Improved Score ['age', 'day', 'month', 'duration', 'pdays']\n",
      "Before V_used ['pdays', 'education_tertiary', 'default_yes', 'housing_no', 'job_admin.', 'education_unknown', 'job_student', 'default_no', 'contact_telephone', 'poutcome_failure', 'education_secondary', 'education_primary', 'contact_cellular', 'job_retired', 'job_blue-collar', 'campaign', 'job_unknown', 'job_entrepreneur', 'poutcome_success', 'job_services', 'marital_single', 'loan_no', 'job_management', 'job_self-employed', 'previous', 'housing_yes', 'marital_married', 'poutcome_unknown', 'marital_divorced', 'job_technician', 'poutcome_other', 'balance', 'job_unemployed', 'loan_yes', 'job_housemaid', 'contact_unknown']\n",
      "Final V_used ['education_tertiary', 'default_yes', 'housing_no', 'job_admin.', 'education_unknown', 'job_student', 'default_no', 'contact_telephone', 'poutcome_failure', 'education_secondary', 'education_primary', 'contact_cellular', 'job_retired', 'job_blue-collar', 'campaign', 'job_unknown', 'job_entrepreneur', 'poutcome_success', 'job_services', 'marital_single', 'loan_no', 'job_management', 'job_self-employed', 'previous', 'housing_yes', 'marital_married', 'poutcome_unknown', 'marital_divorced', 'job_technician', 'poutcome_other', 'balance', 'job_unemployed', 'loan_yes', 'job_housemaid', 'contact_unknown']\n",
      "Original V_used ['education_tertiary', 'default_yes', 'housing_no', 'job_admin.', 'education_unknown', 'job_student', 'default_no', 'contact_telephone', 'poutcome_failure', 'education_secondary', 'education_primary', 'contact_cellular', 'job_retired', 'job_blue-collar', 'campaign', 'job_unknown', 'job_entrepreneur', 'poutcome_success', 'job_services', 'marital_single', 'loan_no', 'job_management', 'job_self-employed', 'previous', 'housing_yes', 'marital_married', 'poutcome_unknown', 'marital_divorced', 'job_technician', 'poutcome_other', 'balance', 'job_unemployed', 'loan_yes', 'job_housemaid', 'contact_unknown']\n",
      "After removal ['job_admin.', 'job_blue-collar', 'job_entrepreneur', 'job_housemaid', 'job_management', 'job_retired', 'job_self-employed', 'job_services', 'job_student', 'job_technician', 'job_unemployed', 'job_unknown', 'marital_divorced', 'marital_married', 'marital_single', 'education_primary', 'education_secondary', 'education_tertiary', 'education_unknown', 'default_no', 'default_yes', 'housing_no', 'housing_yes', 'loan_no', 'loan_yes', 'contact_cellular', 'contact_telephone', 'contact_unknown', 'poutcome_failure', 'poutcome_other', 'poutcome_success', 'poutcome_unknown']\n",
      "Gain is 5.982623616356918\n",
      "Before V_used ['education_tertiary', 'default_yes', 'housing_no', 'job_admin.', 'education_unknown', 'job_student', 'default_no', 'contact_telephone', 'poutcome_failure', 'education_secondary', 'education_primary', 'contact_cellular', 'job_retired', 'job_blue-collar', 'campaign', 'job_unknown', 'job_entrepreneur', 'poutcome_success', 'job_services', 'marital_single', 'loan_no', 'job_management', 'job_self-employed', 'previous', 'housing_yes', 'marital_married', 'poutcome_unknown', 'marital_divorced', 'job_technician', 'poutcome_other', 'balance', 'job_unemployed', 'loan_yes', 'job_housemaid', 'contact_unknown']\n",
      "Final V_used ['education_tertiary', 'default_yes', 'housing_no', 'job_admin.', 'education_unknown', 'job_student', 'default_no', 'contact_telephone', 'poutcome_failure', 'education_secondary', 'education_primary', 'contact_cellular', 'job_retired', 'job_blue-collar', 'campaign', 'job_unknown', 'job_entrepreneur', 'poutcome_success', 'job_services', 'marital_single', 'loan_no', 'job_management', 'job_self-employed', 'previous', 'housing_yes', 'marital_married', 'poutcome_unknown', 'marital_divorced', 'job_technician', 'poutcome_other', 'balance', 'job_unemployed', 'loan_yes', 'job_housemaid', 'contact_unknown']\n",
      "Original V_used ['education_tertiary', 'default_yes', 'housing_no', 'job_admin.', 'education_unknown', 'job_student', 'default_no', 'contact_telephone', 'poutcome_failure', 'education_secondary', 'education_primary', 'contact_cellular', 'job_retired', 'job_blue-collar', 'campaign', 'job_unknown', 'job_entrepreneur', 'poutcome_success', 'job_services', 'marital_single', 'loan_no', 'job_management', 'job_self-employed', 'previous', 'housing_yes', 'marital_married', 'poutcome_unknown', 'marital_divorced', 'job_technician', 'poutcome_other', 'balance', 'job_unemployed', 'loan_yes', 'job_housemaid', 'contact_unknown']\n",
      "After removal ['job_blue-collar', 'job_entrepreneur', 'job_housemaid', 'job_management', 'job_retired', 'job_self-employed', 'job_services', 'job_student', 'job_technician', 'job_unemployed', 'job_unknown', 'marital_divorced', 'marital_married', 'marital_single', 'education_primary', 'education_secondary', 'education_tertiary', 'education_unknown', 'default_no', 'default_yes', 'housing_no', 'housing_yes', 'loan_no', 'loan_yes', 'contact_cellular', 'contact_telephone', 'contact_unknown', 'poutcome_failure', 'poutcome_other', 'poutcome_success', 'poutcome_unknown']\n"
     ]
    },
    {
     "name": "stdout",
     "output_type": "stream",
     "text": [
      "Gain is 8.003181656764184\n",
      "Inside update v_best\n",
      "Improved Score ['age', 'day', 'month', 'duration', 'pdays', 'job_admin.']\n",
      "Before V_used ['education_tertiary', 'default_yes', 'housing_no', 'job_admin.', 'education_unknown', 'job_student', 'default_no', 'contact_telephone', 'poutcome_failure', 'education_secondary', 'education_primary', 'contact_cellular', 'job_retired', 'job_blue-collar', 'campaign', 'job_unknown', 'job_entrepreneur', 'poutcome_success', 'job_services', 'marital_single', 'loan_no', 'job_management', 'job_self-employed', 'previous', 'housing_yes', 'marital_married', 'poutcome_unknown', 'marital_divorced', 'job_technician', 'poutcome_other', 'balance', 'job_unemployed', 'loan_yes', 'job_housemaid', 'contact_unknown']\n",
      "Final V_used ['education_tertiary', 'default_yes', 'housing_no', 'education_unknown', 'job_student', 'default_no', 'contact_telephone', 'poutcome_failure', 'education_secondary', 'education_primary', 'contact_cellular', 'job_retired', 'job_blue-collar', 'campaign', 'job_unknown', 'job_entrepreneur', 'poutcome_success', 'job_services', 'marital_single', 'loan_no', 'job_management', 'job_self-employed', 'previous', 'housing_yes', 'marital_married', 'poutcome_unknown', 'marital_divorced', 'job_technician', 'poutcome_other', 'balance', 'job_unemployed', 'loan_yes', 'job_housemaid', 'contact_unknown']\n",
      "Original V_used ['education_tertiary', 'default_yes', 'housing_no', 'education_unknown', 'job_student', 'default_no', 'contact_telephone', 'poutcome_failure', 'education_secondary', 'education_primary', 'contact_cellular', 'job_retired', 'job_blue-collar', 'campaign', 'job_unknown', 'job_entrepreneur', 'poutcome_success', 'job_services', 'marital_single', 'loan_no', 'job_management', 'job_self-employed', 'previous', 'housing_yes', 'marital_married', 'poutcome_unknown', 'marital_divorced', 'job_technician', 'poutcome_other', 'balance', 'job_unemployed', 'loan_yes', 'job_housemaid', 'contact_unknown']\n",
      "After removal ['job_entrepreneur', 'job_housemaid', 'job_management', 'job_retired', 'job_self-employed', 'job_services', 'job_student', 'job_technician', 'job_unemployed', 'job_unknown', 'marital_divorced', 'marital_married', 'marital_single', 'education_primary', 'education_secondary', 'education_tertiary', 'education_unknown', 'default_no', 'default_yes', 'housing_no', 'housing_yes', 'loan_no', 'loan_yes', 'contact_cellular', 'contact_telephone', 'contact_unknown', 'poutcome_failure', 'poutcome_other', 'poutcome_success', 'poutcome_unknown']\n",
      "Gain is 7.998638007088559\n",
      "Before V_used ['education_tertiary', 'default_yes', 'housing_no', 'education_unknown', 'job_student', 'default_no', 'contact_telephone', 'poutcome_failure', 'education_secondary', 'education_primary', 'contact_cellular', 'job_retired', 'job_blue-collar', 'campaign', 'job_unknown', 'job_entrepreneur', 'poutcome_success', 'job_services', 'marital_single', 'loan_no', 'job_management', 'job_self-employed', 'previous', 'housing_yes', 'marital_married', 'poutcome_unknown', 'marital_divorced', 'job_technician', 'poutcome_other', 'balance', 'job_unemployed', 'loan_yes', 'job_housemaid', 'contact_unknown']\n",
      "Final V_used ['education_tertiary', 'default_yes', 'housing_no', 'education_unknown', 'job_student', 'default_no', 'contact_telephone', 'poutcome_failure', 'education_secondary', 'education_primary', 'contact_cellular', 'job_retired', 'job_blue-collar', 'campaign', 'job_unknown', 'job_entrepreneur', 'poutcome_success', 'job_services', 'marital_single', 'loan_no', 'job_management', 'job_self-employed', 'previous', 'housing_yes', 'marital_married', 'poutcome_unknown', 'marital_divorced', 'job_technician', 'poutcome_other', 'balance', 'job_unemployed', 'loan_yes', 'job_housemaid', 'contact_unknown']\n",
      "Original V_used ['education_tertiary', 'default_yes', 'housing_no', 'education_unknown', 'job_student', 'default_no', 'contact_telephone', 'poutcome_failure', 'education_secondary', 'education_primary', 'contact_cellular', 'job_retired', 'job_blue-collar', 'campaign', 'job_unknown', 'job_entrepreneur', 'poutcome_success', 'job_services', 'marital_single', 'loan_no', 'job_management', 'job_self-employed', 'previous', 'housing_yes', 'marital_married', 'poutcome_unknown', 'marital_divorced', 'job_technician', 'poutcome_other', 'balance', 'job_unemployed', 'loan_yes', 'job_housemaid', 'contact_unknown']\n",
      "After removal ['job_housemaid', 'job_management', 'job_retired', 'job_self-employed', 'job_services', 'job_student', 'job_technician', 'job_unemployed', 'job_unknown', 'marital_divorced', 'marital_married', 'marital_single', 'education_primary', 'education_secondary', 'education_tertiary', 'education_unknown', 'default_no', 'default_yes', 'housing_no', 'housing_yes', 'loan_no', 'loan_yes', 'contact_cellular', 'contact_telephone', 'contact_unknown', 'poutcome_failure', 'poutcome_other', 'poutcome_success', 'poutcome_unknown']\n",
      "Gain is 10.00528140312349\n",
      "Inside update v_best\n",
      "Improved Score ['age', 'day', 'month', 'duration', 'pdays', 'job_admin.', 'job_entrepreneur']\n",
      "Before V_used ['education_tertiary', 'default_yes', 'housing_no', 'education_unknown', 'job_student', 'default_no', 'contact_telephone', 'poutcome_failure', 'education_secondary', 'education_primary', 'contact_cellular', 'job_retired', 'job_blue-collar', 'campaign', 'job_unknown', 'job_entrepreneur', 'poutcome_success', 'job_services', 'marital_single', 'loan_no', 'job_management', 'job_self-employed', 'previous', 'housing_yes', 'marital_married', 'poutcome_unknown', 'marital_divorced', 'job_technician', 'poutcome_other', 'balance', 'job_unemployed', 'loan_yes', 'job_housemaid', 'contact_unknown']\n",
      "Final V_used ['education_tertiary', 'default_yes', 'housing_no', 'education_unknown', 'job_student', 'default_no', 'contact_telephone', 'poutcome_failure', 'education_secondary', 'education_primary', 'contact_cellular', 'job_retired', 'job_blue-collar', 'campaign', 'job_unknown', 'poutcome_success', 'job_services', 'marital_single', 'loan_no', 'job_management', 'job_self-employed', 'previous', 'housing_yes', 'marital_married', 'poutcome_unknown', 'marital_divorced', 'job_technician', 'poutcome_other', 'balance', 'job_unemployed', 'loan_yes', 'job_housemaid', 'contact_unknown']\n",
      "Original V_used ['education_tertiary', 'default_yes', 'housing_no', 'education_unknown', 'job_student', 'default_no', 'contact_telephone', 'poutcome_failure', 'education_secondary', 'education_primary', 'contact_cellular', 'job_retired', 'job_blue-collar', 'campaign', 'job_unknown', 'poutcome_success', 'job_services', 'marital_single', 'loan_no', 'job_management', 'job_self-employed', 'previous', 'housing_yes', 'marital_married', 'poutcome_unknown', 'marital_divorced', 'job_technician', 'poutcome_other', 'balance', 'job_unemployed', 'loan_yes', 'job_housemaid', 'contact_unknown']\n",
      "After removal ['job_management', 'job_retired', 'job_self-employed', 'job_services', 'job_student', 'job_technician', 'job_unemployed', 'job_unknown', 'marital_divorced', 'marital_married', 'marital_single', 'education_primary', 'education_secondary', 'education_tertiary', 'education_unknown', 'default_no', 'default_yes', 'housing_no', 'housing_yes', 'loan_no', 'loan_yes', 'contact_cellular', 'contact_telephone', 'contact_unknown', 'poutcome_failure', 'poutcome_other', 'poutcome_success', 'poutcome_unknown']\n",
      "Gain is 10.021143923439823\n",
      "Inside update v_best\n",
      "Improved Score ['age', 'day', 'month', 'duration', 'pdays', 'job_admin.', 'job_entrepreneur', 'job_housemaid']\n",
      "Before V_used ['education_tertiary', 'default_yes', 'housing_no', 'education_unknown', 'job_student', 'default_no', 'contact_telephone', 'poutcome_failure', 'education_secondary', 'education_primary', 'contact_cellular', 'job_retired', 'job_blue-collar', 'campaign', 'job_unknown', 'poutcome_success', 'job_services', 'marital_single', 'loan_no', 'job_management', 'job_self-employed', 'previous', 'housing_yes', 'marital_married', 'poutcome_unknown', 'marital_divorced', 'job_technician', 'poutcome_other', 'balance', 'job_unemployed', 'loan_yes', 'job_housemaid', 'contact_unknown']\n",
      "Final V_used ['education_tertiary', 'default_yes', 'housing_no', 'education_unknown', 'job_student', 'default_no', 'contact_telephone', 'poutcome_failure', 'education_secondary', 'education_primary', 'contact_cellular', 'job_retired', 'job_blue-collar', 'campaign', 'job_unknown', 'poutcome_success', 'job_services', 'marital_single', 'loan_no', 'job_management', 'job_self-employed', 'previous', 'housing_yes', 'marital_married', 'poutcome_unknown', 'marital_divorced', 'job_technician', 'poutcome_other', 'balance', 'job_unemployed', 'loan_yes', 'contact_unknown']\n",
      "Original V_used ['education_tertiary', 'default_yes', 'housing_no', 'education_unknown', 'job_student', 'default_no', 'contact_telephone', 'poutcome_failure', 'education_secondary', 'education_primary', 'contact_cellular', 'job_retired', 'job_blue-collar', 'campaign', 'job_unknown', 'poutcome_success', 'job_services', 'marital_single', 'loan_no', 'job_management', 'job_self-employed', 'previous', 'housing_yes', 'marital_married', 'poutcome_unknown', 'marital_divorced', 'job_technician', 'poutcome_other', 'balance', 'job_unemployed', 'loan_yes', 'contact_unknown']\n",
      "After removal ['job_retired', 'job_self-employed', 'job_services', 'job_student', 'job_technician', 'job_unemployed', 'job_unknown', 'marital_divorced', 'marital_married', 'marital_single', 'education_primary', 'education_secondary', 'education_tertiary', 'education_unknown', 'default_no', 'default_yes', 'housing_no', 'housing_yes', 'loan_no', 'loan_yes', 'contact_cellular', 'contact_telephone', 'contact_unknown', 'poutcome_failure', 'poutcome_other', 'poutcome_success', 'poutcome_unknown']\n",
      "Gain is 9.99901874020884\n",
      "Before V_used ['education_tertiary', 'default_yes', 'housing_no', 'education_unknown', 'job_student', 'default_no', 'contact_telephone', 'poutcome_failure', 'education_secondary', 'education_primary', 'contact_cellular', 'job_retired', 'job_blue-collar', 'campaign', 'job_unknown', 'poutcome_success', 'job_services', 'marital_single', 'loan_no', 'job_management', 'job_self-employed', 'previous', 'housing_yes', 'marital_married', 'poutcome_unknown', 'marital_divorced', 'job_technician', 'poutcome_other', 'balance', 'job_unemployed', 'loan_yes', 'contact_unknown']\n",
      "Final V_used ['education_tertiary', 'default_yes', 'housing_no', 'education_unknown', 'job_student', 'default_no', 'contact_telephone', 'poutcome_failure', 'education_secondary', 'education_primary', 'contact_cellular', 'job_retired', 'job_blue-collar', 'campaign', 'job_unknown', 'poutcome_success', 'job_services', 'marital_single', 'loan_no', 'job_management', 'job_self-employed', 'previous', 'housing_yes', 'marital_married', 'poutcome_unknown', 'marital_divorced', 'job_technician', 'poutcome_other', 'balance', 'job_unemployed', 'loan_yes', 'contact_unknown']\n",
      "Original V_used ['education_tertiary', 'default_yes', 'housing_no', 'education_unknown', 'job_student', 'default_no', 'contact_telephone', 'poutcome_failure', 'education_secondary', 'education_primary', 'contact_cellular', 'job_retired', 'job_blue-collar', 'campaign', 'job_unknown', 'poutcome_success', 'job_services', 'marital_single', 'loan_no', 'job_management', 'job_self-employed', 'previous', 'housing_yes', 'marital_married', 'poutcome_unknown', 'marital_divorced', 'job_technician', 'poutcome_other', 'balance', 'job_unemployed', 'loan_yes', 'contact_unknown']\n",
      "After removal ['job_self-employed', 'job_services', 'job_student', 'job_technician', 'job_unemployed', 'job_unknown', 'marital_divorced', 'marital_married', 'marital_single', 'education_primary', 'education_secondary', 'education_tertiary', 'education_unknown', 'default_no', 'default_yes', 'housing_no', 'housing_yes', 'loan_no', 'loan_yes', 'contact_cellular', 'contact_telephone', 'contact_unknown', 'poutcome_failure', 'poutcome_other', 'poutcome_success', 'poutcome_unknown']\n",
      "Gain is 12.0016923408133\n",
      "Inside update v_best\n",
      "Improved Score ['age', 'day', 'month', 'duration', 'pdays', 'job_admin.', 'job_entrepreneur', 'job_housemaid', 'job_retired']\n",
      "Before V_used ['education_tertiary', 'default_yes', 'housing_no', 'education_unknown', 'job_student', 'default_no', 'contact_telephone', 'poutcome_failure', 'education_secondary', 'education_primary', 'contact_cellular', 'job_retired', 'job_blue-collar', 'campaign', 'job_unknown', 'poutcome_success', 'job_services', 'marital_single', 'loan_no', 'job_management', 'job_self-employed', 'previous', 'housing_yes', 'marital_married', 'poutcome_unknown', 'marital_divorced', 'job_technician', 'poutcome_other', 'balance', 'job_unemployed', 'loan_yes', 'contact_unknown']\n",
      "Final V_used ['education_tertiary', 'default_yes', 'housing_no', 'education_unknown', 'job_student', 'default_no', 'contact_telephone', 'poutcome_failure', 'education_secondary', 'education_primary', 'contact_cellular', 'job_blue-collar', 'campaign', 'job_unknown', 'poutcome_success', 'job_services', 'marital_single', 'loan_no', 'job_management', 'job_self-employed', 'previous', 'housing_yes', 'marital_married', 'poutcome_unknown', 'marital_divorced', 'job_technician', 'poutcome_other', 'balance', 'job_unemployed', 'loan_yes', 'contact_unknown']\n",
      "Original V_used ['education_tertiary', 'default_yes', 'housing_no', 'education_unknown', 'job_student', 'default_no', 'contact_telephone', 'poutcome_failure', 'education_secondary', 'education_primary', 'contact_cellular', 'job_blue-collar', 'campaign', 'job_unknown', 'poutcome_success', 'job_services', 'marital_single', 'loan_no', 'job_management', 'job_self-employed', 'previous', 'housing_yes', 'marital_married', 'poutcome_unknown', 'marital_divorced', 'job_technician', 'poutcome_other', 'balance', 'job_unemployed', 'loan_yes', 'contact_unknown']\n",
      "After removal ['job_services', 'job_student', 'job_technician', 'job_unemployed', 'job_unknown', 'marital_divorced', 'marital_married', 'marital_single', 'education_primary', 'education_secondary', 'education_tertiary', 'education_unknown', 'default_no', 'default_yes', 'housing_no', 'housing_yes', 'loan_no', 'loan_yes', 'contact_cellular', 'contact_telephone', 'contact_unknown', 'poutcome_failure', 'poutcome_other', 'poutcome_success', 'poutcome_unknown']\n"
     ]
    },
    {
     "name": "stdout",
     "output_type": "stream",
     "text": [
      "Gain is 11.982126743243064\n",
      "Before V_used ['education_tertiary', 'default_yes', 'housing_no', 'education_unknown', 'job_student', 'default_no', 'contact_telephone', 'poutcome_failure', 'education_secondary', 'education_primary', 'contact_cellular', 'job_blue-collar', 'campaign', 'job_unknown', 'poutcome_success', 'job_services', 'marital_single', 'loan_no', 'job_management', 'job_self-employed', 'previous', 'housing_yes', 'marital_married', 'poutcome_unknown', 'marital_divorced', 'job_technician', 'poutcome_other', 'balance', 'job_unemployed', 'loan_yes', 'contact_unknown']\n",
      "Final V_used ['education_tertiary', 'default_yes', 'housing_no', 'education_unknown', 'job_student', 'default_no', 'contact_telephone', 'poutcome_failure', 'education_secondary', 'education_primary', 'contact_cellular', 'job_blue-collar', 'campaign', 'job_unknown', 'poutcome_success', 'job_services', 'marital_single', 'loan_no', 'job_management', 'job_self-employed', 'previous', 'housing_yes', 'marital_married', 'poutcome_unknown', 'marital_divorced', 'job_technician', 'poutcome_other', 'balance', 'job_unemployed', 'loan_yes', 'contact_unknown']\n",
      "Original V_used ['education_tertiary', 'default_yes', 'housing_no', 'education_unknown', 'job_student', 'default_no', 'contact_telephone', 'poutcome_failure', 'education_secondary', 'education_primary', 'contact_cellular', 'job_blue-collar', 'campaign', 'job_unknown', 'poutcome_success', 'job_services', 'marital_single', 'loan_no', 'job_management', 'job_self-employed', 'previous', 'housing_yes', 'marital_married', 'poutcome_unknown', 'marital_divorced', 'job_technician', 'poutcome_other', 'balance', 'job_unemployed', 'loan_yes', 'contact_unknown']\n",
      "After removal ['job_student', 'job_technician', 'job_unemployed', 'job_unknown', 'marital_divorced', 'marital_married', 'marital_single', 'education_primary', 'education_secondary', 'education_tertiary', 'education_unknown', 'default_no', 'default_yes', 'housing_no', 'housing_yes', 'loan_no', 'loan_yes', 'contact_cellular', 'contact_telephone', 'contact_unknown', 'poutcome_failure', 'poutcome_other', 'poutcome_success', 'poutcome_unknown']\n",
      "Gain is 13.999424546747143\n",
      "Inside update v_best\n",
      "Improved Score ['age', 'day', 'month', 'duration', 'pdays', 'job_admin.', 'job_entrepreneur', 'job_housemaid', 'job_retired', 'job_services']\n",
      "Before V_used ['education_tertiary', 'default_yes', 'housing_no', 'education_unknown', 'job_student', 'default_no', 'contact_telephone', 'poutcome_failure', 'education_secondary', 'education_primary', 'contact_cellular', 'job_blue-collar', 'campaign', 'job_unknown', 'poutcome_success', 'job_services', 'marital_single', 'loan_no', 'job_management', 'job_self-employed', 'previous', 'housing_yes', 'marital_married', 'poutcome_unknown', 'marital_divorced', 'job_technician', 'poutcome_other', 'balance', 'job_unemployed', 'loan_yes', 'contact_unknown']\n",
      "Final V_used ['education_tertiary', 'default_yes', 'housing_no', 'education_unknown', 'job_student', 'default_no', 'contact_telephone', 'poutcome_failure', 'education_secondary', 'education_primary', 'contact_cellular', 'job_blue-collar', 'campaign', 'job_unknown', 'poutcome_success', 'marital_single', 'loan_no', 'job_management', 'job_self-employed', 'previous', 'housing_yes', 'marital_married', 'poutcome_unknown', 'marital_divorced', 'job_technician', 'poutcome_other', 'balance', 'job_unemployed', 'loan_yes', 'contact_unknown']\n",
      "Original V_used ['education_tertiary', 'default_yes', 'housing_no', 'education_unknown', 'job_student', 'default_no', 'contact_telephone', 'poutcome_failure', 'education_secondary', 'education_primary', 'contact_cellular', 'job_blue-collar', 'campaign', 'job_unknown', 'poutcome_success', 'marital_single', 'loan_no', 'job_management', 'job_self-employed', 'previous', 'housing_yes', 'marital_married', 'poutcome_unknown', 'marital_divorced', 'job_technician', 'poutcome_other', 'balance', 'job_unemployed', 'loan_yes', 'contact_unknown']\n",
      "After removal ['job_technician', 'job_unemployed', 'job_unknown', 'marital_divorced', 'marital_married', 'marital_single', 'education_primary', 'education_secondary', 'education_tertiary', 'education_unknown', 'default_no', 'default_yes', 'housing_no', 'housing_yes', 'loan_no', 'loan_yes', 'contact_cellular', 'contact_telephone', 'contact_unknown', 'poutcome_failure', 'poutcome_other', 'poutcome_success', 'poutcome_unknown']\n",
      "Gain is 14.021531969504274\n",
      "Inside update v_best\n",
      "Improved Score ['age', 'day', 'month', 'duration', 'pdays', 'job_admin.', 'job_entrepreneur', 'job_housemaid', 'job_retired', 'job_services', 'job_student']\n",
      "Before V_used ['education_tertiary', 'default_yes', 'housing_no', 'education_unknown', 'job_student', 'default_no', 'contact_telephone', 'poutcome_failure', 'education_secondary', 'education_primary', 'contact_cellular', 'job_blue-collar', 'campaign', 'job_unknown', 'poutcome_success', 'marital_single', 'loan_no', 'job_management', 'job_self-employed', 'previous', 'housing_yes', 'marital_married', 'poutcome_unknown', 'marital_divorced', 'job_technician', 'poutcome_other', 'balance', 'job_unemployed', 'loan_yes', 'contact_unknown']\n",
      "Final V_used ['education_tertiary', 'default_yes', 'housing_no', 'education_unknown', 'default_no', 'contact_telephone', 'poutcome_failure', 'education_secondary', 'education_primary', 'contact_cellular', 'job_blue-collar', 'campaign', 'job_unknown', 'poutcome_success', 'marital_single', 'loan_no', 'job_management', 'job_self-employed', 'previous', 'housing_yes', 'marital_married', 'poutcome_unknown', 'marital_divorced', 'job_technician', 'poutcome_other', 'balance', 'job_unemployed', 'loan_yes', 'contact_unknown']\n",
      "Original V_used ['education_tertiary', 'default_yes', 'housing_no', 'education_unknown', 'default_no', 'contact_telephone', 'poutcome_failure', 'education_secondary', 'education_primary', 'contact_cellular', 'job_blue-collar', 'campaign', 'job_unknown', 'poutcome_success', 'marital_single', 'loan_no', 'job_management', 'job_self-employed', 'previous', 'housing_yes', 'marital_married', 'poutcome_unknown', 'marital_divorced', 'job_technician', 'poutcome_other', 'balance', 'job_unemployed', 'loan_yes', 'contact_unknown']\n",
      "After removal ['job_unemployed', 'job_unknown', 'marital_divorced', 'marital_married', 'marital_single', 'education_primary', 'education_secondary', 'education_tertiary', 'education_unknown', 'default_no', 'default_yes', 'housing_no', 'housing_yes', 'loan_no', 'loan_yes', 'contact_cellular', 'contact_telephone', 'contact_unknown', 'poutcome_failure', 'poutcome_other', 'poutcome_success', 'poutcome_unknown']\n",
      "Gain is 13.992492160075635\n",
      "Before V_used ['education_tertiary', 'default_yes', 'housing_no', 'education_unknown', 'default_no', 'contact_telephone', 'poutcome_failure', 'education_secondary', 'education_primary', 'contact_cellular', 'job_blue-collar', 'campaign', 'job_unknown', 'poutcome_success', 'marital_single', 'loan_no', 'job_management', 'job_self-employed', 'previous', 'housing_yes', 'marital_married', 'poutcome_unknown', 'marital_divorced', 'job_technician', 'poutcome_other', 'balance', 'job_unemployed', 'loan_yes', 'contact_unknown']\n",
      "Final V_used ['education_tertiary', 'default_yes', 'housing_no', 'education_unknown', 'default_no', 'contact_telephone', 'poutcome_failure', 'education_secondary', 'education_primary', 'contact_cellular', 'job_blue-collar', 'campaign', 'job_unknown', 'poutcome_success', 'marital_single', 'loan_no', 'job_management', 'job_self-employed', 'previous', 'housing_yes', 'marital_married', 'poutcome_unknown', 'marital_divorced', 'job_technician', 'poutcome_other', 'balance', 'job_unemployed', 'loan_yes', 'contact_unknown']\n",
      "Original V_used ['education_tertiary', 'default_yes', 'housing_no', 'education_unknown', 'default_no', 'contact_telephone', 'poutcome_failure', 'education_secondary', 'education_primary', 'contact_cellular', 'job_blue-collar', 'campaign', 'job_unknown', 'poutcome_success', 'marital_single', 'loan_no', 'job_management', 'job_self-employed', 'previous', 'housing_yes', 'marital_married', 'poutcome_unknown', 'marital_divorced', 'job_technician', 'poutcome_other', 'balance', 'job_unemployed', 'loan_yes', 'contact_unknown']\n",
      "After removal ['job_unknown', 'marital_divorced', 'marital_married', 'marital_single', 'education_primary', 'education_secondary', 'education_tertiary', 'education_unknown', 'default_no', 'default_yes', 'housing_no', 'housing_yes', 'loan_no', 'loan_yes', 'contact_cellular', 'contact_telephone', 'contact_unknown', 'poutcome_failure', 'poutcome_other', 'poutcome_success', 'poutcome_unknown']\n",
      "Gain is 15.998853120854612\n",
      "Inside update v_best\n",
      "Improved Score ['age', 'day', 'month', 'duration', 'pdays', 'job_admin.', 'job_entrepreneur', 'job_housemaid', 'job_retired', 'job_services', 'job_student', 'job_unemployed']\n",
      "Before V_used ['education_tertiary', 'default_yes', 'housing_no', 'education_unknown', 'default_no', 'contact_telephone', 'poutcome_failure', 'education_secondary', 'education_primary', 'contact_cellular', 'job_blue-collar', 'campaign', 'job_unknown', 'poutcome_success', 'marital_single', 'loan_no', 'job_management', 'job_self-employed', 'previous', 'housing_yes', 'marital_married', 'poutcome_unknown', 'marital_divorced', 'job_technician', 'poutcome_other', 'balance', 'job_unemployed', 'loan_yes', 'contact_unknown']\n",
      "Final V_used ['education_tertiary', 'default_yes', 'housing_no', 'education_unknown', 'default_no', 'contact_telephone', 'poutcome_failure', 'education_secondary', 'education_primary', 'contact_cellular', 'job_blue-collar', 'campaign', 'job_unknown', 'poutcome_success', 'marital_single', 'loan_no', 'job_management', 'job_self-employed', 'previous', 'housing_yes', 'marital_married', 'poutcome_unknown', 'marital_divorced', 'job_technician', 'poutcome_other', 'balance', 'loan_yes', 'contact_unknown']\n",
      "Original V_used ['education_tertiary', 'default_yes', 'housing_no', 'education_unknown', 'default_no', 'contact_telephone', 'poutcome_failure', 'education_secondary', 'education_primary', 'contact_cellular', 'job_blue-collar', 'campaign', 'job_unknown', 'poutcome_success', 'marital_single', 'loan_no', 'job_management', 'job_self-employed', 'previous', 'housing_yes', 'marital_married', 'poutcome_unknown', 'marital_divorced', 'job_technician', 'poutcome_other', 'balance', 'loan_yes', 'contact_unknown']\n",
      "After removal ['marital_divorced', 'marital_married', 'marital_single', 'education_primary', 'education_secondary', 'education_tertiary', 'education_unknown', 'default_no', 'default_yes', 'housing_no', 'housing_yes', 'loan_no', 'loan_yes', 'contact_cellular', 'contact_telephone', 'contact_unknown', 'poutcome_failure', 'poutcome_other', 'poutcome_success', 'poutcome_unknown']\n",
      "Gain is 16.016902370228774\n",
      "Inside update v_best\n",
      "Improved Score ['age', 'day', 'month', 'duration', 'pdays', 'job_admin.', 'job_entrepreneur', 'job_housemaid', 'job_retired', 'job_services', 'job_student', 'job_unemployed', 'job_unknown']\n",
      "Before V_used ['education_tertiary', 'default_yes', 'housing_no', 'education_unknown', 'default_no', 'contact_telephone', 'poutcome_failure', 'education_secondary', 'education_primary', 'contact_cellular', 'job_blue-collar', 'campaign', 'job_unknown', 'poutcome_success', 'marital_single', 'loan_no', 'job_management', 'job_self-employed', 'previous', 'housing_yes', 'marital_married', 'poutcome_unknown', 'marital_divorced', 'job_technician', 'poutcome_other', 'balance', 'loan_yes', 'contact_unknown']\n",
      "Final V_used ['education_tertiary', 'default_yes', 'housing_no', 'education_unknown', 'default_no', 'contact_telephone', 'poutcome_failure', 'education_secondary', 'education_primary', 'contact_cellular', 'job_blue-collar', 'campaign', 'poutcome_success', 'marital_single', 'loan_no', 'job_management', 'job_self-employed', 'previous', 'housing_yes', 'marital_married', 'poutcome_unknown', 'marital_divorced', 'job_technician', 'poutcome_other', 'balance', 'loan_yes', 'contact_unknown']\n",
      "Original V_used ['education_tertiary', 'default_yes', 'housing_no', 'education_unknown', 'default_no', 'contact_telephone', 'poutcome_failure', 'education_secondary', 'education_primary', 'contact_cellular', 'job_blue-collar', 'campaign', 'poutcome_success', 'marital_single', 'loan_no', 'job_management', 'job_self-employed', 'previous', 'housing_yes', 'marital_married', 'poutcome_unknown', 'marital_divorced', 'job_technician', 'poutcome_other', 'balance', 'loan_yes', 'contact_unknown']\n",
      "After removal ['marital_married', 'marital_single', 'education_primary', 'education_secondary', 'education_tertiary', 'education_unknown', 'default_no', 'default_yes', 'housing_no', 'housing_yes', 'loan_no', 'loan_yes', 'contact_cellular', 'contact_telephone', 'contact_unknown', 'poutcome_failure', 'poutcome_other', 'poutcome_success', 'poutcome_unknown']\n"
     ]
    },
    {
     "name": "stdout",
     "output_type": "stream",
     "text": [
      "Gain is 16.007579134131802\n",
      "Before V_used ['education_tertiary', 'default_yes', 'housing_no', 'education_unknown', 'default_no', 'contact_telephone', 'poutcome_failure', 'education_secondary', 'education_primary', 'contact_cellular', 'job_blue-collar', 'campaign', 'poutcome_success', 'marital_single', 'loan_no', 'job_management', 'job_self-employed', 'previous', 'housing_yes', 'marital_married', 'poutcome_unknown', 'marital_divorced', 'job_technician', 'poutcome_other', 'balance', 'loan_yes', 'contact_unknown']\n",
      "Final V_used ['education_tertiary', 'default_yes', 'housing_no', 'education_unknown', 'default_no', 'contact_telephone', 'poutcome_failure', 'education_secondary', 'education_primary', 'contact_cellular', 'job_blue-collar', 'campaign', 'poutcome_success', 'marital_single', 'loan_no', 'job_management', 'job_self-employed', 'previous', 'housing_yes', 'marital_married', 'poutcome_unknown', 'marital_divorced', 'job_technician', 'poutcome_other', 'balance', 'loan_yes', 'contact_unknown']\n",
      "Original V_used ['education_tertiary', 'default_yes', 'housing_no', 'education_unknown', 'default_no', 'contact_telephone', 'poutcome_failure', 'education_secondary', 'education_primary', 'contact_cellular', 'job_blue-collar', 'campaign', 'poutcome_success', 'marital_single', 'loan_no', 'job_management', 'job_self-employed', 'previous', 'housing_yes', 'marital_married', 'poutcome_unknown', 'marital_divorced', 'job_technician', 'poutcome_other', 'balance', 'loan_yes', 'contact_unknown']\n",
      "After removal ['marital_single', 'education_primary', 'education_secondary', 'education_tertiary', 'education_unknown', 'default_no', 'default_yes', 'housing_no', 'housing_yes', 'loan_no', 'loan_yes', 'contact_cellular', 'contact_telephone', 'contact_unknown', 'poutcome_failure', 'poutcome_other', 'poutcome_success', 'poutcome_unknown']\n",
      "Gain is 18.017781901366355\n",
      "Inside update v_best\n",
      "Improved Score ['age', 'day', 'month', 'duration', 'pdays', 'job_admin.', 'job_entrepreneur', 'job_housemaid', 'job_retired', 'job_services', 'job_student', 'job_unemployed', 'job_unknown', 'marital_married']\n",
      "Before V_used ['education_tertiary', 'default_yes', 'housing_no', 'education_unknown', 'default_no', 'contact_telephone', 'poutcome_failure', 'education_secondary', 'education_primary', 'contact_cellular', 'job_blue-collar', 'campaign', 'poutcome_success', 'marital_single', 'loan_no', 'job_management', 'job_self-employed', 'previous', 'housing_yes', 'marital_married', 'poutcome_unknown', 'marital_divorced', 'job_technician', 'poutcome_other', 'balance', 'loan_yes', 'contact_unknown']\n",
      "Final V_used ['education_tertiary', 'default_yes', 'housing_no', 'education_unknown', 'default_no', 'contact_telephone', 'poutcome_failure', 'education_secondary', 'education_primary', 'contact_cellular', 'job_blue-collar', 'campaign', 'poutcome_success', 'marital_single', 'loan_no', 'job_management', 'job_self-employed', 'previous', 'housing_yes', 'poutcome_unknown', 'marital_divorced', 'job_technician', 'poutcome_other', 'balance', 'loan_yes', 'contact_unknown']\n",
      "Original V_used ['education_tertiary', 'default_yes', 'housing_no', 'education_unknown', 'default_no', 'contact_telephone', 'poutcome_failure', 'education_secondary', 'education_primary', 'contact_cellular', 'job_blue-collar', 'campaign', 'poutcome_success', 'marital_single', 'loan_no', 'job_management', 'job_self-employed', 'previous', 'housing_yes', 'poutcome_unknown', 'marital_divorced', 'job_technician', 'poutcome_other', 'balance', 'loan_yes', 'contact_unknown']\n",
      "After removal ['education_primary', 'education_secondary', 'education_tertiary', 'education_unknown', 'default_no', 'default_yes', 'housing_no', 'housing_yes', 'loan_no', 'loan_yes', 'contact_cellular', 'contact_telephone', 'contact_unknown', 'poutcome_failure', 'poutcome_other', 'poutcome_success', 'poutcome_unknown']\n",
      "Gain is 17.987846427473535\n",
      "Before V_used ['education_tertiary', 'default_yes', 'housing_no', 'education_unknown', 'default_no', 'contact_telephone', 'poutcome_failure', 'education_secondary', 'education_primary', 'contact_cellular', 'job_blue-collar', 'campaign', 'poutcome_success', 'marital_single', 'loan_no', 'job_management', 'job_self-employed', 'previous', 'housing_yes', 'poutcome_unknown', 'marital_divorced', 'job_technician', 'poutcome_other', 'balance', 'loan_yes', 'contact_unknown']\n",
      "Final V_used ['education_tertiary', 'default_yes', 'housing_no', 'education_unknown', 'default_no', 'contact_telephone', 'poutcome_failure', 'education_secondary', 'education_primary', 'contact_cellular', 'job_blue-collar', 'campaign', 'poutcome_success', 'marital_single', 'loan_no', 'job_management', 'job_self-employed', 'previous', 'housing_yes', 'poutcome_unknown', 'marital_divorced', 'job_technician', 'poutcome_other', 'balance', 'loan_yes', 'contact_unknown']\n",
      "Original V_used ['education_tertiary', 'default_yes', 'housing_no', 'education_unknown', 'default_no', 'contact_telephone', 'poutcome_failure', 'education_secondary', 'education_primary', 'contact_cellular', 'job_blue-collar', 'campaign', 'poutcome_success', 'marital_single', 'loan_no', 'job_management', 'job_self-employed', 'previous', 'housing_yes', 'poutcome_unknown', 'marital_divorced', 'job_technician', 'poutcome_other', 'balance', 'loan_yes', 'contact_unknown']\n",
      "After removal ['education_secondary', 'education_tertiary', 'education_unknown', 'default_no', 'default_yes', 'housing_no', 'housing_yes', 'loan_no', 'loan_yes', 'contact_cellular', 'contact_telephone', 'contact_unknown', 'poutcome_failure', 'poutcome_other', 'poutcome_success', 'poutcome_unknown']\n",
      "Gain is 20.003447325152234\n",
      "Inside update v_best\n",
      "Improved Score ['age', 'day', 'month', 'duration', 'pdays', 'job_admin.', 'job_entrepreneur', 'job_housemaid', 'job_retired', 'job_services', 'job_student', 'job_unemployed', 'job_unknown', 'marital_married', 'education_primary']\n",
      "Before V_used ['education_tertiary', 'default_yes', 'housing_no', 'education_unknown', 'default_no', 'contact_telephone', 'poutcome_failure', 'education_secondary', 'education_primary', 'contact_cellular', 'job_blue-collar', 'campaign', 'poutcome_success', 'marital_single', 'loan_no', 'job_management', 'job_self-employed', 'previous', 'housing_yes', 'poutcome_unknown', 'marital_divorced', 'job_technician', 'poutcome_other', 'balance', 'loan_yes', 'contact_unknown']\n",
      "Final V_used ['education_tertiary', 'default_yes', 'housing_no', 'education_unknown', 'default_no', 'contact_telephone', 'poutcome_failure', 'education_secondary', 'contact_cellular', 'job_blue-collar', 'campaign', 'poutcome_success', 'marital_single', 'loan_no', 'job_management', 'job_self-employed', 'previous', 'housing_yes', 'poutcome_unknown', 'marital_divorced', 'job_technician', 'poutcome_other', 'balance', 'loan_yes', 'contact_unknown']\n",
      "Original V_used ['education_tertiary', 'default_yes', 'housing_no', 'education_unknown', 'default_no', 'contact_telephone', 'poutcome_failure', 'education_secondary', 'contact_cellular', 'job_blue-collar', 'campaign', 'poutcome_success', 'marital_single', 'loan_no', 'job_management', 'job_self-employed', 'previous', 'housing_yes', 'poutcome_unknown', 'marital_divorced', 'job_technician', 'poutcome_other', 'balance', 'loan_yes', 'contact_unknown']\n",
      "After removal ['education_tertiary', 'education_unknown', 'default_no', 'default_yes', 'housing_no', 'housing_yes', 'loan_no', 'loan_yes', 'contact_cellular', 'contact_telephone', 'contact_unknown', 'poutcome_failure', 'poutcome_other', 'poutcome_success', 'poutcome_unknown']\n",
      "Gain is 20.01124874769723\n",
      "Inside update v_best\n",
      "Improved Score ['age', 'day', 'month', 'duration', 'pdays', 'job_admin.', 'job_entrepreneur', 'job_housemaid', 'job_retired', 'job_services', 'job_student', 'job_unemployed', 'job_unknown', 'marital_married', 'education_primary', 'education_secondary']\n",
      "Before V_used ['education_tertiary', 'default_yes', 'housing_no', 'education_unknown', 'default_no', 'contact_telephone', 'poutcome_failure', 'education_secondary', 'contact_cellular', 'job_blue-collar', 'campaign', 'poutcome_success', 'marital_single', 'loan_no', 'job_management', 'job_self-employed', 'previous', 'housing_yes', 'poutcome_unknown', 'marital_divorced', 'job_technician', 'poutcome_other', 'balance', 'loan_yes', 'contact_unknown']\n",
      "Final V_used ['education_tertiary', 'default_yes', 'housing_no', 'education_unknown', 'default_no', 'contact_telephone', 'poutcome_failure', 'contact_cellular', 'job_blue-collar', 'campaign', 'poutcome_success', 'marital_single', 'loan_no', 'job_management', 'job_self-employed', 'previous', 'housing_yes', 'poutcome_unknown', 'marital_divorced', 'job_technician', 'poutcome_other', 'balance', 'loan_yes', 'contact_unknown']\n",
      "Original V_used ['education_tertiary', 'default_yes', 'housing_no', 'education_unknown', 'default_no', 'contact_telephone', 'poutcome_failure', 'contact_cellular', 'job_blue-collar', 'campaign', 'poutcome_success', 'marital_single', 'loan_no', 'job_management', 'job_self-employed', 'previous', 'housing_yes', 'poutcome_unknown', 'marital_divorced', 'job_technician', 'poutcome_other', 'balance', 'loan_yes', 'contact_unknown']\n",
      "After removal ['education_unknown', 'default_no', 'default_yes', 'housing_no', 'housing_yes', 'loan_no', 'loan_yes', 'contact_cellular', 'contact_telephone', 'contact_unknown', 'poutcome_failure', 'poutcome_other', 'poutcome_success', 'poutcome_unknown']\n",
      "Gain is 20.000696613818988\n",
      "Before V_used ['education_tertiary', 'default_yes', 'housing_no', 'education_unknown', 'default_no', 'contact_telephone', 'poutcome_failure', 'contact_cellular', 'job_blue-collar', 'campaign', 'poutcome_success', 'marital_single', 'loan_no', 'job_management', 'job_self-employed', 'previous', 'housing_yes', 'poutcome_unknown', 'marital_divorced', 'job_technician', 'poutcome_other', 'balance', 'loan_yes', 'contact_unknown']\n",
      "Final V_used ['education_tertiary', 'default_yes', 'housing_no', 'education_unknown', 'default_no', 'contact_telephone', 'poutcome_failure', 'contact_cellular', 'job_blue-collar', 'campaign', 'poutcome_success', 'marital_single', 'loan_no', 'job_management', 'job_self-employed', 'previous', 'housing_yes', 'poutcome_unknown', 'marital_divorced', 'job_technician', 'poutcome_other', 'balance', 'loan_yes', 'contact_unknown']\n",
      "Original V_used ['education_tertiary', 'default_yes', 'housing_no', 'education_unknown', 'default_no', 'contact_telephone', 'poutcome_failure', 'contact_cellular', 'job_blue-collar', 'campaign', 'poutcome_success', 'marital_single', 'loan_no', 'job_management', 'job_self-employed', 'previous', 'housing_yes', 'poutcome_unknown', 'marital_divorced', 'job_technician', 'poutcome_other', 'balance', 'loan_yes', 'contact_unknown']\n",
      "After removal ['default_no', 'default_yes', 'housing_no', 'housing_yes', 'loan_no', 'loan_yes', 'contact_cellular', 'contact_telephone', 'contact_unknown', 'poutcome_failure', 'poutcome_other', 'poutcome_success', 'poutcome_unknown']\n"
     ]
    },
    {
     "name": "stdout",
     "output_type": "stream",
     "text": [
      "Gain is 22.01768173548973\n",
      "Inside update v_best\n",
      "Improved Score ['age', 'day', 'month', 'duration', 'pdays', 'job_admin.', 'job_entrepreneur', 'job_housemaid', 'job_retired', 'job_services', 'job_student', 'job_unemployed', 'job_unknown', 'marital_married', 'education_primary', 'education_secondary', 'education_unknown']\n",
      "Before V_used ['education_tertiary', 'default_yes', 'housing_no', 'education_unknown', 'default_no', 'contact_telephone', 'poutcome_failure', 'contact_cellular', 'job_blue-collar', 'campaign', 'poutcome_success', 'marital_single', 'loan_no', 'job_management', 'job_self-employed', 'previous', 'housing_yes', 'poutcome_unknown', 'marital_divorced', 'job_technician', 'poutcome_other', 'balance', 'loan_yes', 'contact_unknown']\n",
      "Final V_used ['education_tertiary', 'default_yes', 'housing_no', 'default_no', 'contact_telephone', 'poutcome_failure', 'contact_cellular', 'job_blue-collar', 'campaign', 'poutcome_success', 'marital_single', 'loan_no', 'job_management', 'job_self-employed', 'previous', 'housing_yes', 'poutcome_unknown', 'marital_divorced', 'job_technician', 'poutcome_other', 'balance', 'loan_yes', 'contact_unknown']\n",
      "Original V_used ['education_tertiary', 'default_yes', 'housing_no', 'default_no', 'contact_telephone', 'poutcome_failure', 'contact_cellular', 'job_blue-collar', 'campaign', 'poutcome_success', 'marital_single', 'loan_no', 'job_management', 'job_self-employed', 'previous', 'housing_yes', 'poutcome_unknown', 'marital_divorced', 'job_technician', 'poutcome_other', 'balance', 'loan_yes', 'contact_unknown']\n",
      "After removal ['default_yes', 'housing_no', 'housing_yes', 'loan_no', 'loan_yes', 'contact_cellular', 'contact_telephone', 'contact_unknown', 'poutcome_failure', 'poutcome_other', 'poutcome_success', 'poutcome_unknown']\n",
      "Gain is 22.011698544196648\n",
      "Before V_used ['education_tertiary', 'default_yes', 'housing_no', 'default_no', 'contact_telephone', 'poutcome_failure', 'contact_cellular', 'job_blue-collar', 'campaign', 'poutcome_success', 'marital_single', 'loan_no', 'job_management', 'job_self-employed', 'previous', 'housing_yes', 'poutcome_unknown', 'marital_divorced', 'job_technician', 'poutcome_other', 'balance', 'loan_yes', 'contact_unknown']\n",
      "Final V_used ['education_tertiary', 'default_yes', 'housing_no', 'default_no', 'contact_telephone', 'poutcome_failure', 'contact_cellular', 'job_blue-collar', 'campaign', 'poutcome_success', 'marital_single', 'loan_no', 'job_management', 'job_self-employed', 'previous', 'housing_yes', 'poutcome_unknown', 'marital_divorced', 'job_technician', 'poutcome_other', 'balance', 'loan_yes', 'contact_unknown']\n",
      "Original V_used ['education_tertiary', 'default_yes', 'housing_no', 'default_no', 'contact_telephone', 'poutcome_failure', 'contact_cellular', 'job_blue-collar', 'campaign', 'poutcome_success', 'marital_single', 'loan_no', 'job_management', 'job_self-employed', 'previous', 'housing_yes', 'poutcome_unknown', 'marital_divorced', 'job_technician', 'poutcome_other', 'balance', 'loan_yes', 'contact_unknown']\n",
      "After removal ['housing_no', 'housing_yes', 'loan_no', 'loan_yes', 'contact_cellular', 'contact_telephone', 'contact_unknown', 'poutcome_failure', 'poutcome_other', 'poutcome_success', 'poutcome_unknown']\n",
      "Gain is 24.00393108771742\n",
      "Inside update v_best\n",
      "Improved Score ['age', 'day', 'month', 'duration', 'pdays', 'job_admin.', 'job_entrepreneur', 'job_housemaid', 'job_retired', 'job_services', 'job_student', 'job_unemployed', 'job_unknown', 'marital_married', 'education_primary', 'education_secondary', 'education_unknown', 'default_yes']\n",
      "Before V_used ['education_tertiary', 'default_yes', 'housing_no', 'default_no', 'contact_telephone', 'poutcome_failure', 'contact_cellular', 'job_blue-collar', 'campaign', 'poutcome_success', 'marital_single', 'loan_no', 'job_management', 'job_self-employed', 'previous', 'housing_yes', 'poutcome_unknown', 'marital_divorced', 'job_technician', 'poutcome_other', 'balance', 'loan_yes', 'contact_unknown']\n",
      "Final V_used ['education_tertiary', 'housing_no', 'default_no', 'contact_telephone', 'poutcome_failure', 'contact_cellular', 'job_blue-collar', 'campaign', 'poutcome_success', 'marital_single', 'loan_no', 'job_management', 'job_self-employed', 'previous', 'housing_yes', 'poutcome_unknown', 'marital_divorced', 'job_technician', 'poutcome_other', 'balance', 'loan_yes', 'contact_unknown']\n",
      "Original V_used ['education_tertiary', 'housing_no', 'default_no', 'contact_telephone', 'poutcome_failure', 'contact_cellular', 'job_blue-collar', 'campaign', 'poutcome_success', 'marital_single', 'loan_no', 'job_management', 'job_self-employed', 'previous', 'housing_yes', 'poutcome_unknown', 'marital_divorced', 'job_technician', 'poutcome_other', 'balance', 'loan_yes', 'contact_unknown']\n",
      "After removal ['housing_yes', 'loan_no', 'loan_yes', 'contact_cellular', 'contact_telephone', 'contact_unknown', 'poutcome_failure', 'poutcome_other', 'poutcome_success', 'poutcome_unknown']\n",
      "Gain is 23.988591256701625\n",
      "Before V_used ['education_tertiary', 'housing_no', 'default_no', 'contact_telephone', 'poutcome_failure', 'contact_cellular', 'job_blue-collar', 'campaign', 'poutcome_success', 'marital_single', 'loan_no', 'job_management', 'job_self-employed', 'previous', 'housing_yes', 'poutcome_unknown', 'marital_divorced', 'job_technician', 'poutcome_other', 'balance', 'loan_yes', 'contact_unknown']\n",
      "Final V_used ['education_tertiary', 'housing_no', 'default_no', 'contact_telephone', 'poutcome_failure', 'contact_cellular', 'job_blue-collar', 'campaign', 'poutcome_success', 'marital_single', 'loan_no', 'job_management', 'job_self-employed', 'previous', 'housing_yes', 'poutcome_unknown', 'marital_divorced', 'job_technician', 'poutcome_other', 'balance', 'loan_yes', 'contact_unknown']\n",
      "Original V_used ['education_tertiary', 'housing_no', 'default_no', 'contact_telephone', 'poutcome_failure', 'contact_cellular', 'job_blue-collar', 'campaign', 'poutcome_success', 'marital_single', 'loan_no', 'job_management', 'job_self-employed', 'previous', 'housing_yes', 'poutcome_unknown', 'marital_divorced', 'job_technician', 'poutcome_other', 'balance', 'loan_yes', 'contact_unknown']\n",
      "After removal ['loan_no', 'loan_yes', 'contact_cellular', 'contact_telephone', 'contact_unknown', 'poutcome_failure', 'poutcome_other', 'poutcome_success', 'poutcome_unknown']\n",
      "Gain is 26.020542621823047\n",
      "Inside update v_best\n",
      "Improved Score ['age', 'day', 'month', 'duration', 'pdays', 'job_admin.', 'job_entrepreneur', 'job_housemaid', 'job_retired', 'job_services', 'job_student', 'job_unemployed', 'job_unknown', 'marital_married', 'education_primary', 'education_secondary', 'education_unknown', 'default_yes', 'housing_yes']\n",
      "Before V_used ['education_tertiary', 'housing_no', 'default_no', 'contact_telephone', 'poutcome_failure', 'contact_cellular', 'job_blue-collar', 'campaign', 'poutcome_success', 'marital_single', 'loan_no', 'job_management', 'job_self-employed', 'previous', 'housing_yes', 'poutcome_unknown', 'marital_divorced', 'job_technician', 'poutcome_other', 'balance', 'loan_yes', 'contact_unknown']\n",
      "Final V_used ['education_tertiary', 'housing_no', 'default_no', 'contact_telephone', 'poutcome_failure', 'contact_cellular', 'job_blue-collar', 'campaign', 'poutcome_success', 'marital_single', 'loan_no', 'job_management', 'job_self-employed', 'previous', 'poutcome_unknown', 'marital_divorced', 'job_technician', 'poutcome_other', 'balance', 'loan_yes', 'contact_unknown']\n",
      "Original V_used ['education_tertiary', 'housing_no', 'default_no', 'contact_telephone', 'poutcome_failure', 'contact_cellular', 'job_blue-collar', 'campaign', 'poutcome_success', 'marital_single', 'loan_no', 'job_management', 'job_self-employed', 'previous', 'poutcome_unknown', 'marital_divorced', 'job_technician', 'poutcome_other', 'balance', 'loan_yes', 'contact_unknown']\n",
      "After removal ['loan_yes', 'contact_cellular', 'contact_telephone', 'contact_unknown', 'poutcome_failure', 'poutcome_other', 'poutcome_success', 'poutcome_unknown']\n",
      "Gain is 26.02101949778749\n",
      "Inside update v_best\n",
      "Improved Score ['age', 'day', 'month', 'duration', 'pdays', 'job_admin.', 'job_entrepreneur', 'job_housemaid', 'job_retired', 'job_services', 'job_student', 'job_unemployed', 'job_unknown', 'marital_married', 'education_primary', 'education_secondary', 'education_unknown', 'default_yes', 'housing_yes', 'loan_no']\n",
      "Before V_used ['education_tertiary', 'housing_no', 'default_no', 'contact_telephone', 'poutcome_failure', 'contact_cellular', 'job_blue-collar', 'campaign', 'poutcome_success', 'marital_single', 'loan_no', 'job_management', 'job_self-employed', 'previous', 'poutcome_unknown', 'marital_divorced', 'job_technician', 'poutcome_other', 'balance', 'loan_yes', 'contact_unknown']\n",
      "Final V_used ['education_tertiary', 'housing_no', 'default_no', 'contact_telephone', 'poutcome_failure', 'contact_cellular', 'job_blue-collar', 'campaign', 'poutcome_success', 'marital_single', 'job_management', 'job_self-employed', 'previous', 'poutcome_unknown', 'marital_divorced', 'job_technician', 'poutcome_other', 'balance', 'loan_yes', 'contact_unknown']\n",
      "Original V_used ['education_tertiary', 'housing_no', 'default_no', 'contact_telephone', 'poutcome_failure', 'contact_cellular', 'job_blue-collar', 'campaign', 'poutcome_success', 'marital_single', 'job_management', 'job_self-employed', 'previous', 'poutcome_unknown', 'marital_divorced', 'job_technician', 'poutcome_other', 'balance', 'loan_yes', 'contact_unknown']\n",
      "After removal ['contact_cellular', 'contact_telephone', 'contact_unknown', 'poutcome_failure', 'poutcome_other', 'poutcome_success', 'poutcome_unknown']\n",
      "Gain is 26.0298074061189\n",
      "Inside update v_best\n",
      "Improved Score ['age', 'day', 'month', 'duration', 'pdays', 'job_admin.', 'job_entrepreneur', 'job_housemaid', 'job_retired', 'job_services', 'job_student', 'job_unemployed', 'job_unknown', 'marital_married', 'education_primary', 'education_secondary', 'education_unknown', 'default_yes', 'housing_yes', 'loan_no', 'loan_yes']\n",
      "Before V_used ['education_tertiary', 'housing_no', 'default_no', 'contact_telephone', 'poutcome_failure', 'contact_cellular', 'job_blue-collar', 'campaign', 'poutcome_success', 'marital_single', 'job_management', 'job_self-employed', 'previous', 'poutcome_unknown', 'marital_divorced', 'job_technician', 'poutcome_other', 'balance', 'loan_yes', 'contact_unknown']\n",
      "Final V_used ['education_tertiary', 'housing_no', 'default_no', 'contact_telephone', 'poutcome_failure', 'contact_cellular', 'job_blue-collar', 'campaign', 'poutcome_success', 'marital_single', 'job_management', 'job_self-employed', 'previous', 'poutcome_unknown', 'marital_divorced', 'job_technician', 'poutcome_other', 'balance', 'contact_unknown']\n",
      "Original V_used ['education_tertiary', 'housing_no', 'default_no', 'contact_telephone', 'poutcome_failure', 'contact_cellular', 'job_blue-collar', 'campaign', 'poutcome_success', 'marital_single', 'job_management', 'job_self-employed', 'previous', 'poutcome_unknown', 'marital_divorced', 'job_technician', 'poutcome_other', 'balance', 'contact_unknown']\n",
      "After removal ['contact_telephone', 'contact_unknown', 'poutcome_failure', 'poutcome_other', 'poutcome_success', 'poutcome_unknown']\n",
      "Gain is 26.01786976864438\n",
      "Before V_used ['education_tertiary', 'housing_no', 'default_no', 'contact_telephone', 'poutcome_failure', 'contact_cellular', 'job_blue-collar', 'campaign', 'poutcome_success', 'marital_single', 'job_management', 'job_self-employed', 'previous', 'poutcome_unknown', 'marital_divorced', 'job_technician', 'poutcome_other', 'balance', 'contact_unknown']\n",
      "Final V_used ['education_tertiary', 'housing_no', 'default_no', 'contact_telephone', 'poutcome_failure', 'contact_cellular', 'job_blue-collar', 'campaign', 'poutcome_success', 'marital_single', 'job_management', 'job_self-employed', 'previous', 'poutcome_unknown', 'marital_divorced', 'job_technician', 'poutcome_other', 'balance', 'contact_unknown']\n",
      "Original V_used ['education_tertiary', 'housing_no', 'default_no', 'contact_telephone', 'poutcome_failure', 'contact_cellular', 'job_blue-collar', 'campaign', 'poutcome_success', 'marital_single', 'job_management', 'job_self-employed', 'previous', 'poutcome_unknown', 'marital_divorced', 'job_technician', 'poutcome_other', 'balance', 'contact_unknown']\n",
      "After removal ['contact_unknown', 'poutcome_failure', 'poutcome_other', 'poutcome_success', 'poutcome_unknown']\n",
      "Gain is 28.022152655038738\n",
      "Inside update v_best\n",
      "Improved Score ['age', 'day', 'month', 'duration', 'pdays', 'job_admin.', 'job_entrepreneur', 'job_housemaid', 'job_retired', 'job_services', 'job_student', 'job_unemployed', 'job_unknown', 'marital_married', 'education_primary', 'education_secondary', 'education_unknown', 'default_yes', 'housing_yes', 'loan_no', 'loan_yes', 'contact_telephone']\n",
      "Before V_used ['education_tertiary', 'housing_no', 'default_no', 'contact_telephone', 'poutcome_failure', 'contact_cellular', 'job_blue-collar', 'campaign', 'poutcome_success', 'marital_single', 'job_management', 'job_self-employed', 'previous', 'poutcome_unknown', 'marital_divorced', 'job_technician', 'poutcome_other', 'balance', 'contact_unknown']\n",
      "Final V_used ['education_tertiary', 'poutcome_unknown', 'job_blue-collar', 'default_no', 'campaign', 'housing_no', 'marital_divorced', 'job_technician', 'poutcome_other', 'poutcome_success', 'balance', 'marital_single', 'poutcome_failure', 'contact_unknown', 'job_management', 'job_self-employed', 'previous', 'contact_cellular']\n",
      "Original V_used ['education_tertiary', 'poutcome_unknown', 'job_blue-collar', 'default_no', 'campaign', 'housing_no', 'marital_divorced', 'job_technician', 'poutcome_other', 'poutcome_success', 'balance', 'marital_single', 'poutcome_failure', 'contact_unknown', 'job_management', 'job_self-employed', 'previous', 'contact_cellular']\n",
      "After removal ['poutcome_failure', 'poutcome_other', 'poutcome_success', 'poutcome_unknown']\n"
     ]
    },
    {
     "name": "stdout",
     "output_type": "stream",
     "text": [
      "Gain is 28.025264990754287\n",
      "Inside update v_best\n",
      "Improved Score ['age', 'day', 'month', 'duration', 'pdays', 'job_admin.', 'job_entrepreneur', 'job_housemaid', 'job_retired', 'job_services', 'job_student', 'job_unemployed', 'job_unknown', 'marital_married', 'education_primary', 'education_secondary', 'education_unknown', 'default_yes', 'housing_yes', 'loan_no', 'loan_yes', 'contact_telephone', 'contact_unknown']\n",
      "Before V_used ['education_tertiary', 'poutcome_unknown', 'job_blue-collar', 'default_no', 'campaign', 'housing_no', 'marital_divorced', 'job_technician', 'poutcome_other', 'poutcome_success', 'balance', 'marital_single', 'poutcome_failure', 'contact_unknown', 'job_management', 'job_self-employed', 'previous', 'contact_cellular']\n",
      "Final V_used ['education_tertiary', 'poutcome_unknown', 'job_blue-collar', 'campaign', 'default_no', 'housing_no', 'marital_divorced', 'job_technician', 'poutcome_other', 'poutcome_success', 'balance', 'marital_single', 'poutcome_failure', 'job_management', 'job_self-employed', 'previous', 'contact_cellular']\n",
      "Original V_used ['education_tertiary', 'poutcome_unknown', 'job_blue-collar', 'campaign', 'default_no', 'housing_no', 'marital_divorced', 'job_technician', 'poutcome_other', 'poutcome_success', 'balance', 'marital_single', 'poutcome_failure', 'job_management', 'job_self-employed', 'previous', 'contact_cellular']\n",
      "After removal ['poutcome_other', 'poutcome_success', 'poutcome_unknown']\n",
      "Gain is 28.02243177335836\n",
      "Before V_used ['education_tertiary', 'poutcome_unknown', 'job_blue-collar', 'campaign', 'default_no', 'housing_no', 'marital_divorced', 'job_technician', 'poutcome_other', 'poutcome_success', 'balance', 'marital_single', 'poutcome_failure', 'job_management', 'job_self-employed', 'previous', 'contact_cellular']\n",
      "Final V_used ['education_tertiary', 'poutcome_unknown', 'job_blue-collar', 'campaign', 'default_no', 'housing_no', 'marital_divorced', 'job_technician', 'poutcome_other', 'poutcome_success', 'balance', 'marital_single', 'poutcome_failure', 'job_management', 'job_self-employed', 'previous', 'contact_cellular']\n",
      "Original V_used ['education_tertiary', 'poutcome_unknown', 'job_blue-collar', 'campaign', 'default_no', 'housing_no', 'marital_divorced', 'job_technician', 'poutcome_other', 'poutcome_success', 'balance', 'marital_single', 'poutcome_failure', 'job_management', 'job_self-employed', 'previous', 'contact_cellular']\n",
      "After removal ['poutcome_success', 'poutcome_unknown']\n",
      "Gain is 30.034406884996717\n",
      "Inside update v_best\n",
      "Improved Score ['age', 'day', 'month', 'duration', 'pdays', 'job_admin.', 'job_entrepreneur', 'job_housemaid', 'job_retired', 'job_services', 'job_student', 'job_unemployed', 'job_unknown', 'marital_married', 'education_primary', 'education_secondary', 'education_unknown', 'default_yes', 'housing_yes', 'loan_no', 'loan_yes', 'contact_telephone', 'contact_unknown', 'poutcome_other']\n",
      "Before V_used ['education_tertiary', 'poutcome_unknown', 'job_blue-collar', 'campaign', 'default_no', 'housing_no', 'marital_divorced', 'job_technician', 'poutcome_other', 'poutcome_success', 'balance', 'marital_single', 'poutcome_failure', 'job_management', 'job_self-employed', 'previous', 'contact_cellular']\n",
      "Final V_used ['education_tertiary', 'poutcome_unknown', 'job_blue-collar', 'campaign', 'default_no', 'housing_no', 'marital_divorced', 'job_technician', 'poutcome_success', 'balance', 'marital_single', 'poutcome_failure', 'job_management', 'job_self-employed', 'previous', 'contact_cellular']\n",
      "Original V_used ['education_tertiary', 'poutcome_unknown', 'job_blue-collar', 'campaign', 'default_no', 'housing_no', 'marital_divorced', 'job_technician', 'poutcome_success', 'balance', 'marital_single', 'poutcome_failure', 'job_management', 'job_self-employed', 'previous', 'contact_cellular']\n",
      "After removal ['poutcome_unknown']\n",
      "Gain is 30.053019983887417\n",
      "Inside update v_best\n",
      "Improved Score ['age', 'day', 'month', 'duration', 'pdays', 'job_admin.', 'job_entrepreneur', 'job_housemaid', 'job_retired', 'job_services', 'job_student', 'job_unemployed', 'job_unknown', 'marital_married', 'education_primary', 'education_secondary', 'education_unknown', 'default_yes', 'housing_yes', 'loan_no', 'loan_yes', 'contact_telephone', 'contact_unknown', 'poutcome_other', 'poutcome_success']\n",
      "Before V_used ['education_tertiary', 'poutcome_unknown', 'job_blue-collar', 'campaign', 'default_no', 'housing_no', 'marital_divorced', 'job_technician', 'poutcome_success', 'balance', 'marital_single', 'poutcome_failure', 'job_management', 'job_self-employed', 'previous', 'contact_cellular']\n",
      "Final V_used ['education_tertiary', 'poutcome_unknown', 'job_blue-collar', 'campaign', 'default_no', 'housing_no', 'marital_divorced', 'job_technician', 'balance', 'marital_single', 'poutcome_failure', 'job_management', 'job_self-employed', 'previous', 'contact_cellular']\n",
      "Original V_used ['education_tertiary', 'poutcome_unknown', 'job_blue-collar', 'campaign', 'default_no', 'housing_no', 'marital_divorced', 'job_technician', 'balance', 'marital_single', 'poutcome_failure', 'job_management', 'job_self-employed', 'previous', 'contact_cellular']\n",
      "After removal []\n",
      "Gain is 30.04050327197097\n",
      "Before V_used ['education_tertiary', 'poutcome_unknown', 'job_blue-collar', 'campaign', 'default_no', 'housing_no', 'marital_divorced', 'job_technician', 'balance', 'marital_single', 'poutcome_failure', 'job_management', 'job_self-employed', 'previous', 'contact_cellular']\n",
      "Final V_used ['education_tertiary', 'poutcome_unknown', 'job_blue-collar', 'campaign', 'default_no', 'housing_no', 'marital_divorced', 'job_technician', 'balance', 'marital_single', 'poutcome_failure', 'job_management', 'job_self-employed', 'previous', 'contact_cellular']\n",
      "Final Attributes are ['education_tertiary', 'poutcome_unknown', 'job_blue-collar', 'campaign', 'default_no', 'housing_no', 'marital_divorced', 'job_technician', 'balance', 'marital_single', 'poutcome_failure', 'job_management', 'job_self-employed', 'previous', 'contact_cellular']\n"
     ]
    }
   ],
   "source": [
    "attributes=backward_search(X,y)\n",
    "print(\"Final Attributes are\",attributes)"
   ]
  },
  {
   "cell_type": "code",
   "execution_count": 16,
   "id": "29c115a5",
   "metadata": {},
   "outputs": [
    {
     "name": "stdout",
     "output_type": "stream",
     "text": [
      "(904, 1)\n"
     ]
    }
   ],
   "source": [
    "X_selected=df2_train[attributes]\n",
    "y_selected=df2_train.iloc[:,df2_train.columns ==\"y\" ]\n",
    "\n",
    "X_selected_test=df2_test[attributes]\n",
    "y_selected_test=df2_test.iloc[:,df2_train.columns ==\"y\" ]\n",
    "print(np.shape(y_selected_test))"
   ]
  },
  {
   "cell_type": "code",
   "execution_count": 17,
   "id": "647de612",
   "metadata": {},
   "outputs": [],
   "source": [
    "def logistic_regression(X,y,X_test,Y_test,mu,tmax,epsilon):\n",
    "    beta=np.zeros((len(X.columns),1))\n",
    "    \n",
    "    for i in range(tmax):\n",
    "        mini_batches = create_minibatch(X, y, 50)\n",
    "        for mini_batch in mini_batches: \n",
    "            X_mini, y_mini = mini_batch\n",
    "            l=log_function(X_mini,y_mini,beta)\n",
    "            y_hat=return_yhat(X_mini,beta)\n",
    "            gradient=find_gradient(X_mini,y_mini,y_hat)\n",
    "            beta=beta+mu*gradient\n",
    "        l_old=l\n",
    "        l=log_function(X_mini,y_mini,beta)\n",
    "        if (l-l_old < epsilon):\n",
    "            A=np.dot(X_test,beta)\n",
    "            Y_Pred_test=1.0 / (1.0 + np.exp(-A))\n",
    "            error=find_accuracy(Y_test,Y_Pred_test)\n",
    "            return error\n",
    "        elif(i==tmax):\n",
    "            return \"Not converged\"\n",
    "\n",
    "def log_function(X,y,beta):\n",
    "    mul=np.dot(X,beta)\n",
    "    A=np.dot(y.T,np.dot(X,beta))\n",
    "    l=A-np.log(1+np.exp(mul))\n",
    "    \n",
    "    return l.sum()\n",
    "\n",
    "# def log_function(X,y,beta):\n",
    "#     log1=0\n",
    "#     for i in range(len(X)):\n",
    "#         log=np.dot(y[i:i+1,:],np.dot(X[i:i+1,:],beta))-np.log(1+exp(np.dot(X[i:i+1,:],beta)))\n",
    "#         log1+=log    \n",
    "#     return log1\n",
    "\n",
    "def return_yhat(X,beta):\n",
    "    \n",
    "    A=np.dot(X,beta)\n",
    "    yhat=1.0 / (1.0 + np.exp(-A))\n",
    "    return yhat\n",
    "    \n",
    "def find_gradient(X,y,y_hat):\n",
    "    diff=y-y_hat\n",
    "    grad=np.dot(X.T,diff)\n",
    "    return grad\n",
    "    \n",
    "def find_accuracy(y,Y_Pred):\n",
    "    Y_Pred_new=[]\n",
    "    count=0\n",
    "    accuracy=0\n",
    "    for i in Y_Pred:\n",
    "        if i.item()>=0.5:\n",
    "            Y_Pred_new.append(1)\n",
    "        else:\n",
    "            Y_Pred_new.append(0)\n",
    "    for i in range(len(Y_Pred_new)-1):\n",
    "        if (type(y).__module__ =='numpy'):\n",
    "            if (y[i][0]==Y_Pred_new[i]):\n",
    "                count+=1\n",
    "        else:\n",
    "            if (y.iloc[i].item()==Y_Pred_new[i]):\n",
    "                count+=1\n",
    "    accuracy=count/len(Y_Pred_new)\n",
    "#     print(\"Accuracy is\",accuracy)\n",
    "    return accuracy\n",
    "#         if (y.iloc[i].item()==Y_Pred_new[i]):  "
   ]
  },
  {
   "cell_type": "markdown",
   "id": "83297928",
   "metadata": {},
   "source": [
    "#### Final Error: 7. Report the final error on Test set"
   ]
  },
  {
   "cell_type": "code",
   "execution_count": 18,
   "id": "a19d5c87",
   "metadata": {},
   "outputs": [
    {
     "name": "stdout",
     "output_type": "stream",
     "text": [
      "Final Error on Test Set is 0.4258849557522124\n"
     ]
    }
   ],
   "source": [
    "mu=0.0001\n",
    "tmax=1000\n",
    "epsilon=1e-1\n",
    "accuracy=logistic_regression(X_selected,y_selected,X_selected_test,y_selected_test,mu,tmax,epsilon)\n",
    "print(\"Final Error on Test Set is\",1-accuracy)\n"
   ]
  },
  {
   "cell_type": "markdown",
   "id": "682b20f9",
   "metadata": {},
   "source": [
    "## Exercise 2: Regularization for Logistic Regression"
   ]
  },
  {
   "cell_type": "code",
   "execution_count": 19,
   "id": "720691cd",
   "metadata": {},
   "outputs": [],
   "source": [
    "def crossval_split(X,y,K,k):\n",
    "    \n",
    "    N=X.shape[0]\n",
    "    sample_size=int(N/K)\n",
    "#     print(np.shape(X))\n",
    "#     print(np.shape(y))\n",
    "    X_test = X.iloc[k*sample_size:(k+1)*sample_size,:]\n",
    "    X_train=np.append(X.iloc[0:k*sample_size,:],X.iloc[(k+1)*sample_size:N,:],axis=0)\n",
    "    \n",
    "    y_test=y.iloc[k*sample_size:(k+1)*sample_size,:]\n",
    "    y_train=np.append(y.iloc[0:k*sample_size,:],y.iloc[(k+1)*sample_size:N,:],axis=0)\n",
    "#     print(np.shape(X_train),np.shape(y_train))\n",
    "#     print(np.shape(X_test),np.shape(y_test))\n",
    "    \n",
    "    return X_train, y_train, X_test, y_test\n"
   ]
  },
  {
   "cell_type": "code",
   "execution_count": 20,
   "id": "3d6fb138",
   "metadata": {},
   "outputs": [],
   "source": [
    "def logistic_regression_regularisation(X,y,mu,tmax,epsilon,lambda1):\n",
    "#     print(np.shape(X))\n",
    "    beta=np.zeros((X.shape[1],1))\n",
    "    for i in range(tmax):\n",
    "        mini_batches = create_minibatch(X, y, 50)\n",
    "        for mini_batch in mini_batches: \n",
    "            X_mini, y_mini = mini_batch\n",
    "            l=log_function(X_mini,y_mini,beta,lambda1)\n",
    "            y_hat=return_yhat(X_mini,beta)\n",
    "            gradient=find_gradient(X_mini,y_mini,y_hat,beta,lambda1)\n",
    "            beta=beta+mu*gradient\n",
    "        l_old=l\n",
    "        l=log_function(X_mini,y_mini,beta,lambda1)\n",
    "        if (l-l_old < epsilon):\n",
    "            A=np.dot(X,beta)\n",
    "            Y_Pred=1.0 / (1.0 + np.exp(-A))\n",
    "            return Y_Pred\n",
    "        elif(i==tmax):\n",
    "            return \"Not converged\"\n",
    "    \n",
    "\n",
    "def log_function(X,y,beta,lambda1):\n",
    "    mul=np.dot(X,beta)\n",
    "    A=np.dot(y.T,np.dot(X,beta))\n",
    "    l=A-np.log(1+np.exp(mul))\n",
    "    regularisation_term=lambda1*(np.square(beta)).sum()\n",
    "    return l.sum()-regularisation_term\n",
    "\n",
    "# def log_function(X,y,beta):\n",
    "#     log1=0\n",
    "#     for i in range(len(X)):\n",
    "#         log=np.dot(y[i:i+1,:],np.dot(X[i:i+1,:],beta))-np.log(1+exp(np.dot(X[i:i+1,:],beta)))\n",
    "#         log1+=log    \n",
    "#     return log1\n",
    "\n",
    "def return_yhat(X,beta):\n",
    "    \n",
    "    A=np.dot(X,beta)\n",
    "    yhat=1.0 / (1.0 + np.exp(-A))\n",
    "    return yhat\n",
    "    \n",
    "def find_gradient(X,y,y_hat,beta,lambda1):\n",
    "    diff=y-y_hat\n",
    "    grad=np.dot(X.T,diff)-2*lambda1*beta\n",
    "    return grad\n",
    "    \n",
    "    "
   ]
  },
  {
   "cell_type": "code",
   "execution_count": 21,
   "id": "c2923f11",
   "metadata": {},
   "outputs": [],
   "source": [
    "def gridsearchcv(mu_arr,lambda1_arr):\n",
    "    train_accuracy_score=[]\n",
    "    cv_accuracy_score=[]\n",
    "    tmax=1000\n",
    "    epsilon=1e-1\n",
    "    K=5\n",
    "    for mu in mu_arr:\n",
    "        print(\"For mu\",mu)\n",
    "        \n",
    "        for lambda1 in lambda1_arr:\n",
    "            train_accuracy_fold=[]\n",
    "            cv_accuracy_fold=[]\n",
    "        \n",
    "            for fold in range(0,5):\n",
    "#                 print(\"Inside Fold\",fold)\n",
    "#                 df2_train=df2.sample(frac=0.8)\n",
    "#                 df2_cv=df2.drop(df2_train.index)\n",
    "\n",
    "#                 X=df2_train.iloc[:,df2_train.columns !=\"y\" ]\n",
    "#                 y=df2_train.iloc[:,df2_train.columns ==\"y\" ]\n",
    "\n",
    "#                 X_cv=df2_cv.iloc[:,df2_cv.columns !=\"y\" ]\n",
    "#                 y_cv=df2_cv.iloc[:,df2_cv.columns ==\"y\" ]\n",
    "                X_train, y_train, X_cv, y_cv=crossval_split(X,y,K,fold)\n",
    "\n",
    "                Y_Pred_train=logistic_regression_regularisation(X_train,y_train,mu,tmax,epsilon,lambda1)\n",
    "                Y_Pred_cv=logistic_regression_regularisation(X_cv,y_cv,mu,tmax,epsilon,lambda1)\n",
    "#                 print(np.shape(Y_Pred_cv))\n",
    "\n",
    "                train_accuracy_fold.append(find_accuracy(y_train,Y_Pred_train))\n",
    "#                 print(\"Train\",train_accuracy_fold)\n",
    "                cv_accuracy_fold.append(find_accuracy(y_cv,Y_Pred_cv))\n",
    "#                 print(\"Cross validation\",cv_accuracy_fold)\n",
    "#             print(\"For Lambda\",lambda1)\n",
    "            train_accuracy_score.append(np.mean(np.array(train_accuracy_fold)))\n",
    "            cv_accuracy_score.append(np.mean(np.array(cv_accuracy_fold)))\n",
    "        print(train_accuracy_score)\n",
    "        print(cv_accuracy_score)\n",
    "        \n",
    "    return train_accuracy_score,cv_accuracy_score\n",
    "            \n",
    "   \n",
    "def find_accuracy(y,Y_Pred):\n",
    "    Y_Pred_new=[]\n",
    "    count=0\n",
    "    accuracy=0\n",
    "    for i in Y_Pred:\n",
    "        if i.item()>=0.5:\n",
    "            Y_Pred_new.append(1)\n",
    "        else:\n",
    "            Y_Pred_new.append(0)\n",
    "    for i in range(len(Y_Pred_new)-1):\n",
    "        if (type(y).__module__ =='numpy'):\n",
    "            if (y[i][0]==Y_Pred_new[i]):\n",
    "                count+=1\n",
    "        else:\n",
    "            if (y.iloc[i].item()==Y_Pred_new[i]):\n",
    "                count+=1\n",
    "    accuracy=count/len(Y_Pred_new)\n",
    "#     print(\"Accuracy is\",accuracy)\n",
    "    return accuracy\n",
    "#         if (y.iloc[i].item()==Y_Pred_new[i]):"
   ]
  },
  {
   "cell_type": "markdown",
   "id": "344ceddf",
   "metadata": {},
   "source": [
    "#### 1. Pick a range of α0 and λ defined on grid. You can choose fixed batchsize = 50"
   ]
  },
  {
   "cell_type": "markdown",
   "id": "d5cb2620",
   "metadata": {},
   "source": [
    "#### 2. Implement k-fold cross-validation protocol for grid search. For each combination of α0 and λ you will perform k-fold cross-validation. Let k = 5 in this case.\n"
   ]
  },
  {
   "cell_type": "code",
   "execution_count": 51,
   "id": "b67680a1",
   "metadata": {
    "scrolled": true
   },
   "outputs": [
    {
     "name": "stdout",
     "output_type": "stream",
     "text": [
      "For mu 0.0001\n",
      "[0.6590837282780411, 0.6649289099526067, 0.6576619273301738, 0.6555292259083728, 0.65086887835703]\n",
      "[0.6714060031595577, 0.6748815165876777, 0.6780410742496051, 0.6726698262243286, 0.6764612954186413]\n",
      "For mu 0.0002\n",
      "[0.6590837282780411, 0.6649289099526067, 0.6576619273301738, 0.6555292259083728, 0.65086887835703, 0.6854660347551342, 0.6716429699842023, 0.70173775671406, 0.6746445497630331, 0.6875987361769352]\n",
      "[0.6714060031595577, 0.6748815165876777, 0.6780410742496051, 0.6726698262243286, 0.6764612954186413, 0.692259083728278, 0.6755134281200632, 0.6865718799368089, 0.6862559241706162, 0.6900473933649288]\n",
      "For mu 0.0003\n",
      "[0.6590837282780411, 0.6649289099526067, 0.6576619273301738, 0.6555292259083728, 0.65086887835703, 0.6854660347551342, 0.6716429699842023, 0.70173775671406, 0.6746445497630331, 0.6875987361769352, 0.6834913112164296, 0.6789889415481832, 0.6959715639810427, 0.6986571879936809, 0.7008688783570299]\n",
      "[0.6714060031595577, 0.6748815165876777, 0.6780410742496051, 0.6726698262243286, 0.6764612954186413, 0.692259083728278, 0.6755134281200632, 0.6865718799368089, 0.6862559241706162, 0.6900473933649288, 0.6843601895734597, 0.6843601895734597, 0.6777251184834123, 0.6928909952606636, 0.6969984202211691]\n",
      "For mu 0.0004\n",
      "[0.6590837282780411, 0.6649289099526067, 0.6576619273301738, 0.6555292259083728, 0.65086887835703, 0.6854660347551342, 0.6716429699842023, 0.70173775671406, 0.6746445497630331, 0.6875987361769352, 0.6834913112164296, 0.6789889415481832, 0.6959715639810427, 0.6986571879936809, 0.7008688783570299, 0.7197472353870458, 0.7281990521327014, 0.7095576619273302, 0.7015797788309637, 0.7157977883096367]\n",
      "[0.6714060031595577, 0.6748815165876777, 0.6780410742496051, 0.6726698262243286, 0.6764612954186413, 0.692259083728278, 0.6755134281200632, 0.6865718799368089, 0.6862559241706162, 0.6900473933649288, 0.6843601895734597, 0.6843601895734597, 0.6777251184834123, 0.6928909952606636, 0.6969984202211691, 0.6909952606635071, 0.6951026856240127, 0.6868878357030016, 0.7004739336492891, 0.7004739336492891]\n",
      "For mu 0.0005\n",
      "[0.6590837282780411, 0.6649289099526067, 0.6576619273301738, 0.6555292259083728, 0.65086887835703, 0.6854660347551342, 0.6716429699842023, 0.70173775671406, 0.6746445497630331, 0.6875987361769352, 0.6834913112164296, 0.6789889415481832, 0.6959715639810427, 0.6986571879936809, 0.7008688783570299, 0.7197472353870458, 0.7281990521327014, 0.7095576619273302, 0.7015797788309637, 0.7157977883096367, 0.7178515007898894, 0.7049763033175356, 0.7147709320695104, 0.7302527646129542, 0.7130331753554503]\n",
      "[0.6714060031595577, 0.6748815165876777, 0.6780410742496051, 0.6726698262243286, 0.6764612954186413, 0.692259083728278, 0.6755134281200632, 0.6865718799368089, 0.6862559241706162, 0.6900473933649288, 0.6843601895734597, 0.6843601895734597, 0.6777251184834123, 0.6928909952606636, 0.6969984202211691, 0.6909952606635071, 0.6951026856240127, 0.6868878357030016, 0.7004739336492891, 0.7004739336492891, 0.6963665086887836, 0.7064770932069511, 0.7061611374407584, 0.6935229067930491, 0.6938388625592418]\n"
     ]
    }
   ],
   "source": [
    "# mu_arr=[0.005,0.001,0.02,0.02,0.003]\n",
    "mu_arr=[0.0001,0.0002,0.0003,0.0004,0.0005]\n",
    "lambda1_arr=[0.01,0.02,0.03,0.04,0.05]\n",
    "train_accuracy_score,cv_accuracy_score=gridsearchcv(mu_arr,lambda1_arr)\n",
    "# print(train_accuracy_score)\n",
    "# print(cv_accuracy_score)"
   ]
  },
  {
   "cell_type": "code",
   "execution_count": 52,
   "id": "e54f8fb2",
   "metadata": {},
   "outputs": [
    {
     "name": "stdout",
     "output_type": "stream",
     "text": [
      "Training Accuracy Score per k-Fold is [0.6590837282780411, 0.6649289099526067, 0.6576619273301738, 0.6555292259083728, 0.65086887835703, 0.6854660347551342, 0.6716429699842023, 0.70173775671406, 0.6746445497630331, 0.6875987361769352, 0.6834913112164296, 0.6789889415481832, 0.6959715639810427, 0.6986571879936809, 0.7008688783570299, 0.7197472353870458, 0.7281990521327014, 0.7095576619273302, 0.7015797788309637, 0.7157977883096367, 0.7178515007898894, 0.7049763033175356, 0.7147709320695104, 0.7302527646129542, 0.7130331753554503]\n",
      "Validation Accuracy Score per k-Fold is [0.6714060031595577, 0.6748815165876777, 0.6780410742496051, 0.6726698262243286, 0.6764612954186413, 0.692259083728278, 0.6755134281200632, 0.6865718799368089, 0.6862559241706162, 0.6900473933649288, 0.6843601895734597, 0.6843601895734597, 0.6777251184834123, 0.6928909952606636, 0.6969984202211691, 0.6909952606635071, 0.6951026856240127, 0.6868878357030016, 0.7004739336492891, 0.7004739336492891, 0.6963665086887836, 0.7064770932069511, 0.7061611374407584, 0.6935229067930491, 0.6938388625592418]\n"
     ]
    }
   ],
   "source": [
    "print(\"Training Accuracy Score per k-Fold is\",train_accuracy_score)\n",
    "print(\"Validation Accuracy Score per k-Fold is\",cv_accuracy_score)"
   ]
  },
  {
   "cell_type": "markdown",
   "id": "6511ea94",
   "metadata": {},
   "source": [
    "#### 3. Keep track of mean performance (i.e. Classification Accuracy value) across k − folds for each set of hyperparameters. Plot on the grid α0 vs λ the Classification Accuracy score for all combinations."
   ]
  },
  {
   "cell_type": "code",
   "execution_count": 53,
   "id": "11a67ebd",
   "metadata": {},
   "outputs": [
    {
     "data": {
      "image/png": "[encoded data removed]",
      "text/plain": [
       "<Figure size 432x432 with 1 Axes>"
      ]
     },
     "metadata": {
      "needs_background": "light"
     },
     "output_type": "display_data"
    }
   ],
   "source": [
    "a = np.linspace(0.0001, 0.0005, 5)\n",
    "b = np.linspace(0.01, 0.05, 5)\n",
    "A, B = np.meshgrid(a, b)\n",
    "\n",
    "fig = plt.figure(figsize=(6, 6))\n",
    "ax = fig.add_subplot(111, projection='3d')\n",
    "\n",
    "ax.scatter(A, B, cv_accuracy_score,\n",
    "           linewidths=1, alpha=.7,\n",
    "           edgecolor='k',\n",
    "           s = 200,\n",
    "           cmap='viridis')\n",
    "ax.set_xlabel(\"Alpha\")\n",
    "ax.set_ylabel(\"Lambda\")\n",
    "ax.set_zlabel(\"Classifier Accuracy\")\n",
    "plt.show()"
   ]
  },
  {
   "cell_type": "code",
   "execution_count": 54,
   "id": "2d7448bf",
   "metadata": {},
   "outputs": [
    {
     "name": "stdout",
     "output_type": "stream",
     "text": [
      "(4521, 40)\n",
      "(4521, 1)\n"
     ]
    }
   ],
   "source": [
    "#Entire Dataset\n",
    "X_full=df2.iloc[:,df2.columns !=\"y\" ]\n",
    "y_full=df2.iloc[:,df2.columns ==\"y\" ]\n",
    "print(np.shape(X_full))\n",
    "print(np.shape(y_full))\n",
    "X_test=df2_test.iloc[:,df2_test.columns !=\"y\" ]\n",
    "y_yest=df2_test.iloc[:,df2_test.columns ==\"y\" ]"
   ]
  },
  {
   "cell_type": "code",
   "execution_count": 55,
   "id": "531cb5af",
   "metadata": {},
   "outputs": [],
   "source": [
    "def logistic_regression_regularisation_final(X,y,X_test,y_test,mu,tmax,epsilon,lambda1):\n",
    "#     print(np.shape(X))\n",
    "    train_accuracy=[]\n",
    "    validation_accuracy=[]\n",
    "    log_likelihood=[]\n",
    "    beta=np.zeros((X.shape[1],1))\n",
    "    for i in range(tmax):\n",
    "#         print(\"Here\",i)\n",
    "        mini_batches = create_minibatch(X, y, 50)\n",
    "        for mini_batch in mini_batches: \n",
    "            X_mini, y_mini = mini_batch\n",
    "            l=log_function(X_mini,y_mini,beta,lambda1)\n",
    "            y_hat=return_yhat(X_mini,beta)\n",
    "            gradient=find_gradient(X_mini,y_mini,y_hat,beta,lambda1)\n",
    "            beta=beta+mu*gradient\n",
    "        l_old=l\n",
    "        l=log_function(X_mini,y_mini,beta,lambda1)\n",
    "        \n",
    "    \n",
    "        train_y_predict=return_yhat(X,beta)\n",
    "        validation_y_predict=return_yhat(X_test,beta)\n",
    "        \n",
    "        train_accuracy.append(find_accuracy(y,train_y_predict))\n",
    "        validation_accuracy.append(find_accuracy(y_test,validation_y_predict))\n",
    "        log_likelihood.append(log_function(X_test,y_test,beta,lambda1))\n",
    "        \n",
    "        \n",
    "        if (l-l_old < epsilon):\n",
    "            A=np.dot(X_test,beta)\n",
    "            Y_Pred=1.0 / (1.0 + np.exp(-A))\n",
    "            log_likelihood=log_function(X_test,y_test,beta,lambda1)\n",
    "            accuracy_score=find_accuracy(y_test,Y_Pred)\n",
    "            return accuracy_score,log_likelihood,train_accuracy,validation_accuracy,log_likelihood\n",
    "        elif(i==tmax):\n",
    "            return \"Not converged\"\n",
    "    \n",
    "\n",
    "def log_function(X,y,beta,lambda1):\n",
    "    mul=np.dot(X,beta)\n",
    "    A=np.dot(y.T,np.dot(X,beta))\n",
    "    l=A-np.log(1+np.exp(mul))\n",
    "    regularisation_term=lambda1*(np.square(beta)).sum()\n",
    "    return l.sum()-regularisation_term\n",
    "\n",
    "# def log_function(X,y,beta):\n",
    "#     log1=0\n",
    "#     for i in range(len(X)):\n",
    "#         log=np.dot(y[i:i+1,:],np.dot(X[i:i+1,:],beta))-np.log(1+exp(np.dot(X[i:i+1,:],beta)))\n",
    "#         log1+=log    \n",
    "#     return log1\n",
    "\n",
    "def return_yhat(X,beta):\n",
    "    \n",
    "    A=np.dot(X,beta)\n",
    "    yhat=1.0 / (1.0 + np.exp(-A))\n",
    "    return yhat\n",
    "    \n",
    "def find_gradient(X,y,y_hat,beta,lambda1):\n",
    "    diff=y-y_hat\n",
    "    grad=np.dot(X.T,diff)-2*lambda1*beta\n",
    "    return grad\n",
    "    \n",
    "def find_accuracy(y,Y_Pred):\n",
    "    Y_Pred_new=[]\n",
    "    count=0\n",
    "    accuracy=0\n",
    "    for i in Y_Pred:\n",
    "        if i.item()>=0.5:\n",
    "            Y_Pred_new.append(1)\n",
    "        else:\n",
    "            Y_Pred_new.append(0)\n",
    "    for i in range(len(Y_Pred_new)-1):\n",
    "        if (type(y).__module__ =='numpy'):\n",
    "            if (y[i][0]==Y_Pred_new[i]):\n",
    "                count+=1\n",
    "        else:\n",
    "            if (y.iloc[i].item()==Y_Pred_new[i]):\n",
    "                count+=1\n",
    "    accuracy=count/len(Y_Pred_new)\n",
    "#     print(\"Accuracy is\",accuracy)\n",
    "    return accuracy\n",
    "#         if (y.iloc[i].item()==Y_Pred_new[i]):   "
   ]
  },
  {
   "cell_type": "markdown",
   "id": "d466f507",
   "metadata": {},
   "source": [
    "#### 4. Finally, for the optimal value of alpha0 and λ, train your model on complete training data and evaluate on Test data. Report one single Accuracy and Log-likelihood for Test data."
   ]
  },
  {
   "cell_type": "code",
   "execution_count": 56,
   "id": "8e2ba0f2",
   "metadata": {},
   "outputs": [
    {
     "name": "stdout",
     "output_type": "stream",
     "text": [
      "Accuracy on Test Data Set 0.7300884955752213\n",
      "Log Likehood for Test Data 41829.221527537105\n"
     ]
    }
   ],
   "source": [
    "lambda1=0.05\n",
    "mu=0.0003\n",
    "tmax=1000\n",
    "epsilon=1e-1\n",
    "accuracy_test,log_likelihood_test,train_accuracy,validation_accuracy,log_likelihood=logistic_regression_regularisation_final(X_full,y_full,X_test,y_yest,mu,tmax,epsilon,lambda1)\n",
    "print(\"Accuracy on Test Data Set\",accuracy_test)\n",
    "print(\"Log Likehood for Test Data\",log_likelihood_test)"
   ]
  },
  {
   "cell_type": "markdown",
   "id": "9fe8e365",
   "metadata": {},
   "source": [
    "#### 5. Plot Train and Validation Accuracy and Log-likelihood metrics per k − fold iteration."
   ]
  },
  {
   "cell_type": "code",
   "execution_count": 57,
   "id": "d92a6eb0",
   "metadata": {},
   "outputs": [
    {
     "data": {
      "image/png": "[encoded data removed]",
      "text/plain": [
       "<Figure size 432x288 with 1 Axes>"
      ]
     },
     "metadata": {
      "needs_background": "light"
     },
     "output_type": "display_data"
    }
   ],
   "source": [
    "plt.title('Train Accuracy Score')\n",
    "plt.xlabel('No. of iterations')\n",
    "plt.ylabel('Train Accuracy Score')\n",
    "plt.plot(np.reshape(train_accuracy_score,[len(train_accuracy_score),1]))\n",
    "plt.ylim()\n",
    "plt.xlim()\n",
    "plt.show()"
   ]
  },
  {
   "cell_type": "code",
   "execution_count": 58,
   "id": "1817dc8c",
   "metadata": {},
   "outputs": [
    {
     "data": {
      "image/png": "[encoded data removed]",
      "text/plain": [
       "<Figure size 432x288 with 1 Axes>"
      ]
     },
     "metadata": {
      "needs_background": "light"
     },
     "output_type": "display_data"
    }
   ],
   "source": [
    "plt.title('Validation Accuracy Score')\n",
    "plt.xlabel('No. of iterations')\n",
    "plt.ylabel('Validation Accuracy Score')\n",
    "plt.plot(np.reshape(cv_accuracy_score,[len(cv_accuracy_score),1]))\n",
    "plt.ylim()\n",
    "plt.xlim()\n",
    "plt.show()"
   ]
  },
  {
   "cell_type": "markdown",
   "id": "f3536c61",
   "metadata": {},
   "source": [
    "## Exercise 3: Implementing Hyperband for Logistic Regression"
   ]
  },
  {
   "cell_type": "code",
   "execution_count": 30,
   "id": "b9233e14",
   "metadata": {},
   "outputs": [],
   "source": [
    "df2_train=df2.sample(frac=0.7,random_state=3116) \n",
    "df2_left=df2.drop(df2_train.index)\n",
    "df2_cv=df2_left.sample(frac=0.5,random_state=3116) \n",
    "df2_test=df2_left.drop(df2_cv.index)"
   ]
  },
  {
   "cell_type": "code",
   "execution_count": 41,
   "id": "0bdf329b",
   "metadata": {},
   "outputs": [
    {
     "name": "stdout",
     "output_type": "stream",
     "text": [
      "(4521, 41)\n",
      "(3165, 41)\n",
      "(678, 41)\n",
      "(678, 41)\n"
     ]
    }
   ],
   "source": [
    "print(np.shape(df2))\n",
    "print(np.shape(df2_train))\n",
    "print(np.shape(df2_cv))\n",
    "print(np.shape(df2_test))"
   ]
  },
  {
   "cell_type": "code",
   "execution_count": 42,
   "id": "2c942c1c",
   "metadata": {},
   "outputs": [],
   "source": [
    "X=df2_train.iloc[:,df2_train.columns !=\"y\" ]\n",
    "y=df2_train.iloc[:,df2_train.columns ==\"y\" ]\n",
    "X_val=df2_cv.iloc[:,df2_cv.columns !=\"y\" ]\n",
    "y_val=df2_cv.iloc[:,df2_cv.columns ==\"y\" ]\n",
    "X_test=df2_test.iloc[:,df2_cv.columns !=\"y\" ]\n",
    "y_test=df2_test.iloc[:,df2_cv.columns ==\"y\" ]"
   ]
  },
  {
   "cell_type": "code",
   "execution_count": 43,
   "id": "150b444c",
   "metadata": {},
   "outputs": [],
   "source": [
    "def get_random_hyperparameter_configuration(N):\n",
    " \n",
    "    alpha=np.random.uniform(0.001, 0.005, N)\n",
    "    alpha=list(alpha)\n",
    "    \n",
    "    lambda1=np.random.uniform(0.01, 0.05, N)\n",
    "    lambda1=list(lambda1)\n",
    "    \n",
    "    batch_size=np.random.uniform(50, 500, N)\n",
    "    batch_size=list(batch_size)\n",
    "    \n",
    "    np.random.shuffle(alpha)\n",
    "    np.random.shuffle(lambda1)\n",
    "    np.random.shuffle(batch_size)\n",
    "    return np.array([alpha[0],lambda1[0],batch_size[0]])\n",
    "\n",
    "\n",
    "    "
   ]
  },
  {
   "cell_type": "code",
   "execution_count": 44,
   "id": "99acd04b",
   "metadata": {},
   "outputs": [],
   "source": [
    "def logistic_regression_hyperband(X,y,X_val,y_val,mu,lambda1,batch_size,tmax,epsilon):\n",
    "    beta=np.zeros((len(X.columns),1))\n",
    "\n",
    "    for i in range(tmax):\n",
    "        mini_batches = create_minibatch(X, y, batch_size)\n",
    "        for mini_batch in mini_batches: \n",
    "            X_mini, y_mini = mini_batch\n",
    "            l=log_function(X_mini,y_mini,beta,lambda1)\n",
    "            y_hat=return_yhat(X_mini,beta)\n",
    "            gradient=find_gradient(X_mini,y_mini,y_hat,beta,lambda1)\n",
    "            beta=beta+mu*gradient\n",
    "        l=log_function(X,y,beta,lambda1)\n",
    "    return ((-1)*log_loss_function(X_val,y_val,beta))\n",
    "\n",
    "\n",
    "def log_function(X,y,beta,lambda1):\n",
    "    mul=np.dot(X,beta)\n",
    "    A=np.dot(y.T,np.dot(X,beta))\n",
    "    l=A-np.log(1+np.exp(mul))\n",
    "    regularisation_term=lambda1*(np.square(beta)).sum()\n",
    "    return l.sum()-regularisation_term\n",
    "\n",
    "def log_loss_function(X_val,y_val,beta):\n",
    "    log_loss=0\n",
    "    A=np.dot(X_val,beta)\n",
    "    y_Pred=1.0 / (1.0 + np.exp(-A))\n",
    "    log_loss=((y_val*np.log(y_Pred)+(1-y_val)*np.log(1-y_Pred))).mean()\n",
    "    return log_loss\n",
    "\n",
    "\n",
    "def return_yhat(X,beta):\n",
    "    \n",
    "    A=np.dot(X,beta)\n",
    "    yhat=1.0 / (1.0 + np.exp(-A))\n",
    "    return yhat\n",
    "\n",
    "\n",
    "def find_gradient(X,y,y_hat,beta,lambda1):\n",
    "    diff=y-y_hat\n",
    "    grad=np.dot(X.T,diff)-2*lambda1*beta\n",
    "    return grad\n",
    "    \n",
    "    "
   ]
  },
  {
   "cell_type": "code",
   "execution_count": 45,
   "id": "1855bc15",
   "metadata": {},
   "outputs": [
    {
     "data": {
      "text/plain": [
       "0.6581916477501403"
      ]
     },
     "execution_count": 45,
     "metadata": {},
     "output_type": "execute_result"
    }
   ],
   "source": [
    "tmax=1\n",
    "epsilon=1e-1\n",
    "s=logistic_regression_hyperband(X,y,X_val,y_val,0.001,0.01,100,tmax,epsilon)\n",
    "s.iloc[0]"
   ]
  },
  {
   "cell_type": "code",
   "execution_count": 46,
   "id": "c6a85983",
   "metadata": {},
   "outputs": [],
   "source": [
    "def run_then_return_val_loss(r_i,t):\n",
    "    epsilon=1e-1\n",
    "    loss=logistic_regression_hyperband(X,y,X_val,y_val,t[0],t[1],int(t[2]),r_i,epsilon)\n",
    "    return loss.iloc[0]\n",
    "    "
   ]
  },
  {
   "cell_type": "code",
   "execution_count": 47,
   "id": "7370ce0c",
   "metadata": {},
   "outputs": [
    {
     "name": "stdout",
     "output_type": "stream",
     "text": [
      "Number of Iterations is 1\n",
      "Length of Hyperparameter array T is 81\n",
      "Number of Iterations is 3\n",
      "Length of Hyperparameter array T is 27\n",
      "Number of Iterations is 9\n",
      "Length of Hyperparameter array T is 9\n",
      "Number of Iterations is 27\n",
      "Length of Hyperparameter array T is 3\n",
      "Number of Iterations is 81\n",
      "Length of Hyperparameter array T is 1\n",
      "Number of Iterations is 3\n",
      "Length of Hyperparameter array T is 27\n",
      "Number of Iterations is 9\n",
      "Length of Hyperparameter array T is 9\n",
      "Number of Iterations is 27\n",
      "Length of Hyperparameter array T is 3\n",
      "Number of Iterations is 81\n",
      "Length of Hyperparameter array T is 1\n",
      "Number of Iterations is 9\n",
      "Length of Hyperparameter array T is 9\n",
      "Number of Iterations is 27\n",
      "Length of Hyperparameter array T is 3\n",
      "Number of Iterations is 81\n",
      "Length of Hyperparameter array T is 1\n",
      "Number of Iterations is 27\n",
      "Length of Hyperparameter array T is 6\n",
      "Number of Iterations is 81\n",
      "Length of Hyperparameter array T is 2\n",
      "Number of Iterations is 81\n",
      "Length of Hyperparameter array T is 5\n"
     ]
    }
   ],
   "source": [
    "max_iter = 81  # maximum iterations/epochs per configuration\n",
    "eta = 3 # defines downsampling rate (default=3)\n",
    "logeta = lambda x: log(x)/log(eta)\n",
    "s_max = int(logeta(max_iter))  # number of unique executions of Successive Halving (minus one)\n",
    "B = (s_max+1)*max_iter  # total number of iterations (without reuse) per execution of Succesive Halving (n,r)\n",
    "\n",
    "#### Begin Finite Horizon Hyperband outlerloop. Repeat indefinetely.\n",
    "for s in reversed(range(s_max+1)):\n",
    "    n = int(ceil(int(B/max_iter/(s+1))*eta**s)) # initial number of configurations\n",
    "    r = max_iter*eta**(-s) # initial number of iterations to run configurations for\n",
    "#     print(r)\n",
    "    #### Begin Finite Horizon Successive Halving with (n,r)\n",
    "    T = [ get_random_hyperparameter_configuration(5) for i in range(n) ] \n",
    "#     print(T)\n",
    "    for i in range(s+1):\n",
    "        # Run each of the n_i configs for r_i iterations and keep best n_i/eta\n",
    "        \n",
    "        n_i = int(n*eta**(-i))\n",
    "        r_i = int(r*eta**(i))\n",
    "        print(\"Number of Iterations is\",r_i)\n",
    "        print(\"Length of Hyperparameter array T is\",len(T))\n",
    "        \n",
    "        \n",
    "        val_losses = [ run_then_return_val_loss(r_i,t) for t in T ]\n",
    "#         a,b,c=np.shape(np.array(val_losses))\n",
    "        \n",
    "#         T = [ T[i[0]] for i in np.argsort(np.array(val_losses).reshape(a,b))[0:int( n_i/eta )] ]\n",
    "        T = [ T[i] for i in np.argsort(val_losses)[0:int( n_i/eta )] ]\n",
    "    #### End Finite Horizon Successive Halving with (n,r)\n"
   ]
  },
  {
   "cell_type": "code",
   "execution_count": 48,
   "id": "1026a491",
   "metadata": {},
   "outputs": [
    {
     "name": "stdout",
     "output_type": "stream",
     "text": [
      "[array([1.32715209e-03, 2.16901267e-02, 4.02521930e+02])]\n"
     ]
    }
   ],
   "source": [
    "print(T)"
   ]
  },
  {
   "cell_type": "markdown",
   "id": "d5ccc380",
   "metadata": {},
   "source": [
    "#### Taking this hyperparameter running the Model mu=1.32715209e-03,lambda1=2.16901267e-02,batch_size=400"
   ]
  },
  {
   "cell_type": "code",
   "execution_count": 49,
   "id": "08387993",
   "metadata": {},
   "outputs": [],
   "source": [
    "def logistic_regression_final(X,y,X_test,Y_test,mu,lambda1,batch_size,tmax,epsilon):\n",
    "    beta=np.zeros((len(X.columns),1))\n",
    "\n",
    "    for i in range(tmax):\n",
    "        mini_batches = create_minibatch(X, y, batch_size)\n",
    "        for mini_batch in mini_batches: \n",
    "            X_mini, y_mini = mini_batch\n",
    "            l=log_function(X_mini,y_mini,beta,lambda1)\n",
    "            y_hat=return_yhat(X_mini,beta)\n",
    "            gradient=find_gradient(X_mini,y_mini,y_hat,beta,lambda1)\n",
    "            beta=beta+mu*gradient\n",
    "        l_old=l\n",
    "        l=log_function(X_mini,y_mini,beta,lambda1)\n",
    "        \n",
    "        if (l-l_old < epsilon):\n",
    "            A=np.dot(X_test,beta)\n",
    "            Y_Pred_test=1.0 / (1.0 + np.exp(-A))\n",
    "            accuracy=find_accuracy(Y_test,Y_Pred_test)\n",
    "            return accuracy\n",
    "        elif(i==tmax):\n",
    "            return \"Not converged\"\n",
    " \n",
    "\n",
    "def log_function(X,y,beta,lambda1):\n",
    "    mul=np.dot(X,beta)\n",
    "    A=np.dot(y.T,np.dot(X,beta))\n",
    "    l=A-np.log(1+np.exp(mul))\n",
    "    regularisation_term=lambda1*(np.square(beta)).sum()\n",
    "    return l.sum()-regularisation_term\n",
    "\n",
    "def log_loss_function(X_val,y_val,beta):\n",
    "    log_loss=0\n",
    "    A=np.dot(X_val,beta)\n",
    "    y_Pred=1.0 / (1.0 + np.exp(-A))\n",
    "    log_loss=((y_val*np.log(y_Pred)+(1-y_val)*np.log(1-y_Pred))).mean()\n",
    "    return log_loss\n",
    "\n",
    "\n",
    "def return_yhat(X,beta):\n",
    "    \n",
    "    A=np.dot(X,beta)\n",
    "    yhat=1.0 / (1.0 + np.exp(-A))\n",
    "    return yhat\n",
    "\n",
    "\n",
    "def find_gradient(X,y,y_hat,beta,lambda1):\n",
    "    diff=y-y_hat\n",
    "    grad=np.dot(X.T,diff)-2*lambda1*beta\n",
    "    return grad\n",
    "\n",
    "def find_accuracy(y,Y_Pred):\n",
    "    Y_Pred_new=[]\n",
    "    count=0\n",
    "    accuracy=0\n",
    "    for i in Y_Pred:\n",
    "        if i.item()>=0.5:\n",
    "            Y_Pred_new.append(1)\n",
    "        else:\n",
    "            Y_Pred_new.append(0)\n",
    "    for i in range(len(Y_Pred_new)-1):\n",
    "        if (type(y).__module__ =='numpy'):\n",
    "            if (y[i][0]==Y_Pred_new[i]):\n",
    "                count+=1\n",
    "        else:\n",
    "            if (y.iloc[i].item()==Y_Pred_new[i]):\n",
    "                count+=1\n",
    "    accuracy=count/len(Y_Pred_new)\n",
    "    return accuracy"
   ]
  },
  {
   "cell_type": "code",
   "execution_count": 50,
   "id": "f45c27af",
   "metadata": {},
   "outputs": [
    {
     "name": "stdout",
     "output_type": "stream",
     "text": [
      "Accuracy on Test Set using Hyperparameters are 0.7094395280235988\n"
     ]
    }
   ],
   "source": [
    "accuracy=logistic_regression_final(X,y,X_test,y_test,T[0][0],T[0][1],int(T[0][2]),1000,1e-1)\n",
    "print(\"Accuracy on Test Set using Hyperparameters are\",accuracy)"
   ]
  },
  {
   "cell_type": "markdown",
   "id": "7cf9a8be",
   "metadata": {},
   "source": [
    "#### Thus a Great Improvement in Accuracy is displayed with Hyperband Optimisation Algorithm with accuracy of 70%."
   ]
  },
  {
   "cell_type": "markdown",
   "id": "227f19da",
   "metadata": {},
   "source": [
    "##### References\n",
    " - https://stackoverflow.com/questions/53513/how-do-i-check-if-a-list-is-empty\n",
    " - https://www.kite.com/python/answers/how-to-find-the-number-of-pandas-dataframe-columns-in-python\n",
    " - https://stackoverflow.com/questions/29763620/how-to-select-all-columns-except-one-column-in-pandas\n",
    " - https://stackoverflow.com/questions/26414913/normalize-columns-of-pandas-data-frame\n",
    " - https://stackoverflow.com/questions/59246090/how-to-generate-iid-sample-from-a-given-arbitrary-probability-density-function\n",
    " - https://www.geeksforgeeks.org/ml-mini-batch-gradient-descent-with-python/\n",
    " - https://homes.cs.washington.edu/~jamieson/hyperband.html\n",
    " - https://openreview.net/pdf?id=ry18Ww5ee\n",
    " - https://numpy.org/doc/stable/reference/random/generated/numpy.random.uniform.html"
   ]
  },
  {
   "cell_type": "code",
   "execution_count": null,
   "id": "ba121f6c",
   "metadata": {},
   "outputs": [],
   "source": []
  }
 ],
 "metadata": {
  "kernelspec": {
   "display_name": "Python 3",
   "language": "python",
   "name": "python3"
  },
  "language_info": {
   "codemirror_mode": {
    "name": "ipython",
    "version": 3
   },
   "file_extension": ".py",
   "mimetype": "text/x-python",
   "name": "python",
   "nbconvert_exporter": "python",
   "pygments_lexer": "ipython3",
   "version": "3.8.8"
  }
 },
 "nbformat": 4,
 "nbformat_minor": 5
}
