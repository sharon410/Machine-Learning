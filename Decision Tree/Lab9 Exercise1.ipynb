{
 "cells": [
  {
   "cell_type": "markdown",
   "id": "6c9816df",
   "metadata": {},
   "source": [
    "###                                                                                         Name: Sharon Laurance Muthipeedika \n",
    "###                                                                                         Matriculation No: 312486"
   ]
  },
  {
   "cell_type": "markdown",
   "id": "c022b970",
   "metadata": {},
   "source": [
    "## Exercise 1: Implement Decision Tree"
   ]
  },
  {
   "cell_type": "code",
   "execution_count": 1,
   "id": "328c1eec",
   "metadata": {},
   "outputs": [],
   "source": [
    "import numpy as np\n",
    "import pandas as pd\n",
    "import matplotlib.pyplot as plt\n",
    "import math\n",
    "from collections import Counter\n",
    "from sklearn.model_selection import train_test_split\n",
    "from sklearn.metrics import accuracy_score"
   ]
  },
  {
   "cell_type": "code",
   "execution_count": 2,
   "id": "eaefd71f",
   "metadata": {},
   "outputs": [],
   "source": [
    "df=pd.read_csv(\"C:\\\\Users\\\\Sharon\\\\ML_LAB\\\\Lab 9\\\\iris.data\",header=None,delimiter=',')"
   ]
  },
  {
   "cell_type": "code",
   "execution_count": 3,
   "id": "5fa94de2",
   "metadata": {},
   "outputs": [],
   "source": [
    "df.columns =['sepal_length', 'sepal_width', 'petal_length', 'petal_width','target']"
   ]
  },
  {
   "cell_type": "code",
   "execution_count": 4,
   "id": "85bb7f3d",
   "metadata": {},
   "outputs": [],
   "source": [
    "df['target']=df.target.astype(\"category\").cat.codes"
   ]
  },
  {
   "cell_type": "markdown",
   "id": "0b0be9bc",
   "metadata": {},
   "source": [
    "#### Target class\n",
    " - Iris Setosa = 0\n",
    " - Iris Versicolour = 1\n",
    " - Iris Virginica = 2"
   ]
  },
  {
   "cell_type": "code",
   "execution_count": 5,
   "id": "6d68fa77",
   "metadata": {},
   "outputs": [
    {
     "data": {
      "text/html": [
       "<div>\n",
       "<style scoped>\n",
       "    .dataframe tbody tr th:only-of-type {\n",
       "        vertical-align: middle;\n",
       "    }\n",
       "\n",
       "    .dataframe tbody tr th {\n",
       "        vertical-align: top;\n",
       "    }\n",
       "\n",
       "    .dataframe thead th {\n",
       "        text-align: right;\n",
       "    }\n",
       "</style>\n",
       "<table border=\"1\" class=\"dataframe\">\n",
       "  <thead>\n",
       "    <tr style=\"text-align: right;\">\n",
       "      <th></th>\n",
       "      <th>sepal_length</th>\n",
       "      <th>sepal_width</th>\n",
       "      <th>petal_length</th>\n",
       "      <th>petal_width</th>\n",
       "      <th>target</th>\n",
       "    </tr>\n",
       "  </thead>\n",
       "  <tbody>\n",
       "    <tr>\n",
       "      <th>0</th>\n",
       "      <td>5.1</td>\n",
       "      <td>3.5</td>\n",
       "      <td>1.4</td>\n",
       "      <td>0.2</td>\n",
       "      <td>0</td>\n",
       "    </tr>\n",
       "    <tr>\n",
       "      <th>1</th>\n",
       "      <td>4.9</td>\n",
       "      <td>3.0</td>\n",
       "      <td>1.4</td>\n",
       "      <td>0.2</td>\n",
       "      <td>0</td>\n",
       "    </tr>\n",
       "    <tr>\n",
       "      <th>2</th>\n",
       "      <td>4.7</td>\n",
       "      <td>3.2</td>\n",
       "      <td>1.3</td>\n",
       "      <td>0.2</td>\n",
       "      <td>0</td>\n",
       "    </tr>\n",
       "    <tr>\n",
       "      <th>3</th>\n",
       "      <td>4.6</td>\n",
       "      <td>3.1</td>\n",
       "      <td>1.5</td>\n",
       "      <td>0.2</td>\n",
       "      <td>0</td>\n",
       "    </tr>\n",
       "    <tr>\n",
       "      <th>4</th>\n",
       "      <td>5.0</td>\n",
       "      <td>3.6</td>\n",
       "      <td>1.4</td>\n",
       "      <td>0.2</td>\n",
       "      <td>0</td>\n",
       "    </tr>\n",
       "  </tbody>\n",
       "</table>\n",
       "</div>"
      ],
      "text/plain": [
       "   sepal_length  sepal_width  petal_length  petal_width  target\n",
       "0           5.1          3.5           1.4          0.2       0\n",
       "1           4.9          3.0           1.4          0.2       0\n",
       "2           4.7          3.2           1.3          0.2       0\n",
       "3           4.6          3.1           1.5          0.2       0\n",
       "4           5.0          3.6           1.4          0.2       0"
      ]
     },
     "execution_count": 5,
     "metadata": {},
     "output_type": "execute_result"
    }
   ],
   "source": [
    "df.head()"
   ]
  },
  {
   "cell_type": "code",
   "execution_count": 6,
   "id": "5aca47d1",
   "metadata": {},
   "outputs": [],
   "source": [
    "X = df.iloc[:, :-1].values\n",
    "Y = df.iloc[:, -1].values.reshape(-1,1)"
   ]
  },
  {
   "cell_type": "code",
   "execution_count": 7,
   "id": "68465136",
   "metadata": {},
   "outputs": [],
   "source": [
    "X_train, X_test, y_train, y_test = train_test_split(X, Y, test_size=0.15, random_state=3116)"
   ]
  },
  {
   "cell_type": "code",
   "execution_count": 8,
   "id": "5a34fd37",
   "metadata": {},
   "outputs": [],
   "source": [
    "X_train, X_val, y_train, y_val= train_test_split(X_train,y_train, test_size=0.12, random_state=3116)"
   ]
  },
  {
   "cell_type": "markdown",
   "id": "22e984ea",
   "metadata": {},
   "source": [
    "### Part A:  Basic working with MCR"
   ]
  },
  {
   "cell_type": "code",
   "execution_count": 9,
   "id": "177c0ba2",
   "metadata": {},
   "outputs": [],
   "source": [
    "class Node():\n",
    "    def __init__(self, feature_index=None, threshold=None, left=None, right=None, info_gain=None, value=None):\n",
    "        ''' constructor ''' \n",
    "        \n",
    "        # for decision node\n",
    "        self.feature_index = feature_index\n",
    "        self.threshold = threshold\n",
    "        self.left = left\n",
    "        self.right = right\n",
    "        self.info_gain = info_gain\n",
    "        \n",
    "        # for leaf node\n",
    "        self.value = value"
   ]
  },
  {
   "cell_type": "code",
   "execution_count": 25,
   "id": "dc5c4d07",
   "metadata": {},
   "outputs": [],
   "source": [
    "class DecisionTreeClassifier():\n",
    "    def __init__(self, min_samples_split=2, max_depth=2):\n",
    "        ''' constructor '''\n",
    "        \n",
    "        \n",
    "        # initialize the root of the tree \n",
    "        self.root = None\n",
    "        \n",
    "        # stopping conditions\n",
    "        self.min_samples_split = min_samples_split\n",
    "        self.max_depth = max_depth\n",
    "        \n",
    "    def build_tree(self, dataset, curr_depth=0):\n",
    "        ''' recursive function to build the tree ''' \n",
    "        \n",
    "        X, Y = dataset[:,:-1], dataset[:,-1]\n",
    "        num_samples, num_features = np.shape(X)\n",
    "        \n",
    "        # split until stopping conditions are met\n",
    "        if num_samples>=self.min_samples_split and curr_depth<=self.max_depth:\n",
    "            # find the best split\n",
    "            best_split = self.get_best_split(dataset, num_samples, num_features)\n",
    "            # check if information gain is positive\n",
    "            if best_split[\"info_gain\"]>0:\n",
    "                print(\"Decision step at which split occurs with threshold \",best_split[\"threshold\"])\n",
    "                #Find out the probability of each class at this time and store in array\n",
    "                self.find_probability(Y)\n",
    "                # recur left\n",
    "                left_subtree = self.build_tree(best_split[\"dataset_left\"], curr_depth+1)\n",
    "                # recur right\n",
    "                right_subtree = self.build_tree(best_split[\"dataset_right\"], curr_depth+1)\n",
    "                # return decision node\n",
    "                return Node(best_split[\"feature_index\"], best_split[\"threshold\"], \n",
    "                            left_subtree, right_subtree, best_split[\"info_gain\"])\n",
    "        \n",
    "        # compute leaf node\n",
    "        leaf_value = self.calculate_leaf_value(Y)\n",
    "        # return leaf node\n",
    "        return Node(value=leaf_value)\n",
    "    \n",
    "    def find_probability(self, y):\n",
    "\n",
    "        \n",
    "        uniqw, inverse = np.unique(y, return_inverse=True)\n",
    "        hist=np.bincount(inverse)\n",
    "        \n",
    "        ps=hist/len(y)\n",
    "        print(\"Probability Array\",ps)\n",
    "        plt.hist(ps, bins=6)\n",
    "        plt.title(\"Probability of Y\")\n",
    "        plt.show()\n",
    "        plt.hist(y)\n",
    "        plt.title(\"Iris class Target distribitution for each class\")\n",
    "        plt.show()\n",
    "        \n",
    "#         x = np.arange(3)\n",
    "        \n",
    "#         plt.bar(x, height=ps)\n",
    "#         plt.xticks(x, ['Iris Setosa','Iris Versicolour','Iris Virginica'])\n",
    "#         plt.show()\n",
    "        \n",
    "    def get_best_split(self, dataset, num_samples, num_features):\n",
    "        ''' function to find the best split '''\n",
    "        \n",
    "        # dictionary to store the best split\n",
    "        best_split = {}\n",
    "        max_info_gain = -float(\"inf\")\n",
    "        \n",
    "        # loop over all the features\n",
    "        for feature_index in range(num_features):\n",
    "            feature_values = dataset[:, feature_index]\n",
    "            possible_thresholds = np.unique(feature_values)\n",
    "            # loop over all the feature values present in the data\n",
    "            for threshold in possible_thresholds:\n",
    "                # get current split\n",
    "                dataset_left, dataset_right = self.split(dataset, feature_index, threshold)\n",
    "                # check if childs are not null\n",
    "                if len(dataset_left)>0 and len(dataset_right)>0:\n",
    "                    y, left_y, right_y = dataset[:, -1], dataset_left[:, -1], dataset_right[:, -1]\n",
    "                    # compute information gain\n",
    "                    curr_info_gain = self.information_gain(y, left_y, right_y)\n",
    "                    # update the best split if needed\n",
    "                    if curr_info_gain>max_info_gain:\n",
    "                        best_split[\"feature_index\"] = feature_index\n",
    "                        best_split[\"threshold\"] = threshold\n",
    "                        best_split[\"dataset_left\"] = dataset_left\n",
    "                        best_split[\"dataset_right\"] = dataset_right\n",
    "                        best_split[\"info_gain\"] = curr_info_gain\n",
    "                        max_info_gain = curr_info_gain\n",
    "                        \n",
    "        # return best split\n",
    "        return best_split\n",
    "    \n",
    "    def split(self, dataset, feature_index, threshold):\n",
    "        ''' function to split the data '''\n",
    "        \n",
    "        dataset_left = np.array([row for row in dataset if row[feature_index]<=threshold])\n",
    "        dataset_right = np.array([row for row in dataset if row[feature_index]>threshold])\n",
    "        return dataset_left, dataset_right\n",
    "    \n",
    "\n",
    "    def information_gain(self, parent, l_child, r_child):\n",
    "        ''' function to compute information gain '''\n",
    "        \n",
    "        weight_l = len(l_child) / len(parent)\n",
    "        weight_r = len(r_child) / len(parent)\n",
    "        \n",
    "        gain = self.misclassification_rate(parent) - (weight_l*self.misclassification_rate(l_child) + weight_r*self.misclassification_rate(r_child))\n",
    "        return gain\n",
    "     \n",
    "    def misclassification_rate(self, y):\n",
    "        #Here class having majority label would be predicted. So accuracy would be majority class/total length\n",
    "        #Error percentage would be 1- accuracy\n",
    "#         print(y)\n",
    "        uniqw, inverse = np.unique(y, return_inverse=True)\n",
    "        hist=np.bincount(inverse)\n",
    "#         print(hist)\n",
    "        accuracy=np.amax(hist)/len(y)\n",
    "        error=1-accuracy\n",
    "#         print(error)\n",
    "        return error\n",
    "   \n",
    "    def calculate_leaf_value(self, Y):\n",
    "        ''' function to compute leaf node '''\n",
    "        \n",
    "        Y = list(Y)\n",
    "        return max(Y, key=Y.count)\n",
    "    \n",
    "    def print_tree(self, tree=None, indent=\" \"):\n",
    "        ''' function to print the tree '''\n",
    "        \n",
    "        if not tree:\n",
    "            tree = self.root\n",
    "\n",
    "        if tree.value is not None:\n",
    "            print(tree.value)\n",
    "\n",
    "        else:\n",
    "            if (tree.feature_index==0):\n",
    "                \n",
    "                print(\"sepal_length\", \"<=\", tree.threshold, \"?\", tree.info_gain)\n",
    "                print(\"%sleft:\" % (indent), end=\"\")\n",
    "                self.print_tree(tree.left, indent + indent)\n",
    "                print(\"%sright:\" % (indent), end=\"\")\n",
    "                self.print_tree(tree.right, indent + indent)\n",
    "            elif (tree.feature_index==1):\n",
    "                print(\"sepal_width\", \"<=\", tree.threshold, \"?\", tree.info_gain)\n",
    "                print(\"%sleft:\" % (indent), end=\"\")\n",
    "                self.print_tree(tree.left, indent + indent)\n",
    "                print(\"%sright:\" % (indent), end=\"\")\n",
    "                self.print_tree(tree.right, indent + indent)\n",
    "                \n",
    "            elif (tree.feature_index==2):\n",
    "                print(\"petal_length\", \"<=\", tree.threshold, \"?\", tree.info_gain)\n",
    "                print(\"%sleft:\" % (indent), end=\"\")\n",
    "                self.print_tree(tree.left, indent + indent)\n",
    "                print(\"%sright:\" % (indent), end=\"\")\n",
    "                self.print_tree(tree.right, indent + indent)\n",
    "            elif (tree.feature_index==3):\n",
    "                print(\"petal_width\", \"<=\", tree.threshold, \"?\", tree.info_gain)\n",
    "                print(\"%sleft:\" % (indent), end=\"\")\n",
    "                self.print_tree(tree.left, indent + indent)\n",
    "                print(\"%sright:\" % (indent), end=\"\")\n",
    "                self.print_tree(tree.right, indent + indent)\n",
    "    \n",
    "    \n",
    "    def bfs_traversal(self, tree=None):\n",
    "        arr=[]\n",
    "        if not tree:\n",
    "            tree = self.root\n",
    "        if tree.value is not None:\n",
    "#             print(\"Leaf Node is\",tree.value)\n",
    "            arr.append(tree.value)\n",
    "        else:\n",
    "            self.bfs_traversal(tree.left)\n",
    "            self.bfs_traversal(tree.right)  \n",
    "        return arr\n",
    "    \n",
    "    def fit(self, X, Y):\n",
    "        ''' function to train the tree '''\n",
    "        \n",
    "        dataset = np.concatenate((X, Y), axis=1)\n",
    "        self.root = self.build_tree(dataset)\n",
    "#         print(self.root)\n",
    "    \n",
    "    def predict(self, X):\n",
    "        ''' function to predict new dataset '''\n",
    "        \n",
    "        preditions = [self.make_prediction(x, self.root) for x in X]\n",
    "        return preditions\n",
    "    \n",
    "    def make_prediction(self, x, tree):\n",
    "        ''' function to predict a single data point '''\n",
    "        \n",
    "        if tree.value!=None: \n",
    "            return tree.value\n",
    "        feature_val = x[tree.feature_index]\n",
    "        if feature_val<=tree.threshold:\n",
    "            return self.make_prediction(x, tree.left)\n",
    "        else:\n",
    "            return self.make_prediction(x, tree.right)\n",
    "        \n",
    "def accuracy(y_true, y_pred):\n",
    "    accuracy = np.sum(y_true == y_pred) / len(y_true)\n",
    "    print(accuracy)\n",
    "    return accuracy"
   ]
  },
  {
   "cell_type": "markdown",
   "id": "2067b750",
   "metadata": {},
   "source": [
    "#### 1.At each decision step (or split) present the probability of each class using histogram (properly labeled figure)"
   ]
  },
  {
   "cell_type": "code",
   "execution_count": 26,
   "id": "a7d50e19",
   "metadata": {},
   "outputs": [
    {
     "name": "stdout",
     "output_type": "stream",
     "text": [
      "Decision step at which split occurs with threshold  1.9\n",
      "Probability Array [0.34234234 0.35135135 0.30630631]\n"
     ]
    },
    {
     "data": {
      "image/png": "[encoded data removed]",
      "text/plain": [
       "<Figure size 432x288 with 1 Axes>"
      ]
     },
     "metadata": {
      "needs_background": "light"
     },
     "output_type": "display_data"
    },
    {
     "data": {
      "image/png": "[encoded data removed]",
      "text/plain": [
       "<Figure size 432x288 with 1 Axes>"
      ]
     },
     "metadata": {
      "needs_background": "light"
     },
     "output_type": "display_data"
    },
    {
     "name": "stdout",
     "output_type": "stream",
     "text": [
      "Decision step at which split occurs with threshold  4.7\n",
      "Probability Array [0.53424658 0.46575342]\n"
     ]
    },
    {
     "data": {
      "image/png": "[encoded data removed]",
      "text/plain": [
       "<Figure size 432x288 with 1 Axes>"
      ]
     },
     "metadata": {
      "needs_background": "light"
     },
     "output_type": "display_data"
    },
    {
     "data": {
      "image/png": "[encoded data removed]",
      "text/plain": [
       "<Figure size 432x288 with 1 Axes>"
      ]
     },
     "metadata": {
      "needs_background": "light"
     },
     "output_type": "display_data"
    },
    {
     "name": "stdout",
     "output_type": "stream",
     "text": [
      "Decision step at which split occurs with threshold  1.6\n",
      "Probability Array [0.97142857 0.02857143]\n"
     ]
    },
    {
     "data": {
      "image/png": "[encoded data removed]",
      "text/plain": [
       "<Figure size 432x288 with 1 Axes>"
      ]
     },
     "metadata": {
      "needs_background": "light"
     },
     "output_type": "display_data"
    },
    {
     "data": {
      "image/png": "[encoded data removed]",
      "text/plain": [
       "<Figure size 432x288 with 1 Axes>"
      ]
     },
     "metadata": {
      "needs_background": "light"
     },
     "output_type": "display_data"
    },
    {
     "name": "stdout",
     "output_type": "stream",
     "text": [
      "Decision step at which split occurs with threshold  5.7\n",
      "Probability Array [0.13157895 0.86842105]\n"
     ]
    },
    {
     "data": {
      "image/png": "[encoded data removed]",
      "text/plain": [
       "<Figure size 432x288 with 1 Axes>"
      ]
     },
     "metadata": {
      "needs_background": "light"
     },
     "output_type": "display_data"
    },
    {
     "data": {
      "image/png": "[encoded data removed]",
      "text/plain": [
       "<Figure size 432x288 with 1 Axes>"
      ]
     },
     "metadata": {
      "needs_background": "light"
     },
     "output_type": "display_data"
    },
    {
     "name": "stdout",
     "output_type": "stream",
     "text": [
      "Decision step at which split occurs with threshold  5.0\n",
      "Probability Array [0.13888889 0.86111111]\n"
     ]
    },
    {
     "data": {
      "image/png": "[encoded data removed]",
      "text/plain": [
       "<Figure size 432x288 with 1 Axes>"
      ]
     },
     "metadata": {
      "needs_background": "light"
     },
     "output_type": "display_data"
    },
    {
     "data": {
      "image/png": "[encoded data removed]",
      "text/plain": [
       "<Figure size 432x288 with 1 Axes>"
      ]
     },
     "metadata": {
      "needs_background": "light"
     },
     "output_type": "display_data"
    }
   ],
   "source": [
    "classifier = DecisionTreeClassifier(min_samples_split=3, max_depth=3)\n",
    "classifier.fit(X_train,y_train)"
   ]
  },
  {
   "cell_type": "markdown",
   "id": "71b89ca9",
   "metadata": {},
   "source": [
    "#### 2. Print your tree using a breath first tree traversal."
   ]
  },
  {
   "cell_type": "code",
   "execution_count": 18,
   "id": "a967de26",
   "metadata": {
    "scrolled": true
   },
   "outputs": [
    {
     "name": "stdout",
     "output_type": "stream",
     "text": [
      "petal_length <= 1.9 ? 0.34234234234234234\n",
      " left:0.0\n",
      " right:petal_length <= 4.7 ? 0.3835616438356164\n",
      "  left:petal_width <= 1.6 ? 0.02857142857142858\n",
      "    left:1.0\n",
      "    right:2.0\n",
      "  right:sepal_length <= 5.7 ? 2.7755575615628914e-17\n",
      "    left:2.0\n",
      "    right:petal_length <= 5.0 ? 0.02777777777777775\n",
      "        left:1.0\n",
      "        right:2.0\n",
      "BFS Traversal of Tree is [0.0, 1.0, 2.0, 2.0, 1.0, 2.0]\n"
     ]
    }
   ],
   "source": [
    "classifier.print_tree()\n",
    "arr=classifier.bfs_traversal()\n",
    "print(\"BFS Traversal of Tree is\",arr)"
   ]
  },
  {
   "cell_type": "markdown",
   "id": "18853125",
   "metadata": {},
   "source": [
    "#### 3. On the validation-set measure the cross entropy loss (i.e. logloss, note that this time problem is not binary classification). Here class labels are returned by prediction therefore accuracy is given for dataset. Probabilities are not returned so cross entropy loss is not calculated\n",
    "\n"
   ]
  },
  {
   "cell_type": "code",
   "execution_count": 20,
   "id": "2fdc5b41",
   "metadata": {},
   "outputs": [
    {
     "name": "stdout",
     "output_type": "stream",
     "text": [
      "Accuracy Score for Validation Class 0.9375\n"
     ]
    }
   ],
   "source": [
    "Y_pred = classifier.predict(X_val) \n",
    "acc=accuracy_score(y_val, Y_pred)\n",
    "print(\"Accuracy Score for Validation Class\",acc)"
   ]
  },
  {
   "cell_type": "markdown",
   "id": "d86aed80",
   "metadata": {},
   "source": [
    "### Part B: Experimenting with other Quality-criterion:"
   ]
  },
  {
   "cell_type": "markdown",
   "id": "fc148728",
   "metadata": {},
   "source": [
    "#### Modify the Quality-criterion to Information Gain using entropy"
   ]
  },
  {
   "cell_type": "code",
   "execution_count": 21,
   "id": "9cb135ed",
   "metadata": {},
   "outputs": [],
   "source": [
    "class DecisionTreeClassifier_Info():\n",
    "    def __init__(self, min_samples_split=2, max_depth=2):\n",
    "        ''' constructor '''\n",
    "        \n",
    "        \n",
    "        # initialize the root of the tree \n",
    "        self.root = None\n",
    "        \n",
    "        # stopping conditions\n",
    "        self.min_samples_split = min_samples_split\n",
    "        self.max_depth = max_depth\n",
    "        \n",
    "    def build_tree(self, dataset, curr_depth=0):\n",
    "        ''' recursive function to build the tree ''' \n",
    "        \n",
    "        X, Y = dataset[:,:-1], dataset[:,-1]\n",
    "        num_samples, num_features = np.shape(X)\n",
    "        \n",
    "        # split until stopping conditions are met\n",
    "        if num_samples>=self.min_samples_split and curr_depth<=self.max_depth:\n",
    "            # find the best split\n",
    "            best_split = self.get_best_split(dataset, num_samples, num_features)\n",
    "            # check if information gain is positive\n",
    "            if best_split[\"info_gain\"]>0:\n",
    "                # recur left\n",
    "                left_subtree = self.build_tree(best_split[\"dataset_left\"], curr_depth+1)\n",
    "                # recur right\n",
    "                right_subtree = self.build_tree(best_split[\"dataset_right\"], curr_depth+1)\n",
    "                # return decision node\n",
    "                return Node(best_split[\"feature_index\"], best_split[\"threshold\"], \n",
    "                            left_subtree, right_subtree, best_split[\"info_gain\"])\n",
    "        \n",
    "        # compute leaf node\n",
    "        leaf_value = self.calculate_leaf_value(Y)\n",
    "        # return leaf node\n",
    "        return Node(value=leaf_value)\n",
    "    \n",
    "    def get_best_split(self, dataset, num_samples, num_features):\n",
    "        ''' function to find the best split '''\n",
    "        \n",
    "        # dictionary to store the best split\n",
    "        best_split = {}\n",
    "        max_info_gain = -float(\"inf\")\n",
    "        \n",
    "        # loop over all the features\n",
    "        for feature_index in range(num_features):\n",
    "            feature_values = dataset[:, feature_index]\n",
    "            possible_thresholds = np.unique(feature_values)\n",
    "            # loop over all the feature values present in the data\n",
    "            for threshold in possible_thresholds:\n",
    "                # get current split\n",
    "                dataset_left, dataset_right = self.split(dataset, feature_index, threshold)\n",
    "                # check if childs are not null\n",
    "                if len(dataset_left)>0 and len(dataset_right)>0:\n",
    "                    y, left_y, right_y = dataset[:, -1], dataset_left[:, -1], dataset_right[:, -1]\n",
    "                    # compute information gain\n",
    "                    curr_info_gain = self.information_gain(y, left_y, right_y)\n",
    "                    # update the best split if needed\n",
    "                    if curr_info_gain>max_info_gain:\n",
    "                        best_split[\"feature_index\"] = feature_index\n",
    "                        best_split[\"threshold\"] = threshold\n",
    "                        best_split[\"dataset_left\"] = dataset_left\n",
    "                        best_split[\"dataset_right\"] = dataset_right\n",
    "                        best_split[\"info_gain\"] = curr_info_gain\n",
    "                        max_info_gain = curr_info_gain\n",
    "                        \n",
    "        # return best split\n",
    "        return best_split\n",
    "    \n",
    "    def split(self, dataset, feature_index, threshold):\n",
    "        ''' function to split the data '''\n",
    "        \n",
    "        dataset_left = np.array([row for row in dataset if row[feature_index]<=threshold])\n",
    "        dataset_right = np.array([row for row in dataset if row[feature_index]>threshold])\n",
    "        return dataset_left, dataset_right\n",
    "    \n",
    "    def information_gain(self, parent, l_child, r_child):\n",
    "        ''' function to compute information gain '''\n",
    "        \n",
    "        weight_l = len(l_child) / len(parent)\n",
    "        weight_r = len(r_child) / len(parent)\n",
    "        \n",
    "        gain = self.entropy(parent) - (weight_l*self.entropy(l_child) + weight_r*self.entropy(r_child))\n",
    "        return gain\n",
    "    \n",
    "    def entropy(self, y):\n",
    "        ''' function to compute entropy '''\n",
    "        \n",
    "        class_labels = np.unique(y)\n",
    "        entropy = 0\n",
    "        for cls in class_labels:\n",
    "            p_cls = len(y[y == cls]) / len(y)\n",
    "            entropy += -p_cls * np.log2(p_cls)\n",
    "        return entropy\n",
    "    \n",
    "\n",
    "   \n",
    "    def calculate_leaf_value(self, Y):\n",
    "        ''' function to compute leaf node '''\n",
    "        \n",
    "        Y = list(Y)\n",
    "        return max(Y, key=Y.count)\n",
    "    \n",
    "    def print_tree(self, tree=None, indent=\" \"):\n",
    "        ''' function to print the tree '''\n",
    "        \n",
    "        if not tree:\n",
    "            tree = self.root\n",
    "\n",
    "        if tree.value is not None:\n",
    "            print(tree.value)\n",
    "\n",
    "        else:\n",
    "            if (tree.feature_index==0):\n",
    "                \n",
    "#                 print(\"X_\"+str(tree.feature_index), \"<=\", tree.threshold, \"?\", tree.info_gain)\n",
    "                print(\"sepal_length\", \"<=\", tree.threshold, \"?\", tree.info_gain)\n",
    "                print(\"%sleft:\" % (indent), end=\"\")\n",
    "                self.print_tree(tree.left, indent + indent)\n",
    "                print(\"%sright:\" % (indent), end=\"\")\n",
    "                self.print_tree(tree.right, indent + indent)\n",
    "            elif (tree.feature_index==1):\n",
    "                print(\"sepal_width\", \"<=\", tree.threshold, \"?\", tree.info_gain)\n",
    "                print(\"%sleft:\" % (indent), end=\"\")\n",
    "                self.print_tree(tree.left, indent + indent)\n",
    "                print(\"%sright:\" % (indent), end=\"\")\n",
    "                self.print_tree(tree.right, indent + indent)\n",
    "                \n",
    "            elif (tree.feature_index==2):\n",
    "                print(\"petal_length\", \"<=\", tree.threshold, \"?\", tree.info_gain)\n",
    "                print(\"%sleft:\" % (indent), end=\"\")\n",
    "                self.print_tree(tree.left, indent + indent)\n",
    "                print(\"%sright:\" % (indent), end=\"\")\n",
    "                self.print_tree(tree.right, indent + indent)\n",
    "            elif (tree.feature_index==3):\n",
    "                print(\"petal_width\", \"<=\", tree.threshold, \"?\", tree.info_gain)\n",
    "                print(\"%sleft:\" % (indent), end=\"\")\n",
    "                self.print_tree(tree.left, indent + indent)\n",
    "                print(\"%sright:\" % (indent), end=\"\")\n",
    "                self.print_tree(tree.right, indent + indent)\n",
    "    \n",
    "    \n",
    "    \n",
    "    def fit(self, X, Y):\n",
    "        ''' function to train the tree '''\n",
    "        \n",
    "        dataset = np.concatenate((X, Y), axis=1)\n",
    "        self.root = self.build_tree(dataset)\n",
    "#         print(self.root)\n",
    "    \n",
    "    def predict(self, X):\n",
    "        ''' function to predict new dataset '''\n",
    "        \n",
    "        preditions = [self.make_prediction(x, self.root) for x in X]\n",
    "        return preditions\n",
    "    \n",
    "    def make_prediction(self, x, tree):\n",
    "        ''' function to predict a single data point '''\n",
    "        \n",
    "        if tree.value!=None: \n",
    "            return tree.value\n",
    "        feature_val = x[tree.feature_index]\n",
    "        if feature_val<=tree.threshold:\n",
    "            return self.make_prediction(x, tree.left)\n",
    "        else:\n",
    "            return self.make_prediction(x, tree.right)\n",
    "        \n",
    "def accuracy(y_true, y_pred):\n",
    "    accuracy = np.sum(y_true == y_pred) / len(y_true)\n",
    "    print(accuracy)\n",
    "    return accuracy"
   ]
  },
  {
   "cell_type": "markdown",
   "id": "de5b8000",
   "metadata": {},
   "source": [
    "#### At each decision step, plot the Information Gain.\n"
   ]
  },
  {
   "cell_type": "code",
   "execution_count": 22,
   "id": "8363ec62",
   "metadata": {
    "scrolled": true
   },
   "outputs": [
    {
     "name": "stdout",
     "output_type": "stream",
     "text": [
      "petal_length <= 1.9 ? 0.9270425482501283\n",
      " left:0.0\n",
      " right:petal_length <= 4.7 ? 0.6144520763280722\n",
      "  left:petal_width <= 1.6 ? 0.18717625687320816\n",
      "    left:1.0\n",
      "    right:2.0\n",
      "  right:petal_width <= 1.8 ? 0.19926741017824018\n",
      "    left:petal_length <= 5.1 ? 0.2516291673878229\n",
      "        left:2.0\n",
      "        right:2.0\n",
      "    right:2.0\n"
     ]
    }
   ],
   "source": [
    "classifier_info = DecisionTreeClassifier_Info(min_samples_split=3, max_depth=3)\n",
    "\n",
    "classifier_info.fit(X_train,y_train)\n",
    "classifier_info.print_tree()\n"
   ]
  },
  {
   "cell_type": "code",
   "execution_count": 23,
   "id": "e518aa29",
   "metadata": {
    "scrolled": true
   },
   "outputs": [
    {
     "data": {
      "text/plain": [
       "1.0"
      ]
     },
     "execution_count": 23,
     "metadata": {},
     "output_type": "execute_result"
    }
   ],
   "source": [
    "Y_pred = classifier_info.predict(X_val) \n",
    "accuracy_score(y_val, Y_pred)"
   ]
  },
  {
   "cell_type": "markdown",
   "id": "0082d60a",
   "metadata": {},
   "source": [
    "#### Compare the validation set results for both Quality-criterion, output one value for test-set.For validation set as seen Misclassification criterion is not that good.Misclassification criterion just compares True values with majority class label. And error is calculated. Better Quality Criterion is Information gain by taking entropy. Final results will be seen on test set."
   ]
  },
  {
   "cell_type": "code",
   "execution_count": 24,
   "id": "fbcf68d3",
   "metadata": {
    "scrolled": true
   },
   "outputs": [
    {
     "name": "stdout",
     "output_type": "stream",
     "text": [
      "Test Accuracy Score with MCR Quality Criterion 0.9130434782608695\n",
      "Test Accuracy Score with Information Gain Quality Criterion 0.9565217391304348\n"
     ]
    }
   ],
   "source": [
    "Y_pred = classifier.predict(X_test) \n",
    "print(\"Test Accuracy Score with MCR Quality Criterion\",accuracy_score(y_test, Y_pred))\n",
    "Y_pred = classifier_info.predict(X_test) \n",
    "print(\"Test Accuracy Score with Information Gain Quality Criterion\",accuracy_score(y_test, Y_pred))"
   ]
  },
  {
   "cell_type": "markdown",
   "id": "0d570706",
   "metadata": {},
   "source": [
    "#### Even according to test dataset we can see Information Gain performs better as Quality Criterion with accuracy being 95%."
   ]
  },
  {
   "cell_type": "markdown",
   "id": "1057fa22",
   "metadata": {},
   "source": [
    "#### References\n",
    " - https://github.com/Suji04/ML_from_Scratch/blob/master/decision%20tree%20classification.ipynb\n",
    " - https://datatofish.com/plot-histogram-python/"
   ]
  }
 ],
 "metadata": {
  "kernelspec": {
   "display_name": "Python 3",
   "language": "python",
   "name": "python3"
  },
  "language_info": {
   "codemirror_mode": {
    "name": "ipython",
    "version": 3
   },
   "file_extension": ".py",
   "mimetype": "text/x-python",
   "name": "python",
   "nbconvert_exporter": "python",
   "pygments_lexer": "ipython3",
   "version": "3.8.8"
  }
 },
 "nbformat": 4,
 "nbformat_minor": 5
}
