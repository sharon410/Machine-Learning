{
 "cells": [
  {
   "cell_type": "markdown",
   "id": "77123fc2",
   "metadata": {},
   "source": [
    "###                                                                                         Name: Sharon Laurance Muthipeedika \n",
    "###                                                                                         Matriculation No: 312486"
   ]
  },
  {
   "cell_type": "markdown",
   "id": "3455725b",
   "metadata": {},
   "source": [
    "## Exercise 1: Exploratory Analysis on Real-World Data using Pandas and Matplotlib (6 Points)\n"
   ]
  },
  {
   "cell_type": "markdown",
   "id": "93d737a9",
   "metadata": {},
   "source": [
    "### Part A: (Interesting stats)\n"
   ]
  },
  {
   "cell_type": "code",
   "execution_count": 1,
   "id": "c1d5e49e",
   "metadata": {},
   "outputs": [],
   "source": [
    "# Importing Required Libraries\n",
    "import numpy as np\n",
    "import pandas as pd\n",
    "import matplotlib.pyplot as plt\n",
    "import seaborn as sns"
   ]
  },
  {
   "cell_type": "code",
   "execution_count": 2,
   "id": "55dee12c",
   "metadata": {},
   "outputs": [
    {
     "name": "stderr",
     "output_type": "stream",
     "text": [
      "C:\\Users\\Sharon\\anaconda3\\lib\\site-packages\\IPython\\core\\interactiveshell.py:3165: DtypeWarning: Columns (7) have mixed types.Specify dtype option on import or set low_memory=False.\n",
      "  has_raised = await self.run_ast_nodes(code_ast.body, cell_name,\n"
     ]
    }
   ],
   "source": [
    "dataframe=pd.read_csv(\"C:\\\\Users\\\\Sharon\\\\ML_LAB\\\\Lab 2\\\\rossmann-store-sales\\\\train.csv\") #Load train.csv into pandas Dataframe"
   ]
  },
  {
   "cell_type": "code",
   "execution_count": 3,
   "id": "6d86fb16",
   "metadata": {},
   "outputs": [
    {
     "data": {
      "text/html": [
       "<div>\n",
       "<style scoped>\n",
       "    .dataframe tbody tr th:only-of-type {\n",
       "        vertical-align: middle;\n",
       "    }\n",
       "\n",
       "    .dataframe tbody tr th {\n",
       "        vertical-align: top;\n",
       "    }\n",
       "\n",
       "    .dataframe thead th {\n",
       "        text-align: right;\n",
       "    }\n",
       "</style>\n",
       "<table border=\"1\" class=\"dataframe\">\n",
       "  <thead>\n",
       "    <tr style=\"text-align: right;\">\n",
       "      <th></th>\n",
       "      <th>Store</th>\n",
       "      <th>DayOfWeek</th>\n",
       "      <th>Date</th>\n",
       "      <th>Sales</th>\n",
       "      <th>Customers</th>\n",
       "      <th>Open</th>\n",
       "      <th>Promo</th>\n",
       "      <th>StateHoliday</th>\n",
       "      <th>SchoolHoliday</th>\n",
       "    </tr>\n",
       "  </thead>\n",
       "  <tbody>\n",
       "    <tr>\n",
       "      <th>0</th>\n",
       "      <td>1</td>\n",
       "      <td>5</td>\n",
       "      <td>2015-07-31</td>\n",
       "      <td>5263</td>\n",
       "      <td>555</td>\n",
       "      <td>1</td>\n",
       "      <td>1</td>\n",
       "      <td>0</td>\n",
       "      <td>1</td>\n",
       "    </tr>\n",
       "    <tr>\n",
       "      <th>1</th>\n",
       "      <td>2</td>\n",
       "      <td>5</td>\n",
       "      <td>2015-07-31</td>\n",
       "      <td>6064</td>\n",
       "      <td>625</td>\n",
       "      <td>1</td>\n",
       "      <td>1</td>\n",
       "      <td>0</td>\n",
       "      <td>1</td>\n",
       "    </tr>\n",
       "    <tr>\n",
       "      <th>2</th>\n",
       "      <td>3</td>\n",
       "      <td>5</td>\n",
       "      <td>2015-07-31</td>\n",
       "      <td>8314</td>\n",
       "      <td>821</td>\n",
       "      <td>1</td>\n",
       "      <td>1</td>\n",
       "      <td>0</td>\n",
       "      <td>1</td>\n",
       "    </tr>\n",
       "    <tr>\n",
       "      <th>3</th>\n",
       "      <td>4</td>\n",
       "      <td>5</td>\n",
       "      <td>2015-07-31</td>\n",
       "      <td>13995</td>\n",
       "      <td>1498</td>\n",
       "      <td>1</td>\n",
       "      <td>1</td>\n",
       "      <td>0</td>\n",
       "      <td>1</td>\n",
       "    </tr>\n",
       "    <tr>\n",
       "      <th>4</th>\n",
       "      <td>5</td>\n",
       "      <td>5</td>\n",
       "      <td>2015-07-31</td>\n",
       "      <td>4822</td>\n",
       "      <td>559</td>\n",
       "      <td>1</td>\n",
       "      <td>1</td>\n",
       "      <td>0</td>\n",
       "      <td>1</td>\n",
       "    </tr>\n",
       "  </tbody>\n",
       "</table>\n",
       "</div>"
      ],
      "text/plain": [
       "   Store  DayOfWeek        Date  Sales  Customers  Open  Promo StateHoliday  \\\n",
       "0      1          5  2015-07-31   5263        555     1      1            0   \n",
       "1      2          5  2015-07-31   6064        625     1      1            0   \n",
       "2      3          5  2015-07-31   8314        821     1      1            0   \n",
       "3      4          5  2015-07-31  13995       1498     1      1            0   \n",
       "4      5          5  2015-07-31   4822        559     1      1            0   \n",
       "\n",
       "   SchoolHoliday  \n",
       "0              1  \n",
       "1              1  \n",
       "2              1  \n",
       "3              1  \n",
       "4              1  "
      ]
     },
     "execution_count": 3,
     "metadata": {},
     "output_type": "execute_result"
    }
   ],
   "source": [
    "dataframe.head()"
   ]
  },
  {
   "cell_type": "code",
   "execution_count": 4,
   "id": "3261170b",
   "metadata": {},
   "outputs": [
    {
     "name": "stdout",
     "output_type": "stream",
     "text": [
      "Store\n",
      "DayOfWeek\n",
      "Date\n",
      "Sales\n",
      "Customers\n",
      "Open\n",
      "Promo\n",
      "StateHoliday\n",
      "SchoolHoliday\n"
     ]
    }
   ],
   "source": [
    "for column in dataframe:\n",
    "    print(column)\n"
   ]
  },
  {
   "cell_type": "markdown",
   "id": "e68c67b6",
   "metadata": {},
   "source": [
    "#### 1.Find the store that has the maximum sale recorded. Print the store id, date and the sales on that day"
   ]
  },
  {
   "cell_type": "code",
   "execution_count": 5,
   "id": "e8a891e8",
   "metadata": {
    "scrolled": true
   },
   "outputs": [
    {
     "name": "stdout",
     "output_type": "stream",
     "text": [
      "Store           909\n",
      "Date     2015-06-22\n",
      "Sales         41551\n",
      "Name: 44393, dtype: object\n"
     ]
    }
   ],
   "source": [
    "max_value_sale = dataframe.loc[dataframe[\"Sales\"].idxmax()]\n",
    "print(max_value_sale[['Store','Date','Sales']])\n"
   ]
  },
  {
   "cell_type": "code",
   "execution_count": 6,
   "id": "0755e07c",
   "metadata": {},
   "outputs": [],
   "source": [
    "#References:\n",
    "#https://www.codegrepper.com/code-examples/python/add+new+column+with+month+from+date\n",
    "#https://stackoverflow.com/questions/15741759/find-maximum-value-of-a-column-and-return-the-corresponding-row-values-using-pan"
   ]
  },
  {
   "cell_type": "code",
   "execution_count": 7,
   "id": "8406cba3",
   "metadata": {},
   "outputs": [],
   "source": [
    "store_df1=pd.read_csv(\"C:\\\\Users\\\\Sharon\\\\ML_LAB\\\\Lab 2\\\\rossmann-store-sales\\\\store.csv\") #Read store.csv from"
   ]
  },
  {
   "cell_type": "code",
   "execution_count": 8,
   "id": "d201fa03",
   "metadata": {},
   "outputs": [
    {
     "data": {
      "text/plain": [
       "0        NaN\n",
       "1       13.0\n",
       "2       14.0\n",
       "3        NaN\n",
       "4        NaN\n",
       "        ... \n",
       "1110    31.0\n",
       "1111     NaN\n",
       "1112     NaN\n",
       "1113     NaN\n",
       "1114    22.0\n",
       "Name: Promo2SinceWeek, Length: 1115, dtype: float64"
      ]
     },
     "execution_count": 8,
     "metadata": {},
     "output_type": "execute_result"
    }
   ],
   "source": [
    "store_df1['Promo2SinceWeek']"
   ]
  },
  {
   "cell_type": "markdown",
   "id": "4ed52c38",
   "metadata": {},
   "source": [
    "#### 2.Find the store(s) that has/ve the least possible and maximum possible competition distance(s)"
   ]
  },
  {
   "cell_type": "code",
   "execution_count": 30,
   "id": "f2759813",
   "metadata": {},
   "outputs": [
    {
     "name": "stdout",
     "output_type": "stream",
     "text": [
      "Store 453 has maximum Competition Distance\n",
      "Store 516 has minimum Competition Distance\n"
     ]
    }
   ],
   "source": [
    "max_possible = store_df1.loc[store_df1[\"CompetitionDistance\"].idxmax()]\n",
    "least_possible = store_df1.loc[store_df1[\"CompetitionDistance\"].idxmin()]\n",
    "print(\"Store\",max_possible[\"Store\"],\"has maximum Competition Distance\")\n",
    "print(\"Store\",least_possible[\"Store\"],\"has minimum Competition Distance\")"
   ]
  },
  {
   "cell_type": "markdown",
   "id": "08fab3ed",
   "metadata": {},
   "source": [
    "#### 3.What has been the maximum timeline a store has ran a \"Promo\" for? Which store was that, and what dates did the promotion covered?- Store 158,277,637,808,960 and it has run for 4 Months"
   ]
  },
  {
   "cell_type": "code",
   "execution_count": 10,
   "id": "286f72b8",
   "metadata": {
    "scrolled": true
   },
   "outputs": [
    {
     "name": "stdout",
     "output_type": "stream",
     "text": [
      "[nan, 2009.0, 2010.0, 2011.0, 2012.0, 2013.0, 2014.0, 2015.0]\n",
      "[31.0, 37.0, 39.0, 45.0]\n"
     ]
    },
    {
     "data": {
      "text/html": [
       "<div>\n",
       "<style scoped>\n",
       "    .dataframe tbody tr th:only-of-type {\n",
       "        vertical-align: middle;\n",
       "    }\n",
       "\n",
       "    .dataframe tbody tr th {\n",
       "        vertical-align: top;\n",
       "    }\n",
       "\n",
       "    .dataframe thead th {\n",
       "        text-align: right;\n",
       "    }\n",
       "</style>\n",
       "<table border=\"1\" class=\"dataframe\">\n",
       "  <thead>\n",
       "    <tr style=\"text-align: right;\">\n",
       "      <th></th>\n",
       "      <th>Store</th>\n",
       "      <th>StoreType</th>\n",
       "      <th>Assortment</th>\n",
       "      <th>CompetitionDistance</th>\n",
       "      <th>CompetitionOpenSinceMonth</th>\n",
       "      <th>CompetitionOpenSinceYear</th>\n",
       "      <th>Promo2</th>\n",
       "      <th>Promo2SinceWeek</th>\n",
       "      <th>Promo2SinceYear</th>\n",
       "      <th>PromoInterval</th>\n",
       "    </tr>\n",
       "  </thead>\n",
       "  <tbody>\n",
       "    <tr>\n",
       "      <th>157</th>\n",
       "      <td>158</td>\n",
       "      <td>d</td>\n",
       "      <td>c</td>\n",
       "      <td>11840.0</td>\n",
       "      <td>NaN</td>\n",
       "      <td>NaN</td>\n",
       "      <td>1</td>\n",
       "      <td>31.0</td>\n",
       "      <td>2009.0</td>\n",
       "      <td>Feb,May,Aug,Nov</td>\n",
       "    </tr>\n",
       "    <tr>\n",
       "      <th>276</th>\n",
       "      <td>277</td>\n",
       "      <td>d</td>\n",
       "      <td>c</td>\n",
       "      <td>7840.0</td>\n",
       "      <td>NaN</td>\n",
       "      <td>NaN</td>\n",
       "      <td>1</td>\n",
       "      <td>31.0</td>\n",
       "      <td>2009.0</td>\n",
       "      <td>Feb,May,Aug,Nov</td>\n",
       "    </tr>\n",
       "    <tr>\n",
       "      <th>369</th>\n",
       "      <td>370</td>\n",
       "      <td>d</td>\n",
       "      <td>a</td>\n",
       "      <td>8250.0</td>\n",
       "      <td>10.0</td>\n",
       "      <td>2000.0</td>\n",
       "      <td>1</td>\n",
       "      <td>31.0</td>\n",
       "      <td>2009.0</td>\n",
       "      <td>Jan,Apr,Jul,Oct</td>\n",
       "    </tr>\n",
       "    <tr>\n",
       "      <th>611</th>\n",
       "      <td>612</td>\n",
       "      <td>d</td>\n",
       "      <td>c</td>\n",
       "      <td>2490.0</td>\n",
       "      <td>11.0</td>\n",
       "      <td>2012.0</td>\n",
       "      <td>1</td>\n",
       "      <td>31.0</td>\n",
       "      <td>2009.0</td>\n",
       "      <td>Jan,Apr,Jul,Oct</td>\n",
       "    </tr>\n",
       "    <tr>\n",
       "      <th>636</th>\n",
       "      <td>637</td>\n",
       "      <td>d</td>\n",
       "      <td>c</td>\n",
       "      <td>9790.0</td>\n",
       "      <td>NaN</td>\n",
       "      <td>NaN</td>\n",
       "      <td>1</td>\n",
       "      <td>31.0</td>\n",
       "      <td>2009.0</td>\n",
       "      <td>Feb,May,Aug,Nov</td>\n",
       "    </tr>\n",
       "    <tr>\n",
       "      <th>807</th>\n",
       "      <td>808</td>\n",
       "      <td>a</td>\n",
       "      <td>a</td>\n",
       "      <td>18620.0</td>\n",
       "      <td>NaN</td>\n",
       "      <td>NaN</td>\n",
       "      <td>1</td>\n",
       "      <td>31.0</td>\n",
       "      <td>2009.0</td>\n",
       "      <td>Feb,May,Aug,Nov</td>\n",
       "    </tr>\n",
       "    <tr>\n",
       "      <th>959</th>\n",
       "      <td>960</td>\n",
       "      <td>d</td>\n",
       "      <td>a</td>\n",
       "      <td>8990.0</td>\n",
       "      <td>NaN</td>\n",
       "      <td>NaN</td>\n",
       "      <td>1</td>\n",
       "      <td>31.0</td>\n",
       "      <td>2009.0</td>\n",
       "      <td>Feb,May,Aug,Nov</td>\n",
       "    </tr>\n",
       "  </tbody>\n",
       "</table>\n",
       "</div>"
      ],
      "text/plain": [
       "     Store StoreType Assortment  CompetitionDistance  \\\n",
       "157    158         d          c              11840.0   \n",
       "276    277         d          c               7840.0   \n",
       "369    370         d          a               8250.0   \n",
       "611    612         d          c               2490.0   \n",
       "636    637         d          c               9790.0   \n",
       "807    808         a          a              18620.0   \n",
       "959    960         d          a               8990.0   \n",
       "\n",
       "     CompetitionOpenSinceMonth  CompetitionOpenSinceYear  Promo2  \\\n",
       "157                        NaN                       NaN       1   \n",
       "276                        NaN                       NaN       1   \n",
       "369                       10.0                    2000.0       1   \n",
       "611                       11.0                    2012.0       1   \n",
       "636                        NaN                       NaN       1   \n",
       "807                        NaN                       NaN       1   \n",
       "959                        NaN                       NaN       1   \n",
       "\n",
       "     Promo2SinceWeek  Promo2SinceYear    PromoInterval  \n",
       "157             31.0           2009.0  Feb,May,Aug,Nov  \n",
       "276             31.0           2009.0  Feb,May,Aug,Nov  \n",
       "369             31.0           2009.0  Jan,Apr,Jul,Oct  \n",
       "611             31.0           2009.0  Jan,Apr,Jul,Oct  \n",
       "636             31.0           2009.0  Feb,May,Aug,Nov  \n",
       "807             31.0           2009.0  Feb,May,Aug,Nov  \n",
       "959             31.0           2009.0  Feb,May,Aug,Nov  "
      ]
     },
     "execution_count": 10,
     "metadata": {},
     "output_type": "execute_result"
    }
   ],
   "source": [
    "# max_promo_ran=store_df1.loc[store_df1[\"Promo2SinceWeek\"].idxmax()] #Check\n",
    "# print(\"Store\",max_promo_ran[\"Store\"],\"covered\",max_promo_ran[\"PromoInterval\"])\n",
    "# max_promo_ran\n",
    "print(sorted(store_df1[\"Promo2SinceYear\"].unique())) #Stores are running Promo since Year 2009\n",
    "df_longestpromo_store=store_df1[store_df1[\"Promo2SinceYear\"]==2009] \n",
    "df_store_promo=df_longestpromo_store[df_longestpromo_store[\"Promo2SinceWeek\"]==31]\n",
    "print(sorted(df_longestpromo_store[\"Promo2SinceWeek\"].unique())) #Smallest Week is taken and denotes the longest time since promo has started running and has been going on for 4 Months\n",
    "df_store_promo"
   ]
  },
  {
   "cell_type": "markdown",
   "id": "82242dcb",
   "metadata": {},
   "source": [
    "####  4.What is the difference in the mean of sales (across all stores) when offering a Promo and not? - Difference in Mean sales when store offers a Promo and not is 3585.1012408091174"
   ]
  },
  {
   "cell_type": "code",
   "execution_count": 11,
   "id": "57ff0987",
   "metadata": {},
   "outputs": [
    {
     "name": "stdout",
     "output_type": "stream",
     "text": [
      "         Store  DayOfWeek        Date  Sales  Customers  Open  Promo  \\\n",
      "0            1          5  2015-07-31   5263        555     1      1   \n",
      "1            2          5  2015-07-31   6064        625     1      1   \n",
      "2            3          5  2015-07-31   8314        821     1      1   \n",
      "3            4          5  2015-07-31  13995       1498     1      1   \n",
      "4            5          5  2015-07-31   4822        559     1      1   \n",
      "...        ...        ...         ...    ...        ...   ...    ...   \n",
      "1010515   1111          1  2013-01-07   9444        735     1      1   \n",
      "1010516   1112          1  2013-01-07  25165       1661     1      1   \n",
      "1010517   1113          1  2013-01-07   8984        907     1      1   \n",
      "1010518   1114          1  2013-01-07  21237       2962     1      1   \n",
      "1010519   1115          1  2013-01-07   6905        471     1      1   \n",
      "\n",
      "        StateHoliday  SchoolHoliday  \n",
      "0                  0              1  \n",
      "1                  0              1  \n",
      "2                  0              1  \n",
      "3                  0              1  \n",
      "4                  0              1  \n",
      "...              ...            ...  \n",
      "1010515            0              0  \n",
      "1010516            0              0  \n",
      "1010517            0              0  \n",
      "1010518            0              0  \n",
      "1010519            0              1  \n",
      "\n",
      "[388080 rows x 9 columns]\n",
      "         Store  DayOfWeek        Date  Sales  Customers  Open  Promo  \\\n",
      "5575         1          7  2015-07-26      0          0     0      0   \n",
      "5576         2          7  2015-07-26      0          0     0      0   \n",
      "5577         3          7  2015-07-26      0          0     0      0   \n",
      "5578         4          7  2015-07-26      0          0     0      0   \n",
      "5579         5          7  2015-07-26      0          0     0      0   \n",
      "...        ...        ...         ...    ...        ...   ...    ...   \n",
      "1017204   1111          2  2013-01-01      0          0     0      0   \n",
      "1017205   1112          2  2013-01-01      0          0     0      0   \n",
      "1017206   1113          2  2013-01-01      0          0     0      0   \n",
      "1017207   1114          2  2013-01-01      0          0     0      0   \n",
      "1017208   1115          2  2013-01-01      0          0     0      0   \n",
      "\n",
      "        StateHoliday  SchoolHoliday  \n",
      "5575               0              0  \n",
      "5576               0              0  \n",
      "5577               0              0  \n",
      "5578               0              0  \n",
      "5579               0              0  \n",
      "...              ...            ...  \n",
      "1017204            a              1  \n",
      "1017205            a              1  \n",
      "1017206            a              1  \n",
      "1017207            a              1  \n",
      "1017208            a              1  \n",
      "\n",
      "[629129 rows x 9 columns]\n",
      "Difference in Mean sales when store offers a Promo and not is 3585.1012408091174\n"
     ]
    }
   ],
   "source": [
    "df_promo=dataframe[dataframe[\"Promo\"]==1]\n",
    "df_not_promo=dataframe[dataframe[\"Promo\"]==0]\n",
    "print(df_promo)\n",
    "print(df_not_promo)\n",
    "diff_sales= df_promo[\"Sales\"].mean()-df_not_promo[\"Sales\"].mean()\n",
    "print(\"Difference in Mean sales when store offers a Promo and not is\",diff_sales)"
   ]
  },
  {
   "cell_type": "markdown",
   "id": "1c4d62ca",
   "metadata": {},
   "source": [
    "####  5.Are there any anomalies in the data as in where the store was \"Open\" but had no sales recorded? or vice versa?"
   ]
  },
  {
   "cell_type": "code",
   "execution_count": 12,
   "id": "b6418b1b",
   "metadata": {},
   "outputs": [
    {
     "name": "stdout",
     "output_type": "stream",
     "text": [
      "        Store  DayOfWeek        Date  Sales  Customers  Open  Promo  \\\n",
      "86825     971          5  2015-05-15      0          0     1      0   \n",
      "142278    674          4  2015-03-26      0          0     1      0   \n",
      "196938    699          4  2015-02-05      0          0     1      1   \n",
      "322053    708          3  2014-10-01      0          0     1      1   \n",
      "330176    357          1  2014-09-22      0          0     1      0   \n",
      "340348    227          4  2014-09-11      0          0     1      0   \n",
      "340860    835          4  2014-09-11      0          0     1      0   \n",
      "341795    835          3  2014-09-10      0          0     1      0   \n",
      "346232    548          5  2014-09-05      0          0     1      1   \n",
      "346734     28          4  2014-09-04      0          0     1      1   \n",
      "347669     28          3  2014-09-03      0          0     1      1   \n",
      "348604     28          2  2014-09-02      0          0     1      1   \n",
      "386065    102          4  2014-07-24      0          0     1      0   \n",
      "386173    238          4  2014-07-24      0          0     1      0   \n",
      "386227    303          4  2014-07-24      0          0     1      0   \n",
      "386304    387          4  2014-07-24      0          0     1      0   \n",
      "387652    882          3  2014-07-23      0          0     1      0   \n",
      "387656    887          3  2014-07-23      0          0     1      0   \n",
      "397285    102          6  2014-07-12      0          0     1      0   \n",
      "406384    925          4  2014-07-03      0          0     1      1   \n",
      "407532     57          2  2014-07-01      0          0     1      1   \n",
      "437311   1017          4  2014-06-05      0          0     1      1   \n",
      "438426   1017          3  2014-06-04      0          0     1      1   \n",
      "477534   1100          3  2014-04-30      0          0     1      1   \n",
      "478649   1100          2  2014-04-29      0          3     1      1   \n",
      "506085    661          5  2014-04-04      0          0     1      1   \n",
      "512964    850          6  2014-03-29      0          0     1      0   \n",
      "525365    986          2  2014-03-18      0          0     1      1   \n",
      "531396    327          3  2014-03-12      0          0     1      0   \n",
      "561199     25          4  2014-02-13      0          0     1      0   \n",
      "562314     25          3  2014-02-12      0          0     1      0   \n",
      "582982    623          6  2014-01-25      0          0     1      0   \n",
      "584097    623          5  2014-01-24      0          0     1      1   \n",
      "591147    983          6  2014-01-18      0          0     1      0   \n",
      "592262    983          5  2014-01-17      0          0     1      0   \n",
      "744697    663          1  2013-09-02      0          0     1      0   \n",
      "750000    391          3  2013-08-28      0          0     1      1   \n",
      "772836    927          4  2013-08-08      0          0     1      0   \n",
      "805283   1039          3  2013-07-10      0          0     1      0   \n",
      "806398   1039          2  2013-07-09      0          0     1      0   \n",
      "817174    665          6  2013-06-29      0          0     1      0   \n",
      "818289    665          5  2013-06-28      0          0     1      0   \n",
      "843969    700          3  2013-06-05      0          0     1      1   \n",
      "872940    681          5  2013-05-10      0          0     1      0   \n",
      "874853    364          3  2013-05-08      0          0     1      0   \n",
      "875968    364          2  2013-05-07      0          0     1      0   \n",
      "885113    589          1  2013-04-29      0          0     1      1   \n",
      "889932    948          4  2013-04-25      0          5     1      1   \n",
      "933937    353          6  2013-03-16      0          0     1      0   \n",
      "975098    259          4  2013-02-07      0          0     1      1   \n",
      "982983    339          4  2013-01-31      0          0     1      0   \n",
      "984098    339          3  2013-01-30      0          0     1      0   \n",
      "990681    232          4  2013-01-24      0          0     1      1   \n",
      "999016    762          4  2013-01-17      0          0     1      0   \n",
      "\n",
      "       StateHoliday  SchoolHoliday  \n",
      "86825             0              1  \n",
      "142278            0              0  \n",
      "196938            0              0  \n",
      "322053            0              0  \n",
      "330176            0              0  \n",
      "340348            0              0  \n",
      "340860            0              0  \n",
      "341795            0              0  \n",
      "346232            0              1  \n",
      "346734            0              0  \n",
      "347669            0              1  \n",
      "348604            0              1  \n",
      "386065            0              1  \n",
      "386173            0              1  \n",
      "386227            0              1  \n",
      "386304            0              1  \n",
      "387652            0              1  \n",
      "387656            0              0  \n",
      "397285            0              0  \n",
      "406384            0              0  \n",
      "407532            0              0  \n",
      "437311            0              0  \n",
      "438426            0              0  \n",
      "477534            0              0  \n",
      "478649            0              0  \n",
      "506085            0              0  \n",
      "512964            0              0  \n",
      "525365            0              0  \n",
      "531396            0              0  \n",
      "561199            0              0  \n",
      "562314            0              0  \n",
      "582982            0              0  \n",
      "584097            0              0  \n",
      "591147            0              0  \n",
      "592262            0              0  \n",
      "744697            0              1  \n",
      "750000            0              1  \n",
      "772836            0              1  \n",
      "805283            0              0  \n",
      "806398            0              0  \n",
      "817174            0              0  \n",
      "818289            0              0  \n",
      "843969            0              0  \n",
      "872940            0              0  \n",
      "874853            0              0  \n",
      "875968            0              0  \n",
      "885113            0              0  \n",
      "889932            0              0  \n",
      "933937            0              0  \n",
      "975098            0              0  \n",
      "982983            0              0  \n",
      "984098            0              0  \n",
      "990681            0              0  \n",
      "999016            0              0  \n",
      "54\n"
     ]
    }
   ],
   "source": [
    "store_open_sales_zero=dataframe[(dataframe[\"Open\"]==1) & (dataframe[\"Sales\"]==0)]\n",
    "print(store_open_sales_zero)\n",
    "print(len(store_open_sales_zero))"
   ]
  },
  {
   "cell_type": "markdown",
   "id": "8f5ec26d",
   "metadata": {},
   "source": [
    "##### 54 such stores exist where store is open but sales recorded is zero"
   ]
  },
  {
   "cell_type": "code",
   "execution_count": 13,
   "id": "e4346df9",
   "metadata": {
    "scrolled": true
   },
   "outputs": [
    {
     "name": "stdout",
     "output_type": "stream",
     "text": [
      "Empty DataFrame\n",
      "Columns: [Store, DayOfWeek, Date, Sales, Customers, Open, Promo, StateHoliday, SchoolHoliday]\n",
      "Index: []\n"
     ]
    }
   ],
   "source": [
    "store_closed_sales=dataframe[(dataframe[\"Open\"]==0) & (dataframe[\"Sales\"]>0)]\n",
    "print(store_closed_sales)"
   ]
  },
  {
   "cell_type": "markdown",
   "id": "e688aec1",
   "metadata": {},
   "source": [
    "##### No stores exist where store is closed but sales is recorded"
   ]
  },
  {
   "cell_type": "markdown",
   "id": "88e7d72f",
   "metadata": {},
   "source": [
    "#### 6. Which store type (’a’,’b’ etc.) has had the most sales?"
   ]
  },
  {
   "cell_type": "code",
   "execution_count": 14,
   "id": "a6e85813",
   "metadata": {},
   "outputs": [
    {
     "data": {
      "text/html": [
       "<div>\n",
       "<style scoped>\n",
       "    .dataframe tbody tr th:only-of-type {\n",
       "        vertical-align: middle;\n",
       "    }\n",
       "\n",
       "    .dataframe tbody tr th {\n",
       "        vertical-align: top;\n",
       "    }\n",
       "\n",
       "    .dataframe thead th {\n",
       "        text-align: right;\n",
       "    }\n",
       "</style>\n",
       "<table border=\"1\" class=\"dataframe\">\n",
       "  <thead>\n",
       "    <tr style=\"text-align: right;\">\n",
       "      <th></th>\n",
       "      <th>Store</th>\n",
       "      <th>DayOfWeek</th>\n",
       "      <th>Date</th>\n",
       "      <th>Sales</th>\n",
       "      <th>Customers</th>\n",
       "      <th>Open</th>\n",
       "      <th>Promo</th>\n",
       "      <th>StateHoliday</th>\n",
       "      <th>SchoolHoliday</th>\n",
       "      <th>Assortment</th>\n",
       "      <th>CompetitionDistance</th>\n",
       "      <th>CompetitionOpenSinceMonth</th>\n",
       "      <th>CompetitionOpenSinceYear</th>\n",
       "      <th>Promo2</th>\n",
       "      <th>Promo2SinceWeek</th>\n",
       "      <th>Promo2SinceYear</th>\n",
       "      <th>PromoInterval</th>\n",
       "    </tr>\n",
       "    <tr>\n",
       "      <th>StoreType</th>\n",
       "      <th></th>\n",
       "      <th></th>\n",
       "      <th></th>\n",
       "      <th></th>\n",
       "      <th></th>\n",
       "      <th></th>\n",
       "      <th></th>\n",
       "      <th></th>\n",
       "      <th></th>\n",
       "      <th></th>\n",
       "      <th></th>\n",
       "      <th></th>\n",
       "      <th></th>\n",
       "      <th></th>\n",
       "      <th></th>\n",
       "      <th></th>\n",
       "      <th></th>\n",
       "    </tr>\n",
       "  </thead>\n",
       "  <tbody>\n",
       "    <tr>\n",
       "      <th>a</th>\n",
       "      <td>551627</td>\n",
       "      <td>551627</td>\n",
       "      <td>551627</td>\n",
       "      <td>551627</td>\n",
       "      <td>551627</td>\n",
       "      <td>551627</td>\n",
       "      <td>551627</td>\n",
       "      <td>551627</td>\n",
       "      <td>551627</td>\n",
       "      <td>551627</td>\n",
       "      <td>550685</td>\n",
       "      <td>390067</td>\n",
       "      <td>390067</td>\n",
       "      <td>551627</td>\n",
       "      <td>257886</td>\n",
       "      <td>257886</td>\n",
       "      <td>257886</td>\n",
       "    </tr>\n",
       "    <tr>\n",
       "      <th>b</th>\n",
       "      <td>15830</td>\n",
       "      <td>15830</td>\n",
       "      <td>15830</td>\n",
       "      <td>15830</td>\n",
       "      <td>15830</td>\n",
       "      <td>15830</td>\n",
       "      <td>15830</td>\n",
       "      <td>15830</td>\n",
       "      <td>15830</td>\n",
       "      <td>15830</td>\n",
       "      <td>15830</td>\n",
       "      <td>8478</td>\n",
       "      <td>8478</td>\n",
       "      <td>15830</td>\n",
       "      <td>4526</td>\n",
       "      <td>4526</td>\n",
       "      <td>4526</td>\n",
       "    </tr>\n",
       "    <tr>\n",
       "      <th>c</th>\n",
       "      <td>136840</td>\n",
       "      <td>136840</td>\n",
       "      <td>136840</td>\n",
       "      <td>136840</td>\n",
       "      <td>136840</td>\n",
       "      <td>136840</td>\n",
       "      <td>136840</td>\n",
       "      <td>136840</td>\n",
       "      <td>136840</td>\n",
       "      <td>136840</td>\n",
       "      <td>136840</td>\n",
       "      <td>98954</td>\n",
       "      <td>98954</td>\n",
       "      <td>136840</td>\n",
       "      <td>68258</td>\n",
       "      <td>68258</td>\n",
       "      <td>68258</td>\n",
       "    </tr>\n",
       "    <tr>\n",
       "      <th>d</th>\n",
       "      <td>312912</td>\n",
       "      <td>312912</td>\n",
       "      <td>312912</td>\n",
       "      <td>312912</td>\n",
       "      <td>312912</td>\n",
       "      <td>312912</td>\n",
       "      <td>312912</td>\n",
       "      <td>312912</td>\n",
       "      <td>312912</td>\n",
       "      <td>312912</td>\n",
       "      <td>311212</td>\n",
       "      <td>196362</td>\n",
       "      <td>196362</td>\n",
       "      <td>312912</td>\n",
       "      <td>178508</td>\n",
       "      <td>178508</td>\n",
       "      <td>178508</td>\n",
       "    </tr>\n",
       "  </tbody>\n",
       "</table>\n",
       "</div>"
      ],
      "text/plain": [
       "            Store  DayOfWeek    Date   Sales  Customers    Open   Promo  \\\n",
       "StoreType                                                                 \n",
       "a          551627     551627  551627  551627     551627  551627  551627   \n",
       "b           15830      15830   15830   15830      15830   15830   15830   \n",
       "c          136840     136840  136840  136840     136840  136840  136840   \n",
       "d          312912     312912  312912  312912     312912  312912  312912   \n",
       "\n",
       "           StateHoliday  SchoolHoliday  Assortment  CompetitionDistance  \\\n",
       "StoreType                                                                 \n",
       "a                551627         551627      551627               550685   \n",
       "b                 15830          15830       15830                15830   \n",
       "c                136840         136840      136840               136840   \n",
       "d                312912         312912      312912               311212   \n",
       "\n",
       "           CompetitionOpenSinceMonth  CompetitionOpenSinceYear  Promo2  \\\n",
       "StoreType                                                                \n",
       "a                             390067                    390067  551627   \n",
       "b                               8478                      8478   15830   \n",
       "c                              98954                     98954  136840   \n",
       "d                             196362                    196362  312912   \n",
       "\n",
       "           Promo2SinceWeek  Promo2SinceYear  PromoInterval  \n",
       "StoreType                                                   \n",
       "a                   257886           257886         257886  \n",
       "b                     4526             4526           4526  \n",
       "c                    68258            68258          68258  \n",
       "d                   178508           178508         178508  "
      ]
     },
     "execution_count": 14,
     "metadata": {},
     "output_type": "execute_result"
    }
   ],
   "source": [
    "df3=pd.merge(dataframe, store_df1, on=\"Store\") #Merged Dataframe for Train and Store Csv\n",
    "df3_grouped=df3.groupby('StoreType', axis=0)\n",
    "df4=df3_grouped.count()\n",
    "df4"
   ]
  },
  {
   "cell_type": "code",
   "execution_count": 15,
   "id": "6debcc81",
   "metadata": {},
   "outputs": [
    {
     "name": "stdout",
     "output_type": "stream",
     "text": [
      "a\n"
     ]
    }
   ],
   "source": [
    "max_sales_type=df4.loc[df4[\"Sales\"].idxmax()] #Finding Store Type that has the maximum sales\n",
    "print(max_sales_type.name)"
   ]
  },
  {
   "cell_type": "markdown",
   "id": "a590b012",
   "metadata": {},
   "source": [
    "##### Type A has the maximum sales"
   ]
  },
  {
   "cell_type": "markdown",
   "id": "c4dffa87",
   "metadata": {},
   "source": [
    "### Part B: (Plotting)"
   ]
  },
  {
   "cell_type": "code",
   "execution_count": 16,
   "id": "ae5c8254",
   "metadata": {
    "scrolled": true
   },
   "outputs": [
    {
     "data": {
      "text/html": [
       "<div>\n",
       "<style scoped>\n",
       "    .dataframe tbody tr th:only-of-type {\n",
       "        vertical-align: middle;\n",
       "    }\n",
       "\n",
       "    .dataframe tbody tr th {\n",
       "        vertical-align: top;\n",
       "    }\n",
       "\n",
       "    .dataframe thead th {\n",
       "        text-align: right;\n",
       "    }\n",
       "</style>\n",
       "<table border=\"1\" class=\"dataframe\">\n",
       "  <thead>\n",
       "    <tr style=\"text-align: right;\">\n",
       "      <th></th>\n",
       "      <th>Store</th>\n",
       "      <th>DayOfWeek</th>\n",
       "      <th>Date</th>\n",
       "      <th>Sales</th>\n",
       "      <th>Customers</th>\n",
       "      <th>Open</th>\n",
       "      <th>Promo</th>\n",
       "      <th>StateHoliday</th>\n",
       "      <th>SchoolHoliday</th>\n",
       "    </tr>\n",
       "  </thead>\n",
       "  <tbody>\n",
       "    <tr>\n",
       "      <th>0</th>\n",
       "      <td>1</td>\n",
       "      <td>5</td>\n",
       "      <td>2015-07-31</td>\n",
       "      <td>5263</td>\n",
       "      <td>555</td>\n",
       "      <td>1</td>\n",
       "      <td>1</td>\n",
       "      <td>0</td>\n",
       "      <td>1</td>\n",
       "    </tr>\n",
       "    <tr>\n",
       "      <th>1</th>\n",
       "      <td>2</td>\n",
       "      <td>5</td>\n",
       "      <td>2015-07-31</td>\n",
       "      <td>6064</td>\n",
       "      <td>625</td>\n",
       "      <td>1</td>\n",
       "      <td>1</td>\n",
       "      <td>0</td>\n",
       "      <td>1</td>\n",
       "    </tr>\n",
       "    <tr>\n",
       "      <th>2</th>\n",
       "      <td>3</td>\n",
       "      <td>5</td>\n",
       "      <td>2015-07-31</td>\n",
       "      <td>8314</td>\n",
       "      <td>821</td>\n",
       "      <td>1</td>\n",
       "      <td>1</td>\n",
       "      <td>0</td>\n",
       "      <td>1</td>\n",
       "    </tr>\n",
       "    <tr>\n",
       "      <th>3</th>\n",
       "      <td>4</td>\n",
       "      <td>5</td>\n",
       "      <td>2015-07-31</td>\n",
       "      <td>13995</td>\n",
       "      <td>1498</td>\n",
       "      <td>1</td>\n",
       "      <td>1</td>\n",
       "      <td>0</td>\n",
       "      <td>1</td>\n",
       "    </tr>\n",
       "    <tr>\n",
       "      <th>4</th>\n",
       "      <td>5</td>\n",
       "      <td>5</td>\n",
       "      <td>2015-07-31</td>\n",
       "      <td>4822</td>\n",
       "      <td>559</td>\n",
       "      <td>1</td>\n",
       "      <td>1</td>\n",
       "      <td>0</td>\n",
       "      <td>1</td>\n",
       "    </tr>\n",
       "  </tbody>\n",
       "</table>\n",
       "</div>"
      ],
      "text/plain": [
       "   Store  DayOfWeek        Date  Sales  Customers  Open  Promo StateHoliday  \\\n",
       "0      1          5  2015-07-31   5263        555     1      1            0   \n",
       "1      2          5  2015-07-31   6064        625     1      1            0   \n",
       "2      3          5  2015-07-31   8314        821     1      1            0   \n",
       "3      4          5  2015-07-31  13995       1498     1      1            0   \n",
       "4      5          5  2015-07-31   4822        559     1      1            0   \n",
       "\n",
       "   SchoolHoliday  \n",
       "0              1  \n",
       "1              1  \n",
       "2              1  \n",
       "3              1  \n",
       "4              1  "
      ]
     },
     "execution_count": 16,
     "metadata": {},
     "output_type": "execute_result"
    }
   ],
   "source": [
    "dataframe.head() #Printing the train.csv"
   ]
  },
  {
   "cell_type": "code",
   "execution_count": 17,
   "id": "46a7beab",
   "metadata": {},
   "outputs": [
    {
     "data": {
      "text/plain": [
       "month\n",
       "1     5465.395529\n",
       "2     5645.253150\n",
       "3     5784.578871\n",
       "4     5738.866916\n",
       "5     5489.639973\n",
       "6     5760.964375\n",
       "7     6064.915711\n",
       "8     5693.016554\n",
       "9     5570.246033\n",
       "10    5537.037419\n",
       "11    6008.111821\n",
       "12    6826.611377\n",
       "Name: Sales, dtype: float64"
      ]
     },
     "execution_count": 17,
     "metadata": {},
     "output_type": "execute_result"
    }
   ],
   "source": [
    "dataframe['month'] = pd.DatetimeIndex(dataframe['Date']).month #Adding Month Column in Datframe\n",
    "df_group_month=dataframe.groupby(\"month\",axis=0)[\"Sales\"].mean() #Taking Mean of Sales after grouping by Month\n",
    "df_group_month"
   ]
  },
  {
   "cell_type": "markdown",
   "id": "1d51b894",
   "metadata": {},
   "source": [
    "#### 1. On a monthly basis how do the mean of sales vary (across all stores)? plot these sale"
   ]
  },
  {
   "cell_type": "code",
   "execution_count": 18,
   "id": "ebb74644",
   "metadata": {
    "scrolled": true
   },
   "outputs": [
    {
     "data": {
      "image/png": "[encoded data removed]",
      "text/plain": [
       "<Figure size 432x288 with 1 Axes>"
      ]
     },
     "metadata": {
      "needs_background": "light"
     },
     "output_type": "display_data"
    }
   ],
   "source": [
    "plt.bar(sorted(dataframe['month'].unique()),df_group_month)\n",
    "plt.xlabel('Months')\n",
    "plt.ylabel('Mean of sales')\n",
    "plt.show()"
   ]
  },
  {
   "cell_type": "markdown",
   "id": "9698830d",
   "metadata": {},
   "source": [
    "#### 2. On a daily basis how do the mean of sales vary (across all stores)? again, plot these sales.\n"
   ]
  },
  {
   "cell_type": "code",
   "execution_count": 19,
   "id": "2414fb5a",
   "metadata": {
    "scrolled": true
   },
   "outputs": [
    {
     "name": "stdout",
     "output_type": "stream",
     "text": [
      "DayOfWeek\n",
      "1    7809.044510\n",
      "2    7005.244467\n",
      "3    6555.884138\n",
      "4    6247.575913\n",
      "5    6723.274305\n",
      "6    5847.562599\n",
      "7     204.183189\n",
      "Name: Sales, dtype: float64\n"
     ]
    }
   ],
   "source": [
    "df_group_day=dataframe.groupby(\"DayOfWeek\",axis=0)[\"Sales\"].mean() #Grouping according to day of week\n",
    "print(df_group_day)"
   ]
  },
  {
   "cell_type": "code",
   "execution_count": 20,
   "id": "d6e1b58f",
   "metadata": {},
   "outputs": [
    {
     "data": {
      "image/png": "[encoded data removed]",
      "text/plain": [
       "<Figure size 432x288 with 1 Axes>"
      ]
     },
     "metadata": {
      "needs_background": "light"
     },
     "output_type": "display_data"
    }
   ],
   "source": [
    "plt.bar(sorted(dataframe['DayOfWeek'].unique()),df_group_day)\n",
    "plt.xlabel('DayofWeek')\n",
    "plt.ylabel('Mean of sales')\n",
    "plt.show()"
   ]
  },
  {
   "cell_type": "markdown",
   "id": "29a216d6",
   "metadata": {},
   "source": [
    "#### 3. For the first store id, plot it’s cumulative sales for the first year."
   ]
  },
  {
   "cell_type": "code",
   "execution_count": 21,
   "id": "00d5015b",
   "metadata": {},
   "outputs": [
    {
     "name": "stderr",
     "output_type": "stream",
     "text": [
      "<ipython-input-21-6548e32aeaf8>:2: SettingWithCopyWarning: \n",
      "A value is trying to be set on a copy of a slice from a DataFrame.\n",
      "Try using .loc[row_indexer,col_indexer] = value instead\n",
      "\n",
      "See the caveats in the documentation: https://pandas.pydata.org/pandas-docs/stable/user_guide/indexing.html#returning-a-view-versus-a-copy\n",
      "  df_store1['year']=pd.DatetimeIndex(df_store1['Date']).year # Adding Year Column in train.csv Dataframe\n"
     ]
    },
    {
     "data": {
      "image/png": "[encoded data removed]",
      "text/plain": [
       "<Figure size 432x288 with 1 Axes>"
      ]
     },
     "metadata": {
      "needs_background": "light"
     },
     "output_type": "display_data"
    }
   ],
   "source": [
    "df_store1=dataframe[dataframe[\"Store\"]==1]\n",
    "df_store1['year']=pd.DatetimeIndex(df_store1['Date']).year # Adding Year Column in train.csv Dataframe\n",
    "df_store1=df_store1[df_store1['year']==2013]\n",
    "df_store1['Cumulative Sales'] = df_store1['Sales'].cumsum()\n",
    "#print(df_store1)\n",
    "plt.plot(df_store1['Date'],df_store1['Cumulative Sales'])\n",
    "plt.xlabel('Date')\n",
    "plt.ylabel('Cumulative Sales')\n",
    "plt.show()"
   ]
  },
  {
   "cell_type": "markdown",
   "id": "f2cb380b",
   "metadata": {},
   "source": [
    "#### 4. Plot and comment on the following relationships:\n",
    " - customers(x-axis) vs. sales(y-axis)\n",
    " - competitiondistance(x-axis) vs. sales(y-axis)"
   ]
  },
  {
   "cell_type": "code",
   "execution_count": 22,
   "id": "379d807f",
   "metadata": {
    "scrolled": true
   },
   "outputs": [
    {
     "data": {
      "image/png": "[encoded data removed]",
      "text/plain": [
       "<Figure size 432x288 with 1 Axes>"
      ]
     },
     "metadata": {
      "needs_background": "light"
     },
     "output_type": "display_data"
    }
   ],
   "source": [
    "plt.scatter(dataframe['Customers'],dataframe['Sales']) #Relation between Customer and Sales\n",
    "plt.xlabel('Number of Customers')\n",
    "plt.ylabel('Sales')\n",
    "plt.show()\n"
   ]
  },
  {
   "cell_type": "markdown",
   "id": "43e2de76",
   "metadata": {},
   "source": [
    "##### Sales is seen to increase with increase in the number of customers"
   ]
  },
  {
   "cell_type": "code",
   "execution_count": 23,
   "id": "60e44808",
   "metadata": {
    "scrolled": true
   },
   "outputs": [
    {
     "data": {
      "image/png": "[encoded data removed]",
      "text/plain": [
       "<Figure size 432x288 with 1 Axes>"
      ]
     },
     "metadata": {
      "needs_background": "light"
     },
     "output_type": "display_data"
    }
   ],
   "source": [
    "plt.scatter(df3['CompetitionDistance'],df3['Sales'])\n",
    "plt.xlabel('CompetitionDistance')\n",
    "plt.ylabel('Sales')\n",
    "plt.show()"
   ]
  },
  {
   "cell_type": "markdown",
   "id": "cf8f1ad3",
   "metadata": {},
   "source": [
    "##### Competion Distance does not seem to have a linear relationship with Sales"
   ]
  },
  {
   "cell_type": "code",
   "execution_count": 24,
   "id": "ede0ca55",
   "metadata": {},
   "outputs": [
    {
     "data": {
      "text/html": [
       "<div>\n",
       "<style scoped>\n",
       "    .dataframe tbody tr th:only-of-type {\n",
       "        vertical-align: middle;\n",
       "    }\n",
       "\n",
       "    .dataframe tbody tr th {\n",
       "        vertical-align: top;\n",
       "    }\n",
       "\n",
       "    .dataframe thead th {\n",
       "        text-align: right;\n",
       "    }\n",
       "</style>\n",
       "<table border=\"1\" class=\"dataframe\">\n",
       "  <thead>\n",
       "    <tr style=\"text-align: right;\">\n",
       "      <th></th>\n",
       "      <th>Store</th>\n",
       "      <th>DayOfWeek</th>\n",
       "      <th>Sales</th>\n",
       "      <th>Customers</th>\n",
       "      <th>Open</th>\n",
       "      <th>Promo</th>\n",
       "      <th>SchoolHoliday</th>\n",
       "      <th>CompetitionDistance</th>\n",
       "      <th>CompetitionOpenSinceMonth</th>\n",
       "      <th>CompetitionOpenSinceYear</th>\n",
       "      <th>Promo2</th>\n",
       "      <th>Promo2SinceWeek</th>\n",
       "      <th>Promo2SinceYear</th>\n",
       "    </tr>\n",
       "  </thead>\n",
       "  <tbody>\n",
       "    <tr>\n",
       "      <th>count</th>\n",
       "      <td>1.017209e+06</td>\n",
       "      <td>1.017209e+06</td>\n",
       "      <td>1.017209e+06</td>\n",
       "      <td>1.017209e+06</td>\n",
       "      <td>1.017209e+06</td>\n",
       "      <td>1.017209e+06</td>\n",
       "      <td>1.017209e+06</td>\n",
       "      <td>1.014567e+06</td>\n",
       "      <td>693861.000000</td>\n",
       "      <td>693861.000000</td>\n",
       "      <td>1.017209e+06</td>\n",
       "      <td>509178.000000</td>\n",
       "      <td>509178.000000</td>\n",
       "    </tr>\n",
       "    <tr>\n",
       "      <th>mean</th>\n",
       "      <td>5.584297e+02</td>\n",
       "      <td>3.998341e+00</td>\n",
       "      <td>5.773819e+03</td>\n",
       "      <td>6.331459e+02</td>\n",
       "      <td>8.301067e-01</td>\n",
       "      <td>3.815145e-01</td>\n",
       "      <td>1.786467e-01</td>\n",
       "      <td>5.430086e+03</td>\n",
       "      <td>7.222866</td>\n",
       "      <td>2008.690228</td>\n",
       "      <td>5.005638e-01</td>\n",
       "      <td>23.269093</td>\n",
       "      <td>2011.752774</td>\n",
       "    </tr>\n",
       "    <tr>\n",
       "      <th>std</th>\n",
       "      <td>3.219087e+02</td>\n",
       "      <td>1.997391e+00</td>\n",
       "      <td>3.849926e+03</td>\n",
       "      <td>4.644117e+02</td>\n",
       "      <td>3.755392e-01</td>\n",
       "      <td>4.857586e-01</td>\n",
       "      <td>3.830564e-01</td>\n",
       "      <td>7.715324e+03</td>\n",
       "      <td>3.211832</td>\n",
       "      <td>5.992644</td>\n",
       "      <td>4.999999e-01</td>\n",
       "      <td>14.095973</td>\n",
       "      <td>1.662870</td>\n",
       "    </tr>\n",
       "    <tr>\n",
       "      <th>min</th>\n",
       "      <td>1.000000e+00</td>\n",
       "      <td>1.000000e+00</td>\n",
       "      <td>0.000000e+00</td>\n",
       "      <td>0.000000e+00</td>\n",
       "      <td>0.000000e+00</td>\n",
       "      <td>0.000000e+00</td>\n",
       "      <td>0.000000e+00</td>\n",
       "      <td>2.000000e+01</td>\n",
       "      <td>1.000000</td>\n",
       "      <td>1900.000000</td>\n",
       "      <td>0.000000e+00</td>\n",
       "      <td>1.000000</td>\n",
       "      <td>2009.000000</td>\n",
       "    </tr>\n",
       "    <tr>\n",
       "      <th>25%</th>\n",
       "      <td>2.800000e+02</td>\n",
       "      <td>2.000000e+00</td>\n",
       "      <td>3.727000e+03</td>\n",
       "      <td>4.050000e+02</td>\n",
       "      <td>1.000000e+00</td>\n",
       "      <td>0.000000e+00</td>\n",
       "      <td>0.000000e+00</td>\n",
       "      <td>7.100000e+02</td>\n",
       "      <td>4.000000</td>\n",
       "      <td>2006.000000</td>\n",
       "      <td>0.000000e+00</td>\n",
       "      <td>13.000000</td>\n",
       "      <td>2011.000000</td>\n",
       "    </tr>\n",
       "    <tr>\n",
       "      <th>50%</th>\n",
       "      <td>5.580000e+02</td>\n",
       "      <td>4.000000e+00</td>\n",
       "      <td>5.744000e+03</td>\n",
       "      <td>6.090000e+02</td>\n",
       "      <td>1.000000e+00</td>\n",
       "      <td>0.000000e+00</td>\n",
       "      <td>0.000000e+00</td>\n",
       "      <td>2.330000e+03</td>\n",
       "      <td>8.000000</td>\n",
       "      <td>2010.000000</td>\n",
       "      <td>1.000000e+00</td>\n",
       "      <td>22.000000</td>\n",
       "      <td>2012.000000</td>\n",
       "    </tr>\n",
       "    <tr>\n",
       "      <th>75%</th>\n",
       "      <td>8.380000e+02</td>\n",
       "      <td>6.000000e+00</td>\n",
       "      <td>7.856000e+03</td>\n",
       "      <td>8.370000e+02</td>\n",
       "      <td>1.000000e+00</td>\n",
       "      <td>1.000000e+00</td>\n",
       "      <td>0.000000e+00</td>\n",
       "      <td>6.890000e+03</td>\n",
       "      <td>10.000000</td>\n",
       "      <td>2013.000000</td>\n",
       "      <td>1.000000e+00</td>\n",
       "      <td>37.000000</td>\n",
       "      <td>2013.000000</td>\n",
       "    </tr>\n",
       "    <tr>\n",
       "      <th>max</th>\n",
       "      <td>1.115000e+03</td>\n",
       "      <td>7.000000e+00</td>\n",
       "      <td>4.155100e+04</td>\n",
       "      <td>7.388000e+03</td>\n",
       "      <td>1.000000e+00</td>\n",
       "      <td>1.000000e+00</td>\n",
       "      <td>1.000000e+00</td>\n",
       "      <td>7.586000e+04</td>\n",
       "      <td>12.000000</td>\n",
       "      <td>2015.000000</td>\n",
       "      <td>1.000000e+00</td>\n",
       "      <td>50.000000</td>\n",
       "      <td>2015.000000</td>\n",
       "    </tr>\n",
       "  </tbody>\n",
       "</table>\n",
       "</div>"
      ],
      "text/plain": [
       "              Store     DayOfWeek         Sales     Customers          Open  \\\n",
       "count  1.017209e+06  1.017209e+06  1.017209e+06  1.017209e+06  1.017209e+06   \n",
       "mean   5.584297e+02  3.998341e+00  5.773819e+03  6.331459e+02  8.301067e-01   \n",
       "std    3.219087e+02  1.997391e+00  3.849926e+03  4.644117e+02  3.755392e-01   \n",
       "min    1.000000e+00  1.000000e+00  0.000000e+00  0.000000e+00  0.000000e+00   \n",
       "25%    2.800000e+02  2.000000e+00  3.727000e+03  4.050000e+02  1.000000e+00   \n",
       "50%    5.580000e+02  4.000000e+00  5.744000e+03  6.090000e+02  1.000000e+00   \n",
       "75%    8.380000e+02  6.000000e+00  7.856000e+03  8.370000e+02  1.000000e+00   \n",
       "max    1.115000e+03  7.000000e+00  4.155100e+04  7.388000e+03  1.000000e+00   \n",
       "\n",
       "              Promo  SchoolHoliday  CompetitionDistance  \\\n",
       "count  1.017209e+06   1.017209e+06         1.014567e+06   \n",
       "mean   3.815145e-01   1.786467e-01         5.430086e+03   \n",
       "std    4.857586e-01   3.830564e-01         7.715324e+03   \n",
       "min    0.000000e+00   0.000000e+00         2.000000e+01   \n",
       "25%    0.000000e+00   0.000000e+00         7.100000e+02   \n",
       "50%    0.000000e+00   0.000000e+00         2.330000e+03   \n",
       "75%    1.000000e+00   0.000000e+00         6.890000e+03   \n",
       "max    1.000000e+00   1.000000e+00         7.586000e+04   \n",
       "\n",
       "       CompetitionOpenSinceMonth  CompetitionOpenSinceYear        Promo2  \\\n",
       "count              693861.000000             693861.000000  1.017209e+06   \n",
       "mean                    7.222866               2008.690228  5.005638e-01   \n",
       "std                     3.211832                  5.992644  4.999999e-01   \n",
       "min                     1.000000               1900.000000  0.000000e+00   \n",
       "25%                     4.000000               2006.000000  0.000000e+00   \n",
       "50%                     8.000000               2010.000000  1.000000e+00   \n",
       "75%                    10.000000               2013.000000  1.000000e+00   \n",
       "max                    12.000000               2015.000000  1.000000e+00   \n",
       "\n",
       "       Promo2SinceWeek  Promo2SinceYear  \n",
       "count    509178.000000    509178.000000  \n",
       "mean         23.269093      2011.752774  \n",
       "std          14.095973         1.662870  \n",
       "min           1.000000      2009.000000  \n",
       "25%          13.000000      2011.000000  \n",
       "50%          22.000000      2012.000000  \n",
       "75%          37.000000      2013.000000  \n",
       "max          50.000000      2015.000000  "
      ]
     },
     "execution_count": 24,
     "metadata": {},
     "output_type": "execute_result"
    }
   ],
   "source": [
    "df3.describe() # Describing the Dataframe #Merged Dataframe for Train and Store Csv"
   ]
  },
  {
   "cell_type": "markdown",
   "id": "9069fcb5",
   "metadata": {},
   "source": [
    "#### 5. Plot an array of Pearson correlations between all features. Remember to do the merge operation between the dataframes store and train.\n"
   ]
  },
  {
   "cell_type": "code",
   "execution_count": 25,
   "id": "2b6e04c8",
   "metadata": {
    "scrolled": true
   },
   "outputs": [
    {
     "data": {
      "image/png": "[encoded data removed]",
      "text/plain": [
       "<Figure size 288x288 with 1 Axes>"
      ]
     },
     "metadata": {
      "needs_background": "light"
     },
     "output_type": "display_data"
    }
   ],
   "source": [
    "plt.matshow(df3.corr())\n",
    "plt.show()"
   ]
  },
  {
   "cell_type": "code",
   "execution_count": 26,
   "id": "97b062b3",
   "metadata": {},
   "outputs": [
    {
     "data": {
      "text/plain": [
       "<AxesSubplot:>"
      ]
     },
     "execution_count": 26,
     "metadata": {},
     "output_type": "execute_result"
    },
    {
     "data": {
      "image/png": "[encoded data removed]",
      "text/plain": [
       "<Figure size 432x288 with 2 Axes>"
      ]
     },
     "metadata": {
      "needs_background": "light"
     },
     "output_type": "display_data"
    }
   ],
   "source": [
    "sns.heatmap(df3.corr())"
   ]
  },
  {
   "cell_type": "markdown",
   "id": "0927a33c",
   "metadata": {},
   "source": [
    "#### 6. For the first 10 stores (id’ed) draw boxplots of their sales"
   ]
  },
  {
   "cell_type": "code",
   "execution_count": 27,
   "id": "ccb2978e",
   "metadata": {
    "scrolled": false
   },
   "outputs": [
    {
     "data": {
      "text/html": [
       "<div>\n",
       "<style scoped>\n",
       "    .dataframe tbody tr th:only-of-type {\n",
       "        vertical-align: middle;\n",
       "    }\n",
       "\n",
       "    .dataframe tbody tr th {\n",
       "        vertical-align: top;\n",
       "    }\n",
       "\n",
       "    .dataframe thead th {\n",
       "        text-align: right;\n",
       "    }\n",
       "</style>\n",
       "<table border=\"1\" class=\"dataframe\">\n",
       "  <thead>\n",
       "    <tr style=\"text-align: right;\">\n",
       "      <th></th>\n",
       "      <th>Store</th>\n",
       "      <th>DayOfWeek</th>\n",
       "      <th>Date</th>\n",
       "      <th>Sales</th>\n",
       "      <th>Customers</th>\n",
       "      <th>Open</th>\n",
       "      <th>Promo</th>\n",
       "      <th>StateHoliday</th>\n",
       "      <th>SchoolHoliday</th>\n",
       "      <th>month</th>\n",
       "    </tr>\n",
       "  </thead>\n",
       "  <tbody>\n",
       "    <tr>\n",
       "      <th>0</th>\n",
       "      <td>1</td>\n",
       "      <td>5</td>\n",
       "      <td>2015-07-31</td>\n",
       "      <td>5263</td>\n",
       "      <td>555</td>\n",
       "      <td>1</td>\n",
       "      <td>1</td>\n",
       "      <td>0</td>\n",
       "      <td>1</td>\n",
       "      <td>7</td>\n",
       "    </tr>\n",
       "    <tr>\n",
       "      <th>1</th>\n",
       "      <td>2</td>\n",
       "      <td>5</td>\n",
       "      <td>2015-07-31</td>\n",
       "      <td>6064</td>\n",
       "      <td>625</td>\n",
       "      <td>1</td>\n",
       "      <td>1</td>\n",
       "      <td>0</td>\n",
       "      <td>1</td>\n",
       "      <td>7</td>\n",
       "    </tr>\n",
       "    <tr>\n",
       "      <th>2</th>\n",
       "      <td>3</td>\n",
       "      <td>5</td>\n",
       "      <td>2015-07-31</td>\n",
       "      <td>8314</td>\n",
       "      <td>821</td>\n",
       "      <td>1</td>\n",
       "      <td>1</td>\n",
       "      <td>0</td>\n",
       "      <td>1</td>\n",
       "      <td>7</td>\n",
       "    </tr>\n",
       "    <tr>\n",
       "      <th>3</th>\n",
       "      <td>4</td>\n",
       "      <td>5</td>\n",
       "      <td>2015-07-31</td>\n",
       "      <td>13995</td>\n",
       "      <td>1498</td>\n",
       "      <td>1</td>\n",
       "      <td>1</td>\n",
       "      <td>0</td>\n",
       "      <td>1</td>\n",
       "      <td>7</td>\n",
       "    </tr>\n",
       "    <tr>\n",
       "      <th>4</th>\n",
       "      <td>5</td>\n",
       "      <td>5</td>\n",
       "      <td>2015-07-31</td>\n",
       "      <td>4822</td>\n",
       "      <td>559</td>\n",
       "      <td>1</td>\n",
       "      <td>1</td>\n",
       "      <td>0</td>\n",
       "      <td>1</td>\n",
       "      <td>7</td>\n",
       "    </tr>\n",
       "    <tr>\n",
       "      <th>5</th>\n",
       "      <td>6</td>\n",
       "      <td>5</td>\n",
       "      <td>2015-07-31</td>\n",
       "      <td>5651</td>\n",
       "      <td>589</td>\n",
       "      <td>1</td>\n",
       "      <td>1</td>\n",
       "      <td>0</td>\n",
       "      <td>1</td>\n",
       "      <td>7</td>\n",
       "    </tr>\n",
       "    <tr>\n",
       "      <th>6</th>\n",
       "      <td>7</td>\n",
       "      <td>5</td>\n",
       "      <td>2015-07-31</td>\n",
       "      <td>15344</td>\n",
       "      <td>1414</td>\n",
       "      <td>1</td>\n",
       "      <td>1</td>\n",
       "      <td>0</td>\n",
       "      <td>1</td>\n",
       "      <td>7</td>\n",
       "    </tr>\n",
       "    <tr>\n",
       "      <th>7</th>\n",
       "      <td>8</td>\n",
       "      <td>5</td>\n",
       "      <td>2015-07-31</td>\n",
       "      <td>8492</td>\n",
       "      <td>833</td>\n",
       "      <td>1</td>\n",
       "      <td>1</td>\n",
       "      <td>0</td>\n",
       "      <td>1</td>\n",
       "      <td>7</td>\n",
       "    </tr>\n",
       "    <tr>\n",
       "      <th>8</th>\n",
       "      <td>9</td>\n",
       "      <td>5</td>\n",
       "      <td>2015-07-31</td>\n",
       "      <td>8565</td>\n",
       "      <td>687</td>\n",
       "      <td>1</td>\n",
       "      <td>1</td>\n",
       "      <td>0</td>\n",
       "      <td>1</td>\n",
       "      <td>7</td>\n",
       "    </tr>\n",
       "    <tr>\n",
       "      <th>9</th>\n",
       "      <td>10</td>\n",
       "      <td>5</td>\n",
       "      <td>2015-07-31</td>\n",
       "      <td>7185</td>\n",
       "      <td>681</td>\n",
       "      <td>1</td>\n",
       "      <td>1</td>\n",
       "      <td>0</td>\n",
       "      <td>1</td>\n",
       "      <td>7</td>\n",
       "    </tr>\n",
       "  </tbody>\n",
       "</table>\n",
       "</div>"
      ],
      "text/plain": [
       "   Store  DayOfWeek        Date  Sales  Customers  Open  Promo StateHoliday  \\\n",
       "0      1          5  2015-07-31   5263        555     1      1            0   \n",
       "1      2          5  2015-07-31   6064        625     1      1            0   \n",
       "2      3          5  2015-07-31   8314        821     1      1            0   \n",
       "3      4          5  2015-07-31  13995       1498     1      1            0   \n",
       "4      5          5  2015-07-31   4822        559     1      1            0   \n",
       "5      6          5  2015-07-31   5651        589     1      1            0   \n",
       "6      7          5  2015-07-31  15344       1414     1      1            0   \n",
       "7      8          5  2015-07-31   8492        833     1      1            0   \n",
       "8      9          5  2015-07-31   8565        687     1      1            0   \n",
       "9     10          5  2015-07-31   7185        681     1      1            0   \n",
       "\n",
       "   SchoolHoliday  month  \n",
       "0              1      7  \n",
       "1              1      7  \n",
       "2              1      7  \n",
       "3              1      7  \n",
       "4              1      7  \n",
       "5              1      7  \n",
       "6              1      7  \n",
       "7              1      7  \n",
       "8              1      7  \n",
       "9              1      7  "
      ]
     },
     "execution_count": 27,
     "metadata": {},
     "output_type": "execute_result"
    }
   ],
   "source": [
    "df_groupby_store=dataframe.head(10)\n",
    "df_groupby_store"
   ]
  },
  {
   "cell_type": "code",
   "execution_count": 28,
   "id": "0301970c",
   "metadata": {},
   "outputs": [],
   "source": [
    "store_1_sale=dataframe[dataframe['Store']==1]['Sales']\n",
    "store_2_sale=dataframe[dataframe['Store']==2]['Sales']\n",
    "store_3_sale=dataframe[dataframe['Store']==3]['Sales']\n",
    "store_4_sale=dataframe[dataframe['Store']==4]['Sales']\n",
    "store_5_sale=dataframe[dataframe['Store']==5]['Sales']\n",
    "store_6_sale=dataframe[dataframe['Store']==6]['Sales']\n",
    "store_7_sale=dataframe[dataframe['Store']==7]['Sales']\n",
    "store_8_sale=dataframe[dataframe['Store']==8]['Sales']\n",
    "store_9_sale=dataframe[dataframe['Store']==9]['Sales']\n",
    "store_10_sale=dataframe[dataframe['Store']==10]['Sales']"
   ]
  },
  {
   "cell_type": "code",
   "execution_count": 29,
   "id": "3f30d0c9",
   "metadata": {},
   "outputs": [
    {
     "data": {
      "image/png": "[encoded data removed]",
      "text/plain": [
       "<Figure size 720x504 with 1 Axes>"
      ]
     },
     "metadata": {
      "needs_background": "light"
     },
     "output_type": "display_data"
    }
   ],
   "source": [
    "\n",
    "data = [store_1_sale, store_2_sale, store_3_sale, store_4_sale,store_5_sale,store_6_sale,store_7_sale,store_8_sale,store_9_sale,store_10_sale]\n",
    " \n",
    "fig = plt.figure(figsize =(10, 7))\n",
    " \n",
    "# Creating axes instance\n",
    "ax = fig.add_axes([0,1,1,1])\n",
    " \n",
    "# Creating plot\n",
    "bp = ax.boxplot(data)\n",
    " \n",
    "# show plot\n",
    "plt.show()"
   ]
  },
  {
   "cell_type": "markdown",
   "id": "09830483",
   "metadata": {},
   "source": [
    "#### 7. From the above plot, which store has the highest median sales?"
   ]
  },
  {
   "cell_type": "markdown",
   "id": "1de8a488",
   "metadata": {},
   "source": [
    "##### From the above plot, which store has the highest median sales?- Store 4 has the highest median sales\n"
   ]
  },
  {
   "cell_type": "code",
   "execution_count": null,
   "id": "9971d390",
   "metadata": {},
   "outputs": [],
   "source": []
  }
 ],
 "metadata": {
  "kernelspec": {
   "display_name": "Python 3",
   "language": "python",
   "name": "python3"
  },
  "language_info": {
   "codemirror_mode": {
    "name": "ipython",
    "version": 3
   },
   "file_extension": ".py",
   "mimetype": "text/x-python",
   "name": "python",
   "nbconvert_exporter": "python",
   "pygments_lexer": "ipython3",
   "version": "3.8.8"
  }
 },
 "nbformat": 4,
 "nbformat_minor": 5
}
